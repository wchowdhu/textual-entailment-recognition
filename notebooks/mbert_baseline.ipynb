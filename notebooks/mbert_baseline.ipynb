{
 "cells": [
  {
   "cell_type": "code",
   "execution_count": 1,
   "id": "appropriate-brake",
   "metadata": {
    "execution": {
     "iopub.execute_input": "2021-03-29T04:00:38.975285Z",
     "iopub.status.busy": "2021-03-29T04:00:38.974063Z",
     "iopub.status.idle": "2021-03-29T04:01:06.759217Z",
     "shell.execute_reply": "2021-03-29T04:01:06.758490Z"
    },
    "papermill": {
     "duration": 27.807188,
     "end_time": "2021-03-29T04:01:06.759386",
     "exception": false,
     "start_time": "2021-03-29T04:00:38.952198",
     "status": "completed"
    },
    "tags": []
   },
   "outputs": [
    {
     "name": "stdout",
     "output_type": "stream",
     "text": [
      "Requirement already satisfied: pip in /opt/conda/lib/python3.7/site-packages (21.0.1)\r\n",
      "Requirement already satisfied: allennlp in /opt/conda/lib/python3.7/site-packages (2.1.0)\r\n",
      "Collecting allennlp\r\n",
      "  Downloading allennlp-2.2.0-py3-none-any.whl (595 kB)\r\n",
      "\u001b[K     |████████████████████████████████| 595 kB 2.8 MB/s \r\n",
      "\u001b[?25hRequirement already satisfied: numpy in /opt/conda/lib/python3.7/site-packages (from allennlp) (1.19.5)\r\n",
      "Requirement already satisfied: spacy<3.1,>=2.1.0 in /opt/conda/lib/python3.7/site-packages (from allennlp) (2.3.5)\r\n",
      "Requirement already satisfied: nltk in /opt/conda/lib/python3.7/site-packages (from allennlp) (3.2.4)\r\n",
      "Requirement already satisfied: sentencepiece in /opt/conda/lib/python3.7/site-packages (from allennlp) (0.1.95)\r\n",
      "Requirement already satisfied: tensorboardX>=1.2 in /opt/conda/lib/python3.7/site-packages (from allennlp) (2.1)\r\n",
      "Requirement already satisfied: torchvision<0.10.0,>=0.8.1 in /opt/conda/lib/python3.7/site-packages (from allennlp) (0.8.1)\r\n",
      "Requirement already satisfied: torch<1.9.0,>=1.6.0 in /opt/conda/lib/python3.7/site-packages (from allennlp) (1.7.0)\r\n",
      "Requirement already satisfied: lmdb in /opt/conda/lib/python3.7/site-packages (from allennlp) (1.1.1)\r\n",
      "Requirement already satisfied: boto3<2.0,>=1.14 in /opt/conda/lib/python3.7/site-packages (from allennlp) (1.17.27)\r\n",
      "Requirement already satisfied: jsonnet>=0.10.0 in /opt/conda/lib/python3.7/site-packages (from allennlp) (0.17.0)\r\n",
      "Requirement already satisfied: pytest in /opt/conda/lib/python3.7/site-packages (from allennlp) (6.2.2)\r\n",
      "Requirement already satisfied: wandb<0.11.0,>=0.10.0 in /opt/conda/lib/python3.7/site-packages (from allennlp) (0.10.22)\r\n",
      "Requirement already satisfied: filelock<3.1,>=3.0 in /opt/conda/lib/python3.7/site-packages (from allennlp) (3.0.12)\r\n",
      "Requirement already satisfied: scipy in /opt/conda/lib/python3.7/site-packages (from allennlp) (1.5.4)\r\n",
      "Requirement already satisfied: h5py in /opt/conda/lib/python3.7/site-packages (from allennlp) (2.10.0)\r\n",
      "Requirement already satisfied: transformers<4.5,>=4.1 in /opt/conda/lib/python3.7/site-packages (from allennlp) (4.3.3)\r\n",
      "Requirement already satisfied: jsonpickle in /opt/conda/lib/python3.7/site-packages (from allennlp) (2.0.0)\r\n",
      "Requirement already satisfied: more-itertools in /opt/conda/lib/python3.7/site-packages (from allennlp) (8.7.0)\r\n",
      "Requirement already satisfied: scikit-learn in /opt/conda/lib/python3.7/site-packages (from allennlp) (0.24.1)\r\n",
      "Requirement already satisfied: tqdm>=4.19 in /opt/conda/lib/python3.7/site-packages (from allennlp) (4.56.2)\r\n",
      "Requirement already satisfied: overrides==3.1.0 in /opt/conda/lib/python3.7/site-packages (from allennlp) (3.1.0)\r\n",
      "Requirement already satisfied: requests>=2.18 in /opt/conda/lib/python3.7/site-packages (from allennlp) (2.25.1)\r\n",
      "Requirement already satisfied: s3transfer<0.4.0,>=0.3.0 in /opt/conda/lib/python3.7/site-packages (from boto3<2.0,>=1.14->allennlp) (0.3.4)\r\n",
      "Requirement already satisfied: jmespath<1.0.0,>=0.7.1 in /opt/conda/lib/python3.7/site-packages (from boto3<2.0,>=1.14->allennlp) (0.10.0)\r\n",
      "Requirement already satisfied: botocore<1.21.0,>=1.20.27 in /opt/conda/lib/python3.7/site-packages (from boto3<2.0,>=1.14->allennlp) (1.20.27)\r\n",
      "Requirement already satisfied: python-dateutil<3.0.0,>=2.1 in /opt/conda/lib/python3.7/site-packages (from botocore<1.21.0,>=1.20.27->boto3<2.0,>=1.14->allennlp) (2.8.1)\r\n",
      "Requirement already satisfied: urllib3<1.27,>=1.25.4 in /opt/conda/lib/python3.7/site-packages (from botocore<1.21.0,>=1.20.27->boto3<2.0,>=1.14->allennlp) (1.26.3)\r\n",
      "Requirement already satisfied: six>=1.5 in /opt/conda/lib/python3.7/site-packages (from python-dateutil<3.0.0,>=2.1->botocore<1.21.0,>=1.20.27->boto3<2.0,>=1.14->allennlp) (1.15.0)\r\n",
      "Requirement already satisfied: chardet<5,>=3.0.2 in /opt/conda/lib/python3.7/site-packages (from requests>=2.18->allennlp) (3.0.4)\r\n",
      "Requirement already satisfied: certifi>=2017.4.17 in /opt/conda/lib/python3.7/site-packages (from requests>=2.18->allennlp) (2020.12.5)\r\n",
      "Requirement already satisfied: idna<3,>=2.5 in /opt/conda/lib/python3.7/site-packages (from requests>=2.18->allennlp) (2.10)\r\n",
      "Requirement already satisfied: preshed<3.1.0,>=3.0.2 in /opt/conda/lib/python3.7/site-packages (from spacy<3.1,>=2.1.0->allennlp) (3.0.5)\r\n",
      "Requirement already satisfied: setuptools in /opt/conda/lib/python3.7/site-packages (from spacy<3.1,>=2.1.0->allennlp) (49.6.0.post20210108)\r\n",
      "Requirement already satisfied: srsly<1.1.0,>=1.0.2 in /opt/conda/lib/python3.7/site-packages (from spacy<3.1,>=2.1.0->allennlp) (1.0.5)\r\n",
      "Requirement already satisfied: catalogue<1.1.0,>=0.0.7 in /opt/conda/lib/python3.7/site-packages (from spacy<3.1,>=2.1.0->allennlp) (1.0.0)\r\n",
      "Requirement already satisfied: thinc<7.5.0,>=7.4.1 in /opt/conda/lib/python3.7/site-packages (from spacy<3.1,>=2.1.0->allennlp) (7.4.5)\r\n",
      "Requirement already satisfied: wasabi<1.1.0,>=0.4.0 in /opt/conda/lib/python3.7/site-packages (from spacy<3.1,>=2.1.0->allennlp) (0.8.2)\r\n",
      "Requirement already satisfied: cymem<2.1.0,>=2.0.2 in /opt/conda/lib/python3.7/site-packages (from spacy<3.1,>=2.1.0->allennlp) (2.0.5)\r\n",
      "Requirement already satisfied: blis<0.8.0,>=0.4.0 in /opt/conda/lib/python3.7/site-packages (from spacy<3.1,>=2.1.0->allennlp) (0.7.4)\r\n",
      "Requirement already satisfied: plac<1.2.0,>=0.9.6 in /opt/conda/lib/python3.7/site-packages (from spacy<3.1,>=2.1.0->allennlp) (1.1.3)\r\n",
      "Requirement already satisfied: murmurhash<1.1.0,>=0.28.0 in /opt/conda/lib/python3.7/site-packages (from spacy<3.1,>=2.1.0->allennlp) (1.0.5)\r\n",
      "Requirement already satisfied: importlib-metadata>=0.20 in /opt/conda/lib/python3.7/site-packages (from catalogue<1.1.0,>=0.0.7->spacy<3.1,>=2.1.0->allennlp) (3.4.0)\r\n",
      "Requirement already satisfied: typing-extensions>=3.6.4 in /opt/conda/lib/python3.7/site-packages (from importlib-metadata>=0.20->catalogue<1.1.0,>=0.0.7->spacy<3.1,>=2.1.0->allennlp) (3.7.4.3)\r\n",
      "Requirement already satisfied: zipp>=0.5 in /opt/conda/lib/python3.7/site-packages (from importlib-metadata>=0.20->catalogue<1.1.0,>=0.0.7->spacy<3.1,>=2.1.0->allennlp) (3.4.0)\r\n",
      "Requirement already satisfied: protobuf>=3.8.0 in /opt/conda/lib/python3.7/site-packages (from tensorboardX>=1.2->allennlp) (3.15.6)\r\n",
      "Requirement already satisfied: future in /opt/conda/lib/python3.7/site-packages (from torch<1.9.0,>=1.6.0->allennlp) (0.18.2)\r\n",
      "Requirement already satisfied: dataclasses in /opt/conda/lib/python3.7/site-packages (from torch<1.9.0,>=1.6.0->allennlp) (0.6)\r\n",
      "Requirement already satisfied: pillow>=4.1.1 in /opt/conda/lib/python3.7/site-packages (from torchvision<0.10.0,>=0.8.1->allennlp) (7.2.0)\r\n",
      "Requirement already satisfied: packaging in /opt/conda/lib/python3.7/site-packages (from transformers<4.5,>=4.1->allennlp) (20.9)\r\n",
      "Requirement already satisfied: sacremoses in /opt/conda/lib/python3.7/site-packages (from transformers<4.5,>=4.1->allennlp) (0.0.43)\r\n",
      "Requirement already satisfied: tokenizers<0.11,>=0.10.1 in /opt/conda/lib/python3.7/site-packages (from transformers<4.5,>=4.1->allennlp) (0.10.1)\r\n",
      "Requirement already satisfied: regex!=2019.12.17 in /opt/conda/lib/python3.7/site-packages (from transformers<4.5,>=4.1->allennlp) (2020.11.13)\r\n",
      "Requirement already satisfied: psutil>=5.0.0 in /opt/conda/lib/python3.7/site-packages (from wandb<0.11.0,>=0.10.0->allennlp) (5.8.0)\r\n",
      "Requirement already satisfied: GitPython>=1.0.0 in /opt/conda/lib/python3.7/site-packages (from wandb<0.11.0,>=0.10.0->allennlp) (3.1.13)\r\n",
      "Requirement already satisfied: subprocess32>=3.5.3 in /opt/conda/lib/python3.7/site-packages (from wandb<0.11.0,>=0.10.0->allennlp) (3.5.4)\r\n",
      "Requirement already satisfied: sentry-sdk>=0.4.0 in /opt/conda/lib/python3.7/site-packages (from wandb<0.11.0,>=0.10.0->allennlp) (1.0.0)\r\n",
      "Requirement already satisfied: PyYAML in /opt/conda/lib/python3.7/site-packages (from wandb<0.11.0,>=0.10.0->allennlp) (5.3.1)\r\n",
      "Requirement already satisfied: configparser>=3.8.1 in /opt/conda/lib/python3.7/site-packages (from wandb<0.11.0,>=0.10.0->allennlp) (5.0.2)\r\n",
      "Requirement already satisfied: pathtools in /opt/conda/lib/python3.7/site-packages (from wandb<0.11.0,>=0.10.0->allennlp) (0.1.2)\r\n",
      "Requirement already satisfied: promise<3,>=2.0 in /opt/conda/lib/python3.7/site-packages (from wandb<0.11.0,>=0.10.0->allennlp) (2.3)\r\n",
      "Requirement already satisfied: Click>=7.0 in /opt/conda/lib/python3.7/site-packages (from wandb<0.11.0,>=0.10.0->allennlp) (7.1.2)\r\n",
      "Requirement already satisfied: docker-pycreds>=0.4.0 in /opt/conda/lib/python3.7/site-packages (from wandb<0.11.0,>=0.10.0->allennlp) (0.4.0)\r\n",
      "Requirement already satisfied: shortuuid>=0.5.0 in /opt/conda/lib/python3.7/site-packages (from wandb<0.11.0,>=0.10.0->allennlp) (1.0.1)\r\n",
      "Requirement already satisfied: gitdb<5,>=4.0.1 in /opt/conda/lib/python3.7/site-packages (from GitPython>=1.0.0->wandb<0.11.0,>=0.10.0->allennlp) (4.0.5)\r\n",
      "Requirement already satisfied: smmap<4,>=3.0.1 in /opt/conda/lib/python3.7/site-packages (from gitdb<5,>=4.0.1->GitPython>=1.0.0->wandb<0.11.0,>=0.10.0->allennlp) (3.0.5)\r\n",
      "Requirement already satisfied: pyparsing>=2.0.2 in /opt/conda/lib/python3.7/site-packages (from packaging->transformers<4.5,>=4.1->allennlp) (2.4.7)\r\n",
      "Requirement already satisfied: toml in /opt/conda/lib/python3.7/site-packages (from pytest->allennlp) (0.10.2)\r\n",
      "Requirement already satisfied: pluggy<1.0.0a1,>=0.12 in /opt/conda/lib/python3.7/site-packages (from pytest->allennlp) (0.13.1)\r\n",
      "Requirement already satisfied: iniconfig in /opt/conda/lib/python3.7/site-packages (from pytest->allennlp) (1.1.1)\r\n",
      "Requirement already satisfied: py>=1.8.2 in /opt/conda/lib/python3.7/site-packages (from pytest->allennlp) (1.10.0)\r\n",
      "Requirement already satisfied: attrs>=19.2.0 in /opt/conda/lib/python3.7/site-packages (from pytest->allennlp) (20.3.0)\r\n",
      "Requirement already satisfied: joblib in /opt/conda/lib/python3.7/site-packages (from sacremoses->transformers<4.5,>=4.1->allennlp) (1.0.1)\r\n",
      "Requirement already satisfied: threadpoolctl>=2.0.0 in /opt/conda/lib/python3.7/site-packages (from scikit-learn->allennlp) (2.1.0)\r\n",
      "Installing collected packages: allennlp\r\n",
      "  Attempting uninstall: allennlp\r\n",
      "    Found existing installation: allennlp 2.1.0\r\n",
      "    Uninstalling allennlp-2.1.0:\r\n",
      "      Successfully uninstalled allennlp-2.1.0\r\n",
      "Successfully installed allennlp-2.2.0\r\n",
      "Collecting transformers==4.3.0\r\n",
      "  Downloading transformers-4.3.0-py3-none-any.whl (1.8 MB)\r\n",
      "\u001b[K     |████████████████████████████████| 1.8 MB 2.8 MB/s \r\n",
      "\u001b[?25hRequirement already satisfied: requests in /opt/conda/lib/python3.7/site-packages (from transformers==4.3.0) (2.25.1)\r\n",
      "Requirement already satisfied: packaging in /opt/conda/lib/python3.7/site-packages (from transformers==4.3.0) (20.9)\r\n",
      "Requirement already satisfied: sacremoses in /opt/conda/lib/python3.7/site-packages (from transformers==4.3.0) (0.0.43)\r\n",
      "Requirement already satisfied: filelock in /opt/conda/lib/python3.7/site-packages (from transformers==4.3.0) (3.0.12)\r\n",
      "Requirement already satisfied: tokenizers<0.11,>=0.10.1 in /opt/conda/lib/python3.7/site-packages (from transformers==4.3.0) (0.10.1)\r\n",
      "Requirement already satisfied: importlib-metadata in /opt/conda/lib/python3.7/site-packages (from transformers==4.3.0) (3.4.0)\r\n",
      "Requirement already satisfied: tqdm>=4.27 in /opt/conda/lib/python3.7/site-packages (from transformers==4.3.0) (4.56.2)\r\n",
      "Requirement already satisfied: regex!=2019.12.17 in /opt/conda/lib/python3.7/site-packages (from transformers==4.3.0) (2020.11.13)\r\n",
      "Requirement already satisfied: numpy>=1.17 in /opt/conda/lib/python3.7/site-packages (from transformers==4.3.0) (1.19.5)\r\n",
      "Requirement already satisfied: zipp>=0.5 in /opt/conda/lib/python3.7/site-packages (from importlib-metadata->transformers==4.3.0) (3.4.0)\r\n",
      "Requirement already satisfied: typing-extensions>=3.6.4 in /opt/conda/lib/python3.7/site-packages (from importlib-metadata->transformers==4.3.0) (3.7.4.3)\r\n",
      "Requirement already satisfied: pyparsing>=2.0.2 in /opt/conda/lib/python3.7/site-packages (from packaging->transformers==4.3.0) (2.4.7)\r\n",
      "Requirement already satisfied: certifi>=2017.4.17 in /opt/conda/lib/python3.7/site-packages (from requests->transformers==4.3.0) (2020.12.5)\r\n",
      "Requirement already satisfied: urllib3<1.27,>=1.21.1 in /opt/conda/lib/python3.7/site-packages (from requests->transformers==4.3.0) (1.26.3)\r\n",
      "Requirement already satisfied: chardet<5,>=3.0.2 in /opt/conda/lib/python3.7/site-packages (from requests->transformers==4.3.0) (3.0.4)\r\n",
      "Requirement already satisfied: idna<3,>=2.5 in /opt/conda/lib/python3.7/site-packages (from requests->transformers==4.3.0) (2.10)\r\n",
      "Requirement already satisfied: joblib in /opt/conda/lib/python3.7/site-packages (from sacremoses->transformers==4.3.0) (1.0.1)\r\n",
      "Requirement already satisfied: click in /opt/conda/lib/python3.7/site-packages (from sacremoses->transformers==4.3.0) (7.1.2)\r\n",
      "Requirement already satisfied: six in /opt/conda/lib/python3.7/site-packages (from sacremoses->transformers==4.3.0) (1.15.0)\r\n",
      "Installing collected packages: transformers\r\n",
      "  Attempting uninstall: transformers\r\n",
      "    Found existing installation: transformers 4.3.3\r\n",
      "    Uninstalling transformers-4.3.3:\r\n",
      "      Successfully uninstalled transformers-4.3.3\r\n",
      "Successfully installed transformers-4.3.0\r\n"
     ]
    }
   ],
   "source": [
    "!pip install --upgrade pip\n",
    "!pip install --upgrade allennlp\n",
    "!pip install transformers==4.3.0"
   ]
  },
  {
   "cell_type": "code",
   "execution_count": 2,
   "id": "future-network",
   "metadata": {
    "_cell_guid": "b1076dfc-b9ad-4769-8c92-a6c4dae69d19",
    "_uuid": "8f2839f25d086af736a60e9eeb907d3b93b6e0e5",
    "execution": {
     "iopub.execute_input": "2021-03-29T04:01:06.827914Z",
     "iopub.status.busy": "2021-03-29T04:01:06.827187Z",
     "iopub.status.idle": "2021-03-29T04:01:06.840796Z",
     "shell.execute_reply": "2021-03-29T04:01:06.839982Z"
    },
    "papermill": {
     "duration": 0.050512,
     "end_time": "2021-03-29T04:01:06.840989",
     "exception": false,
     "start_time": "2021-03-29T04:01:06.790477",
     "status": "completed"
    },
    "tags": []
   },
   "outputs": [
    {
     "name": "stdout",
     "output_type": "stream",
     "text": [
      "/kaggle/input/train-val-split/train_df_sp.csv\n",
      "/kaggle/input/train-val-split/validation_df_sp.csv\n",
      "/kaggle/input/contradictory-my-dear-watson/sample_submission.csv\n",
      "/kaggle/input/contradictory-my-dear-watson/train.csv\n",
      "/kaggle/input/contradictory-my-dear-watson/test.csv\n"
     ]
    }
   ],
   "source": [
    "# This Python 3 environment comes with many helpful analytics libraries installed\n",
    "# It is defined by the kaggle/python Docker image: https://github.com/kaggle/docker-python\n",
    "# For example, here's several helpful packages to load\n",
    "\n",
    "import numpy as np # linear algebra\n",
    "import pandas as pd # data processing, CSV file I/O (e.g. pd.read_csv)\n",
    "\n",
    "# Input data files are available in the read-only \"../input/\" directory\n",
    "# For example, running this (by clicking run or pressing Shift+Enter) will list all files under the input directory\n",
    "\n",
    "import os\n",
    "for dirname, _, filenames in os.walk('/kaggle/input'):\n",
    "    for filename in filenames:\n",
    "        print(os.path.join(dirname, filename))\n",
    "\n",
    "# You can write up to 20GB to the current directory (/kaggle/working/) that gets preserved as output when you create a version using \"Save & Run All\" \n",
    "# You can also write temporary files to /kaggle/temp/, but they won't be saved outside of the current session"
   ]
  },
  {
   "cell_type": "code",
   "execution_count": 3,
   "id": "indie-webmaster",
   "metadata": {
    "execution": {
     "iopub.execute_input": "2021-03-29T04:01:06.909500Z",
     "iopub.status.busy": "2021-03-29T04:01:06.908522Z",
     "iopub.status.idle": "2021-03-29T04:01:16.473508Z",
     "shell.execute_reply": "2021-03-29T04:01:16.471985Z"
    },
    "papermill": {
     "duration": 9.601675,
     "end_time": "2021-03-29T04:01:16.473676",
     "exception": false,
     "start_time": "2021-03-29T04:01:06.872001",
     "status": "completed"
    },
    "tags": []
   },
   "outputs": [],
   "source": [
    "from transformers import BertTokenizer, TFBertModel\n",
    "from tokenizers import BertWordPieceTokenizer\n",
    "from transformers import AutoTokenizer, AutoConfig, TFAutoModel    \n",
    "from transformers import (XLMRobertaConfig, XLMRobertaTokenizer, TFXLMRobertaModel)            \n",
    "\n",
    "import matplotlib.pyplot as plt\n",
    "import tensorflow as tf\n",
    "import tensorflow.keras.backend as K\n",
    "\n",
    "from sklearn.metrics import classification_report, f1_score, accuracy_score\n",
    "\n",
    "os.environ[\"WANDB_API_KEY\"] = \"0\" # to silence warning\n",
    "\n",
    "np.random.seed(0)"
   ]
  },
  {
   "cell_type": "code",
   "execution_count": 4,
   "id": "excited-enterprise",
   "metadata": {
    "execution": {
     "iopub.execute_input": "2021-03-29T04:01:16.559850Z",
     "iopub.status.busy": "2021-03-29T04:01:16.550408Z",
     "iopub.status.idle": "2021-03-29T04:01:22.085470Z",
     "shell.execute_reply": "2021-03-29T04:01:22.084769Z"
    },
    "papermill": {
     "duration": 5.577608,
     "end_time": "2021-03-29T04:01:22.085621",
     "exception": false,
     "start_time": "2021-03-29T04:01:16.508013",
     "status": "completed"
    },
    "tags": []
   },
   "outputs": [
    {
     "name": "stdout",
     "output_type": "stream",
     "text": [
      "Number of replicas: 8\n"
     ]
    }
   ],
   "source": [
    "try:\n",
    "    tpu = tf.distribute.cluster_resolver.TPUClusterResolver()\n",
    "    tf.config.experimental_connect_to_cluster(tpu)\n",
    "    tf.tpu.experimental.initialize_tpu_system(tpu)\n",
    "    strategy = tf.distribute.experimental.TPUStrategy(tpu)\n",
    "except ValueError:\n",
    "    strategy = tf.distribute.get_strategy() # for CPU and single GPU\n",
    "print('Number of replicas:', strategy.num_replicas_in_sync)"
   ]
  },
  {
   "cell_type": "code",
   "execution_count": 5,
   "id": "first-alfred",
   "metadata": {
    "execution": {
     "iopub.execute_input": "2021-03-29T04:01:22.192011Z",
     "iopub.status.busy": "2021-03-29T04:01:22.191290Z",
     "iopub.status.idle": "2021-03-29T04:01:22.438258Z",
     "shell.execute_reply": "2021-03-29T04:01:22.437689Z"
    },
    "papermill": {
     "duration": 0.316101,
     "end_time": "2021-03-29T04:01:22.438426",
     "exception": false,
     "start_time": "2021-03-29T04:01:22.122325",
     "status": "completed"
    },
    "tags": []
   },
   "outputs": [
    {
     "data": {
      "text/html": [
       "<div>\n",
       "<style scoped>\n",
       "    .dataframe tbody tr th:only-of-type {\n",
       "        vertical-align: middle;\n",
       "    }\n",
       "\n",
       "    .dataframe tbody tr th {\n",
       "        vertical-align: top;\n",
       "    }\n",
       "\n",
       "    .dataframe thead th {\n",
       "        text-align: right;\n",
       "    }\n",
       "</style>\n",
       "<table border=\"1\" class=\"dataframe\">\n",
       "  <thead>\n",
       "    <tr style=\"text-align: right;\">\n",
       "      <th></th>\n",
       "      <th>id</th>\n",
       "      <th>premise</th>\n",
       "      <th>hypothesis</th>\n",
       "      <th>lang_abv</th>\n",
       "      <th>language</th>\n",
       "      <th>label</th>\n",
       "    </tr>\n",
       "  </thead>\n",
       "  <tbody>\n",
       "    <tr>\n",
       "      <th>0</th>\n",
       "      <td>5130fd2cb5</td>\n",
       "      <td>and these comments were considered in formulat...</td>\n",
       "      <td>The rules developed in the interim were put to...</td>\n",
       "      <td>en</td>\n",
       "      <td>English</td>\n",
       "      <td>0</td>\n",
       "    </tr>\n",
       "    <tr>\n",
       "      <th>1</th>\n",
       "      <td>5b72532a0b</td>\n",
       "      <td>These are issues that we wrestle with in pract...</td>\n",
       "      <td>Practice groups are not permitted to work on t...</td>\n",
       "      <td>en</td>\n",
       "      <td>English</td>\n",
       "      <td>2</td>\n",
       "    </tr>\n",
       "    <tr>\n",
       "      <th>2</th>\n",
       "      <td>3931fbe82a</td>\n",
       "      <td>Des petites choses comme celles-là font une di...</td>\n",
       "      <td>J'essayais d'accomplir quelque chose.</td>\n",
       "      <td>fr</td>\n",
       "      <td>French</td>\n",
       "      <td>0</td>\n",
       "    </tr>\n",
       "    <tr>\n",
       "      <th>3</th>\n",
       "      <td>5622f0c60b</td>\n",
       "      <td>you know they can't really defend themselves l...</td>\n",
       "      <td>They can't defend themselves because of their ...</td>\n",
       "      <td>en</td>\n",
       "      <td>English</td>\n",
       "      <td>0</td>\n",
       "    </tr>\n",
       "    <tr>\n",
       "      <th>4</th>\n",
       "      <td>86aaa48b45</td>\n",
       "      <td>ในการเล่นบทบาทสมมุติก็เช่นกัน โอกาสที่จะได้แสด...</td>\n",
       "      <td>เด็กสามารถเห็นได้ว่าชาติพันธุ์แตกต่างกันอย่างไร</td>\n",
       "      <td>th</td>\n",
       "      <td>Thai</td>\n",
       "      <td>1</td>\n",
       "    </tr>\n",
       "  </tbody>\n",
       "</table>\n",
       "</div>"
      ],
      "text/plain": [
       "           id                                            premise  \\\n",
       "0  5130fd2cb5  and these comments were considered in formulat...   \n",
       "1  5b72532a0b  These are issues that we wrestle with in pract...   \n",
       "2  3931fbe82a  Des petites choses comme celles-là font une di...   \n",
       "3  5622f0c60b  you know they can't really defend themselves l...   \n",
       "4  86aaa48b45  ในการเล่นบทบาทสมมุติก็เช่นกัน โอกาสที่จะได้แสด...   \n",
       "\n",
       "                                          hypothesis lang_abv language  label  \n",
       "0  The rules developed in the interim were put to...       en  English      0  \n",
       "1  Practice groups are not permitted to work on t...       en  English      2  \n",
       "2              J'essayais d'accomplir quelque chose.       fr   French      0  \n",
       "3  They can't defend themselves because of their ...       en  English      0  \n",
       "4    เด็กสามารถเห็นได้ว่าชาติพันธุ์แตกต่างกันอย่างไร       th     Thai      1  "
      ]
     },
     "execution_count": 5,
     "metadata": {},
     "output_type": "execute_result"
    }
   ],
   "source": [
    "train = pd.read_csv(\"../input/contradictory-my-dear-watson/train.csv\")\n",
    "test = pd.read_csv(\"../input/contradictory-my-dear-watson/test.csv\")\n",
    "\n",
    "train.head()"
   ]
  },
  {
   "cell_type": "code",
   "execution_count": 6,
   "id": "authentic-cliff",
   "metadata": {
    "execution": {
     "iopub.execute_input": "2021-03-29T04:01:22.509305Z",
     "iopub.status.busy": "2021-03-29T04:01:22.508636Z",
     "iopub.status.idle": "2021-03-29T04:01:22.511803Z",
     "shell.execute_reply": "2021-03-29T04:01:22.511286Z"
    },
    "papermill": {
     "duration": 0.040416,
     "end_time": "2021-03-29T04:01:22.511955",
     "exception": false,
     "start_time": "2021-03-29T04:01:22.471539",
     "status": "completed"
    },
    "tags": []
   },
   "outputs": [],
   "source": [
    "# Configuration\n",
    "EPOCHS = 3\n",
    "BATCH_SIZE = 64 \n",
    "MAX_LEN = 120\n",
    "PATIENCE = 1\n",
    "LEARNING_RATE = 1e-5\n",
    "train_df_sp_path = '../input/train-val-split/train_df_sp.csv'\n",
    "validation_df_sp_path = '../input/train-val-split/validation_df_sp.csv'"
   ]
  },
  {
   "cell_type": "code",
   "execution_count": 7,
   "id": "conditional-excitement",
   "metadata": {
    "execution": {
     "iopub.execute_input": "2021-03-29T04:01:22.584741Z",
     "iopub.status.busy": "2021-03-29T04:01:22.583970Z",
     "iopub.status.idle": "2021-03-29T04:01:22.748198Z",
     "shell.execute_reply": "2021-03-29T04:01:22.747657Z"
    },
    "papermill": {
     "duration": 0.203798,
     "end_time": "2021-03-29T04:01:22.748342",
     "exception": false,
     "start_time": "2021-03-29T04:01:22.544544",
     "status": "completed"
    },
    "tags": []
   },
   "outputs": [
    {
     "name": "stdout",
     "output_type": "stream",
     "text": [
      "Loading training and validation split csv files...\n",
      "Training data shape after split: (9696, 6)\n",
      "Validation data shape after split: (2424, 6)\n"
     ]
    }
   ],
   "source": [
    "if train_df_sp_path and validation_df_sp_path:\n",
    "    # Use the same train-val split used to back translate input training data\n",
    "    print (\"Loading training and validation split csv files...\")\n",
    "    train = pd.read_csv(train_df_sp_path)\n",
    "    validation = pd.read_csv(validation_df_sp_path)\n",
    "else:\n",
    "    # Create train-val split data\n",
    "    print (\"Creating training and validation split csv files...\")\n",
    "    # Stratify ensures that each sub-set contains approximately the same percentage of samples of each target class as the original set.\n",
    "    train, validation = train_test_split(train, stratify=train.label.values, \n",
    "                                                      random_state=42, \n",
    "                                                      test_size=0.2, shuffle=True)\n",
    "\n",
    "\n",
    "    train.reset_index(drop=True, inplace=True)\n",
    "    validation.reset_index(drop=True, inplace=True)\n",
    "    \n",
    "    \n",
    "# check the number of rows and columns in the subsets after split\n",
    "print(\"Training data shape after split: {}\".format(train.shape))\n",
    "print(\"Validation data shape after split: {}\".format(validation.shape))"
   ]
  },
  {
   "cell_type": "code",
   "execution_count": 8,
   "id": "defined-joyce",
   "metadata": {
    "execution": {
     "iopub.execute_input": "2021-03-29T04:01:22.821536Z",
     "iopub.status.busy": "2021-03-29T04:01:22.820813Z",
     "iopub.status.idle": "2021-03-29T04:01:23.791008Z",
     "shell.execute_reply": "2021-03-29T04:01:23.791522Z"
    },
    "papermill": {
     "duration": 1.010681,
     "end_time": "2021-03-29T04:01:23.791706",
     "exception": false,
     "start_time": "2021-03-29T04:01:22.781025",
     "status": "completed"
    },
    "tags": []
   },
   "outputs": [
    {
     "data": {
      "application/vnd.jupyter.widget-view+json": {
       "model_id": "3ba135d04bda4214add883da95f15401",
       "version_major": 2,
       "version_minor": 0
      },
      "text/plain": [
       "Downloading:   0%|          | 0.00/996k [00:00<?, ?B/s]"
      ]
     },
     "metadata": {},
     "output_type": "display_data"
    },
    {
     "data": {
      "text/plain": [
       "Tokenizer(vocabulary_size=119547, model=BertWordPiece, unk_token=[UNK], sep_token=[SEP], cls_token=[CLS], pad_token=[PAD], mask_token=[MASK], clean_text=True, handle_chinese_chars=True, strip_accents=False, lowercase=False, wordpieces_prefix=##)"
      ]
     },
     "execution_count": 8,
     "metadata": {},
     "output_type": "execute_result"
    }
   ],
   "source": [
    "model_name = 'bert-base-multilingual-cased'\n",
    "tokenizer = BertTokenizer.from_pretrained(model_name) # Save the slow pretrained tokenizer\n",
    "save_path = '.'\n",
    "if not os.path.exists(save_path):\n",
    "    os.makedirs(save_path)\n",
    "tokenizer.save_pretrained(save_path) # Save the loaded tokenizer locally\n",
    "tokenizer = BertWordPieceTokenizer(\"vocab.txt\", lowercase=False, strip_accents=False) # Load the fast tokenizer from saved file\n",
    "\n",
    "tokenizer"
   ]
  },
  {
   "cell_type": "code",
   "execution_count": 9,
   "id": "powerful-madrid",
   "metadata": {
    "execution": {
     "iopub.execute_input": "2021-03-29T04:01:23.876922Z",
     "iopub.status.busy": "2021-03-29T04:01:23.876103Z",
     "iopub.status.idle": "2021-03-29T04:01:23.878898Z",
     "shell.execute_reply": "2021-03-29T04:01:23.879650Z"
    },
    "papermill": {
     "duration": 0.054107,
     "end_time": "2021-03-29T04:01:23.879870",
     "exception": false,
     "start_time": "2021-03-29T04:01:23.825763",
     "status": "completed"
    },
    "tags": []
   },
   "outputs": [],
   "source": [
    "def encode(df, tokenizer, max_len=50):\n",
    "    \n",
    "    pairs = df[['premise','hypothesis']].values.tolist()\n",
    "\n",
    "    tokenizer.enable_truncation(max_len)\n",
    "    tokenizer.enable_padding()\n",
    "    \n",
    "    print (\"Encoding...\")\n",
    "    # We'll use encode_batch() as 'BertWordPieceTokenizer' object has no attribute 'batch_encode_plus'\n",
    "    enc_list = tokenizer.encode_batch(pairs)\n",
    "    print (\"Complete\")\n",
    "    \n",
    "    input_word_ids = tf.ragged.constant([enc.ids for enc in enc_list], dtype=tf.int32) #shape=[num_examples, max_len])\n",
    "    input_mask = tf.ragged.constant([enc.attention_mask for enc in enc_list], dtype=tf.int32) #shape=[num_examples, max_len]\n",
    "    input_type_ids = tf.ragged.constant([enc.type_ids for enc in enc_list], dtype=tf.int32) #shape=[num_examples, max_len]\n",
    "   \n",
    "    inputs = {\n",
    "        'input_word_ids': input_word_ids.to_tensor(),\n",
    "        'input_mask': input_mask.to_tensor(),\n",
    "        'input_type_ids': input_type_ids.to_tensor()}\n",
    "    \n",
    "    return inputs "
   ]
  },
  {
   "cell_type": "code",
   "execution_count": 10,
   "id": "pacific-entrance",
   "metadata": {
    "execution": {
     "iopub.execute_input": "2021-03-29T04:01:24.005467Z",
     "iopub.status.busy": "2021-03-29T04:01:24.004604Z",
     "iopub.status.idle": "2021-03-29T04:01:40.154412Z",
     "shell.execute_reply": "2021-03-29T04:01:40.152668Z"
    },
    "papermill": {
     "duration": 16.23922,
     "end_time": "2021-03-29T04:01:40.155317",
     "exception": false,
     "start_time": "2021-03-29T04:01:23.916097",
     "status": "completed"
    },
    "tags": []
   },
   "outputs": [
    {
     "name": "stdout",
     "output_type": "stream",
     "text": [
      "Encoding...\n",
      "Complete\n"
     ]
    }
   ],
   "source": [
    "train_input = encode(train, tokenizer=tokenizer, max_len=MAX_LEN)"
   ]
  },
  {
   "cell_type": "code",
   "execution_count": 11,
   "id": "special-utilization",
   "metadata": {
    "execution": {
     "iopub.execute_input": "2021-03-29T04:01:40.246042Z",
     "iopub.status.busy": "2021-03-29T04:01:40.244805Z",
     "iopub.status.idle": "2021-03-29T04:01:40.344818Z",
     "shell.execute_reply": "2021-03-29T04:01:40.344096Z"
    },
    "papermill": {
     "duration": 0.145058,
     "end_time": "2021-03-29T04:01:40.344967",
     "exception": false,
     "start_time": "2021-03-29T04:01:40.199909",
     "status": "completed"
    },
    "tags": []
   },
   "outputs": [
    {
     "data": {
      "text/plain": [
       "{'input_word_ids': <tf.Tensor: shape=(9696, 120), dtype=int32, numpy=\n",
       " array([[  101, 32074, 13355, ...,     0,     0,     0],\n",
       "        [  101,   787, 18914, ...,     0,     0,     0],\n",
       "        [  101, 12399, 16272, ...,     0,     0,     0],\n",
       "        ...,\n",
       "        [  101,   512, 69605, ...,     0,     0,     0],\n",
       "        [  101,   151, 33078, ...,     0,     0,     0],\n",
       "        [  101, 10380, 10149, ...,     0,     0,     0]], dtype=int32)>,\n",
       " 'input_mask': <tf.Tensor: shape=(9696, 120), dtype=int32, numpy=\n",
       " array([[1, 1, 1, ..., 0, 0, 0],\n",
       "        [1, 1, 1, ..., 0, 0, 0],\n",
       "        [1, 1, 1, ..., 0, 0, 0],\n",
       "        ...,\n",
       "        [1, 1, 1, ..., 0, 0, 0],\n",
       "        [1, 1, 1, ..., 0, 0, 0],\n",
       "        [1, 1, 1, ..., 0, 0, 0]], dtype=int32)>,\n",
       " 'input_type_ids': <tf.Tensor: shape=(9696, 120), dtype=int32, numpy=\n",
       " array([[0, 0, 0, ..., 0, 0, 0],\n",
       "        [0, 0, 0, ..., 0, 0, 0],\n",
       "        [0, 0, 0, ..., 0, 0, 0],\n",
       "        ...,\n",
       "        [0, 0, 0, ..., 0, 0, 0],\n",
       "        [0, 0, 0, ..., 0, 0, 0],\n",
       "        [0, 0, 0, ..., 0, 0, 0]], dtype=int32)>}"
      ]
     },
     "execution_count": 11,
     "metadata": {},
     "output_type": "execute_result"
    }
   ],
   "source": [
    "train_input"
   ]
  },
  {
   "cell_type": "code",
   "execution_count": 12,
   "id": "adverse-fundamental",
   "metadata": {
    "execution": {
     "iopub.execute_input": "2021-03-29T04:01:40.454883Z",
     "iopub.status.busy": "2021-03-29T04:01:40.451861Z",
     "iopub.status.idle": "2021-03-29T04:01:44.359118Z",
     "shell.execute_reply": "2021-03-29T04:01:44.358460Z"
    },
    "papermill": {
     "duration": 3.977953,
     "end_time": "2021-03-29T04:01:44.359276",
     "exception": false,
     "start_time": "2021-03-29T04:01:40.381323",
     "status": "completed"
    },
    "tags": []
   },
   "outputs": [
    {
     "name": "stdout",
     "output_type": "stream",
     "text": [
      "Encoding...\n",
      "Complete\n"
     ]
    }
   ],
   "source": [
    "validation_input = encode(validation, tokenizer=tokenizer, max_len=MAX_LEN)"
   ]
  },
  {
   "cell_type": "code",
   "execution_count": 13,
   "id": "lonely-register",
   "metadata": {
    "execution": {
     "iopub.execute_input": "2021-03-29T04:01:44.460116Z",
     "iopub.status.busy": "2021-03-29T04:01:44.459358Z",
     "iopub.status.idle": "2021-03-29T04:01:44.506686Z",
     "shell.execute_reply": "2021-03-29T04:01:44.507241Z"
    },
    "papermill": {
     "duration": 0.089774,
     "end_time": "2021-03-29T04:01:44.507414",
     "exception": false,
     "start_time": "2021-03-29T04:01:44.417640",
     "status": "completed"
    },
    "tags": []
   },
   "outputs": [
    {
     "data": {
      "text/plain": [
       "{'input_word_ids': <tf.Tensor: shape=(2424, 120), dtype=int32, numpy=\n",
       " array([[  101,  1412, 58264, ...,     0,     0,     0],\n",
       "        [  101, 10111,   189, ...,     0,     0,     0],\n",
       "        [  101,   533, 52408, ...,     0,     0,     0],\n",
       "        ...,\n",
       "        [  101, 10117, 11584, ...,     0,     0,     0],\n",
       "        [  101, 10159, 11826, ...,     0,     0,     0],\n",
       "        [  101, 10380,   177, ...,     0,     0,     0]], dtype=int32)>,\n",
       " 'input_mask': <tf.Tensor: shape=(2424, 120), dtype=int32, numpy=\n",
       " array([[1, 1, 1, ..., 0, 0, 0],\n",
       "        [1, 1, 1, ..., 0, 0, 0],\n",
       "        [1, 1, 1, ..., 0, 0, 0],\n",
       "        ...,\n",
       "        [1, 1, 1, ..., 0, 0, 0],\n",
       "        [1, 1, 1, ..., 0, 0, 0],\n",
       "        [1, 1, 1, ..., 0, 0, 0]], dtype=int32)>,\n",
       " 'input_type_ids': <tf.Tensor: shape=(2424, 120), dtype=int32, numpy=\n",
       " array([[0, 0, 0, ..., 0, 0, 0],\n",
       "        [0, 0, 0, ..., 0, 0, 0],\n",
       "        [0, 0, 0, ..., 0, 0, 0],\n",
       "        ...,\n",
       "        [0, 0, 0, ..., 0, 0, 0],\n",
       "        [0, 0, 0, ..., 0, 0, 0],\n",
       "        [0, 0, 0, ..., 0, 0, 0]], dtype=int32)>}"
      ]
     },
     "execution_count": 13,
     "metadata": {},
     "output_type": "execute_result"
    }
   ],
   "source": [
    "validation_input"
   ]
  },
  {
   "cell_type": "code",
   "execution_count": 14,
   "id": "leading-proxy",
   "metadata": {
    "execution": {
     "iopub.execute_input": "2021-03-29T04:01:44.584292Z",
     "iopub.status.busy": "2021-03-29T04:01:44.583543Z",
     "iopub.status.idle": "2021-03-29T04:01:44.594467Z",
     "shell.execute_reply": "2021-03-29T04:01:44.593771Z"
    },
    "papermill": {
     "duration": 0.050517,
     "end_time": "2021-03-29T04:01:44.594609",
     "exception": false,
     "start_time": "2021-03-29T04:01:44.544092",
     "status": "completed"
    },
    "tags": []
   },
   "outputs": [],
   "source": [
    "def build_model(model_name, max_len=50):\n",
    "    \n",
    "    tf.random.set_seed(12345) # For reproducibility\n",
    "    \n",
    "    bert_encoder = TFBertModel.from_pretrained(model_name)\n",
    "#     bert_encoder = TFAutoModel.from_pretrained(model_name)\n",
    "\n",
    "    input_word_ids = tf.keras.Input(shape=(max_len,), dtype=tf.int32, name=\"input_word_ids\")\n",
    "    input_mask = tf.keras.Input(shape=(max_len,), dtype=tf.int32, name=\"input_mask\")\n",
    "    input_type_ids = tf.keras.Input(shape=(max_len,), dtype=tf.int32, name=\"input_type_ids\")\n",
    "    \n",
    "    embedding = bert_encoder([input_word_ids, input_mask, input_type_ids])[0] # shape=(batch_size, max_len, embed_size)\n",
    "    cls_vector = embedding[:,0,:] #shape=(batch_size, embed_size)\n",
    "    output = tf.keras.layers.Dense(3, activation='softmax')(cls_vector) # shape=[batch_size, num_class=3]       \n",
    "    \n",
    "    model = tf.keras.Model(inputs=[input_word_ids, input_mask, input_type_ids], outputs=output)\n",
    "    model.compile(tf.keras.optimizers.Adam(lr=LEARNING_RATE), loss='sparse_categorical_crossentropy', metrics=['accuracy'])\n",
    "    \n",
    "    return model"
   ]
  },
  {
   "cell_type": "code",
   "execution_count": 15,
   "id": "disabled-brooks",
   "metadata": {
    "execution": {
     "iopub.execute_input": "2021-03-29T04:01:44.672127Z",
     "iopub.status.busy": "2021-03-29T04:01:44.671391Z",
     "iopub.status.idle": "2021-03-29T04:02:48.619968Z",
     "shell.execute_reply": "2021-03-29T04:02:48.620493Z"
    },
    "papermill": {
     "duration": 63.988685,
     "end_time": "2021-03-29T04:02:48.620693",
     "exception": false,
     "start_time": "2021-03-29T04:01:44.632008",
     "status": "completed"
    },
    "tags": []
   },
   "outputs": [
    {
     "data": {
      "application/vnd.jupyter.widget-view+json": {
       "model_id": "24c826f524b74260b09fc2ae510be745",
       "version_major": 2,
       "version_minor": 0
      },
      "text/plain": [
       "Downloading:   0%|          | 0.00/625 [00:00<?, ?B/s]"
      ]
     },
     "metadata": {},
     "output_type": "display_data"
    },
    {
     "data": {
      "application/vnd.jupyter.widget-view+json": {
       "model_id": "9679bf33e4e941c1b6ededa18e0085b1",
       "version_major": 2,
       "version_minor": 0
      },
      "text/plain": [
       "Downloading:   0%|          | 0.00/1.08G [00:00<?, ?B/s]"
      ]
     },
     "metadata": {},
     "output_type": "display_data"
    },
    {
     "name": "stderr",
     "output_type": "stream",
     "text": [
      "Some layers from the model checkpoint at bert-base-multilingual-cased were not used when initializing TFBertModel: ['nsp___cls', 'mlm___cls']\n",
      "- This IS expected if you are initializing TFBertModel from the checkpoint of a model trained on another task or with another architecture (e.g. initializing a BertForSequenceClassification model from a BertForPreTraining model).\n",
      "- This IS NOT expected if you are initializing TFBertModel from the checkpoint of a model that you expect to be exactly identical (initializing a BertForSequenceClassification model from a BertForSequenceClassification model).\n",
      "All the layers of TFBertModel were initialized from the model checkpoint at bert-base-multilingual-cased.\n",
      "If your task is similar to the task the model of the checkpoint was trained on, you can already use TFBertModel for predictions without further training.\n"
     ]
    },
    {
     "name": "stdout",
     "output_type": "stream",
     "text": [
      "Model: \"model\"\n",
      "__________________________________________________________________________________________________\n",
      "Layer (type)                    Output Shape         Param #     Connected to                     \n",
      "==================================================================================================\n",
      "input_word_ids (InputLayer)     [(None, 120)]        0                                            \n",
      "__________________________________________________________________________________________________\n",
      "input_mask (InputLayer)         [(None, 120)]        0                                            \n",
      "__________________________________________________________________________________________________\n",
      "input_type_ids (InputLayer)     [(None, 120)]        0                                            \n",
      "__________________________________________________________________________________________________\n",
      "tf_bert_model (TFBertModel)     TFBaseModelOutputWit 177853440   input_word_ids[0][0]             \n",
      "                                                                 input_mask[0][0]                 \n",
      "                                                                 input_type_ids[0][0]             \n",
      "__________________________________________________________________________________________________\n",
      "tf.__operators__.getitem (Slici (None, 768)          0           tf_bert_model[0][0]              \n",
      "__________________________________________________________________________________________________\n",
      "dense (Dense)                   (None, 3)            2307        tf.__operators__.getitem[0][0]   \n",
      "==================================================================================================\n",
      "Total params: 177,855,747\n",
      "Trainable params: 177,855,747\n",
      "Non-trainable params: 0\n",
      "__________________________________________________________________________________________________\n"
     ]
    }
   ],
   "source": [
    "# instantiating the model in the strategy scope creates the model on the TPU\n",
    "with strategy.scope():\n",
    "    model = build_model(model_name, MAX_LEN)\n",
    "    model.summary()"
   ]
  },
  {
   "cell_type": "code",
   "execution_count": 16,
   "id": "instant-consideration",
   "metadata": {
    "execution": {
     "iopub.execute_input": "2021-03-29T04:02:48.704595Z",
     "iopub.status.busy": "2021-03-29T04:02:48.703934Z",
     "iopub.status.idle": "2021-03-29T04:05:27.508455Z",
     "shell.execute_reply": "2021-03-29T04:05:27.507878Z"
    },
    "papermill": {
     "duration": 158.8492,
     "end_time": "2021-03-29T04:05:27.508610",
     "exception": false,
     "start_time": "2021-03-29T04:02:48.659410",
     "status": "completed"
    },
    "tags": []
   },
   "outputs": [
    {
     "name": "stdout",
     "output_type": "stream",
     "text": [
      "Epoch 1/3\n",
      "152/152 [==============================] - 125s 406ms/step - loss: 1.0930 - accuracy: 0.4083 - val_loss: 0.8774 - val_accuracy: 0.6085\n",
      "\n",
      "Epoch 00001: val_loss improved from inf to 0.87741, saving model to bert_best_checkpoint.hdf5\n",
      "Epoch 2/3\n",
      "152/152 [==============================] - 13s 83ms/step - loss: 0.8177 - accuracy: 0.6343 - val_loss: 0.8428 - val_accuracy: 0.6312\n",
      "\n",
      "Epoch 00002: val_loss improved from 0.87741 to 0.84279, saving model to bert_best_checkpoint.hdf5\n",
      "Epoch 3/3\n",
      "152/152 [==============================] - 13s 83ms/step - loss: 0.6340 - accuracy: 0.7342 - val_loss: 0.8965 - val_accuracy: 0.6271\n",
      "\n",
      "Epoch 00003: val_loss did not improve from 0.84279\n",
      "Epoch 00003: early stopping\n"
     ]
    }
   ],
   "source": [
    "from keras.callbacks import EarlyStopping, ModelCheckpoint\n",
    "\n",
    "checkpoint_filepath='bert_best_checkpoint.hdf5'\n",
    "\n",
    "# callbacks = [EarlyStopping(monitor='val_loss', mode='min', verbose=1, patience=PATIENCE), ModelCheckpoint(filepath=checkpoint_filepath, save_best_only=True, save_weights_only=True, monitor='val_accuracy', mode='max', verbose=1)]\n",
    "callbacks = [EarlyStopping(monitor='val_loss', mode='min', verbose=1, patience=PATIENCE), ModelCheckpoint(filepath=checkpoint_filepath, save_best_only=True, save_weights_only=True, monitor='val_loss', mode='min', verbose=1)]\n",
    "\n",
    "train_history = model.fit(x=train_input, y=train.label.values, validation_data=(validation_input, validation.label.values), epochs=EPOCHS, verbose=1, batch_size=BATCH_SIZE, callbacks=callbacks)"
   ]
  },
  {
   "cell_type": "code",
   "execution_count": 17,
   "id": "communist-serve",
   "metadata": {
    "execution": {
     "iopub.execute_input": "2021-03-29T04:05:27.877407Z",
     "iopub.status.busy": "2021-03-29T04:05:27.874112Z",
     "iopub.status.idle": "2021-03-29T04:05:28.132500Z",
     "shell.execute_reply": "2021-03-29T04:05:28.131941Z"
    },
    "papermill": {
     "duration": 0.446431,
     "end_time": "2021-03-29T04:05:28.132637",
     "exception": false,
     "start_time": "2021-03-29T04:05:27.686206",
     "status": "completed"
    },
    "tags": []
   },
   "outputs": [
    {
     "data": {
      "image/png": "[encoded data removed]",
      "text/plain": [
       "<Figure size 432x288 with 1 Axes>"
      ]
     },
     "metadata": {
      "needs_background": "light"
     },
     "output_type": "display_data"
    }
   ],
   "source": [
    "# plot loss history\n",
    "plt.plot(train_history.history['loss'], label='train loss')\n",
    "plt.plot(train_history.history['val_loss'], label='validation loss')\n",
    "plt.title('Average Loss')\n",
    "plt.xlabel('Epoch')\n",
    "plt.ylabel('Loss')\n",
    "plt.legend()\n",
    "plt.show()"
   ]
  },
  {
   "cell_type": "code",
   "execution_count": 18,
   "id": "governmental-sullivan",
   "metadata": {
    "execution": {
     "iopub.execute_input": "2021-03-29T04:05:28.532165Z",
     "iopub.status.busy": "2021-03-29T04:05:28.510987Z",
     "iopub.status.idle": "2021-03-29T04:05:28.677993Z",
     "shell.execute_reply": "2021-03-29T04:05:28.677394Z"
    },
    "papermill": {
     "duration": 0.368156,
     "end_time": "2021-03-29T04:05:28.678134",
     "exception": false,
     "start_time": "2021-03-29T04:05:28.309978",
     "status": "completed"
    },
    "tags": []
   },
   "outputs": [
    {
     "data": {
      "image/png": "[encoded data removed]",
      "text/plain": [
       "<Figure size 432x288 with 1 Axes>"
      ]
     },
     "metadata": {
      "needs_background": "light"
     },
     "output_type": "display_data"
    }
   ],
   "source": [
    "# plot accuracy history\n",
    "plt.plot(train_history.history['accuracy'], label='train accuracy')\n",
    "plt.plot(train_history.history['val_accuracy'], label='validation accuracy')\n",
    "plt.title('Average Accuracy')\n",
    "plt.xlabel('Epoch')\n",
    "plt.ylabel('Accuracy')\n",
    "plt.legend()\n",
    "plt.show()"
   ]
  },
  {
   "cell_type": "code",
   "execution_count": 19,
   "id": "controlled-group",
   "metadata": {
    "execution": {
     "iopub.execute_input": "2021-03-29T04:05:29.217081Z",
     "iopub.status.busy": "2021-03-29T04:05:29.209292Z",
     "iopub.status.idle": "2021-03-29T04:05:40.012506Z",
     "shell.execute_reply": "2021-03-29T04:05:40.011250Z"
    },
    "papermill": {
     "duration": 11.152513,
     "end_time": "2021-03-29T04:05:40.012695",
     "exception": false,
     "start_time": "2021-03-29T04:05:28.860182",
     "status": "completed"
    },
    "tags": []
   },
   "outputs": [],
   "source": [
    "# The model weights (that are considered the best) are loaded into the model.\n",
    "model.load_weights(checkpoint_filepath)"
   ]
  },
  {
   "cell_type": "code",
   "execution_count": 20,
   "id": "occupational-grain",
   "metadata": {
    "execution": {
     "iopub.execute_input": "2021-03-29T04:05:40.405460Z",
     "iopub.status.busy": "2021-03-29T04:05:40.404454Z",
     "iopub.status.idle": "2021-03-29T04:05:48.617298Z",
     "shell.execute_reply": "2021-03-29T04:05:48.616651Z"
    },
    "papermill": {
     "duration": 8.423088,
     "end_time": "2021-03-29T04:05:48.617466",
     "exception": false,
     "start_time": "2021-03-29T04:05:40.194378",
     "status": "completed"
    },
    "tags": []
   },
   "outputs": [
    {
     "name": "stdout",
     "output_type": "stream",
     "text": [
      "Encoding...\n",
      "Complete\n"
     ]
    }
   ],
   "source": [
    "#encode the test-input sequences\n",
    "test_input = encode(test, tokenizer=tokenizer, max_len=MAX_LEN)"
   ]
  },
  {
   "cell_type": "code",
   "execution_count": 21,
   "id": "refined-adobe",
   "metadata": {
    "execution": {
     "iopub.execute_input": "2021-03-29T04:05:49.008266Z",
     "iopub.status.busy": "2021-03-29T04:05:49.007213Z",
     "iopub.status.idle": "2021-03-29T04:05:58.492818Z",
     "shell.execute_reply": "2021-03-29T04:05:58.492166Z"
    },
    "papermill": {
     "duration": 9.696801,
     "end_time": "2021-03-29T04:05:58.493022",
     "exception": false,
     "start_time": "2021-03-29T04:05:48.796221",
     "status": "completed"
    },
    "tags": []
   },
   "outputs": [],
   "source": [
    "predictions = [np.argmax(i) for i in model.predict(test_input)]\n",
    "# predictions = predictions[:test.shape[0]]"
   ]
  },
  {
   "cell_type": "code",
   "execution_count": 22,
   "id": "minus-attitude",
   "metadata": {
    "execution": {
     "iopub.execute_input": "2021-03-29T04:05:58.875196Z",
     "iopub.status.busy": "2021-03-29T04:05:58.874201Z",
     "iopub.status.idle": "2021-03-29T04:05:58.878415Z",
     "shell.execute_reply": "2021-03-29T04:05:58.878903Z"
    },
    "papermill": {
     "duration": 0.205031,
     "end_time": "2021-03-29T04:05:58.879080",
     "exception": false,
     "start_time": "2021-03-29T04:05:58.674049",
     "status": "completed"
    },
    "tags": []
   },
   "outputs": [
    {
     "data": {
      "text/html": [
       "<div>\n",
       "<style scoped>\n",
       "    .dataframe tbody tr th:only-of-type {\n",
       "        vertical-align: middle;\n",
       "    }\n",
       "\n",
       "    .dataframe tbody tr th {\n",
       "        vertical-align: top;\n",
       "    }\n",
       "\n",
       "    .dataframe thead th {\n",
       "        text-align: right;\n",
       "    }\n",
       "</style>\n",
       "<table border=\"1\" class=\"dataframe\">\n",
       "  <thead>\n",
       "    <tr style=\"text-align: right;\">\n",
       "      <th></th>\n",
       "      <th>id</th>\n",
       "      <th>prediction</th>\n",
       "    </tr>\n",
       "  </thead>\n",
       "  <tbody>\n",
       "    <tr>\n",
       "      <th>0</th>\n",
       "      <td>c6d58c3f69</td>\n",
       "      <td>2</td>\n",
       "    </tr>\n",
       "    <tr>\n",
       "      <th>1</th>\n",
       "      <td>cefcc82292</td>\n",
       "      <td>1</td>\n",
       "    </tr>\n",
       "    <tr>\n",
       "      <th>2</th>\n",
       "      <td>e98005252c</td>\n",
       "      <td>0</td>\n",
       "    </tr>\n",
       "    <tr>\n",
       "      <th>3</th>\n",
       "      <td>58518c10ba</td>\n",
       "      <td>1</td>\n",
       "    </tr>\n",
       "    <tr>\n",
       "      <th>4</th>\n",
       "      <td>c32b0d16df</td>\n",
       "      <td>2</td>\n",
       "    </tr>\n",
       "  </tbody>\n",
       "</table>\n",
       "</div>"
      ],
      "text/plain": [
       "           id  prediction\n",
       "0  c6d58c3f69           2\n",
       "1  cefcc82292           1\n",
       "2  e98005252c           0\n",
       "3  58518c10ba           1\n",
       "4  c32b0d16df           2"
      ]
     },
     "execution_count": 22,
     "metadata": {},
     "output_type": "execute_result"
    }
   ],
   "source": [
    "submission = test.id.copy().to_frame()\n",
    "submission['prediction'] = predictions\n",
    "\n",
    "submission.head()"
   ]
  },
  {
   "cell_type": "code",
   "execution_count": 23,
   "id": "accompanied-maker",
   "metadata": {
    "execution": {
     "iopub.execute_input": "2021-03-29T04:05:59.242365Z",
     "iopub.status.busy": "2021-03-29T04:05:59.241401Z",
     "iopub.status.idle": "2021-03-29T04:05:59.262842Z",
     "shell.execute_reply": "2021-03-29T04:05:59.262153Z"
    },
    "papermill": {
     "duration": 0.205143,
     "end_time": "2021-03-29T04:05:59.262987",
     "exception": false,
     "start_time": "2021-03-29T04:05:59.057844",
     "status": "completed"
    },
    "tags": []
   },
   "outputs": [],
   "source": [
    "submission.to_csv(\"submission.csv\", index = False)"
   ]
  },
  {
   "cell_type": "code",
   "execution_count": 24,
   "id": "thrown-nepal",
   "metadata": {
    "execution": {
     "iopub.execute_input": "2021-03-29T04:05:59.629490Z",
     "iopub.status.busy": "2021-03-29T04:05:59.628729Z",
     "iopub.status.idle": "2021-03-29T04:06:03.627194Z",
     "shell.execute_reply": "2021-03-29T04:06:03.626539Z"
    },
    "papermill": {
     "duration": 4.184974,
     "end_time": "2021-03-29T04:06:03.627365",
     "exception": false,
     "start_time": "2021-03-29T04:05:59.442391",
     "status": "completed"
    },
    "tags": []
   },
   "outputs": [],
   "source": [
    "# save validation predictions to check outputs against gold-label and include results in capstone report\n",
    "val_predictions = [np.argmax(i) for i in model.predict(validation_input)]\n",
    "validation['prediction'] = val_predictions\n",
    "validation.to_csv(\"validation_predictions.csv\", index=False)"
   ]
  },
  {
   "cell_type": "code",
   "execution_count": 25,
   "id": "revolutionary-austin",
   "metadata": {
    "execution": {
     "iopub.execute_input": "2021-03-29T04:06:04.002967Z",
     "iopub.status.busy": "2021-03-29T04:06:04.002295Z",
     "iopub.status.idle": "2021-03-29T04:06:04.007614Z",
     "shell.execute_reply": "2021-03-29T04:06:04.008217Z"
    },
    "papermill": {
     "duration": 0.200723,
     "end_time": "2021-03-29T04:06:04.008456",
     "exception": false,
     "start_time": "2021-03-29T04:06:03.807733",
     "status": "completed"
    },
    "tags": []
   },
   "outputs": [
    {
     "data": {
      "text/html": [
       "<div>\n",
       "<style scoped>\n",
       "    .dataframe tbody tr th:only-of-type {\n",
       "        vertical-align: middle;\n",
       "    }\n",
       "\n",
       "    .dataframe tbody tr th {\n",
       "        vertical-align: top;\n",
       "    }\n",
       "\n",
       "    .dataframe thead th {\n",
       "        text-align: right;\n",
       "    }\n",
       "</style>\n",
       "<table border=\"1\" class=\"dataframe\">\n",
       "  <thead>\n",
       "    <tr style=\"text-align: right;\">\n",
       "      <th></th>\n",
       "      <th>id</th>\n",
       "      <th>premise</th>\n",
       "      <th>hypothesis</th>\n",
       "      <th>lang_abv</th>\n",
       "      <th>language</th>\n",
       "      <th>label</th>\n",
       "      <th>prediction</th>\n",
       "    </tr>\n",
       "  </thead>\n",
       "  <tbody>\n",
       "    <tr>\n",
       "      <th>0</th>\n",
       "      <td>e591a77c6c</td>\n",
       "      <td>ดังนั้น สำนักงานตัวแทนสหภาพต้องการคิดทบทวนการป...</td>\n",
       "      <td>ตัวแทนของรัฐบาลกลางมีทรัพยากรมนุษย์ที่เพียงพอ</td>\n",
       "      <td>th</td>\n",
       "      <td>Thai</td>\n",
       "      <td>2</td>\n",
       "      <td>1</td>\n",
       "    </tr>\n",
       "    <tr>\n",
       "      <th>1</th>\n",
       "      <td>b8198e0a5d</td>\n",
       "      <td>and uh as a matter of fact he's a draft dodger</td>\n",
       "      <td>They dodged the draft, I'll have you know.</td>\n",
       "      <td>en</td>\n",
       "      <td>English</td>\n",
       "      <td>0</td>\n",
       "      <td>1</td>\n",
       "    </tr>\n",
       "    <tr>\n",
       "      <th>2</th>\n",
       "      <td>6c46429835</td>\n",
       "      <td>Шефе, той беше като човек с раздвоена личност.</td>\n",
       "      <td>Шефът ми беше или наистина щастлив, или наисти...</td>\n",
       "      <td>bg</td>\n",
       "      <td>Bulgarian</td>\n",
       "      <td>1</td>\n",
       "      <td>2</td>\n",
       "    </tr>\n",
       "    <tr>\n",
       "      <th>3</th>\n",
       "      <td>b9fcf02f32</td>\n",
       "      <td>Nichts kommt von nichts, behauptete Lukrez vor...</td>\n",
       "      <td>Die Argumente von Lecretius wurden von Tautolo...</td>\n",
       "      <td>de</td>\n",
       "      <td>German</td>\n",
       "      <td>2</td>\n",
       "      <td>2</td>\n",
       "    </tr>\n",
       "    <tr>\n",
       "      <th>4</th>\n",
       "      <td>b82c59d12d</td>\n",
       "      <td>مالی سال 2000 کانگریس اور امریکی ٹیکس دہندہ کے...</td>\n",
       "      <td>2000 اب تک کا سب سے برا سال تھا۔</td>\n",
       "      <td>ur</td>\n",
       "      <td>Urdu</td>\n",
       "      <td>2</td>\n",
       "      <td>1</td>\n",
       "    </tr>\n",
       "  </tbody>\n",
       "</table>\n",
       "</div>"
      ],
      "text/plain": [
       "           id                                            premise  \\\n",
       "0  e591a77c6c  ดังนั้น สำนักงานตัวแทนสหภาพต้องการคิดทบทวนการป...   \n",
       "1  b8198e0a5d     and uh as a matter of fact he's a draft dodger   \n",
       "2  6c46429835     Шефе, той беше като човек с раздвоена личност.   \n",
       "3  b9fcf02f32  Nichts kommt von nichts, behauptete Lukrez vor...   \n",
       "4  b82c59d12d  مالی سال 2000 کانگریس اور امریکی ٹیکس دہندہ کے...   \n",
       "\n",
       "                                          hypothesis lang_abv   language  \\\n",
       "0      ตัวแทนของรัฐบาลกลางมีทรัพยากรมนุษย์ที่เพียงพอ       th       Thai   \n",
       "1         They dodged the draft, I'll have you know.       en    English   \n",
       "2  Шефът ми беше или наистина щастлив, или наисти...       bg  Bulgarian   \n",
       "3  Die Argumente von Lecretius wurden von Tautolo...       de     German   \n",
       "4                   2000 اب تک کا سب سے برا سال تھا۔       ur       Urdu   \n",
       "\n",
       "   label  prediction  \n",
       "0      2           1  \n",
       "1      0           1  \n",
       "2      1           2  \n",
       "3      2           2  \n",
       "4      2           1  "
      ]
     },
     "execution_count": 25,
     "metadata": {},
     "output_type": "execute_result"
    }
   ],
   "source": [
    "validation.head()"
   ]
  },
  {
   "cell_type": "code",
   "execution_count": 26,
   "id": "turned-mandate",
   "metadata": {
    "execution": {
     "iopub.execute_input": "2021-03-29T04:06:04.377852Z",
     "iopub.status.busy": "2021-03-29T04:06:04.377252Z",
     "iopub.status.idle": "2021-03-29T04:06:04.389606Z",
     "shell.execute_reply": "2021-03-29T04:06:04.390142Z"
    },
    "papermill": {
     "duration": 0.198718,
     "end_time": "2021-03-29T04:06:04.390307",
     "exception": false,
     "start_time": "2021-03-29T04:06:04.191589",
     "status": "completed"
    },
    "tags": []
   },
   "outputs": [
    {
     "data": {
      "text/plain": [
       "0.6311881188118812"
      ]
     },
     "execution_count": 26,
     "metadata": {},
     "output_type": "execute_result"
    }
   ],
   "source": [
    "from sklearn.metrics import accuracy_score\n",
    "true_labels = validation.label.values.tolist()\n",
    "accuracy_score(y_true=true_labels, y_pred=val_predictions)"
   ]
  }
 ],
 "metadata": {
  "kernelspec": {
   "display_name": "Python 3",
   "language": "python",
   "name": "python3"
  },
  "language_info": {
   "codemirror_mode": {
    "name": "ipython",
    "version": 3
   },
   "file_extension": ".py",
   "mimetype": "text/x-python",
   "name": "python",
   "nbconvert_exporter": "python",
   "pygments_lexer": "ipython3",
   "version": "3.7.9"
  },
  "papermill": {
   "default_parameters": {},
   "duration": 337.051287,
   "end_time": "2021-03-29T04:06:09.589350",
   "environment_variables": {},
   "exception": null,
   "input_path": "__notebook__.ipynb",
   "output_path": "__notebook__.ipynb",
   "parameters": {},
   "start_time": "2021-03-29T04:00:32.538063",
   "version": "2.3.2"
  },
  "widgets": {
   "application/vnd.jupyter.widget-state+json": {
    "state": {
     "1e96d283559d43a292b8e570197530d0": {
      "model_module": "@jupyter-widgets/controls",
      "model_module_version": "1.5.0",
      "model_name": "ProgressStyleModel",
      "state": {
       "_model_module": "@jupyter-widgets/controls",
       "_model_module_version": "1.5.0",
       "_model_name": "ProgressStyleModel",
       "_view_count": null,
       "_view_module": "@jupyter-widgets/base",
       "_view_module_version": "1.2.0",
       "_view_name": "StyleView",
       "bar_color": null,
       "description_width": ""
      }
     },
     "24c826f524b74260b09fc2ae510be745": {
      "model_module": "@jupyter-widgets/controls",
      "model_module_version": "1.5.0",
      "model_name": "HBoxModel",
      "state": {
       "_dom_classes": [],
       "_model_module": "@jupyter-widgets/controls",
       "_model_module_version": "1.5.0",
       "_model_name": "HBoxModel",
       "_view_count": null,
       "_view_module": "@jupyter-widgets/controls",
       "_view_module_version": "1.5.0",
       "_view_name": "HBoxView",
       "box_style": "",
       "children": [
        "IPY_MODEL_7e978b55dd48496ebd9c815e8ecceb99",
        "IPY_MODEL_cca6d96aa7704306a6f269d972340e28",
        "IPY_MODEL_a1e48697126444268ad82c5f848f0cde"
       ],
       "layout": "IPY_MODEL_8df324c1405f46268c94e3714ccf561e"
      }
     },
     "295a55931d894ecdb9cee8d84e26c20e": {
      "model_module": "@jupyter-widgets/base",
      "model_module_version": "1.2.0",
      "model_name": "LayoutModel",
      "state": {
       "_model_module": "@jupyter-widgets/base",
       "_model_module_version": "1.2.0",
       "_model_name": "LayoutModel",
       "_view_count": null,
       "_view_module": "@jupyter-widgets/base",
       "_view_module_version": "1.2.0",
       "_view_name": "LayoutView",
       "align_content": null,
       "align_items": null,
       "align_self": null,
       "border": null,
       "bottom": null,
       "display": null,
       "flex": null,
       "flex_flow": null,
       "grid_area": null,
       "grid_auto_columns": null,
       "grid_auto_flow": null,
       "grid_auto_rows": null,
       "grid_column": null,
       "grid_gap": null,
       "grid_row": null,
       "grid_template_areas": null,
       "grid_template_columns": null,
       "grid_template_rows": null,
       "height": null,
       "justify_content": null,
       "justify_items": null,
       "left": null,
       "margin": null,
       "max_height": null,
       "max_width": null,
       "min_height": null,
       "min_width": null,
       "object_fit": null,
       "object_position": null,
       "order": null,
       "overflow": null,
       "overflow_x": null,
       "overflow_y": null,
       "padding": null,
       "right": null,
       "top": null,
       "visibility": null,
       "width": null
      }
     },
     "2b7929fbeb0c40fdaef1ea89469b5195": {
      "model_module": "@jupyter-widgets/controls",
      "model_module_version": "1.5.0",
      "model_name": "ProgressStyleModel",
      "state": {
       "_model_module": "@jupyter-widgets/controls",
       "_model_module_version": "1.5.0",
       "_model_name": "ProgressStyleModel",
       "_view_count": null,
       "_view_module": "@jupyter-widgets/base",
       "_view_module_version": "1.2.0",
       "_view_name": "StyleView",
       "bar_color": null,
       "description_width": ""
      }
     },
     "2eee28cd99e34bedb24d0ca7a8fa1fa6": {
      "model_module": "@jupyter-widgets/base",
      "model_module_version": "1.2.0",
      "model_name": "LayoutModel",
      "state": {
       "_model_module": "@jupyter-widgets/base",
       "_model_module_version": "1.2.0",
       "_model_name": "LayoutModel",
       "_view_count": null,
       "_view_module": "@jupyter-widgets/base",
       "_view_module_version": "1.2.0",
       "_view_name": "LayoutView",
       "align_content": null,
       "align_items": null,
       "align_self": null,
       "border": null,
       "bottom": null,
       "display": null,
       "flex": null,
       "flex_flow": null,
       "grid_area": null,
       "grid_auto_columns": null,
       "grid_auto_flow": null,
       "grid_auto_rows": null,
       "grid_column": null,
       "grid_gap": null,
       "grid_row": null,
       "grid_template_areas": null,
       "grid_template_columns": null,
       "grid_template_rows": null,
       "height": null,
       "justify_content": null,
       "justify_items": null,
       "left": null,
       "margin": null,
       "max_height": null,
       "max_width": null,
       "min_height": null,
       "min_width": null,
       "object_fit": null,
       "object_position": null,
       "order": null,
       "overflow": null,
       "overflow_x": null,
       "overflow_y": null,
       "padding": null,
       "right": null,
       "top": null,
       "visibility": null,
       "width": null
      }
     },
     "3734d53dbd22439c9f65cacc670afaef": {
      "model_module": "@jupyter-widgets/base",
      "model_module_version": "1.2.0",
      "model_name": "LayoutModel",
      "state": {
       "_model_module": "@jupyter-widgets/base",
       "_model_module_version": "1.2.0",
       "_model_name": "LayoutModel",
       "_view_count": null,
       "_view_module": "@jupyter-widgets/base",
       "_view_module_version": "1.2.0",
       "_view_name": "LayoutView",
       "align_content": null,
       "align_items": null,
       "align_self": null,
       "border": null,
       "bottom": null,
       "display": null,
       "flex": null,
       "flex_flow": null,
       "grid_area": null,
       "grid_auto_columns": null,
       "grid_auto_flow": null,
       "grid_auto_rows": null,
       "grid_column": null,
       "grid_gap": null,
       "grid_row": null,
       "grid_template_areas": null,
       "grid_template_columns": null,
       "grid_template_rows": null,
       "height": null,
       "justify_content": null,
       "justify_items": null,
       "left": null,
       "margin": null,
       "max_height": null,
       "max_width": null,
       "min_height": null,
       "min_width": null,
       "object_fit": null,
       "object_position": null,
       "order": null,
       "overflow": null,
       "overflow_x": null,
       "overflow_y": null,
       "padding": null,
       "right": null,
       "top": null,
       "visibility": null,
       "width": null
      }
     },
     "37793c4c41fd4d52a5a8e1ad2e933b9b": {
      "model_module": "@jupyter-widgets/base",
      "model_module_version": "1.2.0",
      "model_name": "LayoutModel",
      "state": {
       "_model_module": "@jupyter-widgets/base",
       "_model_module_version": "1.2.0",
       "_model_name": "LayoutModel",
       "_view_count": null,
       "_view_module": "@jupyter-widgets/base",
       "_view_module_version": "1.2.0",
       "_view_name": "LayoutView",
       "align_content": null,
       "align_items": null,
       "align_self": null,
       "border": null,
       "bottom": null,
       "display": null,
       "flex": null,
       "flex_flow": null,
       "grid_area": null,
       "grid_auto_columns": null,
       "grid_auto_flow": null,
       "grid_auto_rows": null,
       "grid_column": null,
       "grid_gap": null,
       "grid_row": null,
       "grid_template_areas": null,
       "grid_template_columns": null,
       "grid_template_rows": null,
       "height": null,
       "justify_content": null,
       "justify_items": null,
       "left": null,
       "margin": null,
       "max_height": null,
       "max_width": null,
       "min_height": null,
       "min_width": null,
       "object_fit": null,
       "object_position": null,
       "order": null,
       "overflow": null,
       "overflow_x": null,
       "overflow_y": null,
       "padding": null,
       "right": null,
       "top": null,
       "visibility": null,
       "width": null
      }
     },
     "3ba135d04bda4214add883da95f15401": {
      "model_module": "@jupyter-widgets/controls",
      "model_module_version": "1.5.0",
      "model_name": "HBoxModel",
      "state": {
       "_dom_classes": [],
       "_model_module": "@jupyter-widgets/controls",
       "_model_module_version": "1.5.0",
       "_model_name": "HBoxModel",
       "_view_count": null,
       "_view_module": "@jupyter-widgets/controls",
       "_view_module_version": "1.5.0",
       "_view_name": "HBoxView",
       "box_style": "",
       "children": [
        "IPY_MODEL_77c084f790ba4074a7a66dc5dd219451",
        "IPY_MODEL_6c8d518973344197ad591d02d1b359fa",
        "IPY_MODEL_d0253748823c4bde91f7cfbf5a85e57b"
       ],
       "layout": "IPY_MODEL_2eee28cd99e34bedb24d0ca7a8fa1fa6"
      }
     },
     "3cc98e290ef64aed9e9a837704c4a479": {
      "model_module": "@jupyter-widgets/controls",
      "model_module_version": "1.5.0",
      "model_name": "DescriptionStyleModel",
      "state": {
       "_model_module": "@jupyter-widgets/controls",
       "_model_module_version": "1.5.0",
       "_model_name": "DescriptionStyleModel",
       "_view_count": null,
       "_view_module": "@jupyter-widgets/base",
       "_view_module_version": "1.2.0",
       "_view_name": "StyleView",
       "description_width": ""
      }
     },
     "4459cc56334b46dc94f4b04e05a96f66": {
      "model_module": "@jupyter-widgets/base",
      "model_module_version": "1.2.0",
      "model_name": "LayoutModel",
      "state": {
       "_model_module": "@jupyter-widgets/base",
       "_model_module_version": "1.2.0",
       "_model_name": "LayoutModel",
       "_view_count": null,
       "_view_module": "@jupyter-widgets/base",
       "_view_module_version": "1.2.0",
       "_view_name": "LayoutView",
       "align_content": null,
       "align_items": null,
       "align_self": null,
       "border": null,
       "bottom": null,
       "display": null,
       "flex": null,
       "flex_flow": null,
       "grid_area": null,
       "grid_auto_columns": null,
       "grid_auto_flow": null,
       "grid_auto_rows": null,
       "grid_column": null,
       "grid_gap": null,
       "grid_row": null,
       "grid_template_areas": null,
       "grid_template_columns": null,
       "grid_template_rows": null,
       "height": null,
       "justify_content": null,
       "justify_items": null,
       "left": null,
       "margin": null,
       "max_height": null,
       "max_width": null,
       "min_height": null,
       "min_width": null,
       "object_fit": null,
       "object_position": null,
       "order": null,
       "overflow": null,
       "overflow_x": null,
       "overflow_y": null,
       "padding": null,
       "right": null,
       "top": null,
       "visibility": null,
       "width": null
      }
     },
     "4caf9103a75b47aebfdd7eeb028f3c56": {
      "model_module": "@jupyter-widgets/controls",
      "model_module_version": "1.5.0",
      "model_name": "HTMLModel",
      "state": {
       "_dom_classes": [],
       "_model_module": "@jupyter-widgets/controls",
       "_model_module_version": "1.5.0",
       "_model_name": "HTMLModel",
       "_view_count": null,
       "_view_module": "@jupyter-widgets/controls",
       "_view_module_version": "1.5.0",
       "_view_name": "HTMLView",
       "description": "",
       "description_tooltip": null,
       "layout": "IPY_MODEL_3734d53dbd22439c9f65cacc670afaef",
       "placeholder": "​",
       "style": "IPY_MODEL_8c7ca59f76f8453991dbeafc8fa268c2",
       "value": " 1.08G/1.08G [00:30&lt;00:00, 36.5MB/s]"
      }
     },
     "6921a315b40c418eb44930bc8da2d347": {
      "model_module": "@jupyter-widgets/base",
      "model_module_version": "1.2.0",
      "model_name": "LayoutModel",
      "state": {
       "_model_module": "@jupyter-widgets/base",
       "_model_module_version": "1.2.0",
       "_model_name": "LayoutModel",
       "_view_count": null,
       "_view_module": "@jupyter-widgets/base",
       "_view_module_version": "1.2.0",
       "_view_name": "LayoutView",
       "align_content": null,
       "align_items": null,
       "align_self": null,
       "border": null,
       "bottom": null,
       "display": null,
       "flex": null,
       "flex_flow": null,
       "grid_area": null,
       "grid_auto_columns": null,
       "grid_auto_flow": null,
       "grid_auto_rows": null,
       "grid_column": null,
       "grid_gap": null,
       "grid_row": null,
       "grid_template_areas": null,
       "grid_template_columns": null,
       "grid_template_rows": null,
       "height": null,
       "justify_content": null,
       "justify_items": null,
       "left": null,
       "margin": null,
       "max_height": null,
       "max_width": null,
       "min_height": null,
       "min_width": null,
       "object_fit": null,
       "object_position": null,
       "order": null,
       "overflow": null,
       "overflow_x": null,
       "overflow_y": null,
       "padding": null,
       "right": null,
       "top": null,
       "visibility": null,
       "width": null
      }
     },
     "6c8d518973344197ad591d02d1b359fa": {
      "model_module": "@jupyter-widgets/controls",
      "model_module_version": "1.5.0",
      "model_name": "FloatProgressModel",
      "state": {
       "_dom_classes": [],
       "_model_module": "@jupyter-widgets/controls",
       "_model_module_version": "1.5.0",
       "_model_name": "FloatProgressModel",
       "_view_count": null,
       "_view_module": "@jupyter-widgets/controls",
       "_view_module_version": "1.5.0",
       "_view_name": "ProgressView",
       "bar_style": "success",
       "description": "",
       "description_tooltip": null,
       "layout": "IPY_MODEL_37793c4c41fd4d52a5a8e1ad2e933b9b",
       "max": 995526.0,
       "min": 0.0,
       "orientation": "horizontal",
       "style": "IPY_MODEL_c29ee742da734941bb7bb35ee7f923b7",
       "value": 995526.0
      }
     },
     "77c084f790ba4074a7a66dc5dd219451": {
      "model_module": "@jupyter-widgets/controls",
      "model_module_version": "1.5.0",
      "model_name": "HTMLModel",
      "state": {
       "_dom_classes": [],
       "_model_module": "@jupyter-widgets/controls",
       "_model_module_version": "1.5.0",
       "_model_name": "HTMLModel",
       "_view_count": null,
       "_view_module": "@jupyter-widgets/controls",
       "_view_module_version": "1.5.0",
       "_view_name": "HTMLView",
       "description": "",
       "description_tooltip": null,
       "layout": "IPY_MODEL_4459cc56334b46dc94f4b04e05a96f66",
       "placeholder": "​",
       "style": "IPY_MODEL_d65f3d6a225e4a2eb5dc2bec2dc45c22",
       "value": "Downloading: 100%"
      }
     },
     "7e978b55dd48496ebd9c815e8ecceb99": {
      "model_module": "@jupyter-widgets/controls",
      "model_module_version": "1.5.0",
      "model_name": "HTMLModel",
      "state": {
       "_dom_classes": [],
       "_model_module": "@jupyter-widgets/controls",
       "_model_module_version": "1.5.0",
       "_model_name": "HTMLModel",
       "_view_count": null,
       "_view_module": "@jupyter-widgets/controls",
       "_view_module_version": "1.5.0",
       "_view_name": "HTMLView",
       "description": "",
       "description_tooltip": null,
       "layout": "IPY_MODEL_295a55931d894ecdb9cee8d84e26c20e",
       "placeholder": "​",
       "style": "IPY_MODEL_3cc98e290ef64aed9e9a837704c4a479",
       "value": "Downloading: 100%"
      }
     },
     "82100c93c65f41e788edad33ad51ff8e": {
      "model_module": "@jupyter-widgets/controls",
      "model_module_version": "1.5.0",
      "model_name": "DescriptionStyleModel",
      "state": {
       "_model_module": "@jupyter-widgets/controls",
       "_model_module_version": "1.5.0",
       "_model_name": "DescriptionStyleModel",
       "_view_count": null,
       "_view_module": "@jupyter-widgets/base",
       "_view_module_version": "1.2.0",
       "_view_name": "StyleView",
       "description_width": ""
      }
     },
     "8b452f902372498a9db4a3bc78ec634b": {
      "model_module": "@jupyter-widgets/base",
      "model_module_version": "1.2.0",
      "model_name": "LayoutModel",
      "state": {
       "_model_module": "@jupyter-widgets/base",
       "_model_module_version": "1.2.0",
       "_model_name": "LayoutModel",
       "_view_count": null,
       "_view_module": "@jupyter-widgets/base",
       "_view_module_version": "1.2.0",
       "_view_name": "LayoutView",
       "align_content": null,
       "align_items": null,
       "align_self": null,
       "border": null,
       "bottom": null,
       "display": null,
       "flex": null,
       "flex_flow": null,
       "grid_area": null,
       "grid_auto_columns": null,
       "grid_auto_flow": null,
       "grid_auto_rows": null,
       "grid_column": null,
       "grid_gap": null,
       "grid_row": null,
       "grid_template_areas": null,
       "grid_template_columns": null,
       "grid_template_rows": null,
       "height": null,
       "justify_content": null,
       "justify_items": null,
       "left": null,
       "margin": null,
       "max_height": null,
       "max_width": null,
       "min_height": null,
       "min_width": null,
       "object_fit": null,
       "object_position": null,
       "order": null,
       "overflow": null,
       "overflow_x": null,
       "overflow_y": null,
       "padding": null,
       "right": null,
       "top": null,
       "visibility": null,
       "width": null
      }
     },
     "8c7ca59f76f8453991dbeafc8fa268c2": {
      "model_module": "@jupyter-widgets/controls",
      "model_module_version": "1.5.0",
      "model_name": "DescriptionStyleModel",
      "state": {
       "_model_module": "@jupyter-widgets/controls",
       "_model_module_version": "1.5.0",
       "_model_name": "DescriptionStyleModel",
       "_view_count": null,
       "_view_module": "@jupyter-widgets/base",
       "_view_module_version": "1.2.0",
       "_view_name": "StyleView",
       "description_width": ""
      }
     },
     "8df324c1405f46268c94e3714ccf561e": {
      "model_module": "@jupyter-widgets/base",
      "model_module_version": "1.2.0",
      "model_name": "LayoutModel",
      "state": {
       "_model_module": "@jupyter-widgets/base",
       "_model_module_version": "1.2.0",
       "_model_name": "LayoutModel",
       "_view_count": null,
       "_view_module": "@jupyter-widgets/base",
       "_view_module_version": "1.2.0",
       "_view_name": "LayoutView",
       "align_content": null,
       "align_items": null,
       "align_self": null,
       "border": null,
       "bottom": null,
       "display": null,
       "flex": null,
       "flex_flow": null,
       "grid_area": null,
       "grid_auto_columns": null,
       "grid_auto_flow": null,
       "grid_auto_rows": null,
       "grid_column": null,
       "grid_gap": null,
       "grid_row": null,
       "grid_template_areas": null,
       "grid_template_columns": null,
       "grid_template_rows": null,
       "height": null,
       "justify_content": null,
       "justify_items": null,
       "left": null,
       "margin": null,
       "max_height": null,
       "max_width": null,
       "min_height": null,
       "min_width": null,
       "object_fit": null,
       "object_position": null,
       "order": null,
       "overflow": null,
       "overflow_x": null,
       "overflow_y": null,
       "padding": null,
       "right": null,
       "top": null,
       "visibility": null,
       "width": null
      }
     },
     "9679bf33e4e941c1b6ededa18e0085b1": {
      "model_module": "@jupyter-widgets/controls",
      "model_module_version": "1.5.0",
      "model_name": "HBoxModel",
      "state": {
       "_dom_classes": [],
       "_model_module": "@jupyter-widgets/controls",
       "_model_module_version": "1.5.0",
       "_model_name": "HBoxModel",
       "_view_count": null,
       "_view_module": "@jupyter-widgets/controls",
       "_view_module_version": "1.5.0",
       "_view_name": "HBoxView",
       "box_style": "",
       "children": [
        "IPY_MODEL_b906cf5ad08a4287a67dec000581701f",
        "IPY_MODEL_a3b0fd399d71459488d96e8dd1c0d513",
        "IPY_MODEL_4caf9103a75b47aebfdd7eeb028f3c56"
       ],
       "layout": "IPY_MODEL_d4d8cb7d16bd45d89989b1174cc27189"
      }
     },
     "a1e48697126444268ad82c5f848f0cde": {
      "model_module": "@jupyter-widgets/controls",
      "model_module_version": "1.5.0",
      "model_name": "HTMLModel",
      "state": {
       "_dom_classes": [],
       "_model_module": "@jupyter-widgets/controls",
       "_model_module_version": "1.5.0",
       "_model_name": "HTMLModel",
       "_view_count": null,
       "_view_module": "@jupyter-widgets/controls",
       "_view_module_version": "1.5.0",
       "_view_name": "HTMLView",
       "description": "",
       "description_tooltip": null,
       "layout": "IPY_MODEL_c8e40a1fa2db46a6a12283837e38a433",
       "placeholder": "​",
       "style": "IPY_MODEL_e60a9d15b233494dbe2f4230ac8090fa",
       "value": " 625/625 [00:00&lt;00:00, 15.6kB/s]"
      }
     },
     "a3b0fd399d71459488d96e8dd1c0d513": {
      "model_module": "@jupyter-widgets/controls",
      "model_module_version": "1.5.0",
      "model_name": "FloatProgressModel",
      "state": {
       "_dom_classes": [],
       "_model_module": "@jupyter-widgets/controls",
       "_model_module_version": "1.5.0",
       "_model_name": "FloatProgressModel",
       "_view_count": null,
       "_view_module": "@jupyter-widgets/controls",
       "_view_module_version": "1.5.0",
       "_view_name": "ProgressView",
       "bar_style": "success",
       "description": "",
       "description_tooltip": null,
       "layout": "IPY_MODEL_8b452f902372498a9db4a3bc78ec634b",
       "max": 1083389348.0,
       "min": 0.0,
       "orientation": "horizontal",
       "style": "IPY_MODEL_2b7929fbeb0c40fdaef1ea89469b5195",
       "value": 1083389348.0
      }
     },
     "b16417deb4fe4683b1ab43111c665c41": {
      "model_module": "@jupyter-widgets/base",
      "model_module_version": "1.2.0",
      "model_name": "LayoutModel",
      "state": {
       "_model_module": "@jupyter-widgets/base",
       "_model_module_version": "1.2.0",
       "_model_name": "LayoutModel",
       "_view_count": null,
       "_view_module": "@jupyter-widgets/base",
       "_view_module_version": "1.2.0",
       "_view_name": "LayoutView",
       "align_content": null,
       "align_items": null,
       "align_self": null,
       "border": null,
       "bottom": null,
       "display": null,
       "flex": null,
       "flex_flow": null,
       "grid_area": null,
       "grid_auto_columns": null,
       "grid_auto_flow": null,
       "grid_auto_rows": null,
       "grid_column": null,
       "grid_gap": null,
       "grid_row": null,
       "grid_template_areas": null,
       "grid_template_columns": null,
       "grid_template_rows": null,
       "height": null,
       "justify_content": null,
       "justify_items": null,
       "left": null,
       "margin": null,
       "max_height": null,
       "max_width": null,
       "min_height": null,
       "min_width": null,
       "object_fit": null,
       "object_position": null,
       "order": null,
       "overflow": null,
       "overflow_x": null,
       "overflow_y": null,
       "padding": null,
       "right": null,
       "top": null,
       "visibility": null,
       "width": null
      }
     },
     "b906cf5ad08a4287a67dec000581701f": {
      "model_module": "@jupyter-widgets/controls",
      "model_module_version": "1.5.0",
      "model_name": "HTMLModel",
      "state": {
       "_dom_classes": [],
       "_model_module": "@jupyter-widgets/controls",
       "_model_module_version": "1.5.0",
       "_model_name": "HTMLModel",
       "_view_count": null,
       "_view_module": "@jupyter-widgets/controls",
       "_view_module_version": "1.5.0",
       "_view_name": "HTMLView",
       "description": "",
       "description_tooltip": null,
       "layout": "IPY_MODEL_f96c2b1816a84801a91a2b7bcdf1c3ea",
       "placeholder": "​",
       "style": "IPY_MODEL_82100c93c65f41e788edad33ad51ff8e",
       "value": "Downloading: 100%"
      }
     },
     "c29ee742da734941bb7bb35ee7f923b7": {
      "model_module": "@jupyter-widgets/controls",
      "model_module_version": "1.5.0",
      "model_name": "ProgressStyleModel",
      "state": {
       "_model_module": "@jupyter-widgets/controls",
       "_model_module_version": "1.5.0",
       "_model_name": "ProgressStyleModel",
       "_view_count": null,
       "_view_module": "@jupyter-widgets/base",
       "_view_module_version": "1.2.0",
       "_view_name": "StyleView",
       "bar_color": null,
       "description_width": ""
      }
     },
     "c8e40a1fa2db46a6a12283837e38a433": {
      "model_module": "@jupyter-widgets/base",
      "model_module_version": "1.2.0",
      "model_name": "LayoutModel",
      "state": {
       "_model_module": "@jupyter-widgets/base",
       "_model_module_version": "1.2.0",
       "_model_name": "LayoutModel",
       "_view_count": null,
       "_view_module": "@jupyter-widgets/base",
       "_view_module_version": "1.2.0",
       "_view_name": "LayoutView",
       "align_content": null,
       "align_items": null,
       "align_self": null,
       "border": null,
       "bottom": null,
       "display": null,
       "flex": null,
       "flex_flow": null,
       "grid_area": null,
       "grid_auto_columns": null,
       "grid_auto_flow": null,
       "grid_auto_rows": null,
       "grid_column": null,
       "grid_gap": null,
       "grid_row": null,
       "grid_template_areas": null,
       "grid_template_columns": null,
       "grid_template_rows": null,
       "height": null,
       "justify_content": null,
       "justify_items": null,
       "left": null,
       "margin": null,
       "max_height": null,
       "max_width": null,
       "min_height": null,
       "min_width": null,
       "object_fit": null,
       "object_position": null,
       "order": null,
       "overflow": null,
       "overflow_x": null,
       "overflow_y": null,
       "padding": null,
       "right": null,
       "top": null,
       "visibility": null,
       "width": null
      }
     },
     "cca6d96aa7704306a6f269d972340e28": {
      "model_module": "@jupyter-widgets/controls",
      "model_module_version": "1.5.0",
      "model_name": "FloatProgressModel",
      "state": {
       "_dom_classes": [],
       "_model_module": "@jupyter-widgets/controls",
       "_model_module_version": "1.5.0",
       "_model_name": "FloatProgressModel",
       "_view_count": null,
       "_view_module": "@jupyter-widgets/controls",
       "_view_module_version": "1.5.0",
       "_view_name": "ProgressView",
       "bar_style": "success",
       "description": "",
       "description_tooltip": null,
       "layout": "IPY_MODEL_6921a315b40c418eb44930bc8da2d347",
       "max": 625.0,
       "min": 0.0,
       "orientation": "horizontal",
       "style": "IPY_MODEL_1e96d283559d43a292b8e570197530d0",
       "value": 625.0
      }
     },
     "d0253748823c4bde91f7cfbf5a85e57b": {
      "model_module": "@jupyter-widgets/controls",
      "model_module_version": "1.5.0",
      "model_name": "HTMLModel",
      "state": {
       "_dom_classes": [],
       "_model_module": "@jupyter-widgets/controls",
       "_model_module_version": "1.5.0",
       "_model_name": "HTMLModel",
       "_view_count": null,
       "_view_module": "@jupyter-widgets/controls",
       "_view_module_version": "1.5.0",
       "_view_name": "HTMLView",
       "description": "",
       "description_tooltip": null,
       "layout": "IPY_MODEL_b16417deb4fe4683b1ab43111c665c41",
       "placeholder": "​",
       "style": "IPY_MODEL_efe29f3da36047aea35e0217eea89e10",
       "value": " 996k/996k [00:00&lt;00:00, 1.54MB/s]"
      }
     },
     "d4d8cb7d16bd45d89989b1174cc27189": {
      "model_module": "@jupyter-widgets/base",
      "model_module_version": "1.2.0",
      "model_name": "LayoutModel",
      "state": {
       "_model_module": "@jupyter-widgets/base",
       "_model_module_version": "1.2.0",
       "_model_name": "LayoutModel",
       "_view_count": null,
       "_view_module": "@jupyter-widgets/base",
       "_view_module_version": "1.2.0",
       "_view_name": "LayoutView",
       "align_content": null,
       "align_items": null,
       "align_self": null,
       "border": null,
       "bottom": null,
       "display": null,
       "flex": null,
       "flex_flow": null,
       "grid_area": null,
       "grid_auto_columns": null,
       "grid_auto_flow": null,
       "grid_auto_rows": null,
       "grid_column": null,
       "grid_gap": null,
       "grid_row": null,
       "grid_template_areas": null,
       "grid_template_columns": null,
       "grid_template_rows": null,
       "height": null,
       "justify_content": null,
       "justify_items": null,
       "left": null,
       "margin": null,
       "max_height": null,
       "max_width": null,
       "min_height": null,
       "min_width": null,
       "object_fit": null,
       "object_position": null,
       "order": null,
       "overflow": null,
       "overflow_x": null,
       "overflow_y": null,
       "padding": null,
       "right": null,
       "top": null,
       "visibility": null,
       "width": null
      }
     },
     "d65f3d6a225e4a2eb5dc2bec2dc45c22": {
      "model_module": "@jupyter-widgets/controls",
      "model_module_version": "1.5.0",
      "model_name": "DescriptionStyleModel",
      "state": {
       "_model_module": "@jupyter-widgets/controls",
       "_model_module_version": "1.5.0",
       "_model_name": "DescriptionStyleModel",
       "_view_count": null,
       "_view_module": "@jupyter-widgets/base",
       "_view_module_version": "1.2.0",
       "_view_name": "StyleView",
       "description_width": ""
      }
     },
     "e60a9d15b233494dbe2f4230ac8090fa": {
      "model_module": "@jupyter-widgets/controls",
      "model_module_version": "1.5.0",
      "model_name": "DescriptionStyleModel",
      "state": {
       "_model_module": "@jupyter-widgets/controls",
       "_model_module_version": "1.5.0",
       "_model_name": "DescriptionStyleModel",
       "_view_count": null,
       "_view_module": "@jupyter-widgets/base",
       "_view_module_version": "1.2.0",
       "_view_name": "StyleView",
       "description_width": ""
      }
     },
     "efe29f3da36047aea35e0217eea89e10": {
      "model_module": "@jupyter-widgets/controls",
      "model_module_version": "1.5.0",
      "model_name": "DescriptionStyleModel",
      "state": {
       "_model_module": "@jupyter-widgets/controls",
       "_model_module_version": "1.5.0",
       "_model_name": "DescriptionStyleModel",
       "_view_count": null,
       "_view_module": "@jupyter-widgets/base",
       "_view_module_version": "1.2.0",
       "_view_name": "StyleView",
       "description_width": ""
      }
     },
     "f96c2b1816a84801a91a2b7bcdf1c3ea": {
      "model_module": "@jupyter-widgets/base",
      "model_module_version": "1.2.0",
      "model_name": "LayoutModel",
      "state": {
       "_model_module": "@jupyter-widgets/base",
       "_model_module_version": "1.2.0",
       "_model_name": "LayoutModel",
       "_view_count": null,
       "_view_module": "@jupyter-widgets/base",
       "_view_module_version": "1.2.0",
       "_view_name": "LayoutView",
       "align_content": null,
       "align_items": null,
       "align_self": null,
       "border": null,
       "bottom": null,
       "display": null,
       "flex": null,
       "flex_flow": null,
       "grid_area": null,
       "grid_auto_columns": null,
       "grid_auto_flow": null,
       "grid_auto_rows": null,
       "grid_column": null,
       "grid_gap": null,
       "grid_row": null,
       "grid_template_areas": null,
       "grid_template_columns": null,
       "grid_template_rows": null,
       "height": null,
       "justify_content": null,
       "justify_items": null,
       "left": null,
       "margin": null,
       "max_height": null,
       "max_width": null,
       "min_height": null,
       "min_width": null,
       "object_fit": null,
       "object_position": null,
       "order": null,
       "overflow": null,
       "overflow_x": null,
       "overflow_y": null,
       "padding": null,
       "right": null,
       "top": null,
       "visibility": null,
       "width": null
      }
     }
    },
    "version_major": 2,
    "version_minor": 0
   }
  }
 },
 "nbformat": 4,
 "nbformat_minor": 5
}
