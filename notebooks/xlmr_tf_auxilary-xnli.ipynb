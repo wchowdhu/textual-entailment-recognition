{
 "cells": [
  {
   "cell_type": "code",
   "execution_count": 1,
   "id": "silver-germany",
   "metadata": {
    "execution": {
     "iopub.execute_input": "2021-03-29T00:13:12.262081Z",
     "iopub.status.busy": "2021-03-29T00:13:12.250477Z",
     "iopub.status.idle": "2021-03-29T00:13:36.478778Z",
     "shell.execute_reply": "2021-03-29T00:13:36.478138Z"
    },
    "papermill": {
     "duration": 24.260178,
     "end_time": "2021-03-29T00:13:36.478962",
     "exception": false,
     "start_time": "2021-03-29T00:13:12.218784",
     "status": "completed"
    },
    "tags": []
   },
   "outputs": [
    {
     "name": "stdout",
     "output_type": "stream",
     "text": [
      "Requirement already satisfied: pip in /opt/conda/lib/python3.7/site-packages (21.0.1)\r\n",
      "Requirement already satisfied: allennlp in /opt/conda/lib/python3.7/site-packages (2.1.0)\r\n",
      "Collecting allennlp\r\n",
      "  Downloading allennlp-2.2.0-py3-none-any.whl (595 kB)\r\n",
      "\u001b[K     |████████████████████████████████| 595 kB 2.9 MB/s \r\n",
      "\u001b[?25hRequirement already satisfied: tqdm>=4.19 in /opt/conda/lib/python3.7/site-packages (from allennlp) (4.56.2)\r\n",
      "Requirement already satisfied: scipy in /opt/conda/lib/python3.7/site-packages (from allennlp) (1.5.4)\r\n",
      "Requirement already satisfied: filelock<3.1,>=3.0 in /opt/conda/lib/python3.7/site-packages (from allennlp) (3.0.12)\r\n",
      "Requirement already satisfied: lmdb in /opt/conda/lib/python3.7/site-packages (from allennlp) (1.1.1)\r\n",
      "Requirement already satisfied: tensorboardX>=1.2 in /opt/conda/lib/python3.7/site-packages (from allennlp) (2.1)\r\n",
      "Requirement already satisfied: torchvision<0.10.0,>=0.8.1 in /opt/conda/lib/python3.7/site-packages (from allennlp) (0.8.1)\r\n",
      "Requirement already satisfied: h5py in /opt/conda/lib/python3.7/site-packages (from allennlp) (2.10.0)\r\n",
      "Requirement already satisfied: nltk in /opt/conda/lib/python3.7/site-packages (from allennlp) (3.2.4)\r\n",
      "Requirement already satisfied: requests>=2.18 in /opt/conda/lib/python3.7/site-packages (from allennlp) (2.25.1)\r\n",
      "Requirement already satisfied: pytest in /opt/conda/lib/python3.7/site-packages (from allennlp) (6.2.2)\r\n",
      "Requirement already satisfied: transformers<4.5,>=4.1 in /opt/conda/lib/python3.7/site-packages (from allennlp) (4.3.3)\r\n",
      "Requirement already satisfied: scikit-learn in /opt/conda/lib/python3.7/site-packages (from allennlp) (0.24.1)\r\n",
      "Requirement already satisfied: wandb<0.11.0,>=0.10.0 in /opt/conda/lib/python3.7/site-packages (from allennlp) (0.10.22)\r\n",
      "Requirement already satisfied: torch<1.9.0,>=1.6.0 in /opt/conda/lib/python3.7/site-packages (from allennlp) (1.7.0)\r\n",
      "Requirement already satisfied: jsonpickle in /opt/conda/lib/python3.7/site-packages (from allennlp) (2.0.0)\r\n",
      "Requirement already satisfied: sentencepiece in /opt/conda/lib/python3.7/site-packages (from allennlp) (0.1.95)\r\n",
      "Requirement already satisfied: boto3<2.0,>=1.14 in /opt/conda/lib/python3.7/site-packages (from allennlp) (1.17.27)\r\n",
      "Requirement already satisfied: spacy<3.1,>=2.1.0 in /opt/conda/lib/python3.7/site-packages (from allennlp) (2.3.5)\r\n",
      "Requirement already satisfied: more-itertools in /opt/conda/lib/python3.7/site-packages (from allennlp) (8.7.0)\r\n",
      "Requirement already satisfied: overrides==3.1.0 in /opt/conda/lib/python3.7/site-packages (from allennlp) (3.1.0)\r\n",
      "Requirement already satisfied: numpy in /opt/conda/lib/python3.7/site-packages (from allennlp) (1.19.5)\r\n",
      "Requirement already satisfied: jsonnet>=0.10.0 in /opt/conda/lib/python3.7/site-packages (from allennlp) (0.17.0)\r\n",
      "Requirement already satisfied: jmespath<1.0.0,>=0.7.1 in /opt/conda/lib/python3.7/site-packages (from boto3<2.0,>=1.14->allennlp) (0.10.0)\r\n",
      "Requirement already satisfied: s3transfer<0.4.0,>=0.3.0 in /opt/conda/lib/python3.7/site-packages (from boto3<2.0,>=1.14->allennlp) (0.3.4)\r\n",
      "Requirement already satisfied: botocore<1.21.0,>=1.20.27 in /opt/conda/lib/python3.7/site-packages (from boto3<2.0,>=1.14->allennlp) (1.20.27)\r\n",
      "Requirement already satisfied: urllib3<1.27,>=1.25.4 in /opt/conda/lib/python3.7/site-packages (from botocore<1.21.0,>=1.20.27->boto3<2.0,>=1.14->allennlp) (1.26.3)\r\n",
      "Requirement already satisfied: python-dateutil<3.0.0,>=2.1 in /opt/conda/lib/python3.7/site-packages (from botocore<1.21.0,>=1.20.27->boto3<2.0,>=1.14->allennlp) (2.8.1)\r\n",
      "Requirement already satisfied: six>=1.5 in /opt/conda/lib/python3.7/site-packages (from python-dateutil<3.0.0,>=2.1->botocore<1.21.0,>=1.20.27->boto3<2.0,>=1.14->allennlp) (1.15.0)\r\n",
      "Requirement already satisfied: chardet<5,>=3.0.2 in /opt/conda/lib/python3.7/site-packages (from requests>=2.18->allennlp) (3.0.4)\r\n",
      "Requirement already satisfied: certifi>=2017.4.17 in /opt/conda/lib/python3.7/site-packages (from requests>=2.18->allennlp) (2020.12.5)\r\n",
      "Requirement already satisfied: idna<3,>=2.5 in /opt/conda/lib/python3.7/site-packages (from requests>=2.18->allennlp) (2.10)\r\n",
      "Requirement already satisfied: blis<0.8.0,>=0.4.0 in /opt/conda/lib/python3.7/site-packages (from spacy<3.1,>=2.1.0->allennlp) (0.7.4)\r\n",
      "Requirement already satisfied: thinc<7.5.0,>=7.4.1 in /opt/conda/lib/python3.7/site-packages (from spacy<3.1,>=2.1.0->allennlp) (7.4.5)\r\n",
      "Requirement already satisfied: setuptools in /opt/conda/lib/python3.7/site-packages (from spacy<3.1,>=2.1.0->allennlp) (49.6.0.post20210108)\r\n",
      "Requirement already satisfied: cymem<2.1.0,>=2.0.2 in /opt/conda/lib/python3.7/site-packages (from spacy<3.1,>=2.1.0->allennlp) (2.0.5)\r\n",
      "Requirement already satisfied: catalogue<1.1.0,>=0.0.7 in /opt/conda/lib/python3.7/site-packages (from spacy<3.1,>=2.1.0->allennlp) (1.0.0)\r\n",
      "Requirement already satisfied: srsly<1.1.0,>=1.0.2 in /opt/conda/lib/python3.7/site-packages (from spacy<3.1,>=2.1.0->allennlp) (1.0.5)\r\n",
      "Requirement already satisfied: plac<1.2.0,>=0.9.6 in /opt/conda/lib/python3.7/site-packages (from spacy<3.1,>=2.1.0->allennlp) (1.1.3)\r\n",
      "Requirement already satisfied: murmurhash<1.1.0,>=0.28.0 in /opt/conda/lib/python3.7/site-packages (from spacy<3.1,>=2.1.0->allennlp) (1.0.5)\r\n",
      "Requirement already satisfied: preshed<3.1.0,>=3.0.2 in /opt/conda/lib/python3.7/site-packages (from spacy<3.1,>=2.1.0->allennlp) (3.0.5)\r\n",
      "Requirement already satisfied: wasabi<1.1.0,>=0.4.0 in /opt/conda/lib/python3.7/site-packages (from spacy<3.1,>=2.1.0->allennlp) (0.8.2)\r\n",
      "Requirement already satisfied: importlib-metadata>=0.20 in /opt/conda/lib/python3.7/site-packages (from catalogue<1.1.0,>=0.0.7->spacy<3.1,>=2.1.0->allennlp) (3.4.0)\r\n",
      "Requirement already satisfied: typing-extensions>=3.6.4 in /opt/conda/lib/python3.7/site-packages (from importlib-metadata>=0.20->catalogue<1.1.0,>=0.0.7->spacy<3.1,>=2.1.0->allennlp) (3.7.4.3)\r\n",
      "Requirement already satisfied: zipp>=0.5 in /opt/conda/lib/python3.7/site-packages (from importlib-metadata>=0.20->catalogue<1.1.0,>=0.0.7->spacy<3.1,>=2.1.0->allennlp) (3.4.0)\r\n",
      "Requirement already satisfied: protobuf>=3.8.0 in /opt/conda/lib/python3.7/site-packages (from tensorboardX>=1.2->allennlp) (3.15.6)\r\n",
      "Requirement already satisfied: future in /opt/conda/lib/python3.7/site-packages (from torch<1.9.0,>=1.6.0->allennlp) (0.18.2)\r\n",
      "Requirement already satisfied: dataclasses in /opt/conda/lib/python3.7/site-packages (from torch<1.9.0,>=1.6.0->allennlp) (0.6)\r\n",
      "Requirement already satisfied: pillow>=4.1.1 in /opt/conda/lib/python3.7/site-packages (from torchvision<0.10.0,>=0.8.1->allennlp) (7.2.0)\r\n",
      "Requirement already satisfied: packaging in /opt/conda/lib/python3.7/site-packages (from transformers<4.5,>=4.1->allennlp) (20.9)\r\n",
      "Requirement already satisfied: tokenizers<0.11,>=0.10.1 in /opt/conda/lib/python3.7/site-packages (from transformers<4.5,>=4.1->allennlp) (0.10.1)\r\n",
      "Requirement already satisfied: sacremoses in /opt/conda/lib/python3.7/site-packages (from transformers<4.5,>=4.1->allennlp) (0.0.43)\r\n",
      "Requirement already satisfied: regex!=2019.12.17 in /opt/conda/lib/python3.7/site-packages (from transformers<4.5,>=4.1->allennlp) (2020.11.13)\r\n",
      "Requirement already satisfied: configparser>=3.8.1 in /opt/conda/lib/python3.7/site-packages (from wandb<0.11.0,>=0.10.0->allennlp) (5.0.2)\r\n",
      "Requirement already satisfied: PyYAML in /opt/conda/lib/python3.7/site-packages (from wandb<0.11.0,>=0.10.0->allennlp) (5.3.1)\r\n",
      "Requirement already satisfied: docker-pycreds>=0.4.0 in /opt/conda/lib/python3.7/site-packages (from wandb<0.11.0,>=0.10.0->allennlp) (0.4.0)\r\n",
      "Requirement already satisfied: Click>=7.0 in /opt/conda/lib/python3.7/site-packages (from wandb<0.11.0,>=0.10.0->allennlp) (7.1.2)\r\n",
      "Requirement already satisfied: psutil>=5.0.0 in /opt/conda/lib/python3.7/site-packages (from wandb<0.11.0,>=0.10.0->allennlp) (5.8.0)\r\n",
      "Requirement already satisfied: shortuuid>=0.5.0 in /opt/conda/lib/python3.7/site-packages (from wandb<0.11.0,>=0.10.0->allennlp) (1.0.1)\r\n",
      "Requirement already satisfied: subprocess32>=3.5.3 in /opt/conda/lib/python3.7/site-packages (from wandb<0.11.0,>=0.10.0->allennlp) (3.5.4)\r\n",
      "Requirement already satisfied: pathtools in /opt/conda/lib/python3.7/site-packages (from wandb<0.11.0,>=0.10.0->allennlp) (0.1.2)\r\n",
      "Requirement already satisfied: GitPython>=1.0.0 in /opt/conda/lib/python3.7/site-packages (from wandb<0.11.0,>=0.10.0->allennlp) (3.1.13)\r\n",
      "Requirement already satisfied: sentry-sdk>=0.4.0 in /opt/conda/lib/python3.7/site-packages (from wandb<0.11.0,>=0.10.0->allennlp) (1.0.0)\r\n",
      "Requirement already satisfied: promise<3,>=2.0 in /opt/conda/lib/python3.7/site-packages (from wandb<0.11.0,>=0.10.0->allennlp) (2.3)\r\n",
      "Requirement already satisfied: gitdb<5,>=4.0.1 in /opt/conda/lib/python3.7/site-packages (from GitPython>=1.0.0->wandb<0.11.0,>=0.10.0->allennlp) (4.0.5)\r\n",
      "Requirement already satisfied: smmap<4,>=3.0.1 in /opt/conda/lib/python3.7/site-packages (from gitdb<5,>=4.0.1->GitPython>=1.0.0->wandb<0.11.0,>=0.10.0->allennlp) (3.0.5)\r\n",
      "Requirement already satisfied: pyparsing>=2.0.2 in /opt/conda/lib/python3.7/site-packages (from packaging->transformers<4.5,>=4.1->allennlp) (2.4.7)\r\n",
      "Requirement already satisfied: py>=1.8.2 in /opt/conda/lib/python3.7/site-packages (from pytest->allennlp) (1.10.0)\r\n",
      "Requirement already satisfied: iniconfig in /opt/conda/lib/python3.7/site-packages (from pytest->allennlp) (1.1.1)\r\n",
      "Requirement already satisfied: attrs>=19.2.0 in /opt/conda/lib/python3.7/site-packages (from pytest->allennlp) (20.3.0)\r\n",
      "Requirement already satisfied: pluggy<1.0.0a1,>=0.12 in /opt/conda/lib/python3.7/site-packages (from pytest->allennlp) (0.13.1)\r\n",
      "Requirement already satisfied: toml in /opt/conda/lib/python3.7/site-packages (from pytest->allennlp) (0.10.2)\r\n",
      "Requirement already satisfied: joblib in /opt/conda/lib/python3.7/site-packages (from sacremoses->transformers<4.5,>=4.1->allennlp) (1.0.1)\r\n",
      "Requirement already satisfied: threadpoolctl>=2.0.0 in /opt/conda/lib/python3.7/site-packages (from scikit-learn->allennlp) (2.1.0)\r\n",
      "Installing collected packages: allennlp\r\n",
      "  Attempting uninstall: allennlp\r\n",
      "    Found existing installation: allennlp 2.1.0\r\n",
      "    Uninstalling allennlp-2.1.0:\r\n",
      "      Successfully uninstalled allennlp-2.1.0\r\n",
      "Successfully installed allennlp-2.2.0\r\n",
      "Collecting transformers==4.3.0\r\n",
      "  Downloading transformers-4.3.0-py3-none-any.whl (1.8 MB)\r\n",
      "\u001b[K     |████████████████████████████████| 1.8 MB 2.9 MB/s \r\n",
      "\u001b[?25hRequirement already satisfied: importlib-metadata in /opt/conda/lib/python3.7/site-packages (from transformers==4.3.0) (3.4.0)\r\n",
      "Requirement already satisfied: numpy>=1.17 in /opt/conda/lib/python3.7/site-packages (from transformers==4.3.0) (1.19.5)\r\n",
      "Requirement already satisfied: tqdm>=4.27 in /opt/conda/lib/python3.7/site-packages (from transformers==4.3.0) (4.56.2)\r\n",
      "Requirement already satisfied: requests in /opt/conda/lib/python3.7/site-packages (from transformers==4.3.0) (2.25.1)\r\n",
      "Requirement already satisfied: filelock in /opt/conda/lib/python3.7/site-packages (from transformers==4.3.0) (3.0.12)\r\n",
      "Requirement already satisfied: sacremoses in /opt/conda/lib/python3.7/site-packages (from transformers==4.3.0) (0.0.43)\r\n",
      "Requirement already satisfied: tokenizers<0.11,>=0.10.1 in /opt/conda/lib/python3.7/site-packages (from transformers==4.3.0) (0.10.1)\r\n",
      "Requirement already satisfied: packaging in /opt/conda/lib/python3.7/site-packages (from transformers==4.3.0) (20.9)\r\n",
      "Requirement already satisfied: regex!=2019.12.17 in /opt/conda/lib/python3.7/site-packages (from transformers==4.3.0) (2020.11.13)\r\n",
      "Requirement already satisfied: zipp>=0.5 in /opt/conda/lib/python3.7/site-packages (from importlib-metadata->transformers==4.3.0) (3.4.0)\r\n",
      "Requirement already satisfied: typing-extensions>=3.6.4 in /opt/conda/lib/python3.7/site-packages (from importlib-metadata->transformers==4.3.0) (3.7.4.3)\r\n",
      "Requirement already satisfied: pyparsing>=2.0.2 in /opt/conda/lib/python3.7/site-packages (from packaging->transformers==4.3.0) (2.4.7)\r\n",
      "Requirement already satisfied: certifi>=2017.4.17 in /opt/conda/lib/python3.7/site-packages (from requests->transformers==4.3.0) (2020.12.5)\r\n",
      "Requirement already satisfied: idna<3,>=2.5 in /opt/conda/lib/python3.7/site-packages (from requests->transformers==4.3.0) (2.10)\r\n",
      "Requirement already satisfied: urllib3<1.27,>=1.21.1 in /opt/conda/lib/python3.7/site-packages (from requests->transformers==4.3.0) (1.26.3)\r\n",
      "Requirement already satisfied: chardet<5,>=3.0.2 in /opt/conda/lib/python3.7/site-packages (from requests->transformers==4.3.0) (3.0.4)\r\n",
      "Requirement already satisfied: click in /opt/conda/lib/python3.7/site-packages (from sacremoses->transformers==4.3.0) (7.1.2)\r\n",
      "Requirement already satisfied: six in /opt/conda/lib/python3.7/site-packages (from sacremoses->transformers==4.3.0) (1.15.0)\r\n",
      "Requirement already satisfied: joblib in /opt/conda/lib/python3.7/site-packages (from sacremoses->transformers==4.3.0) (1.0.1)\r\n",
      "Installing collected packages: transformers\r\n",
      "  Attempting uninstall: transformers\r\n",
      "    Found existing installation: transformers 4.3.3\r\n",
      "    Uninstalling transformers-4.3.3:\r\n",
      "      Successfully uninstalled transformers-4.3.3\r\n",
      "Successfully installed transformers-4.3.0\r\n"
     ]
    }
   ],
   "source": [
    "!pip install --upgrade pip\n",
    "!pip install --upgrade allennlp\n",
    "!pip install transformers==4.3.0"
   ]
  },
  {
   "cell_type": "code",
   "execution_count": 2,
   "id": "caring-father",
   "metadata": {
    "execution": {
     "iopub.execute_input": "2021-03-29T00:13:36.557704Z",
     "iopub.status.busy": "2021-03-29T00:13:36.557061Z",
     "iopub.status.idle": "2021-03-29T00:13:53.091260Z",
     "shell.execute_reply": "2021-03-29T00:13:53.090595Z"
    },
    "papermill": {
     "duration": 16.576673,
     "end_time": "2021-03-29T00:13:53.091409",
     "exception": false,
     "start_time": "2021-03-29T00:13:36.514736",
     "status": "completed"
    },
    "tags": []
   },
   "outputs": [
    {
     "name": "stdout",
     "output_type": "stream",
     "text": [
      "Collecting datasets\r\n",
      "  Downloading datasets-1.5.0-py3-none-any.whl (192 kB)\r\n",
      "\u001b[K     |████████████████████████████████| 192 kB 3.0 MB/s \r\n",
      "\u001b[?25hRequirement already satisfied: importlib-metadata in /opt/conda/lib/python3.7/site-packages (from datasets) (3.4.0)\r\n",
      "Collecting tqdm<4.50.0,>=4.27\r\n",
      "  Downloading tqdm-4.49.0-py2.py3-none-any.whl (69 kB)\r\n",
      "\u001b[K     |████████████████████████████████| 69 kB 5.1 MB/s \r\n",
      "\u001b[?25hRequirement already satisfied: multiprocess in /opt/conda/lib/python3.7/site-packages (from datasets) (0.70.11.1)\r\n",
      "Requirement already satisfied: requests>=2.19.0 in /opt/conda/lib/python3.7/site-packages (from datasets) (2.25.1)\r\n",
      "Collecting xxhash\r\n",
      "  Downloading xxhash-2.0.0-cp37-cp37m-manylinux2010_x86_64.whl (243 kB)\r\n",
      "\u001b[K     |████████████████████████████████| 243 kB 22.4 MB/s \r\n",
      "\u001b[?25hRequirement already satisfied: pyarrow>=0.17.1 in /opt/conda/lib/python3.7/site-packages (from datasets) (3.0.0)\r\n",
      "Requirement already satisfied: fsspec in /opt/conda/lib/python3.7/site-packages (from datasets) (0.8.5)\r\n",
      "Requirement already satisfied: numpy>=1.17 in /opt/conda/lib/python3.7/site-packages (from datasets) (1.19.5)\r\n",
      "Collecting huggingface-hub<0.1.0\r\n",
      "  Downloading huggingface_hub-0.0.7-py3-none-any.whl (33 kB)\r\n",
      "Requirement already satisfied: pandas in /opt/conda/lib/python3.7/site-packages (from datasets) (1.2.2)\r\n",
      "Requirement already satisfied: dill in /opt/conda/lib/python3.7/site-packages (from datasets) (0.3.3)\r\n",
      "Requirement already satisfied: filelock in /opt/conda/lib/python3.7/site-packages (from huggingface-hub<0.1.0->datasets) (3.0.12)\r\n",
      "Requirement already satisfied: certifi>=2017.4.17 in /opt/conda/lib/python3.7/site-packages (from requests>=2.19.0->datasets) (2020.12.5)\r\n",
      "Requirement already satisfied: idna<3,>=2.5 in /opt/conda/lib/python3.7/site-packages (from requests>=2.19.0->datasets) (2.10)\r\n",
      "Requirement already satisfied: chardet<5,>=3.0.2 in /opt/conda/lib/python3.7/site-packages (from requests>=2.19.0->datasets) (3.0.4)\r\n",
      "Requirement already satisfied: urllib3<1.27,>=1.21.1 in /opt/conda/lib/python3.7/site-packages (from requests>=2.19.0->datasets) (1.26.3)\r\n",
      "Requirement already satisfied: typing-extensions>=3.6.4 in /opt/conda/lib/python3.7/site-packages (from importlib-metadata->datasets) (3.7.4.3)\r\n",
      "Requirement already satisfied: zipp>=0.5 in /opt/conda/lib/python3.7/site-packages (from importlib-metadata->datasets) (3.4.0)\r\n",
      "Requirement already satisfied: python-dateutil>=2.7.3 in /opt/conda/lib/python3.7/site-packages (from pandas->datasets) (2.8.1)\r\n",
      "Requirement already satisfied: pytz>=2017.3 in /opt/conda/lib/python3.7/site-packages (from pandas->datasets) (2021.1)\r\n",
      "Requirement already satisfied: six>=1.5 in /opt/conda/lib/python3.7/site-packages (from python-dateutil>=2.7.3->pandas->datasets) (1.15.0)\r\n",
      "Installing collected packages: tqdm, xxhash, huggingface-hub, datasets\r\n",
      "  Attempting uninstall: tqdm\r\n",
      "    Found existing installation: tqdm 4.56.2\r\n",
      "    Uninstalling tqdm-4.56.2:\r\n",
      "      Successfully uninstalled tqdm-4.56.2\r\n",
      "Successfully installed datasets-1.5.0 huggingface-hub-0.0.7 tqdm-4.49.0 xxhash-2.0.0\r\n",
      "Collecting googletrans==3.1.0a0\r\n",
      "  Downloading googletrans-3.1.0a0.tar.gz (19 kB)\r\n",
      "Collecting httpx==0.13.3\r\n",
      "  Downloading httpx-0.13.3-py3-none-any.whl (55 kB)\r\n",
      "\u001b[K     |████████████████████████████████| 55 kB 1.2 MB/s \r\n",
      "\u001b[?25hRequirement already satisfied: chardet==3.* in /opt/conda/lib/python3.7/site-packages (from httpx==0.13.3->googletrans==3.1.0a0) (3.0.4)\r\n",
      "Collecting sniffio\r\n",
      "  Downloading sniffio-1.2.0-py3-none-any.whl (10 kB)\r\n",
      "Collecting rfc3986<2,>=1.3\r\n",
      "  Downloading rfc3986-1.4.0-py2.py3-none-any.whl (31 kB)\r\n",
      "Requirement already satisfied: certifi in /opt/conda/lib/python3.7/site-packages (from httpx==0.13.3->googletrans==3.1.0a0) (2020.12.5)\r\n",
      "Collecting hstspreload\r\n",
      "  Downloading hstspreload-2020.12.22-py3-none-any.whl (994 kB)\r\n",
      "\u001b[K     |████████████████████████████████| 994 kB 4.3 MB/s \r\n",
      "\u001b[?25hCollecting httpcore==0.9.*\r\n",
      "  Downloading httpcore-0.9.1-py3-none-any.whl (42 kB)\r\n",
      "\u001b[K     |████████████████████████████████| 42 kB 837 kB/s \r\n",
      "\u001b[?25hRequirement already satisfied: idna==2.* in /opt/conda/lib/python3.7/site-packages (from httpx==0.13.3->googletrans==3.1.0a0) (2.10)\r\n",
      "Collecting h2==3.*\r\n",
      "  Downloading h2-3.2.0-py2.py3-none-any.whl (65 kB)\r\n",
      "\u001b[K     |████████████████████████████████| 65 kB 2.3 MB/s \r\n",
      "\u001b[?25hCollecting h11<0.10,>=0.8\r\n",
      "  Downloading h11-0.9.0-py2.py3-none-any.whl (53 kB)\r\n",
      "\u001b[K     |████████████████████████████████| 53 kB 1.5 MB/s \r\n",
      "\u001b[?25hCollecting hyperframe<6,>=5.2.0\r\n",
      "  Downloading hyperframe-5.2.0-py2.py3-none-any.whl (12 kB)\r\n",
      "Collecting hpack<4,>=3.0\r\n",
      "  Downloading hpack-3.0.0-py2.py3-none-any.whl (38 kB)\r\n",
      "Building wheels for collected packages: googletrans\r\n",
      "  Building wheel for googletrans (setup.py) ... \u001b[?25l-\b \b\\\b \bdone\r\n",
      "\u001b[?25h  Created wheel for googletrans: filename=googletrans-3.1.0a0-py3-none-any.whl size=16368 sha256=e0852fd1c6b804df924ec0f2f359f97c818f439d8f8f4de7064bb320d619cde8\r\n",
      "  Stored in directory: /root/.cache/pip/wheels/0c/be/fe/93a6a40ffe386e16089e44dad9018ebab9dc4cb9eb7eab65ae\r\n",
      "Successfully built googletrans\r\n",
      "Installing collected packages: hyperframe, hpack, sniffio, h2, h11, rfc3986, httpcore, hstspreload, httpx, googletrans\r\n",
      "Successfully installed googletrans-3.1.0a0 h11-0.9.0 h2-3.2.0 hpack-3.0.0 hstspreload-2020.12.22 httpcore-0.9.1 httpx-0.13.3 hyperframe-5.2.0 rfc3986-1.4.0 sniffio-1.2.0\r\n"
     ]
    }
   ],
   "source": [
    "!pip install datasets #to load xnli and mnli datasets from huggingface library\n",
    "# !pip install google_trans_new\n",
    "!pip install googletrans==3.1.0a0"
   ]
  },
  {
   "cell_type": "code",
   "execution_count": 3,
   "id": "planned-woman",
   "metadata": {
    "_cell_guid": "b1076dfc-b9ad-4769-8c92-a6c4dae69d19",
    "_uuid": "8f2839f25d086af736a60e9eeb907d3b93b6e0e5",
    "execution": {
     "iopub.execute_input": "2021-03-29T00:13:53.188521Z",
     "iopub.status.busy": "2021-03-29T00:13:53.187766Z",
     "iopub.status.idle": "2021-03-29T00:13:53.206650Z",
     "shell.execute_reply": "2021-03-29T00:13:53.206078Z"
    },
    "papermill": {
     "duration": 0.07048,
     "end_time": "2021-03-29T00:13:53.206794",
     "exception": false,
     "start_time": "2021-03-29T00:13:53.136314",
     "status": "completed"
    },
    "tags": []
   },
   "outputs": [
    {
     "name": "stdout",
     "output_type": "stream",
     "text": [
      "/kaggle/input/bt-textblob-old/back_translation_all.csv\n",
      "/kaggle/input/train-val-split/train_df_sp.csv\n",
      "/kaggle/input/train-val-split/validation_df_sp.csv\n",
      "/kaggle/input/contradictory-my-dear-watson/sample_submission.csv\n",
      "/kaggle/input/contradictory-my-dear-watson/train.csv\n",
      "/kaggle/input/contradictory-my-dear-watson/test.csv\n"
     ]
    }
   ],
   "source": [
    "# This Python 3 environment comes with many helpful analytics libraries installed\n",
    "# It is defined by the kaggle/python Docker image: https://github.com/kaggle/docker-python\n",
    "# For example, here's several helpful packages to load\n",
    "\n",
    "import numpy as np # linear algebra\n",
    "import pandas as pd # data processing, CSV file I/O (e.g. pd.read_csv)\n",
    "\n",
    "# Input data files are available in the read-only \"../input/\" directory\n",
    "# For example, running this (by clicking run or pressing Shift+Enter) will list all files under the input directory\n",
    "\n",
    "\n",
    "import os\n",
    "import os.path\n",
    "from os import path\n",
    "for dirname, _, filenames in os.walk('/kaggle/input'):\n",
    "    for filename in filenames:\n",
    "        print(os.path.join(dirname, filename))\n",
    "\n",
    "# You can write up to 20GB to the current directory (/kaggle/working/) that gets preserved as output when you create a version using \"Save & Run All\" \n",
    "# You can also write temporary files to /kaggle/temp/, but they won't be saved outside of the current session"
   ]
  },
  {
   "cell_type": "code",
   "execution_count": 4,
   "id": "colonial-reach",
   "metadata": {
    "execution": {
     "iopub.execute_input": "2021-03-29T00:13:53.301432Z",
     "iopub.status.busy": "2021-03-29T00:13:53.300815Z",
     "iopub.status.idle": "2021-03-29T00:13:53.303982Z",
     "shell.execute_reply": "2021-03-29T00:13:53.303392Z"
    },
    "papermill": {
     "duration": 0.052318,
     "end_time": "2021-03-29T00:13:53.304118",
     "exception": false,
     "start_time": "2021-03-29T00:13:53.251800",
     "status": "completed"
    },
    "tags": []
   },
   "outputs": [],
   "source": [
    "os.environ[\"WANDB_API_KEY\"] = \"0\" # to silence warning"
   ]
  },
  {
   "cell_type": "code",
   "execution_count": 5,
   "id": "hollywood-portrait",
   "metadata": {
    "execution": {
     "iopub.execute_input": "2021-03-29T00:13:53.401249Z",
     "iopub.status.busy": "2021-03-29T00:13:53.400048Z",
     "iopub.status.idle": "2021-03-29T00:14:02.661816Z",
     "shell.execute_reply": "2021-03-29T00:14:02.661292Z"
    },
    "papermill": {
     "duration": 9.311889,
     "end_time": "2021-03-29T00:14:02.661985",
     "exception": false,
     "start_time": "2021-03-29T00:13:53.350096",
     "status": "completed"
    },
    "tags": []
   },
   "outputs": [],
   "source": [
    "from transformers import AutoTokenizer, AutoConfig, TFAutoModel    \n",
    "from transformers import (XLMRobertaConfig, XLMRobertaTokenizer, TFXLMRobertaModel)            \n",
    "\n",
    "import matplotlib.pyplot as plt\n",
    "import tensorflow as tf\n",
    "import tensorflow.keras.backend as K\n",
    "\n",
    "from tensorflow.keras.layers import Input, Dropout, Dense\n",
    "\n",
    "from sklearn.metrics import classification_report, f1_score, accuracy_score\n",
    "from sklearn.model_selection import train_test_split\n",
    "\n",
    "from datasets import load_dataset, list_datasets\n",
    "from tqdm import tqdm\n",
    "\n",
    "from googletrans import Translator\n",
    "# from google_trans_new import google_translator \n",
    "\n",
    "import time\n",
    "import glob\n",
    "\n",
    "# Resets all state generated by Keras\n",
    "K.clear_session()\n",
    "\n",
    "# For reproducibility\n",
    "np.random.seed(0)"
   ]
  },
  {
   "cell_type": "code",
   "execution_count": 6,
   "id": "correct-ukraine",
   "metadata": {
    "execution": {
     "iopub.execute_input": "2021-03-29T00:14:02.765649Z",
     "iopub.status.busy": "2021-03-29T00:14:02.764834Z",
     "iopub.status.idle": "2021-03-29T00:14:08.385686Z",
     "shell.execute_reply": "2021-03-29T00:14:08.385210Z"
    },
    "papermill": {
     "duration": 5.679922,
     "end_time": "2021-03-29T00:14:08.385888",
     "exception": false,
     "start_time": "2021-03-29T00:14:02.705966",
     "status": "completed"
    },
    "tags": []
   },
   "outputs": [
    {
     "name": "stdout",
     "output_type": "stream",
     "text": [
      "Found TPU:  grpc://10.0.0.2:8470\n",
      "Number of replicas: 8\n"
     ]
    }
   ],
   "source": [
    "try:\n",
    "    tpu = tf.distribute.cluster_resolver.TPUClusterResolver()\n",
    "    tf.config.experimental_connect_to_cluster(tpu)\n",
    "    tf.tpu.experimental.initialize_tpu_system(tpu)\n",
    "    strategy = tf.distribute.experimental.TPUStrategy(tpu)\n",
    "    print('Found TPU: ', tpu.master())\n",
    "except ValueError:\n",
    "    strategy = tf.distribute.get_strategy() # for CPU and single GPU\n",
    "print('Number of replicas:', strategy.num_replicas_in_sync)"
   ]
  },
  {
   "cell_type": "code",
   "execution_count": 7,
   "id": "heated-farmer",
   "metadata": {
    "execution": {
     "iopub.execute_input": "2021-03-29T00:14:08.476679Z",
     "iopub.status.busy": "2021-03-29T00:14:08.476062Z",
     "iopub.status.idle": "2021-03-29T00:14:08.481323Z",
     "shell.execute_reply": "2021-03-29T00:14:08.480834Z"
    },
    "papermill": {
     "duration": 0.051795,
     "end_time": "2021-03-29T00:14:08.481463",
     "exception": false,
     "start_time": "2021-03-29T00:14:08.429668",
     "status": "completed"
    },
    "tags": []
   },
   "outputs": [],
   "source": [
    "# Configuration Settings\n",
    "EPOCHS = 5\n",
    "# BATCH_SIZE = 64\n",
    "BATCH_SIZE = 16 * strategy.num_replicas_in_sync\n",
    "MAX_LEN = 120\n",
    "PATIENCE = 1\n",
    "LEARNING_RATE = 1e-5\n",
    "LOAD_XNLI = False\n",
    "LOAD_MNLI = False\n",
    "BACK_TRANSLATE = True\n",
    "BT_DIR = '../input/bt-textblob-old' #directory containing the back translations of input training data\n",
    "train_df_sp_path = '../input/train-val-split/train_df_sp.csv'\n",
    "validation_df_sp_path = '../input/train-val-split/validation_df_sp.csv'"
   ]
  },
  {
   "cell_type": "code",
   "execution_count": 8,
   "id": "integrated-trick",
   "metadata": {
    "execution": {
     "iopub.execute_input": "2021-03-29T00:14:08.571775Z",
     "iopub.status.busy": "2021-03-29T00:14:08.571161Z",
     "iopub.status.idle": "2021-03-29T00:14:08.843293Z",
     "shell.execute_reply": "2021-03-29T00:14:08.843718Z"
    },
    "papermill": {
     "duration": 0.31884,
     "end_time": "2021-03-29T00:14:08.843890",
     "exception": false,
     "start_time": "2021-03-29T00:14:08.525050",
     "status": "completed"
    },
    "tags": []
   },
   "outputs": [
    {
     "data": {
      "text/html": [
       "<div>\n",
       "<style scoped>\n",
       "    .dataframe tbody tr th:only-of-type {\n",
       "        vertical-align: middle;\n",
       "    }\n",
       "\n",
       "    .dataframe tbody tr th {\n",
       "        vertical-align: top;\n",
       "    }\n",
       "\n",
       "    .dataframe thead th {\n",
       "        text-align: right;\n",
       "    }\n",
       "</style>\n",
       "<table border=\"1\" class=\"dataframe\">\n",
       "  <thead>\n",
       "    <tr style=\"text-align: right;\">\n",
       "      <th></th>\n",
       "      <th>id</th>\n",
       "      <th>premise</th>\n",
       "      <th>hypothesis</th>\n",
       "      <th>lang_abv</th>\n",
       "      <th>language</th>\n",
       "      <th>label</th>\n",
       "    </tr>\n",
       "  </thead>\n",
       "  <tbody>\n",
       "    <tr>\n",
       "      <th>0</th>\n",
       "      <td>5130fd2cb5</td>\n",
       "      <td>and these comments were considered in formulat...</td>\n",
       "      <td>The rules developed in the interim were put to...</td>\n",
       "      <td>en</td>\n",
       "      <td>English</td>\n",
       "      <td>0</td>\n",
       "    </tr>\n",
       "    <tr>\n",
       "      <th>1</th>\n",
       "      <td>5b72532a0b</td>\n",
       "      <td>These are issues that we wrestle with in pract...</td>\n",
       "      <td>Practice groups are not permitted to work on t...</td>\n",
       "      <td>en</td>\n",
       "      <td>English</td>\n",
       "      <td>2</td>\n",
       "    </tr>\n",
       "    <tr>\n",
       "      <th>2</th>\n",
       "      <td>3931fbe82a</td>\n",
       "      <td>Des petites choses comme celles-là font une di...</td>\n",
       "      <td>J'essayais d'accomplir quelque chose.</td>\n",
       "      <td>fr</td>\n",
       "      <td>French</td>\n",
       "      <td>0</td>\n",
       "    </tr>\n",
       "    <tr>\n",
       "      <th>3</th>\n",
       "      <td>5622f0c60b</td>\n",
       "      <td>you know they can't really defend themselves l...</td>\n",
       "      <td>They can't defend themselves because of their ...</td>\n",
       "      <td>en</td>\n",
       "      <td>English</td>\n",
       "      <td>0</td>\n",
       "    </tr>\n",
       "    <tr>\n",
       "      <th>4</th>\n",
       "      <td>86aaa48b45</td>\n",
       "      <td>ในการเล่นบทบาทสมมุติก็เช่นกัน โอกาสที่จะได้แสด...</td>\n",
       "      <td>เด็กสามารถเห็นได้ว่าชาติพันธุ์แตกต่างกันอย่างไร</td>\n",
       "      <td>th</td>\n",
       "      <td>Thai</td>\n",
       "      <td>1</td>\n",
       "    </tr>\n",
       "  </tbody>\n",
       "</table>\n",
       "</div>"
      ],
      "text/plain": [
       "           id                                            premise  \\\n",
       "0  5130fd2cb5  and these comments were considered in formulat...   \n",
       "1  5b72532a0b  These are issues that we wrestle with in pract...   \n",
       "2  3931fbe82a  Des petites choses comme celles-là font une di...   \n",
       "3  5622f0c60b  you know they can't really defend themselves l...   \n",
       "4  86aaa48b45  ในการเล่นบทบาทสมมุติก็เช่นกัน โอกาสที่จะได้แสด...   \n",
       "\n",
       "                                          hypothesis lang_abv language  label  \n",
       "0  The rules developed in the interim were put to...       en  English      0  \n",
       "1  Practice groups are not permitted to work on t...       en  English      2  \n",
       "2              J'essayais d'accomplir quelque chose.       fr   French      0  \n",
       "3  They can't defend themselves because of their ...       en  English      0  \n",
       "4    เด็กสามารถเห็นได้ว่าชาติพันธุ์แตกต่างกันอย่างไร       th     Thai      1  "
      ]
     },
     "execution_count": 8,
     "metadata": {},
     "output_type": "execute_result"
    }
   ],
   "source": [
    "train_df = pd.read_csv(\"../input/contradictory-my-dear-watson/train.csv\")\n",
    "test_df = pd.read_csv(\"../input/contradictory-my-dear-watson/test.csv\")\n",
    "\n",
    "train_df.head()"
   ]
  },
  {
   "cell_type": "code",
   "execution_count": 9,
   "id": "single-slope",
   "metadata": {
    "execution": {
     "iopub.execute_input": "2021-03-29T00:14:08.941514Z",
     "iopub.status.busy": "2021-03-29T00:14:08.940773Z",
     "iopub.status.idle": "2021-03-29T00:14:09.104887Z",
     "shell.execute_reply": "2021-03-29T00:14:09.105446Z"
    },
    "papermill": {
     "duration": 0.215563,
     "end_time": "2021-03-29T00:14:09.105631",
     "exception": false,
     "start_time": "2021-03-29T00:14:08.890068",
     "status": "completed"
    },
    "tags": []
   },
   "outputs": [
    {
     "name": "stdout",
     "output_type": "stream",
     "text": [
      "Loading training and validation split csv files...\n",
      "Training data shape after split: (9696, 6)\n",
      "Validation data shape after split: (2424, 6)\n"
     ]
    }
   ],
   "source": [
    "if train_df_sp_path and validation_df_sp_path:\n",
    "    # Use the same train-val split used to back translate input training data\n",
    "    print (\"Loading training and validation split csv files...\")\n",
    "    train_df = pd.read_csv(train_df_sp_path)\n",
    "    validation_df = pd.read_csv(validation_df_sp_path)\n",
    "#     validation_df = validation_df.sample(frac=1) #shuffle\n",
    "#     validation_df = validation_df[:1212] #take 1212 examples as validation data\n",
    "#     train_df = train_df + validation_df[1212:] #add remaining validation data to train_df\n",
    "#     validation_df.reset_index(drop=True, inplace=True)\n",
    "#     train_df.reset_index(drop=True, inplace=True)\n",
    "else:\n",
    "    # Create train-val split data\n",
    "    print (\"Creating training and validation split csv files...\")\n",
    "    # Stratify ensures that each sub-set contains approximately the same percentage of samples of each target class as the original set.\n",
    "    train_df, validation_df = train_test_split(train_df, stratify=train_df.label.values, \n",
    "                                                      random_state=42, \n",
    "                                                      test_size=0.10, shuffle=True)\n",
    "\n",
    "\n",
    "    train_df.reset_index(drop=True, inplace=True)\n",
    "    validation_df.reset_index(drop=True, inplace=True)\n",
    "\n",
    "#     train_df.to_csv('train_df_sp.csv', index=False)\n",
    "#     validation_df.to_csv('validation_df_sp.csv', index=False)\n",
    "    \n",
    "    \n",
    "# check the number of rows and columns in the subsets after split\n",
    "print(\"Training data shape after split: {}\".format(train_df.shape))\n",
    "print(\"Validation data shape after split: {}\".format(validation_df.shape))"
   ]
  },
  {
   "cell_type": "code",
   "execution_count": 10,
   "id": "popular-contemporary",
   "metadata": {
    "execution": {
     "iopub.execute_input": "2021-03-29T00:14:09.199802Z",
     "iopub.status.busy": "2021-03-29T00:14:09.198777Z",
     "iopub.status.idle": "2021-03-29T00:14:09.210182Z",
     "shell.execute_reply": "2021-03-29T00:14:09.210615Z"
    },
    "papermill": {
     "duration": 0.059724,
     "end_time": "2021-03-29T00:14:09.210786",
     "exception": false,
     "start_time": "2021-03-29T00:14:09.151062",
     "status": "completed"
    },
    "tags": []
   },
   "outputs": [],
   "source": [
    "def process_xnli_data(test_df, all_keys=False):   \n",
    "    if all_keys:\n",
    "        split = 'train+validation+test'\n",
    "    else:\n",
    "        split = 'validation+test'\n",
    "    \n",
    "    print(\"Loading XNLI data...\")\n",
    "    \n",
    "    dataset = load_dataset('xnli', 'all_languages', split=split) #returns a Dataset object  \n",
    "    print(dataset)\n",
    "    \n",
    "    entries = []   \n",
    "    for entry in tqdm(dataset): \n",
    "        hypothesis_langs = entry['hypothesis']['language'] #list of 15 lang string values\n",
    "        hypothesis_values = entry['hypothesis']['translation'] #list of 15 hypothesis string values\n",
    "\n",
    "        premise_langs = list(entry['premise'].keys()) #list of 15 lang string values\n",
    "        premise_values = list(entry['premise'].values()) #list of 15 premise string values\n",
    "\n",
    "        labels = [entry['label']]*len(hypothesis_langs) #all 15 languages for the same example have same label \n",
    "\n",
    "        if premise_langs == hypothesis_langs: #the languages in premise and hypothesis are in same order\n",
    "#             values = list(zip(premise_values, hypothesis_values, hypothesis_langs, labels))\n",
    "            values = list(zip(premise_values, hypothesis_values, labels))\n",
    "            entries += values\n",
    "\n",
    "#     xnli_df = pd.DataFrame(entries, columns=['premise', 'hypothesis', 'lang_abv', 'label']) #create dataframe for each key\n",
    "    xnli_df = pd.DataFrame(entries, columns=['premise', 'hypothesis', 'label']) #create dataframe for each key\n",
    "    \n",
    "    # Get the number of missing data points per column\n",
    "    missing_values_xnli = xnli_df.isnull().sum() \n",
    "\n",
    "    print(\"Number of missing data points per column in XNLI corpus:\")\n",
    "    print (missing_values_xnli)\n",
    "\n",
    "    # Drop the missing value rows\n",
    "    xnli_df.dropna(axis=0, inplace=True)\n",
    "    print(\"Total number of data examples in XNLI corpus after dropping NA values: {}\".format(xnli_df.shape[0]))\n",
    "    \n",
    "    ################## Delete duplicate rows between test_df and xnli_df in xnli corpus #########################\n",
    "    xnli_df = xnli_df.drop_duplicates() #drop duplicate rows\n",
    "    print('Total number of data examples in XNLI corpus after dropping duplicate values: {}'.format(xnli_df.shape[0]))\n",
    "    \n",
    "    print('Test data shape: {}'.format(test_df.shape))\n",
    "    test_df = test_df.drop_duplicates() #drop duplicate rows\n",
    "    print('Test data shape after dropping duplicate rows: {}'.format(test_df.shape))\n",
    "\n",
    "    df_merge = pd.merge(xnli_df, test_df, on=['premise','hypothesis'], how='inner')\n",
    "    xnli_df = xnli_df.append(df_merge, ignore_index=True) \n",
    "\n",
    "    xnli_df['duplicated'] = xnli_df.duplicated(subset=['premise','hypothesis'], keep=False) # keep=False marks the duplicated row with a True\n",
    "    xnli_df = xnli_df[~xnli_df['duplicated']] # selects only rows which are not duplicated.\n",
    "    \n",
    "    xnli_df.drop(['duplicated', 'id', 'lang_abv', 'language'], axis = 1, inplace=True) # remove following columns\n",
    "    ################## Delete duplicate rows between test_df and xnli_df in xnli corpus #########################\n",
    "    \n",
    "    print(\"XNLI corpus shape: {}\".format(xnli_df.shape))\n",
    "    \n",
    "    del dataset #free up space\n",
    "    \n",
    "    return xnli_df"
   ]
  },
  {
   "cell_type": "code",
   "execution_count": 11,
   "id": "strategic-flavor",
   "metadata": {
    "execution": {
     "iopub.execute_input": "2021-03-29T00:14:09.304478Z",
     "iopub.status.busy": "2021-03-29T00:14:09.303509Z",
     "iopub.status.idle": "2021-03-29T00:14:09.312134Z",
     "shell.execute_reply": "2021-03-29T00:14:09.312558Z"
    },
    "papermill": {
     "duration": 0.057453,
     "end_time": "2021-03-29T00:14:09.312732",
     "exception": false,
     "start_time": "2021-03-29T00:14:09.255279",
     "status": "completed"
    },
    "tags": []
   },
   "outputs": [],
   "source": [
    "def process_mnli_data(validation=False):\n",
    "    if validation:\n",
    "        keys = ['train', 'validation_matched', 'validation_mismatched']\n",
    "    else:\n",
    "        keys = ['train']\n",
    "    \n",
    "    dataset = load_dataset('glue', name='mnli') #returns a DatasetDict object\n",
    "    print(dataset)\n",
    "    \n",
    "    df_dict = {}\n",
    "    \n",
    "    for key in tqdm(keys):\n",
    "        print(\"Processing MNLI {} data...\".format(key))\n",
    "        \n",
    "        hypothesis = dataset[key]['hypothesis']\n",
    "        premise = dataset[key]['premise']\n",
    "        labels = dataset[key]['label']\n",
    "        \n",
    "        entries = list(zip(premise, hypothesis, labels))\n",
    "        \n",
    "        df = pd.DataFrame(entries, columns=['premise', 'hypothesis', 'label']) #create dataframe for each key\n",
    "        df_dict[key] = df\n",
    "        \n",
    "    if validation:\n",
    "        mnli_df = pd.concat([df_dict['train'], df_dict['validation_matched'], df_dict['validation_mismatched']], ignore_index=True)\n",
    "    else:\n",
    "        mnli_df = df_dict['train']\n",
    "    \n",
    "    # Get the number of missing data points per column\n",
    "    missing_values_mnli = mnli_df.isnull().sum() \n",
    "\n",
    "    print(\"Number of missing data points per column in MNLI corpus:\")\n",
    "    print (missing_values_mnli)\n",
    "\n",
    "    # Drop the missing value rows from training set\n",
    "    mnli_df.dropna(axis=0, inplace=True)\n",
    "    print(\"Total number of data examples in MNLI corpus after dropping NA values: {}\\n\".format(mnli_df.shape[0]))\n",
    "    \n",
    "    del dataset #free up space\n",
    "    \n",
    "    return mnli_df"
   ]
  },
  {
   "cell_type": "code",
   "execution_count": 12,
   "id": "expensive-assurance",
   "metadata": {
    "execution": {
     "iopub.execute_input": "2021-03-29T00:14:09.406478Z",
     "iopub.status.busy": "2021-03-29T00:14:09.405481Z",
     "iopub.status.idle": "2021-03-29T00:14:09.416445Z",
     "shell.execute_reply": "2021-03-29T00:14:09.416857Z"
    },
    "papermill": {
     "duration": 0.059468,
     "end_time": "2021-03-29T00:14:09.417040",
     "exception": false,
     "start_time": "2021-03-29T00:14:09.357572",
     "status": "completed"
    },
    "tags": []
   },
   "outputs": [],
   "source": [
    "def back_translate(train_df, target_lang='fr', sample=True, num_samples_per_lang=1000):\n",
    "    if sample: #sample input training data to back translate\n",
    "        train_df = train_df.groupby('language', group_keys=False).apply(lambda x: x.sample(min(len(x), num_samples_per_lang))).reset_index(drop=True)  \n",
    "\n",
    "    df_list = []\n",
    "    limit_before_timeout = 100\n",
    "    timeout = 5\n",
    "    \n",
    "    translator = Translator() \n",
    "    \n",
    "    # Add functions to back translate input sentences\n",
    "    def target_translate(x, target_lang):\n",
    "        translation = translator.translate(x, dest=target_lang)\n",
    "        return translation.text\n",
    "    def source_translate(x, source_lang):\n",
    "        translation = translator.translate(x, dest=source_lang) \n",
    "        return translation.text \n",
    "    \n",
    "    for i in tqdm(range(len(train_df))):\n",
    "        entry = train_df.loc[[i]]\n",
    "        source_lang = entry.lang_abv.values.tolist()[0]\n",
    "        if source_lang == 'zh':\n",
    "            #print(googletrans.LANGUAGES) \n",
    "            source_lang = 'zh-cn' #'zh' not in googletrans.LANGUAGES        \n",
    "        if (i!=0) and (i%limit_before_timeout == 0): #apply timeout after every 100 iterations \n",
    "            print('Iteration {} of {}'.format(i, len(train_df)))\n",
    "            time.sleep(timeout)      \n",
    "        # Back translate premise sentence\n",
    "        entry['premise'] = entry['premise'].apply(lambda x: target_translate(x, target_lang))\n",
    "#         time.sleep(0.2)\n",
    "        entry['premise'] = entry['premise'].apply(lambda x: source_translate(x, source_lang))\n",
    "#         time.sleep(0.2)       \n",
    "        # Back translate hypothesis sentence\n",
    "        entry['hypothesis'] = entry['hypothesis'].apply(lambda x: target_translate(x, target_lang))\n",
    "#         time.sleep(0.2)\n",
    "        entry['hypothesis'] = entry['hypothesis'].apply(lambda x: source_translate(x, source_lang))\n",
    "#         time.sleep(0.2)\n",
    "        df_list.append(entry)\n",
    "    \n",
    "    train_bt = pd.concat(df_list, ignore_index=True)\n",
    "    print(\"Shape of back-translated training data: {}\".format(train_bt.shape))\n",
    "    return train_bt"
   ]
  },
  {
   "cell_type": "code",
   "execution_count": 13,
   "id": "corrected-british",
   "metadata": {
    "execution": {
     "iopub.execute_input": "2021-03-29T00:14:09.509777Z",
     "iopub.status.busy": "2021-03-29T00:14:09.508824Z",
     "iopub.status.idle": "2021-03-29T00:14:09.860659Z",
     "shell.execute_reply": "2021-03-29T00:14:09.860171Z"
    },
    "papermill": {
     "duration": 0.399296,
     "end_time": "2021-03-29T00:14:09.860804",
     "exception": false,
     "start_time": "2021-03-29T00:14:09.461508",
     "status": "completed"
    },
    "tags": []
   },
   "outputs": [
    {
     "name": "stdout",
     "output_type": "stream",
     "text": [
      "Shape of back-translated training data: (4778, 6)\n",
      "Augmented data shape before removing duplicate rows: (14474, 3)\n",
      "Augmented data shape after removing duplicate rows: (12801, 3)\n"
     ]
    },
    {
     "data": {
      "text/html": [
       "<div>\n",
       "<style scoped>\n",
       "    .dataframe tbody tr th:only-of-type {\n",
       "        vertical-align: middle;\n",
       "    }\n",
       "\n",
       "    .dataframe tbody tr th {\n",
       "        vertical-align: top;\n",
       "    }\n",
       "\n",
       "    .dataframe thead th {\n",
       "        text-align: right;\n",
       "    }\n",
       "</style>\n",
       "<table border=\"1\" class=\"dataframe\">\n",
       "  <thead>\n",
       "    <tr style=\"text-align: right;\">\n",
       "      <th></th>\n",
       "      <th>premise</th>\n",
       "      <th>hypothesis</th>\n",
       "      <th>label</th>\n",
       "    </tr>\n",
       "  </thead>\n",
       "  <tbody>\n",
       "    <tr>\n",
       "      <th>0</th>\n",
       "      <td>کالم کی ہر صف میں ، یہ بات بالکل واضح ہے کہ ون...</td>\n",
       "      <td>ونسنٹ سکولی کالونی سے خطاب کرتا ہے</td>\n",
       "      <td>0</td>\n",
       "    </tr>\n",
       "    <tr>\n",
       "      <th>1</th>\n",
       "      <td>iske vipareet, agar nae udaharanon ne prabhavi...</td>\n",
       "      <td>कानून थोड़े समय से आस-पास रहा है।</td>\n",
       "      <td>0</td>\n",
       "    </tr>\n",
       "    <tr>\n",
       "      <th>2</th>\n",
       "      <td>bGross national saving is held constant as a s...</td>\n",
       "      <td>bGross national saving is held constant as a s...</td>\n",
       "      <td>0</td>\n",
       "    </tr>\n",
       "    <tr>\n",
       "      <th>3</th>\n",
       "      <td>You wonder what youre going to be when you gro...</td>\n",
       "      <td>You have no dreams for the future.</td>\n",
       "      <td>2</td>\n",
       "    </tr>\n",
       "    <tr>\n",
       "      <th>4</th>\n",
       "      <td>Las estadísticas en la Tabla A1 muestran que, ...</td>\n",
       "      <td>Las estadísticas no dicen nada.</td>\n",
       "      <td>2</td>\n",
       "    </tr>\n",
       "    <tr>\n",
       "      <th>...</th>\n",
       "      <td>...</td>\n",
       "      <td>...</td>\n",
       "      <td>...</td>\n",
       "    </tr>\n",
       "    <tr>\n",
       "      <th>95</th>\n",
       "      <td>bechara noun jahan koi aur mutabadil nahi tha.</td>\n",
       "      <td>اسم بہت زیادہ استعمال کیا جاتا ہے.</td>\n",
       "      <td>0</td>\n",
       "    </tr>\n",
       "    <tr>\n",
       "      <th>96</th>\n",
       "      <td>Моя бабушка рассказывала мне много историй о с...</td>\n",
       "      <td>Рассказ бабушки меня почти устраивает.</td>\n",
       "      <td>1</td>\n",
       "    </tr>\n",
       "    <tr>\n",
       "      <th>97</th>\n",
       "      <td>Ήσασταν τότε απλά ένας άτυχος κύριος.</td>\n",
       "      <td>Στο παρελθόν ήσασταν ένας ατυχής κύριος.</td>\n",
       "      <td>0</td>\n",
       "    </tr>\n",
       "    <tr>\n",
       "      <th>98</th>\n",
       "      <td>Miezi mitatu baada ya usajili, wawakilishi wa ...</td>\n",
       "      <td>Wawakilishi wa eneo hilo hawakujadili madai hayo.</td>\n",
       "      <td>2</td>\n",
       "    </tr>\n",
       "    <tr>\n",
       "      <th>99</th>\n",
       "      <td>Rejeo pekee niliyo nayol inayoelezea mstari hu...</td>\n",
       "      <td>Kumbukumbu niliyo nayo ina utatanishi.</td>\n",
       "      <td>0</td>\n",
       "    </tr>\n",
       "  </tbody>\n",
       "</table>\n",
       "<p>100 rows × 3 columns</p>\n",
       "</div>"
      ],
      "text/plain": [
       "                                              premise  \\\n",
       "0   کالم کی ہر صف میں ، یہ بات بالکل واضح ہے کہ ون...   \n",
       "1   iske vipareet, agar nae udaharanon ne prabhavi...   \n",
       "2   bGross national saving is held constant as a s...   \n",
       "3   You wonder what youre going to be when you gro...   \n",
       "4   Las estadísticas en la Tabla A1 muestran que, ...   \n",
       "..                                                ...   \n",
       "95     bechara noun jahan koi aur mutabadil nahi tha.   \n",
       "96  Моя бабушка рассказывала мне много историй о с...   \n",
       "97              Ήσασταν τότε απλά ένας άτυχος κύριος.   \n",
       "98  Miezi mitatu baada ya usajili, wawakilishi wa ...   \n",
       "99  Rejeo pekee niliyo nayol inayoelezea mstari hu...   \n",
       "\n",
       "                                           hypothesis  label  \n",
       "0                  ونسنٹ سکولی کالونی سے خطاب کرتا ہے      0  \n",
       "1                    कानून थोड़े समय से आस-पास रहा है।      0  \n",
       "2   bGross national saving is held constant as a s...      0  \n",
       "3                  You have no dreams for the future.      2  \n",
       "4                     Las estadísticas no dicen nada.      2  \n",
       "..                                                ...    ...  \n",
       "95                 اسم بہت زیادہ استعمال کیا جاتا ہے.      0  \n",
       "96             Рассказ бабушки меня почти устраивает.      1  \n",
       "97           Στο παρελθόν ήσασταν ένας ατυχής κύριος.      0  \n",
       "98  Wawakilishi wa eneo hilo hawakujadili madai hayo.      2  \n",
       "99             Kumbukumbu niliyo nayo ina utatanishi.      0  \n",
       "\n",
       "[100 rows x 3 columns]"
      ]
     },
     "execution_count": 13,
     "metadata": {},
     "output_type": "execute_result"
    }
   ],
   "source": [
    "def augment_data(df, use_xnli=True, use_mnli=True, use_bt=True, bt_dir=''):\n",
    "    df_list = []  \n",
    "    if use_bt:\n",
    "        if path.isdir(bt_dir):\n",
    "            files = glob.glob(bt_dir+'/*.csv')\n",
    "            bt_list = []\n",
    "            for filename in files:\n",
    "                bt_list.append(pd.read_csv(filename))\n",
    "            bt_df = pd.concat(bt_list, ignore_index=True)\n",
    "#             bt_df.isnull().sum() # we get the number of missing values\n",
    "            bt_df.dropna(inplace=True) #remove missing values\n",
    "            bt_df.drop_duplicates(inplace=True) #drop duplicate rows  \n",
    "            bt_df = bt_df.sample(frac=0.4) #randomly select n examples as back-translated data \n",
    "            print(\"Shape of back-translated training data: {}\".format(bt_df.shape))\n",
    "            bt_df.to_csv('back_translation_all.csv', index=False)\n",
    "        else:\n",
    "            bt_df = back_translate(df)\n",
    "        bt_df = bt_df.drop(['id', 'lang_abv', 'language'], axis=1)\n",
    "        df_list.append(bt_df)\n",
    "        del bt_df #free up space \n",
    "    if use_xnli:\n",
    "        xnli_df = process_xnli_data(test_df, all_keys=False)\n",
    "        df_list.append(xnli_df)\n",
    "        del xnli_df #free up space \n",
    "    if use_mnli:\n",
    "        mnli_df = process_mnli_data(validation=True)\n",
    "        df_list.append(mnli_df)\n",
    "        del mnli_df #free up space\n",
    "        \n",
    "    train_df = df.drop(['id', 'lang_abv', 'language'], axis=1)\n",
    "    \n",
    "    if len(df_list) > 0: #augment data\n",
    "        augmented_df = pd.concat(df_list, ignore_index=True)\n",
    "        train_df = train_df.append(augmented_df, ignore_index=True) \n",
    "        \n",
    "    train_df = train_df.sample(frac=1).reset_index(drop=True) #shuffle data\n",
    "    print(\"Augmented data shape before removing duplicate rows: {}\".format(train_df.shape))\n",
    "    train_df.drop_duplicates(inplace=True) #drop duplicate rows\n",
    "    print(\"Augmented data shape after removing duplicate rows: {}\".format(train_df.shape))\n",
    "    return train_df\n",
    "\n",
    "\n",
    "\n",
    "\n",
    "train_df = augment_data(train_df, LOAD_XNLI, LOAD_MNLI, BACK_TRANSLATE, BT_DIR) \n",
    "train_df.head(100)"
   ]
  },
  {
   "cell_type": "code",
   "execution_count": 14,
   "id": "imperial-candy",
   "metadata": {
    "execution": {
     "iopub.execute_input": "2021-03-29T00:14:09.976410Z",
     "iopub.status.busy": "2021-03-29T00:14:09.975475Z",
     "iopub.status.idle": "2021-03-29T00:14:09.979571Z",
     "shell.execute_reply": "2021-03-29T00:14:09.978787Z"
    },
    "papermill": {
     "duration": 0.066451,
     "end_time": "2021-03-29T00:14:09.979762",
     "exception": false,
     "start_time": "2021-03-29T00:14:09.913311",
     "status": "completed"
    },
    "tags": []
   },
   "outputs": [
    {
     "name": "stdout",
     "output_type": "stream",
     "text": [
      "Augmented train data shape: (12801, 3)\n"
     ]
    }
   ],
   "source": [
    "# check the number of rows and columns in the augmented train data\n",
    "print(\"Augmented train data shape: {}\".format(train_df.shape))"
   ]
  },
  {
   "cell_type": "code",
   "execution_count": 15,
   "id": "healthy-shirt",
   "metadata": {
    "execution": {
     "iopub.execute_input": "2021-03-29T00:14:10.089980Z",
     "iopub.status.busy": "2021-03-29T00:14:10.089086Z",
     "iopub.status.idle": "2021-03-29T00:14:10.247544Z",
     "shell.execute_reply": "2021-03-29T00:14:10.246900Z"
    },
    "papermill": {
     "duration": 0.207362,
     "end_time": "2021-03-29T00:14:10.247681",
     "exception": false,
     "start_time": "2021-03-29T00:14:10.040319",
     "status": "completed"
    },
    "tags": []
   },
   "outputs": [
    {
     "data": {
      "image/png": "[encoded data removed]",
      "text/plain": [
       "<Figure size 720x720 with 1 Axes>"
      ]
     },
     "metadata": {},
     "output_type": "display_data"
    }
   ],
   "source": [
    "# check distribution of target classes in the augmented data\n",
    "counts = train_df['label'].value_counts()\n",
    "\n",
    "class_labels = ['Entailment', 'Neutral', 'Contradiction']\n",
    "\n",
    "counts_per_class = [counts[0], counts[1], counts[2]]\n",
    "\n",
    "plt.figure(figsize = (10,10))\n",
    "plt.pie(counts_per_class, labels = class_labels, autopct = '%1.1f%%')\n",
    "plt.title(\"Distribution of target classes in the augmented data\")\n",
    "plt.show()"
   ]
  },
  {
   "cell_type": "code",
   "execution_count": 16,
   "id": "overall-caution",
   "metadata": {
    "execution": {
     "iopub.execute_input": "2021-03-29T00:14:10.346883Z",
     "iopub.status.busy": "2021-03-29T00:14:10.346249Z",
     "iopub.status.idle": "2021-03-29T00:14:10.349720Z",
     "shell.execute_reply": "2021-03-29T00:14:10.349209Z"
    },
    "papermill": {
     "duration": 0.055312,
     "end_time": "2021-03-29T00:14:10.349918",
     "exception": false,
     "start_time": "2021-03-29T00:14:10.294606",
     "status": "completed"
    },
    "tags": []
   },
   "outputs": [],
   "source": [
    "PRETRAINED_MODEL_TYPES = {\n",
    "    'xlmroberta': (XLMRobertaConfig, TFXLMRobertaModel, XLMRobertaTokenizer, 'jplu/tf-xlm-roberta-large')\n",
    "}\n",
    "\n",
    "config_class, model_class, tokenizer_class, model_name = PRETRAINED_MODEL_TYPES['xlmroberta']"
   ]
  },
  {
   "cell_type": "code",
   "execution_count": 17,
   "id": "animated-sport",
   "metadata": {
    "execution": {
     "iopub.execute_input": "2021-03-29T00:14:10.451183Z",
     "iopub.status.busy": "2021-03-29T00:14:10.449423Z",
     "iopub.status.idle": "2021-03-29T00:14:14.511257Z",
     "shell.execute_reply": "2021-03-29T00:14:14.510743Z"
    },
    "papermill": {
     "duration": 4.113353,
     "end_time": "2021-03-29T00:14:14.511416",
     "exception": false,
     "start_time": "2021-03-29T00:14:10.398063",
     "status": "completed"
    },
    "tags": []
   },
   "outputs": [
    {
     "data": {
      "application/vnd.jupyter.widget-view+json": {
       "model_id": "58b35a3481ad48528ec6ca21b9e8c22c",
       "version_major": 2,
       "version_minor": 0
      },
      "text/plain": [
       "HBox(children=(FloatProgress(value=0.0, description='Downloading', max=513.0, style=ProgressStyle(description_…"
      ]
     },
     "metadata": {},
     "output_type": "display_data"
    },
    {
     "name": "stdout",
     "output_type": "stream",
     "text": [
      "\n"
     ]
    },
    {
     "data": {
      "application/vnd.jupyter.widget-view+json": {
       "model_id": "6cb0fde608054545bc7be1d4d0655f3a",
       "version_major": 2,
       "version_minor": 0
      },
      "text/plain": [
       "HBox(children=(FloatProgress(value=0.0, description='Downloading', max=5069051.0, style=ProgressStyle(descript…"
      ]
     },
     "metadata": {},
     "output_type": "display_data"
    },
    {
     "name": "stdout",
     "output_type": "stream",
     "text": [
      "\n"
     ]
    },
    {
     "data": {
      "text/plain": [
       "PreTrainedTokenizerFast(name_or_path='jplu/tf-xlm-roberta-large', vocab_size=250002, model_max_len=1000000000000000019884624838656, is_fast=True, padding_side='right', special_tokens={'bos_token': '<s>', 'eos_token': '</s>', 'unk_token': '<unk>', 'sep_token': '</s>', 'pad_token': '<pad>', 'cls_token': '<s>', 'mask_token': AddedToken(\"<mask>\", rstrip=False, lstrip=True, single_word=False, normalized=True)})"
      ]
     },
     "execution_count": 17,
     "metadata": {},
     "output_type": "execute_result"
    }
   ],
   "source": [
    "# Download vocabulary from huggingface.co and cache.\n",
    "# tokenizer = tokenizer_class.from_pretrained(model_name) \n",
    "tokenizer = AutoTokenizer.from_pretrained(model_name) #fast tokenizer\n",
    "\n",
    "tokenizer"
   ]
  },
  {
   "cell_type": "code",
   "execution_count": 18,
   "id": "measured-stack",
   "metadata": {
    "execution": {
     "iopub.execute_input": "2021-03-29T00:14:14.613141Z",
     "iopub.status.busy": "2021-03-29T00:14:14.612546Z",
     "iopub.status.idle": "2021-03-29T00:14:14.616703Z",
     "shell.execute_reply": "2021-03-29T00:14:14.617172Z"
    },
    "papermill": {
     "duration": 0.057457,
     "end_time": "2021-03-29T00:14:14.617369",
     "exception": false,
     "start_time": "2021-03-29T00:14:14.559912",
     "status": "completed"
    },
    "tags": []
   },
   "outputs": [
    {
     "data": {
      "text/plain": [
       "250002"
      ]
     },
     "execution_count": 18,
     "metadata": {},
     "output_type": "execute_result"
    }
   ],
   "source": [
    "tokenizer.vocab_size"
   ]
  },
  {
   "cell_type": "code",
   "execution_count": 19,
   "id": "equal-michigan",
   "metadata": {
    "execution": {
     "iopub.execute_input": "2021-03-29T00:14:14.720448Z",
     "iopub.status.busy": "2021-03-29T00:14:14.719839Z",
     "iopub.status.idle": "2021-03-29T00:14:14.723774Z",
     "shell.execute_reply": "2021-03-29T00:14:14.723335Z"
    },
    "papermill": {
     "duration": 0.058243,
     "end_time": "2021-03-29T00:14:14.723916",
     "exception": false,
     "start_time": "2021-03-29T00:14:14.665673",
     "status": "completed"
    },
    "tags": []
   },
   "outputs": [],
   "source": [
    "def encode(df, tokenizer, max_len=50):\n",
    "    \n",
    "    pairs = df[['premise','hypothesis']].values.tolist() #shape=[num_examples]\n",
    "    \n",
    "    print (\"Encoding...\")\n",
    "    encoded_dict = tokenizer.batch_encode_plus(pairs, max_length=max_len, padding=True, truncation=True, \n",
    "                                               add_special_tokens=True, return_attention_mask=True)\n",
    "    print (\"Complete\")\n",
    "    \n",
    "    input_word_ids = tf.convert_to_tensor(encoded_dict['input_ids'], dtype=tf.int32) #shape=[num_examples, max_len])\n",
    "    input_mask = tf.convert_to_tensor(encoded_dict['attention_mask'], dtype=tf.int32) #shape=[num_examples, max_len]\n",
    "    \n",
    "    inputs = {\n",
    "        'input_word_ids': input_word_ids,\n",
    "        'input_mask': input_mask}    \n",
    "    \n",
    "    return inputs"
   ]
  },
  {
   "cell_type": "code",
   "execution_count": 20,
   "id": "offshore-dancing",
   "metadata": {
    "execution": {
     "iopub.execute_input": "2021-03-29T00:14:14.885997Z",
     "iopub.status.busy": "2021-03-29T00:14:14.885209Z",
     "iopub.status.idle": "2021-03-29T00:14:17.655535Z",
     "shell.execute_reply": "2021-03-29T00:14:17.656101Z"
    },
    "papermill": {
     "duration": 2.883785,
     "end_time": "2021-03-29T00:14:17.656342",
     "exception": false,
     "start_time": "2021-03-29T00:14:14.772557",
     "status": "completed"
    },
    "tags": []
   },
   "outputs": [
    {
     "name": "stdout",
     "output_type": "stream",
     "text": [
      "Encoding...\n",
      "Complete\n"
     ]
    }
   ],
   "source": [
    "train_input = encode(train_df, tokenizer=tokenizer, max_len=MAX_LEN)"
   ]
  },
  {
   "cell_type": "code",
   "execution_count": 21,
   "id": "arbitrary-finding",
   "metadata": {
    "execution": {
     "iopub.execute_input": "2021-03-29T00:14:17.778794Z",
     "iopub.status.busy": "2021-03-29T00:14:17.777911Z",
     "iopub.status.idle": "2021-03-29T00:14:17.782744Z",
     "shell.execute_reply": "2021-03-29T00:14:17.782110Z"
    },
    "papermill": {
     "duration": 0.060109,
     "end_time": "2021-03-29T00:14:17.782897",
     "exception": false,
     "start_time": "2021-03-29T00:14:17.722788",
     "status": "completed"
    },
    "tags": []
   },
   "outputs": [
    {
     "data": {
      "text/plain": [
       "TensorShape([12801, 120])"
      ]
     },
     "execution_count": 21,
     "metadata": {},
     "output_type": "execute_result"
    }
   ],
   "source": [
    "train_input['input_word_ids'].shape #[num_examples, max_len]\n",
    "train_input['input_mask'].shape #[num_examples, max_len]"
   ]
  },
  {
   "cell_type": "code",
   "execution_count": 22,
   "id": "north-advocacy",
   "metadata": {
    "execution": {
     "iopub.execute_input": "2021-03-29T00:14:17.942829Z",
     "iopub.status.busy": "2021-03-29T00:14:17.939689Z",
     "iopub.status.idle": "2021-03-29T00:14:18.483707Z",
     "shell.execute_reply": "2021-03-29T00:14:18.484132Z"
    },
    "papermill": {
     "duration": 0.636743,
     "end_time": "2021-03-29T00:14:18.484347",
     "exception": false,
     "start_time": "2021-03-29T00:14:17.847604",
     "status": "completed"
    },
    "tags": []
   },
   "outputs": [
    {
     "name": "stdout",
     "output_type": "stream",
     "text": [
      "Encoding...\n",
      "Complete\n"
     ]
    }
   ],
   "source": [
    "validation_input = encode(validation_df, tokenizer=tokenizer, max_len=MAX_LEN)"
   ]
  },
  {
   "cell_type": "code",
   "execution_count": 23,
   "id": "hollywood-cigarette",
   "metadata": {
    "execution": {
     "iopub.execute_input": "2021-03-29T00:14:18.588931Z",
     "iopub.status.busy": "2021-03-29T00:14:18.588342Z",
     "iopub.status.idle": "2021-03-29T00:14:18.591409Z",
     "shell.execute_reply": "2021-03-29T00:14:18.591988Z"
    },
    "papermill": {
     "duration": 0.057607,
     "end_time": "2021-03-29T00:14:18.592166",
     "exception": false,
     "start_time": "2021-03-29T00:14:18.534559",
     "status": "completed"
    },
    "tags": []
   },
   "outputs": [
    {
     "data": {
      "text/plain": [
       "TensorShape([2424, 120])"
      ]
     },
     "execution_count": 23,
     "metadata": {},
     "output_type": "execute_result"
    }
   ],
   "source": [
    "validation_input['input_word_ids'].shape #[num_examples, max_len]\n",
    "validation_input['input_mask'].shape #[num_examples, max_len]"
   ]
  },
  {
   "cell_type": "code",
   "execution_count": 24,
   "id": "posted-championship",
   "metadata": {
    "execution": {
     "iopub.execute_input": "2021-03-29T00:14:18.694213Z",
     "iopub.status.busy": "2021-03-29T00:14:18.693605Z",
     "iopub.status.idle": "2021-03-29T00:14:18.700863Z",
     "shell.execute_reply": "2021-03-29T00:14:18.700402Z"
    },
    "papermill": {
     "duration": 0.059406,
     "end_time": "2021-03-29T00:14:18.700997",
     "exception": false,
     "start_time": "2021-03-29T00:14:18.641591",
     "status": "completed"
    },
    "tags": []
   },
   "outputs": [],
   "source": [
    "# from keras.layers.normalization import BatchNormalization\n",
    "\n",
    "def build_model(model_name, max_len=50):\n",
    "    \n",
    "    tf.random.set_seed(1234)\n",
    "    \n",
    "    input_word_ids = Input(shape=(max_len,), dtype=tf.int32, name=\"input_word_ids\")\n",
    "    input_mask = Input(shape=(max_len,), dtype=tf.int32, name=\"input_mask\")\n",
    "    \n",
    "    # The bare XLM-RoBERTa Model transformer outputting raw hidden-states without any specific head on top.\n",
    "    base_model = model_class.from_pretrained(model_name)\n",
    "#     base_model = TFAutoModel.from_pretrained(model_name)\n",
    "    \n",
    "#     # Extract pretrained embedding vectors\n",
    "#     embedding = base_model([input_word_ids, input_mask])[0] # shape=(batch_size, max_len, embed_size)\n",
    "#     # We pass the embedding vectors of only the 'cls' token (at index=0) to the dense layer\n",
    "#     sequence_output = embedding[:,0,:] #shape=(batch_size, embed_size)\n",
    "\n",
    "    \n",
    "    ### pooler_output contains the hidden representation of just the ‘[CLS]’ token after additionally being passed to a fully connected layer with tanh activation function.\n",
    "    ### output = base_model([input_word_ids, input_mask], training=False) # output from xlmroberta model\n",
    "    output = base_model([input_word_ids, input_mask]) # output from xlmroberta model\n",
    "    sequence_output = output.pooler_output #shape: [batch_size, embed_size]\n",
    "    ### sequence_output = Dropout(0.3)(sequence_output) #add dropout\n",
    "    \n",
    "#     # Add an LSTM layer to get sentence embeddings\n",
    "#     sequence_output = tf.keras.layers.Bidirectional(tf.keras.layers.LSTM(150, dropout=0.3, recurrent_dropout=0.3))(embedding) # shape=(batch_size, output_size) \n",
    "# #     sequence_output = tf.keras.layers.Bidirectional(tf.keras.layers.GRU(150, dropout=0.3, recurrent_dropout=0.3))(embedding) # shape=(batch_size, output_size) \n",
    "    \n",
    "#     # Add a fully-connected layer\n",
    "#     sequence_output = tf.keras.layers.Dense(300, activation=\"relu\")(sequence_output)\n",
    "#     sequence_output = BatchNormalization()(sequence_output)\n",
    "#     sequence_output = tf.keras.layers.Dropout(0.3)(sequence_output) \n",
    "    \n",
    "    # Add a classification layer\n",
    "    output = Dense(units=3, activation=\"softmax\", name='output')(sequence_output)\n",
    "    \n",
    "    model = tf.keras.Model(inputs=[input_word_ids, input_mask], outputs=output)\n",
    "    model.compile(tf.keras.optimizers.Adam(lr=LEARNING_RATE), loss='sparse_categorical_crossentropy', metrics=['accuracy'])\n",
    "    \n",
    "    return model"
   ]
  },
  {
   "cell_type": "code",
   "execution_count": 25,
   "id": "lightweight-setting",
   "metadata": {
    "execution": {
     "iopub.execute_input": "2021-03-29T00:14:18.805778Z",
     "iopub.status.busy": "2021-03-29T00:14:18.805071Z",
     "iopub.status.idle": "2021-03-29T00:18:08.975185Z",
     "shell.execute_reply": "2021-03-29T00:18:08.975692Z"
    },
    "papermill": {
     "duration": 230.225537,
     "end_time": "2021-03-29T00:18:08.976101",
     "exception": false,
     "start_time": "2021-03-29T00:14:18.750564",
     "status": "completed"
    },
    "tags": []
   },
   "outputs": [
    {
     "data": {
      "application/vnd.jupyter.widget-view+json": {
       "model_id": "f0b9b3a9dfe4467f98903c50aafe6f01",
       "version_major": 2,
       "version_minor": 0
      },
      "text/plain": [
       "HBox(children=(FloatProgress(value=0.0, description='Downloading', max=3271420488.0, style=ProgressStyle(descr…"
      ]
     },
     "metadata": {},
     "output_type": "display_data"
    },
    {
     "name": "stdout",
     "output_type": "stream",
     "text": [
      "\n"
     ]
    },
    {
     "name": "stderr",
     "output_type": "stream",
     "text": [
      "Some layers from the model checkpoint at jplu/tf-xlm-roberta-large were not used when initializing TFXLMRobertaModel: ['lm_head']\n",
      "- This IS expected if you are initializing TFXLMRobertaModel from the checkpoint of a model trained on another task or with another architecture (e.g. initializing a BertForSequenceClassification model from a BertForPreTraining model).\n",
      "- This IS NOT expected if you are initializing TFXLMRobertaModel from the checkpoint of a model that you expect to be exactly identical (initializing a BertForSequenceClassification model from a BertForSequenceClassification model).\n",
      "All the layers of TFXLMRobertaModel were initialized from the model checkpoint at jplu/tf-xlm-roberta-large.\n",
      "If your task is similar to the task the model of the checkpoint was trained on, you can already use TFXLMRobertaModel for predictions without further training.\n"
     ]
    },
    {
     "name": "stdout",
     "output_type": "stream",
     "text": [
      "Model: \"model\"\n",
      "__________________________________________________________________________________________________\n",
      "Layer (type)                    Output Shape         Param #     Connected to                     \n",
      "==================================================================================================\n",
      "input_word_ids (InputLayer)     [(None, 120)]        0                                            \n",
      "__________________________________________________________________________________________________\n",
      "input_mask (InputLayer)         [(None, 120)]        0                                            \n",
      "__________________________________________________________________________________________________\n",
      "tfxlm_roberta_model (TFXLMRober TFBaseModelOutputWit 559890432   input_word_ids[0][0]             \n",
      "                                                                 input_mask[0][0]                 \n",
      "__________________________________________________________________________________________________\n",
      "output (Dense)                  (None, 3)            3075        tfxlm_roberta_model[0][1]        \n",
      "==================================================================================================\n",
      "Total params: 559,893,507\n",
      "Trainable params: 559,893,507\n",
      "Non-trainable params: 0\n",
      "__________________________________________________________________________________________________\n"
     ]
    }
   ],
   "source": [
    "# instantiating the model in the strategy scope creates the model on the TPU\n",
    "with strategy.scope():\n",
    "    model = build_model(model_name, MAX_LEN)\n",
    "    model.summary()"
   ]
  },
  {
   "cell_type": "code",
   "execution_count": 26,
   "id": "fatty-victory",
   "metadata": {
    "execution": {
     "iopub.execute_input": "2021-03-29T00:18:09.084471Z",
     "iopub.status.busy": "2021-03-29T00:18:09.083825Z",
     "iopub.status.idle": "2021-03-29T00:24:34.094712Z",
     "shell.execute_reply": "2021-03-29T00:24:34.093797Z"
    },
    "papermill": {
     "duration": 385.065436,
     "end_time": "2021-03-29T00:24:34.094991",
     "exception": false,
     "start_time": "2021-03-29T00:18:09.029555",
     "status": "completed"
    },
    "tags": []
   },
   "outputs": [
    {
     "name": "stdout",
     "output_type": "stream",
     "text": [
      "Epoch 1/5\n"
     ]
    },
    {
     "name": "stderr",
     "output_type": "stream",
     "text": [
      "/opt/conda/lib/python3.7/site-packages/tensorflow/python/framework/indexed_slices.py:430: UserWarning: Converting sparse IndexedSlices to a dense Tensor with 256002048 elements. This may consume a large amount of memory.\n",
      "  num_elements)\n"
     ]
    },
    {
     "name": "stdout",
     "output_type": "stream",
     "text": [
      "101/101 [==============================] - 235s 1s/step - loss: 1.1254 - accuracy: 0.3415 - val_loss: 1.1007 - val_accuracy: 0.3445\n",
      "\n",
      "Epoch 00001: val_loss improved from inf to 1.10074, saving model to best_checkpoint.hdf5\n",
      "Epoch 2/5\n",
      "101/101 [==============================] - 26s 258ms/step - loss: 1.0832 - accuracy: 0.3863 - val_loss: 0.7923 - val_accuracy: 0.6535\n",
      "\n",
      "Epoch 00002: val_loss improved from 1.10074 to 0.79231, saving model to best_checkpoint.hdf5\n",
      "Epoch 3/5\n",
      "101/101 [==============================] - 26s 257ms/step - loss: 0.6738 - accuracy: 0.7189 - val_loss: 0.5092 - val_accuracy: 0.7999\n",
      "\n",
      "Epoch 00003: val_loss improved from 0.79231 to 0.50921, saving model to best_checkpoint.hdf5\n",
      "Epoch 4/5\n",
      "101/101 [==============================] - 26s 257ms/step - loss: 0.4174 - accuracy: 0.8425 - val_loss: 0.5025 - val_accuracy: 0.8193\n",
      "\n",
      "Epoch 00004: val_loss improved from 0.50921 to 0.50255, saving model to best_checkpoint.hdf5\n",
      "Epoch 5/5\n",
      "101/101 [==============================] - 26s 257ms/step - loss: 0.2638 - accuracy: 0.9039 - val_loss: 0.5981 - val_accuracy: 0.8012\n",
      "\n",
      "Epoch 00005: val_loss did not improve from 0.50255\n",
      "Epoch 00005: early stopping\n"
     ]
    }
   ],
   "source": [
    "from keras.callbacks import EarlyStopping, ModelCheckpoint\n",
    "\n",
    "checkpoint_filepath='best_checkpoint.hdf5'\n",
    "\n",
    "# Save the best model during validation and bail out of training early if we're not improving\n",
    "# callbacks = [EarlyStopping(monitor='val_loss', mode='min', verbose=1, patience=PATIENCE), ModelCheckpoint(filepath=checkpoint_filepath, save_best_only=True, save_weights_only=True, monitor='val_accuracy', mode='max', verbose=1)]\n",
    "callbacks = [EarlyStopping(monitor='val_loss', mode='min', verbose=1, patience=PATIENCE), ModelCheckpoint(filepath=checkpoint_filepath, save_best_only=True, save_weights_only=True, monitor='val_loss', mode='min', verbose=1)]\n",
    "# callbacks = [EarlyStopping(monitor='val_loss', mode='min', verbose=1, patience=PATIENCE)]\n",
    "\n",
    "\n",
    "train_history = model.fit(x=train_input, y=train_df.label.values, validation_data=(validation_input, validation_df.label.values), epochs=EPOCHS, verbose=1, batch_size=BATCH_SIZE, callbacks=callbacks)"
   ]
  },
  {
   "cell_type": "code",
   "execution_count": 27,
   "id": "statewide-frederick",
   "metadata": {
    "execution": {
     "iopub.execute_input": "2021-03-29T00:24:34.453648Z",
     "iopub.status.busy": "2021-03-29T00:24:34.452671Z",
     "iopub.status.idle": "2021-03-29T00:24:34.621304Z",
     "shell.execute_reply": "2021-03-29T00:24:34.620214Z"
    },
    "papermill": {
     "duration": 0.356548,
     "end_time": "2021-03-29T00:24:34.621454",
     "exception": false,
     "start_time": "2021-03-29T00:24:34.264906",
     "status": "completed"
    },
    "tags": []
   },
   "outputs": [
    {
     "data": {
      "image/png": "[encoded data removed]",
      "text/plain": [
       "<Figure size 432x288 with 1 Axes>"
      ]
     },
     "metadata": {
      "needs_background": "light"
     },
     "output_type": "display_data"
    }
   ],
   "source": [
    "# plot training history\n",
    "plt.plot(train_history.history['loss'], label='train loss')\n",
    "plt.plot(train_history.history['val_loss'], label='validation loss')\n",
    "plt.legend()\n",
    "plt.show()"
   ]
  },
  {
   "cell_type": "code",
   "execution_count": 28,
   "id": "environmental-cable",
   "metadata": {
    "execution": {
     "iopub.execute_input": "2021-03-29T00:24:34.984543Z",
     "iopub.status.busy": "2021-03-29T00:24:34.983458Z",
     "iopub.status.idle": "2021-03-29T00:24:35.135027Z",
     "shell.execute_reply": "2021-03-29T00:24:35.134494Z"
    },
    "papermill": {
     "duration": 0.342197,
     "end_time": "2021-03-29T00:24:35.135164",
     "exception": false,
     "start_time": "2021-03-29T00:24:34.792967",
     "status": "completed"
    },
    "tags": []
   },
   "outputs": [
    {
     "data": {
      "image/png": "[encoded data removed]",
      "text/plain": [
       "<Figure size 432x288 with 1 Axes>"
      ]
     },
     "metadata": {
      "needs_background": "light"
     },
     "output_type": "display_data"
    }
   ],
   "source": [
    "# plot training history\n",
    "plt.plot(train_history.history['accuracy'], label='train accuracy')\n",
    "plt.plot(train_history.history['val_accuracy'], label='validation accuracy')\n",
    "plt.legend()\n",
    "plt.show()"
   ]
  },
  {
   "cell_type": "code",
   "execution_count": 29,
   "id": "about-anger",
   "metadata": {
    "execution": {
     "iopub.execute_input": "2021-03-29T00:24:35.483789Z",
     "iopub.status.busy": "2021-03-29T00:24:35.483202Z",
     "iopub.status.idle": "2021-03-29T00:25:15.284667Z",
     "shell.execute_reply": "2021-03-29T00:25:15.284105Z"
    },
    "papermill": {
     "duration": 39.976406,
     "end_time": "2021-03-29T00:25:15.284836",
     "exception": false,
     "start_time": "2021-03-29T00:24:35.308430",
     "status": "completed"
    },
    "tags": []
   },
   "outputs": [],
   "source": [
    "## The model weights (that are considered the best) are loaded into the model.\n",
    "model.load_weights(checkpoint_filepath)"
   ]
  },
  {
   "cell_type": "code",
   "execution_count": 30,
   "id": "hired-loading",
   "metadata": {
    "execution": {
     "iopub.execute_input": "2021-03-29T00:25:15.671424Z",
     "iopub.status.busy": "2021-03-29T00:25:15.670714Z",
     "iopub.status.idle": "2021-03-29T00:25:15.686639Z",
     "shell.execute_reply": "2021-03-29T00:25:15.687313Z"
    },
    "papermill": {
     "duration": 0.227441,
     "end_time": "2021-03-29T00:25:15.687507",
     "exception": false,
     "start_time": "2021-03-29T00:25:15.460066",
     "status": "completed"
    },
    "tags": []
   },
   "outputs": [
    {
     "name": "stdout",
     "output_type": "stream",
     "text": [
      "Number of examples in Test data: 5195\n"
     ]
    },
    {
     "data": {
      "text/html": [
       "<div>\n",
       "<style scoped>\n",
       "    .dataframe tbody tr th:only-of-type {\n",
       "        vertical-align: middle;\n",
       "    }\n",
       "\n",
       "    .dataframe tbody tr th {\n",
       "        vertical-align: top;\n",
       "    }\n",
       "\n",
       "    .dataframe thead th {\n",
       "        text-align: right;\n",
       "    }\n",
       "</style>\n",
       "<table border=\"1\" class=\"dataframe\">\n",
       "  <thead>\n",
       "    <tr style=\"text-align: right;\">\n",
       "      <th></th>\n",
       "      <th>id</th>\n",
       "      <th>premise</th>\n",
       "      <th>hypothesis</th>\n",
       "      <th>lang_abv</th>\n",
       "      <th>language</th>\n",
       "    </tr>\n",
       "  </thead>\n",
       "  <tbody>\n",
       "    <tr>\n",
       "      <th>0</th>\n",
       "      <td>c6d58c3f69</td>\n",
       "      <td>بکس، کیسی، راہیل، یسعیاہ، کیلی، کیلی، اور کولم...</td>\n",
       "      <td>کیسی کے لئے کوئی یادگار نہیں ہوگا, کولمین ہائی...</td>\n",
       "      <td>ur</td>\n",
       "      <td>Urdu</td>\n",
       "    </tr>\n",
       "    <tr>\n",
       "      <th>1</th>\n",
       "      <td>cefcc82292</td>\n",
       "      <td>هذا هو ما تم نصحنا به.</td>\n",
       "      <td>عندما يتم إخبارهم بما يجب عليهم فعله ، فشلت ال...</td>\n",
       "      <td>ar</td>\n",
       "      <td>Arabic</td>\n",
       "    </tr>\n",
       "    <tr>\n",
       "      <th>2</th>\n",
       "      <td>e98005252c</td>\n",
       "      <td>et cela est en grande partie dû au fait que le...</td>\n",
       "      <td>Les mères se droguent.</td>\n",
       "      <td>fr</td>\n",
       "      <td>French</td>\n",
       "    </tr>\n",
       "    <tr>\n",
       "      <th>3</th>\n",
       "      <td>58518c10ba</td>\n",
       "      <td>与城市及其他公民及社区组织代表就IMA的艺术发展进行对话&amp;amp</td>\n",
       "      <td>IMA与其他组织合作，因为它们都依靠共享资金。</td>\n",
       "      <td>zh</td>\n",
       "      <td>Chinese</td>\n",
       "    </tr>\n",
       "    <tr>\n",
       "      <th>4</th>\n",
       "      <td>c32b0d16df</td>\n",
       "      <td>Она все еще была там.</td>\n",
       "      <td>Мы думали, что она ушла, однако, она осталась.</td>\n",
       "      <td>ru</td>\n",
       "      <td>Russian</td>\n",
       "    </tr>\n",
       "  </tbody>\n",
       "</table>\n",
       "</div>"
      ],
      "text/plain": [
       "           id                                            premise  \\\n",
       "0  c6d58c3f69  بکس، کیسی، راہیل، یسعیاہ، کیلی، کیلی، اور کولم...   \n",
       "1  cefcc82292                             هذا هو ما تم نصحنا به.   \n",
       "2  e98005252c  et cela est en grande partie dû au fait que le...   \n",
       "3  58518c10ba                   与城市及其他公民及社区组织代表就IMA的艺术发展进行对话&amp   \n",
       "4  c32b0d16df                              Она все еще была там.   \n",
       "\n",
       "                                          hypothesis lang_abv language  \n",
       "0  کیسی کے لئے کوئی یادگار نہیں ہوگا, کولمین ہائی...       ur     Urdu  \n",
       "1  عندما يتم إخبارهم بما يجب عليهم فعله ، فشلت ال...       ar   Arabic  \n",
       "2                             Les mères se droguent.       fr   French  \n",
       "3                            IMA与其他组织合作，因为它们都依靠共享资金。       zh  Chinese  \n",
       "4     Мы думали, что она ушла, однако, она осталась.       ru  Russian  "
      ]
     },
     "execution_count": 30,
     "metadata": {},
     "output_type": "execute_result"
    }
   ],
   "source": [
    "print(\"Number of examples in Test data: {}\".format(test_df.shape[0]))\n",
    "\n",
    "test_df.head()"
   ]
  },
  {
   "cell_type": "code",
   "execution_count": 31,
   "id": "stupid-housing",
   "metadata": {
    "execution": {
     "iopub.execute_input": "2021-03-29T00:25:16.044594Z",
     "iopub.status.busy": "2021-03-29T00:25:16.043961Z",
     "iopub.status.idle": "2021-03-29T00:25:17.155362Z",
     "shell.execute_reply": "2021-03-29T00:25:17.154779Z"
    },
    "papermill": {
     "duration": 1.290993,
     "end_time": "2021-03-29T00:25:17.155512",
     "exception": false,
     "start_time": "2021-03-29T00:25:15.864519",
     "status": "completed"
    },
    "tags": []
   },
   "outputs": [
    {
     "name": "stdout",
     "output_type": "stream",
     "text": [
      "Encoding...\n",
      "Complete\n"
     ]
    }
   ],
   "source": [
    "test_input = encode(test_df, tokenizer=tokenizer, max_len=MAX_LEN)"
   ]
  },
  {
   "cell_type": "code",
   "execution_count": 32,
   "id": "positive-practitioner",
   "metadata": {
    "execution": {
     "iopub.execute_input": "2021-03-29T00:25:17.514310Z",
     "iopub.status.busy": "2021-03-29T00:25:17.513513Z",
     "iopub.status.idle": "2021-03-29T00:25:35.596982Z",
     "shell.execute_reply": "2021-03-29T00:25:35.597448Z"
    },
    "papermill": {
     "duration": 18.266368,
     "end_time": "2021-03-29T00:25:35.597634",
     "exception": false,
     "start_time": "2021-03-29T00:25:17.331266",
     "status": "completed"
    },
    "tags": []
   },
   "outputs": [],
   "source": [
    "predictions = [np.argmax(i) for i in model.predict(test_input)]\n",
    "# predictions = predictions[:test.shape[0]]"
   ]
  },
  {
   "cell_type": "code",
   "execution_count": 33,
   "id": "peripheral-timer",
   "metadata": {
    "execution": {
     "iopub.execute_input": "2021-03-29T00:25:35.948959Z",
     "iopub.status.busy": "2021-03-29T00:25:35.948345Z",
     "iopub.status.idle": "2021-03-29T00:25:35.962530Z",
     "shell.execute_reply": "2021-03-29T00:25:35.962989Z"
    },
    "papermill": {
     "duration": 0.190483,
     "end_time": "2021-03-29T00:25:35.963157",
     "exception": false,
     "start_time": "2021-03-29T00:25:35.772674",
     "status": "completed"
    },
    "tags": []
   },
   "outputs": [
    {
     "data": {
      "text/html": [
       "<div>\n",
       "<style scoped>\n",
       "    .dataframe tbody tr th:only-of-type {\n",
       "        vertical-align: middle;\n",
       "    }\n",
       "\n",
       "    .dataframe tbody tr th {\n",
       "        vertical-align: top;\n",
       "    }\n",
       "\n",
       "    .dataframe thead th {\n",
       "        text-align: right;\n",
       "    }\n",
       "</style>\n",
       "<table border=\"1\" class=\"dataframe\">\n",
       "  <thead>\n",
       "    <tr style=\"text-align: right;\">\n",
       "      <th></th>\n",
       "      <th>id</th>\n",
       "      <th>prediction</th>\n",
       "    </tr>\n",
       "  </thead>\n",
       "  <tbody>\n",
       "    <tr>\n",
       "      <th>0</th>\n",
       "      <td>c6d58c3f69</td>\n",
       "      <td>2</td>\n",
       "    </tr>\n",
       "    <tr>\n",
       "      <th>1</th>\n",
       "      <td>cefcc82292</td>\n",
       "      <td>1</td>\n",
       "    </tr>\n",
       "    <tr>\n",
       "      <th>2</th>\n",
       "      <td>e98005252c</td>\n",
       "      <td>0</td>\n",
       "    </tr>\n",
       "    <tr>\n",
       "      <th>3</th>\n",
       "      <td>58518c10ba</td>\n",
       "      <td>1</td>\n",
       "    </tr>\n",
       "    <tr>\n",
       "      <th>4</th>\n",
       "      <td>c32b0d16df</td>\n",
       "      <td>1</td>\n",
       "    </tr>\n",
       "  </tbody>\n",
       "</table>\n",
       "</div>"
      ],
      "text/plain": [
       "           id  prediction\n",
       "0  c6d58c3f69           2\n",
       "1  cefcc82292           1\n",
       "2  e98005252c           0\n",
       "3  58518c10ba           1\n",
       "4  c32b0d16df           1"
      ]
     },
     "execution_count": 33,
     "metadata": {},
     "output_type": "execute_result"
    }
   ],
   "source": [
    "submission = test_df.id.copy().to_frame()\n",
    "submission['prediction'] = predictions\n",
    "\n",
    "submission.head()"
   ]
  },
  {
   "cell_type": "code",
   "execution_count": 34,
   "id": "indie-choir",
   "metadata": {
    "execution": {
     "iopub.execute_input": "2021-03-29T00:25:36.314840Z",
     "iopub.status.busy": "2021-03-29T00:25:36.314186Z",
     "iopub.status.idle": "2021-03-29T00:25:36.327336Z",
     "shell.execute_reply": "2021-03-29T00:25:36.326602Z"
    },
    "papermill": {
     "duration": 0.189189,
     "end_time": "2021-03-29T00:25:36.327492",
     "exception": false,
     "start_time": "2021-03-29T00:25:36.138303",
     "status": "completed"
    },
    "tags": []
   },
   "outputs": [],
   "source": [
    "submission.to_csv(\"submission.csv\", index = False)"
   ]
  },
  {
   "cell_type": "code",
   "execution_count": 35,
   "id": "negative-software",
   "metadata": {
    "execution": {
     "iopub.execute_input": "2021-03-29T00:25:36.682625Z",
     "iopub.status.busy": "2021-03-29T00:25:36.681923Z",
     "iopub.status.idle": "2021-03-29T00:25:44.501625Z",
     "shell.execute_reply": "2021-03-29T00:25:44.501021Z"
    },
    "papermill": {
     "duration": 8.000739,
     "end_time": "2021-03-29T00:25:44.501771",
     "exception": false,
     "start_time": "2021-03-29T00:25:36.501032",
     "status": "completed"
    },
    "tags": []
   },
   "outputs": [],
   "source": [
    "# save validation predictions to check outputs against gold-label and include results in capstone report\n",
    "val_predictions = [np.argmax(i) for i in model.predict(validation_input)]\n",
    "validation_df['prediction'] = val_predictions\n",
    "validation_df.to_csv(\"validation_predictions.csv\", index=False)"
   ]
  },
  {
   "cell_type": "code",
   "execution_count": 36,
   "id": "familiar-family",
   "metadata": {
    "execution": {
     "iopub.execute_input": "2021-03-29T00:25:44.855846Z",
     "iopub.status.busy": "2021-03-29T00:25:44.855108Z",
     "iopub.status.idle": "2021-03-29T00:25:44.866826Z",
     "shell.execute_reply": "2021-03-29T00:25:44.867304Z"
    },
    "papermill": {
     "duration": 0.190251,
     "end_time": "2021-03-29T00:25:44.867486",
     "exception": false,
     "start_time": "2021-03-29T00:25:44.677235",
     "status": "completed"
    },
    "tags": []
   },
   "outputs": [
    {
     "data": {
      "text/html": [
       "<div>\n",
       "<style scoped>\n",
       "    .dataframe tbody tr th:only-of-type {\n",
       "        vertical-align: middle;\n",
       "    }\n",
       "\n",
       "    .dataframe tbody tr th {\n",
       "        vertical-align: top;\n",
       "    }\n",
       "\n",
       "    .dataframe thead th {\n",
       "        text-align: right;\n",
       "    }\n",
       "</style>\n",
       "<table border=\"1\" class=\"dataframe\">\n",
       "  <thead>\n",
       "    <tr style=\"text-align: right;\">\n",
       "      <th></th>\n",
       "      <th>id</th>\n",
       "      <th>premise</th>\n",
       "      <th>hypothesis</th>\n",
       "      <th>lang_abv</th>\n",
       "      <th>language</th>\n",
       "      <th>label</th>\n",
       "      <th>prediction</th>\n",
       "    </tr>\n",
       "  </thead>\n",
       "  <tbody>\n",
       "    <tr>\n",
       "      <th>0</th>\n",
       "      <td>e591a77c6c</td>\n",
       "      <td>ดังนั้น สำนักงานตัวแทนสหภาพต้องการคิดทบทวนการป...</td>\n",
       "      <td>ตัวแทนของรัฐบาลกลางมีทรัพยากรมนุษย์ที่เพียงพอ</td>\n",
       "      <td>th</td>\n",
       "      <td>Thai</td>\n",
       "      <td>2</td>\n",
       "      <td>1</td>\n",
       "    </tr>\n",
       "    <tr>\n",
       "      <th>1</th>\n",
       "      <td>b8198e0a5d</td>\n",
       "      <td>and uh as a matter of fact he's a draft dodger</td>\n",
       "      <td>They dodged the draft, I'll have you know.</td>\n",
       "      <td>en</td>\n",
       "      <td>English</td>\n",
       "      <td>0</td>\n",
       "      <td>0</td>\n",
       "    </tr>\n",
       "    <tr>\n",
       "      <th>2</th>\n",
       "      <td>6c46429835</td>\n",
       "      <td>Шефе, той беше като човек с раздвоена личност.</td>\n",
       "      <td>Шефът ми беше или наистина щастлив, или наисти...</td>\n",
       "      <td>bg</td>\n",
       "      <td>Bulgarian</td>\n",
       "      <td>1</td>\n",
       "      <td>1</td>\n",
       "    </tr>\n",
       "    <tr>\n",
       "      <th>3</th>\n",
       "      <td>b9fcf02f32</td>\n",
       "      <td>Nichts kommt von nichts, behauptete Lukrez vor...</td>\n",
       "      <td>Die Argumente von Lecretius wurden von Tautolo...</td>\n",
       "      <td>de</td>\n",
       "      <td>German</td>\n",
       "      <td>2</td>\n",
       "      <td>0</td>\n",
       "    </tr>\n",
       "    <tr>\n",
       "      <th>4</th>\n",
       "      <td>b82c59d12d</td>\n",
       "      <td>مالی سال 2000 کانگریس اور امریکی ٹیکس دہندہ کے...</td>\n",
       "      <td>2000 اب تک کا سب سے برا سال تھا۔</td>\n",
       "      <td>ur</td>\n",
       "      <td>Urdu</td>\n",
       "      <td>2</td>\n",
       "      <td>2</td>\n",
       "    </tr>\n",
       "  </tbody>\n",
       "</table>\n",
       "</div>"
      ],
      "text/plain": [
       "           id                                            premise  \\\n",
       "0  e591a77c6c  ดังนั้น สำนักงานตัวแทนสหภาพต้องการคิดทบทวนการป...   \n",
       "1  b8198e0a5d     and uh as a matter of fact he's a draft dodger   \n",
       "2  6c46429835     Шефе, той беше като човек с раздвоена личност.   \n",
       "3  b9fcf02f32  Nichts kommt von nichts, behauptete Lukrez vor...   \n",
       "4  b82c59d12d  مالی سال 2000 کانگریس اور امریکی ٹیکس دہندہ کے...   \n",
       "\n",
       "                                          hypothesis lang_abv   language  \\\n",
       "0      ตัวแทนของรัฐบาลกลางมีทรัพยากรมนุษย์ที่เพียงพอ       th       Thai   \n",
       "1         They dodged the draft, I'll have you know.       en    English   \n",
       "2  Шефът ми беше или наистина щастлив, или наисти...       bg  Bulgarian   \n",
       "3  Die Argumente von Lecretius wurden von Tautolo...       de     German   \n",
       "4                   2000 اب تک کا سب سے برا سال تھا۔       ur       Urdu   \n",
       "\n",
       "   label  prediction  \n",
       "0      2           1  \n",
       "1      0           0  \n",
       "2      1           1  \n",
       "3      2           0  \n",
       "4      2           2  "
      ]
     },
     "execution_count": 36,
     "metadata": {},
     "output_type": "execute_result"
    }
   ],
   "source": [
    "validation_df.head()"
   ]
  },
  {
   "cell_type": "code",
   "execution_count": 37,
   "id": "sonic-stevens",
   "metadata": {
    "execution": {
     "iopub.execute_input": "2021-03-29T00:25:45.221813Z",
     "iopub.status.busy": "2021-03-29T00:25:45.221051Z",
     "iopub.status.idle": "2021-03-29T00:25:45.231614Z",
     "shell.execute_reply": "2021-03-29T00:25:45.231063Z"
    },
    "papermill": {
     "duration": 0.188861,
     "end_time": "2021-03-29T00:25:45.231747",
     "exception": false,
     "start_time": "2021-03-29T00:25:45.042886",
     "status": "completed"
    },
    "tags": []
   },
   "outputs": [
    {
     "data": {
      "text/plain": [
       "0.8172442244224423"
      ]
     },
     "execution_count": 37,
     "metadata": {},
     "output_type": "execute_result"
    }
   ],
   "source": [
    "from sklearn.metrics import accuracy_score\n",
    "true_labels = validation_df.label.values.tolist()\n",
    "accuracy_score(y_true=true_labels, y_pred=val_predictions)"
   ]
  },
  {
   "cell_type": "code",
   "execution_count": 38,
   "id": "million-panama",
   "metadata": {
    "execution": {
     "iopub.execute_input": "2021-03-29T00:25:45.655218Z",
     "iopub.status.busy": "2021-03-29T00:25:45.654614Z",
     "iopub.status.idle": "2021-03-29T00:28:45.485216Z",
     "shell.execute_reply": "2021-03-29T00:28:45.484265Z"
    },
    "papermill": {
     "duration": 180.011021,
     "end_time": "2021-03-29T00:28:45.485411",
     "exception": false,
     "start_time": "2021-03-29T00:25:45.474390",
     "status": "completed"
    },
    "tags": []
   },
   "outputs": [
    {
     "name": "stdout",
     "output_type": "stream",
     "text": [
      "Loading XNLI data...\n"
     ]
    },
    {
     "data": {
      "application/vnd.jupyter.widget-view+json": {
       "model_id": "32c6b29fc1e44d038dd14f4645469165",
       "version_major": 2,
       "version_minor": 0
      },
      "text/plain": [
       "HBox(children=(FloatProgress(value=0.0, description='Downloading', max=2697.0, style=ProgressStyle(description…"
      ]
     },
     "metadata": {},
     "output_type": "display_data"
    },
    {
     "name": "stdout",
     "output_type": "stream",
     "text": [
      "\n"
     ]
    },
    {
     "data": {
      "application/vnd.jupyter.widget-view+json": {
       "model_id": "3205b94b60d84b1aa966a5caf59523c6",
       "version_major": 2,
       "version_minor": 0
      },
      "text/plain": [
       "HBox(children=(FloatProgress(value=0.0, description='Downloading', max=2184.0, style=ProgressStyle(description…"
      ]
     },
     "metadata": {},
     "output_type": "display_data"
    },
    {
     "name": "stdout",
     "output_type": "stream",
     "text": [
      "\n",
      "Downloading and preparing dataset xnli/all_languages (download: 461.54 MiB, generated: 1.50 GiB, post-processed: Unknown size, total: 1.95 GiB) to /root/.cache/huggingface/datasets/xnli/all_languages/1.1.0/51ba3a1091acf33fd7c2a54bcbeeee1b1df3ecb127fdca003d31968fa3a1e6a8...\n"
     ]
    },
    {
     "data": {
      "application/vnd.jupyter.widget-view+json": {
       "model_id": "c3315db2ef5045bb9a5b5f76398e853d",
       "version_major": 2,
       "version_minor": 0
      },
      "text/plain": [
       "HBox(children=(FloatProgress(value=0.0, description='Downloading', max=466098360.0, style=ProgressStyle(descri…"
      ]
     },
     "metadata": {},
     "output_type": "display_data"
    },
    {
     "name": "stdout",
     "output_type": "stream",
     "text": [
      "\n"
     ]
    },
    {
     "data": {
      "application/vnd.jupyter.widget-view+json": {
       "model_id": "f1886a69a7d4427193ac746d1589c63c",
       "version_major": 2,
       "version_minor": 0
      },
      "text/plain": [
       "HBox(children=(FloatProgress(value=0.0, description='Downloading', max=17865352.0, style=ProgressStyle(descrip…"
      ]
     },
     "metadata": {},
     "output_type": "display_data"
    },
    {
     "name": "stdout",
     "output_type": "stream",
     "text": [
      "\n"
     ]
    },
    {
     "data": {
      "application/vnd.jupyter.widget-view+json": {
       "model_id": "70aa978b3d0646f2b096522462549797",
       "version_major": 2,
       "version_minor": 0
      },
      "text/plain": [
       "HBox(children=(FloatProgress(value=1.0, bar_style='info', layout=Layout(width='20px'), max=1.0), HTML(value=''…"
      ]
     },
     "metadata": {},
     "output_type": "display_data"
    },
    {
     "data": {
      "application/vnd.jupyter.widget-view+json": {
       "model_id": "537ac69a3fab4c669262a62823c86aa7",
       "version_major": 2,
       "version_minor": 0
      },
      "text/plain": [
       "HBox(children=(FloatProgress(value=1.0, bar_style='info', layout=Layout(width='20px'), max=1.0), HTML(value=''…"
      ]
     },
     "metadata": {},
     "output_type": "display_data"
    },
    {
     "data": {
      "application/vnd.jupyter.widget-view+json": {
       "model_id": "35e46fe1a7f04685bca62a21c398e2ae",
       "version_major": 2,
       "version_minor": 0
      },
      "text/plain": [
       "HBox(children=(FloatProgress(value=1.0, bar_style='info', layout=Layout(width='20px'), max=1.0), HTML(value=''…"
      ]
     },
     "metadata": {},
     "output_type": "display_data"
    },
    {
     "name": "stderr",
     "output_type": "stream",
     "text": [
      "  0%|          | 0/7500 [00:00<?, ?it/s]"
     ]
    },
    {
     "name": "stdout",
     "output_type": "stream",
     "text": [
      "Dataset xnli downloaded and prepared to /root/.cache/huggingface/datasets/xnli/all_languages/1.1.0/51ba3a1091acf33fd7c2a54bcbeeee1b1df3ecb127fdca003d31968fa3a1e6a8. Subsequent calls will reuse this data.\n",
      "Dataset({\n",
      "    features: ['premise', 'hypothesis', 'label'],\n",
      "    num_rows: 7500\n",
      "})\n"
     ]
    },
    {
     "name": "stderr",
     "output_type": "stream",
     "text": [
      "100%|██████████| 7500/7500 [00:01<00:00, 7033.94it/s]\n"
     ]
    },
    {
     "name": "stdout",
     "output_type": "stream",
     "text": [
      "Number of missing data points per column in XNLI corpus:\n",
      "premise       0\n",
      "hypothesis    0\n",
      "label         0\n",
      "dtype: int64\n",
      "Total number of data examples in XNLI corpus after dropping NA values: 112500\n",
      "Total number of data examples in XNLI corpus after dropping duplicate values: 112500\n",
      "Test data shape: (5195, 5)\n",
      "Test data shape after dropping duplicate rows: (5195, 5)\n",
      "XNLI corpus shape: (110226, 3)\n",
      "XNLI test data shape: (55113, 3)\n",
      "Encoding...\n",
      "Complete\n"
     ]
    }
   ],
   "source": [
    "# save xnli test-set predictions to check outputs against gold-label and include results in capstone report\n",
    "xnli_test_df = process_xnli_data(test_df)\n",
    "xnli_test_df = xnli_test_df.sample(frac=0.50).reset_index(drop=True) #shuffle and take n% of data to generate predictions\n",
    "print (\"XNLI test data shape: {}\".format(xnli_test_df.shape))\n",
    "xnli_test_input = encode(xnli_test_df, tokenizer=tokenizer, max_len=MAX_LEN)\n",
    "xnli_test_predictions = [np.argmax(i) for i in model.predict(xnli_test_input)]\n",
    "xnli_test_df['prediction'] = xnli_test_predictions\n",
    "xnli_test_df.to_csv(\"xnli_test_predictions.csv\", index=False)"
   ]
  },
  {
   "cell_type": "code",
   "execution_count": 39,
   "id": "european-lloyd",
   "metadata": {
    "execution": {
     "iopub.execute_input": "2021-03-29T00:28:45.866357Z",
     "iopub.status.busy": "2021-03-29T00:28:45.865679Z",
     "iopub.status.idle": "2021-03-29T00:28:45.869002Z",
     "shell.execute_reply": "2021-03-29T00:28:45.869441Z"
    },
    "papermill": {
     "duration": 0.198487,
     "end_time": "2021-03-29T00:28:45.869614",
     "exception": false,
     "start_time": "2021-03-29T00:28:45.671127",
     "status": "completed"
    },
    "tags": []
   },
   "outputs": [
    {
     "data": {
      "text/html": [
       "<div>\n",
       "<style scoped>\n",
       "    .dataframe tbody tr th:only-of-type {\n",
       "        vertical-align: middle;\n",
       "    }\n",
       "\n",
       "    .dataframe tbody tr th {\n",
       "        vertical-align: top;\n",
       "    }\n",
       "\n",
       "    .dataframe thead th {\n",
       "        text-align: right;\n",
       "    }\n",
       "</style>\n",
       "<table border=\"1\" class=\"dataframe\">\n",
       "  <thead>\n",
       "    <tr style=\"text-align: right;\">\n",
       "      <th></th>\n",
       "      <th>premise</th>\n",
       "      <th>hypothesis</th>\n",
       "      <th>label</th>\n",
       "      <th>prediction</th>\n",
       "    </tr>\n",
       "  </thead>\n",
       "  <tbody>\n",
       "    <tr>\n",
       "      <th>0</th>\n",
       "      <td>Bugüne DEK tanıdığım tüm kifayetsiz insanlardan--</td>\n",
       "      <td>Tanıştığım her insanla daima memnunum.</td>\n",
       "      <td>2</td>\n",
       "      <td>2</td>\n",
       "    </tr>\n",
       "    <tr>\n",
       "      <th>1</th>\n",
       "      <td>हालांकि यह बहुत ही अपरिहार्य प्रतीत होता है, ल...</td>\n",
       "      <td>टैकनोलजीने हमें तेज कर दिया है।</td>\n",
       "      <td>0</td>\n",
       "      <td>0</td>\n",
       "    </tr>\n",
       "    <tr>\n",
       "      <th>2</th>\n",
       "      <td>Là một phần bức tường thành, cánh cổng được ng...</td>\n",
       "      <td>Cánh cổng cho mọi người mất 10 đô la để đi qua.</td>\n",
       "      <td>1</td>\n",
       "      <td>1</td>\n",
       "    </tr>\n",
       "    <tr>\n",
       "      <th>3</th>\n",
       "      <td>Когда Бэбкок &amp;amp; Уилкокс усовершенствовали б...</td>\n",
       "      <td>Там не было услуги бойлерной.</td>\n",
       "      <td>2</td>\n",
       "      <td>2</td>\n",
       "    </tr>\n",
       "    <tr>\n",
       "      <th>4</th>\n",
       "      <td>Χωρίς τη βοήθειά σας θα χάσουμε μερικά από αυτ...</td>\n",
       "      <td>Θα χάσουμε κάποια χρήματα αν δεν μπείς και εσύ.</td>\n",
       "      <td>0</td>\n",
       "      <td>0</td>\n",
       "    </tr>\n",
       "  </tbody>\n",
       "</table>\n",
       "</div>"
      ],
      "text/plain": [
       "                                             premise  \\\n",
       "0  Bugüne DEK tanıdığım tüm kifayetsiz insanlardan--   \n",
       "1  हालांकि यह बहुत ही अपरिहार्य प्रतीत होता है, ल...   \n",
       "2  Là một phần bức tường thành, cánh cổng được ng...   \n",
       "3  Когда Бэбкок &amp; Уилкокс усовершенствовали б...   \n",
       "4  Χωρίς τη βοήθειά σας θα χάσουμε μερικά από αυτ...   \n",
       "\n",
       "                                        hypothesis  label  prediction  \n",
       "0           Tanıştığım her insanla daima memnunum.      2           2  \n",
       "1                  टैकनोलजीने हमें तेज कर दिया है।      0           0  \n",
       "2  Cánh cổng cho mọi người mất 10 đô la để đi qua.      1           1  \n",
       "3                    Там не было услуги бойлерной.      2           2  \n",
       "4  Θα χάσουμε κάποια χρήματα αν δεν μπείς και εσύ.      0           0  "
      ]
     },
     "execution_count": 39,
     "metadata": {},
     "output_type": "execute_result"
    }
   ],
   "source": [
    "xnli_test_df.head()"
   ]
  },
  {
   "cell_type": "code",
   "execution_count": 40,
   "id": "sapphire-croatia",
   "metadata": {
    "execution": {
     "iopub.execute_input": "2021-03-29T00:28:46.259917Z",
     "iopub.status.busy": "2021-03-29T00:28:46.259316Z",
     "iopub.status.idle": "2021-03-29T00:28:46.286323Z",
     "shell.execute_reply": "2021-03-29T00:28:46.286760Z"
    },
    "papermill": {
     "duration": 0.230599,
     "end_time": "2021-03-29T00:28:46.286923",
     "exception": false,
     "start_time": "2021-03-29T00:28:46.056324",
     "status": "completed"
    },
    "tags": []
   },
   "outputs": [
    {
     "data": {
      "text/plain": [
       "0.8144539400867309"
      ]
     },
     "execution_count": 40,
     "metadata": {},
     "output_type": "execute_result"
    }
   ],
   "source": [
    "from sklearn.metrics import accuracy_score\n",
    "true_labels = xnli_test_df.label.values.tolist()\n",
    "accuracy_score(y_true=true_labels, y_pred=xnli_test_predictions)"
   ]
  }
 ],
 "metadata": {
  "kernelspec": {
   "display_name": "Python 3",
   "language": "python",
   "name": "python3"
  },
  "language_info": {
   "codemirror_mode": {
    "name": "ipython",
    "version": 3
   },
   "file_extension": ".py",
   "mimetype": "text/x-python",
   "name": "python",
   "nbconvert_exporter": "python",
   "pygments_lexer": "ipython3",
   "version": "3.7.9"
  },
  "papermill": {
   "default_parameters": {},
   "duration": 946.183827,
   "end_time": "2021-03-29T00:28:52.641276",
   "environment_variables": {},
   "exception": null,
   "input_path": "__notebook__.ipynb",
   "output_path": "__notebook__.ipynb",
   "parameters": {},
   "start_time": "2021-03-29T00:13:06.457449",
   "version": "2.3.2"
  },
  "widgets": {
   "application/vnd.jupyter.widget-state+json": {
    "state": {
     "01a7c2ee3b99491b91da08f605feb28b": {
      "model_module": "@jupyter-widgets/controls",
      "model_module_version": "1.5.0",
      "model_name": "HTMLModel",
      "state": {
       "_dom_classes": [],
       "_model_module": "@jupyter-widgets/controls",
       "_model_module_version": "1.5.0",
       "_model_name": "HTMLModel",
       "_view_count": null,
       "_view_module": "@jupyter-widgets/controls",
       "_view_module_version": "1.5.0",
       "_view_name": "HTMLView",
       "description": "",
       "description_tooltip": null,
       "layout": "IPY_MODEL_9df26d49331541a8b753dcf3fb118a7d",
       "placeholder": "​",
       "style": "IPY_MODEL_a812474bb18648459e56d1c73d33b562",
       "value": "&lt;tqdm.auto.tqdm object at 0x7f05c80c48d0&gt;"
      }
     },
     "0bd43953e3844105a9731b8f80cbbba0": {
      "model_module": "@jupyter-widgets/controls",
      "model_module_version": "1.5.0",
      "model_name": "FloatProgressModel",
      "state": {
       "_dom_classes": [],
       "_model_module": "@jupyter-widgets/controls",
       "_model_module_version": "1.5.0",
       "_model_name": "FloatProgressModel",
       "_view_count": null,
       "_view_module": "@jupyter-widgets/controls",
       "_view_module_version": "1.5.0",
       "_view_name": "ProgressView",
       "bar_style": "info",
       "description": "",
       "description_tooltip": null,
       "layout": "IPY_MODEL_edd0ccc8ab654502a8cd25d2c86536c5",
       "max": 1.0,
       "min": 0.0,
       "orientation": "horizontal",
       "style": "IPY_MODEL_fc33e6e44c4743b4b342ce408a95ea15",
       "value": 1.0
      }
     },
     "0e8424a6ba074525ad0ef96afe7e7444": {
      "model_module": "@jupyter-widgets/base",
      "model_module_version": "1.2.0",
      "model_name": "LayoutModel",
      "state": {
       "_model_module": "@jupyter-widgets/base",
       "_model_module_version": "1.2.0",
       "_model_name": "LayoutModel",
       "_view_count": null,
       "_view_module": "@jupyter-widgets/base",
       "_view_module_version": "1.2.0",
       "_view_name": "LayoutView",
       "align_content": null,
       "align_items": null,
       "align_self": null,
       "border": null,
       "bottom": null,
       "display": null,
       "flex": null,
       "flex_flow": null,
       "grid_area": null,
       "grid_auto_columns": null,
       "grid_auto_flow": null,
       "grid_auto_rows": null,
       "grid_column": null,
       "grid_gap": null,
       "grid_row": null,
       "grid_template_areas": null,
       "grid_template_columns": null,
       "grid_template_rows": null,
       "height": null,
       "justify_content": null,
       "justify_items": null,
       "left": null,
       "margin": null,
       "max_height": null,
       "max_width": null,
       "min_height": null,
       "min_width": null,
       "object_fit": null,
       "object_position": null,
       "order": null,
       "overflow": null,
       "overflow_x": null,
       "overflow_y": null,
       "padding": null,
       "right": null,
       "top": null,
       "visibility": null,
       "width": "20px"
      }
     },
     "0ee248b441ad46f69613e2e11ec6fe6c": {
      "model_module": "@jupyter-widgets/controls",
      "model_module_version": "1.5.0",
      "model_name": "FloatProgressModel",
      "state": {
       "_dom_classes": [],
       "_model_module": "@jupyter-widgets/controls",
       "_model_module_version": "1.5.0",
       "_model_name": "FloatProgressModel",
       "_view_count": null,
       "_view_module": "@jupyter-widgets/controls",
       "_view_module_version": "1.5.0",
       "_view_name": "ProgressView",
       "bar_style": "success",
       "description": "",
       "description_tooltip": null,
       "layout": "IPY_MODEL_6ec042298b5c4ec395da329019c83e6f",
       "max": 466098360.0,
       "min": 0.0,
       "orientation": "horizontal",
       "style": "IPY_MODEL_65ebf85e387841da9b4833898aa52f1f",
       "value": 466098360.0
      }
     },
     "0f5f921853804f3dadb0441b6a2fe977": {
      "model_module": "@jupyter-widgets/controls",
      "model_module_version": "1.5.0",
      "model_name": "FloatProgressModel",
      "state": {
       "_dom_classes": [],
       "_model_module": "@jupyter-widgets/controls",
       "_model_module_version": "1.5.0",
       "_model_name": "FloatProgressModel",
       "_view_count": null,
       "_view_module": "@jupyter-widgets/controls",
       "_view_module_version": "1.5.0",
       "_view_name": "ProgressView",
       "bar_style": "success",
       "description": "",
       "description_tooltip": null,
       "layout": "IPY_MODEL_2549e8408659482d84327c79a74fe964",
       "max": 513.0,
       "min": 0.0,
       "orientation": "horizontal",
       "style": "IPY_MODEL_a2c30990e622461d990b77c0486fe4d8",
       "value": 513.0
      }
     },
     "1032ed85e61f4f6dae1d742ca65898c4": {
      "model_module": "@jupyter-widgets/controls",
      "model_module_version": "1.5.0",
      "model_name": "DescriptionStyleModel",
      "state": {
       "_model_module": "@jupyter-widgets/controls",
       "_model_module_version": "1.5.0",
       "_model_name": "DescriptionStyleModel",
       "_view_count": null,
       "_view_module": "@jupyter-widgets/base",
       "_view_module_version": "1.2.0",
       "_view_name": "StyleView",
       "description_width": ""
      }
     },
     "16ec0e12381849b88e201ae8e798868c": {
      "model_module": "@jupyter-widgets/controls",
      "model_module_version": "1.5.0",
      "model_name": "ProgressStyleModel",
      "state": {
       "_model_module": "@jupyter-widgets/controls",
       "_model_module_version": "1.5.0",
       "_model_name": "ProgressStyleModel",
       "_view_count": null,
       "_view_module": "@jupyter-widgets/base",
       "_view_module_version": "1.2.0",
       "_view_name": "StyleView",
       "bar_color": null,
       "description_width": "initial"
      }
     },
     "1b45a8f05f094f9a82d1fbb7e2a2153f": {
      "model_module": "@jupyter-widgets/controls",
      "model_module_version": "1.5.0",
      "model_name": "DescriptionStyleModel",
      "state": {
       "_model_module": "@jupyter-widgets/controls",
       "_model_module_version": "1.5.0",
       "_model_name": "DescriptionStyleModel",
       "_view_count": null,
       "_view_module": "@jupyter-widgets/base",
       "_view_module_version": "1.2.0",
       "_view_name": "StyleView",
       "description_width": ""
      }
     },
     "1ed95fbb522c416ba86dfb0eab68bb5c": {
      "model_module": "@jupyter-widgets/controls",
      "model_module_version": "1.5.0",
      "model_name": "HTMLModel",
      "state": {
       "_dom_classes": [],
       "_model_module": "@jupyter-widgets/controls",
       "_model_module_version": "1.5.0",
       "_model_name": "HTMLModel",
       "_view_count": null,
       "_view_module": "@jupyter-widgets/controls",
       "_view_module_version": "1.5.0",
       "_view_name": "HTMLView",
       "description": "",
       "description_tooltip": null,
       "layout": "IPY_MODEL_509894b937924037a4baf6e45270810c",
       "placeholder": "​",
       "style": "IPY_MODEL_5497b6fad3304e85be2c08ceb6d305fe",
       "value": "&lt;tqdm.auto.tqdm object at 0x7f05c8689990&gt;"
      }
     },
     "2549e8408659482d84327c79a74fe964": {
      "model_module": "@jupyter-widgets/base",
      "model_module_version": "1.2.0",
      "model_name": "LayoutModel",
      "state": {
       "_model_module": "@jupyter-widgets/base",
       "_model_module_version": "1.2.0",
       "_model_name": "LayoutModel",
       "_view_count": null,
       "_view_module": "@jupyter-widgets/base",
       "_view_module_version": "1.2.0",
       "_view_name": "LayoutView",
       "align_content": null,
       "align_items": null,
       "align_self": null,
       "border": null,
       "bottom": null,
       "display": null,
       "flex": null,
       "flex_flow": null,
       "grid_area": null,
       "grid_auto_columns": null,
       "grid_auto_flow": null,
       "grid_auto_rows": null,
       "grid_column": null,
       "grid_gap": null,
       "grid_row": null,
       "grid_template_areas": null,
       "grid_template_columns": null,
       "grid_template_rows": null,
       "height": null,
       "justify_content": null,
       "justify_items": null,
       "left": null,
       "margin": null,
       "max_height": null,
       "max_width": null,
       "min_height": null,
       "min_width": null,
       "object_fit": null,
       "object_position": null,
       "order": null,
       "overflow": null,
       "overflow_x": null,
       "overflow_y": null,
       "padding": null,
       "right": null,
       "top": null,
       "visibility": null,
       "width": null
      }
     },
     "27d8578dea084d909683002b04d3b2f0": {
      "model_module": "@jupyter-widgets/controls",
      "model_module_version": "1.5.0",
      "model_name": "HTMLModel",
      "state": {
       "_dom_classes": [],
       "_model_module": "@jupyter-widgets/controls",
       "_model_module_version": "1.5.0",
       "_model_name": "HTMLModel",
       "_view_count": null,
       "_view_module": "@jupyter-widgets/controls",
       "_view_module_version": "1.5.0",
       "_view_name": "HTMLView",
       "description": "",
       "description_tooltip": null,
       "layout": "IPY_MODEL_d33dca6683ab423eac6bd1823d7f70fb",
       "placeholder": "​",
       "style": "IPY_MODEL_1032ed85e61f4f6dae1d742ca65898c4",
       "value": "&lt;tqdm.auto.tqdm object at 0x7f05807d5e90&gt;"
      }
     },
     "3205b94b60d84b1aa966a5caf59523c6": {
      "model_module": "@jupyter-widgets/controls",
      "model_module_version": "1.5.0",
      "model_name": "HBoxModel",
      "state": {
       "_dom_classes": [],
       "_model_module": "@jupyter-widgets/controls",
       "_model_module_version": "1.5.0",
       "_model_name": "HBoxModel",
       "_view_count": null,
       "_view_module": "@jupyter-widgets/controls",
       "_view_module_version": "1.5.0",
       "_view_name": "HBoxView",
       "box_style": "",
       "children": [
        "IPY_MODEL_4d6466e6d08e4f2e9f06d600d24898f4",
        "IPY_MODEL_f23313f7c4eb4cbdb2d104039b83ace5"
       ],
       "layout": "IPY_MODEL_5abeef6147f64e7987b8db025a29923d"
      }
     },
     "32c6b29fc1e44d038dd14f4645469165": {
      "model_module": "@jupyter-widgets/controls",
      "model_module_version": "1.5.0",
      "model_name": "HBoxModel",
      "state": {
       "_dom_classes": [],
       "_model_module": "@jupyter-widgets/controls",
       "_model_module_version": "1.5.0",
       "_model_name": "HBoxModel",
       "_view_count": null,
       "_view_module": "@jupyter-widgets/controls",
       "_view_module_version": "1.5.0",
       "_view_name": "HBoxView",
       "box_style": "",
       "children": [
        "IPY_MODEL_841bc26eb3f243e0b3c741f48f9859c5",
        "IPY_MODEL_be5480b86d46470ca51a007f2a80a334"
       ],
       "layout": "IPY_MODEL_6970dd38a75543e5ad0bc7ad0798764e"
      }
     },
     "34910155d12146f1b41b61444f155afe": {
      "model_module": "@jupyter-widgets/controls",
      "model_module_version": "1.5.0",
      "model_name": "FloatProgressModel",
      "state": {
       "_dom_classes": [],
       "_model_module": "@jupyter-widgets/controls",
       "_model_module_version": "1.5.0",
       "_model_name": "FloatProgressModel",
       "_view_count": null,
       "_view_module": "@jupyter-widgets/controls",
       "_view_module_version": "1.5.0",
       "_view_name": "ProgressView",
       "bar_style": "info",
       "description": "",
       "description_tooltip": null,
       "layout": "IPY_MODEL_0e8424a6ba074525ad0ef96afe7e7444",
       "max": 1.0,
       "min": 0.0,
       "orientation": "horizontal",
       "style": "IPY_MODEL_b07d5d8451f04a96a76f1e622ade421a",
       "value": 1.0
      }
     },
     "35e46fe1a7f04685bca62a21c398e2ae": {
      "model_module": "@jupyter-widgets/controls",
      "model_module_version": "1.5.0",
      "model_name": "HBoxModel",
      "state": {
       "_dom_classes": [],
       "_model_module": "@jupyter-widgets/controls",
       "_model_module_version": "1.5.0",
       "_model_name": "HBoxModel",
       "_view_count": null,
       "_view_module": "@jupyter-widgets/controls",
       "_view_module_version": "1.5.0",
       "_view_name": "HBoxView",
       "box_style": "",
       "children": [
        "IPY_MODEL_0bd43953e3844105a9731b8f80cbbba0",
        "IPY_MODEL_b9c04302d54a408c8876c77cbc9424b5"
       ],
       "layout": "IPY_MODEL_64406bb321cc4f64aeebb3cd61e441e7"
      }
     },
     "377878950f6d4ee2a78f104cba69401e": {
      "model_module": "@jupyter-widgets/base",
      "model_module_version": "1.2.0",
      "model_name": "LayoutModel",
      "state": {
       "_model_module": "@jupyter-widgets/base",
       "_model_module_version": "1.2.0",
       "_model_name": "LayoutModel",
       "_view_count": null,
       "_view_module": "@jupyter-widgets/base",
       "_view_module_version": "1.2.0",
       "_view_name": "LayoutView",
       "align_content": null,
       "align_items": null,
       "align_self": null,
       "border": null,
       "bottom": null,
       "display": null,
       "flex": null,
       "flex_flow": null,
       "grid_area": null,
       "grid_auto_columns": null,
       "grid_auto_flow": null,
       "grid_auto_rows": null,
       "grid_column": null,
       "grid_gap": null,
       "grid_row": null,
       "grid_template_areas": null,
       "grid_template_columns": null,
       "grid_template_rows": null,
       "height": null,
       "justify_content": null,
       "justify_items": null,
       "left": null,
       "margin": null,
       "max_height": null,
       "max_width": null,
       "min_height": null,
       "min_width": null,
       "object_fit": null,
       "object_position": null,
       "order": null,
       "overflow": null,
       "overflow_x": null,
       "overflow_y": null,
       "padding": null,
       "right": null,
       "top": null,
       "visibility": null,
       "width": "20px"
      }
     },
     "383dfd0a02f84cf5bab27f4ddc9acfd9": {
      "model_module": "@jupyter-widgets/base",
      "model_module_version": "1.2.0",
      "model_name": "LayoutModel",
      "state": {
       "_model_module": "@jupyter-widgets/base",
       "_model_module_version": "1.2.0",
       "_model_name": "LayoutModel",
       "_view_count": null,
       "_view_module": "@jupyter-widgets/base",
       "_view_module_version": "1.2.0",
       "_view_name": "LayoutView",
       "align_content": null,
       "align_items": null,
       "align_self": null,
       "border": null,
       "bottom": null,
       "display": null,
       "flex": null,
       "flex_flow": null,
       "grid_area": null,
       "grid_auto_columns": null,
       "grid_auto_flow": null,
       "grid_auto_rows": null,
       "grid_column": null,
       "grid_gap": null,
       "grid_row": null,
       "grid_template_areas": null,
       "grid_template_columns": null,
       "grid_template_rows": null,
       "height": null,
       "justify_content": null,
       "justify_items": null,
       "left": null,
       "margin": null,
       "max_height": null,
       "max_width": null,
       "min_height": null,
       "min_width": null,
       "object_fit": null,
       "object_position": null,
       "order": null,
       "overflow": null,
       "overflow_x": null,
       "overflow_y": null,
       "padding": null,
       "right": null,
       "top": null,
       "visibility": null,
       "width": null
      }
     },
     "41a0ff6b271241fc9ff9c1306759242a": {
      "model_module": "@jupyter-widgets/base",
      "model_module_version": "1.2.0",
      "model_name": "LayoutModel",
      "state": {
       "_model_module": "@jupyter-widgets/base",
       "_model_module_version": "1.2.0",
       "_model_name": "LayoutModel",
       "_view_count": null,
       "_view_module": "@jupyter-widgets/base",
       "_view_module_version": "1.2.0",
       "_view_name": "LayoutView",
       "align_content": null,
       "align_items": null,
       "align_self": null,
       "border": null,
       "bottom": null,
       "display": null,
       "flex": null,
       "flex_flow": null,
       "grid_area": null,
       "grid_auto_columns": null,
       "grid_auto_flow": null,
       "grid_auto_rows": null,
       "grid_column": null,
       "grid_gap": null,
       "grid_row": null,
       "grid_template_areas": null,
       "grid_template_columns": null,
       "grid_template_rows": null,
       "height": null,
       "justify_content": null,
       "justify_items": null,
       "left": null,
       "margin": null,
       "max_height": null,
       "max_width": null,
       "min_height": null,
       "min_width": null,
       "object_fit": null,
       "object_position": null,
       "order": null,
       "overflow": null,
       "overflow_x": null,
       "overflow_y": null,
       "padding": null,
       "right": null,
       "top": null,
       "visibility": null,
       "width": null
      }
     },
     "4211551893834fe1af2bb4f66a8c8c4f": {
      "model_module": "@jupyter-widgets/base",
      "model_module_version": "1.2.0",
      "model_name": "LayoutModel",
      "state": {
       "_model_module": "@jupyter-widgets/base",
       "_model_module_version": "1.2.0",
       "_model_name": "LayoutModel",
       "_view_count": null,
       "_view_module": "@jupyter-widgets/base",
       "_view_module_version": "1.2.0",
       "_view_name": "LayoutView",
       "align_content": null,
       "align_items": null,
       "align_self": null,
       "border": null,
       "bottom": null,
       "display": null,
       "flex": null,
       "flex_flow": null,
       "grid_area": null,
       "grid_auto_columns": null,
       "grid_auto_flow": null,
       "grid_auto_rows": null,
       "grid_column": null,
       "grid_gap": null,
       "grid_row": null,
       "grid_template_areas": null,
       "grid_template_columns": null,
       "grid_template_rows": null,
       "height": null,
       "justify_content": null,
       "justify_items": null,
       "left": null,
       "margin": null,
       "max_height": null,
       "max_width": null,
       "min_height": null,
       "min_width": null,
       "object_fit": null,
       "object_position": null,
       "order": null,
       "overflow": null,
       "overflow_x": null,
       "overflow_y": null,
       "padding": null,
       "right": null,
       "top": null,
       "visibility": null,
       "width": null
      }
     },
     "48daf978e897469aa45d23b4c673d081": {
      "model_module": "@jupyter-widgets/base",
      "model_module_version": "1.2.0",
      "model_name": "LayoutModel",
      "state": {
       "_model_module": "@jupyter-widgets/base",
       "_model_module_version": "1.2.0",
       "_model_name": "LayoutModel",
       "_view_count": null,
       "_view_module": "@jupyter-widgets/base",
       "_view_module_version": "1.2.0",
       "_view_name": "LayoutView",
       "align_content": null,
       "align_items": null,
       "align_self": null,
       "border": null,
       "bottom": null,
       "display": null,
       "flex": null,
       "flex_flow": null,
       "grid_area": null,
       "grid_auto_columns": null,
       "grid_auto_flow": null,
       "grid_auto_rows": null,
       "grid_column": null,
       "grid_gap": null,
       "grid_row": null,
       "grid_template_areas": null,
       "grid_template_columns": null,
       "grid_template_rows": null,
       "height": null,
       "justify_content": null,
       "justify_items": null,
       "left": null,
       "margin": null,
       "max_height": null,
       "max_width": null,
       "min_height": null,
       "min_width": null,
       "object_fit": null,
       "object_position": null,
       "order": null,
       "overflow": null,
       "overflow_x": null,
       "overflow_y": null,
       "padding": null,
       "right": null,
       "top": null,
       "visibility": null,
       "width": null
      }
     },
     "492c29505f6d427c96ac8071c0477de9": {
      "model_module": "@jupyter-widgets/controls",
      "model_module_version": "1.5.0",
      "model_name": "HTMLModel",
      "state": {
       "_dom_classes": [],
       "_model_module": "@jupyter-widgets/controls",
       "_model_module_version": "1.5.0",
       "_model_name": "HTMLModel",
       "_view_count": null,
       "_view_module": "@jupyter-widgets/controls",
       "_view_module_version": "1.5.0",
       "_view_name": "HTMLView",
       "description": "",
       "description_tooltip": null,
       "layout": "IPY_MODEL_9f51a4162dcd4ab88e1c5d2e311db578",
       "placeholder": "​",
       "style": "IPY_MODEL_6726a74a37ef4e76aedf6e50169f66f8",
       "value": "&lt;tqdm.auto.tqdm object at 0x7f057804db90&gt;"
      }
     },
     "49731c60db3a4d6eb92ffcd09b974153": {
      "model_module": "@jupyter-widgets/controls",
      "model_module_version": "1.5.0",
      "model_name": "ProgressStyleModel",
      "state": {
       "_model_module": "@jupyter-widgets/controls",
       "_model_module_version": "1.5.0",
       "_model_name": "ProgressStyleModel",
       "_view_count": null,
       "_view_module": "@jupyter-widgets/base",
       "_view_module_version": "1.2.0",
       "_view_name": "StyleView",
       "bar_color": null,
       "description_width": "initial"
      }
     },
     "4b54224e529a41efa557b47018115e44": {
      "model_module": "@jupyter-widgets/controls",
      "model_module_version": "1.5.0",
      "model_name": "DescriptionStyleModel",
      "state": {
       "_model_module": "@jupyter-widgets/controls",
       "_model_module_version": "1.5.0",
       "_model_name": "DescriptionStyleModel",
       "_view_count": null,
       "_view_module": "@jupyter-widgets/base",
       "_view_module_version": "1.2.0",
       "_view_name": "StyleView",
       "description_width": ""
      }
     },
     "4d6466e6d08e4f2e9f06d600d24898f4": {
      "model_module": "@jupyter-widgets/controls",
      "model_module_version": "1.5.0",
      "model_name": "FloatProgressModel",
      "state": {
       "_dom_classes": [],
       "_model_module": "@jupyter-widgets/controls",
       "_model_module_version": "1.5.0",
       "_model_name": "FloatProgressModel",
       "_view_count": null,
       "_view_module": "@jupyter-widgets/controls",
       "_view_module_version": "1.5.0",
       "_view_name": "ProgressView",
       "bar_style": "success",
       "description": "",
       "description_tooltip": null,
       "layout": "IPY_MODEL_95f04b9d38bb4763b1e7c8122a7bd466",
       "max": 2184.0,
       "min": 0.0,
       "orientation": "horizontal",
       "style": "IPY_MODEL_60e9e15bcac44ababe6a22ec0acae114",
       "value": 2184.0
      }
     },
     "4d87f2115b0742eab17a5f7fe85e3bd7": {
      "model_module": "@jupyter-widgets/base",
      "model_module_version": "1.2.0",
      "model_name": "LayoutModel",
      "state": {
       "_model_module": "@jupyter-widgets/base",
       "_model_module_version": "1.2.0",
       "_model_name": "LayoutModel",
       "_view_count": null,
       "_view_module": "@jupyter-widgets/base",
       "_view_module_version": "1.2.0",
       "_view_name": "LayoutView",
       "align_content": null,
       "align_items": null,
       "align_self": null,
       "border": null,
       "bottom": null,
       "display": null,
       "flex": null,
       "flex_flow": null,
       "grid_area": null,
       "grid_auto_columns": null,
       "grid_auto_flow": null,
       "grid_auto_rows": null,
       "grid_column": null,
       "grid_gap": null,
       "grid_row": null,
       "grid_template_areas": null,
       "grid_template_columns": null,
       "grid_template_rows": null,
       "height": null,
       "justify_content": null,
       "justify_items": null,
       "left": null,
       "margin": null,
       "max_height": null,
       "max_width": null,
       "min_height": null,
       "min_width": null,
       "object_fit": null,
       "object_position": null,
       "order": null,
       "overflow": null,
       "overflow_x": null,
       "overflow_y": null,
       "padding": null,
       "right": null,
       "top": null,
       "visibility": null,
       "width": null
      }
     },
     "509894b937924037a4baf6e45270810c": {
      "model_module": "@jupyter-widgets/base",
      "model_module_version": "1.2.0",
      "model_name": "LayoutModel",
      "state": {
       "_model_module": "@jupyter-widgets/base",
       "_model_module_version": "1.2.0",
       "_model_name": "LayoutModel",
       "_view_count": null,
       "_view_module": "@jupyter-widgets/base",
       "_view_module_version": "1.2.0",
       "_view_name": "LayoutView",
       "align_content": null,
       "align_items": null,
       "align_self": null,
       "border": null,
       "bottom": null,
       "display": null,
       "flex": null,
       "flex_flow": null,
       "grid_area": null,
       "grid_auto_columns": null,
       "grid_auto_flow": null,
       "grid_auto_rows": null,
       "grid_column": null,
       "grid_gap": null,
       "grid_row": null,
       "grid_template_areas": null,
       "grid_template_columns": null,
       "grid_template_rows": null,
       "height": null,
       "justify_content": null,
       "justify_items": null,
       "left": null,
       "margin": null,
       "max_height": null,
       "max_width": null,
       "min_height": null,
       "min_width": null,
       "object_fit": null,
       "object_position": null,
       "order": null,
       "overflow": null,
       "overflow_x": null,
       "overflow_y": null,
       "padding": null,
       "right": null,
       "top": null,
       "visibility": null,
       "width": null
      }
     },
     "537ac69a3fab4c669262a62823c86aa7": {
      "model_module": "@jupyter-widgets/controls",
      "model_module_version": "1.5.0",
      "model_name": "HBoxModel",
      "state": {
       "_dom_classes": [],
       "_model_module": "@jupyter-widgets/controls",
       "_model_module_version": "1.5.0",
       "_model_name": "HBoxModel",
       "_view_count": null,
       "_view_module": "@jupyter-widgets/controls",
       "_view_module_version": "1.5.0",
       "_view_name": "HBoxView",
       "box_style": "",
       "children": [
        "IPY_MODEL_c6208aeda944417faa45cd75c974cf39",
        "IPY_MODEL_27d8578dea084d909683002b04d3b2f0"
       ],
       "layout": "IPY_MODEL_de6d8d8d0c094fab9e0b2c0b2700e538"
      }
     },
     "5497b6fad3304e85be2c08ceb6d305fe": {
      "model_module": "@jupyter-widgets/controls",
      "model_module_version": "1.5.0",
      "model_name": "DescriptionStyleModel",
      "state": {
       "_model_module": "@jupyter-widgets/controls",
       "_model_module_version": "1.5.0",
       "_model_name": "DescriptionStyleModel",
       "_view_count": null,
       "_view_module": "@jupyter-widgets/base",
       "_view_module_version": "1.2.0",
       "_view_name": "StyleView",
       "description_width": ""
      }
     },
     "571e5cb1cd9748cc9162da903217d17e": {
      "model_module": "@jupyter-widgets/controls",
      "model_module_version": "1.5.0",
      "model_name": "FloatProgressModel",
      "state": {
       "_dom_classes": [],
       "_model_module": "@jupyter-widgets/controls",
       "_model_module_version": "1.5.0",
       "_model_name": "FloatProgressModel",
       "_view_count": null,
       "_view_module": "@jupyter-widgets/controls",
       "_view_module_version": "1.5.0",
       "_view_name": "ProgressView",
       "bar_style": "success",
       "description": "",
       "description_tooltip": null,
       "layout": "IPY_MODEL_b9d2206ba3aa437d86672344b3f8dbeb",
       "max": 5069051.0,
       "min": 0.0,
       "orientation": "horizontal",
       "style": "IPY_MODEL_76220291571b40ac977a1474c0e4ce2f",
       "value": 5069051.0
      }
     },
     "58b35a3481ad48528ec6ca21b9e8c22c": {
      "model_module": "@jupyter-widgets/controls",
      "model_module_version": "1.5.0",
      "model_name": "HBoxModel",
      "state": {
       "_dom_classes": [],
       "_model_module": "@jupyter-widgets/controls",
       "_model_module_version": "1.5.0",
       "_model_name": "HBoxModel",
       "_view_count": null,
       "_view_module": "@jupyter-widgets/controls",
       "_view_module_version": "1.5.0",
       "_view_name": "HBoxView",
       "box_style": "",
       "children": [
        "IPY_MODEL_0f5f921853804f3dadb0441b6a2fe977",
        "IPY_MODEL_1ed95fbb522c416ba86dfb0eab68bb5c"
       ],
       "layout": "IPY_MODEL_4211551893834fe1af2bb4f66a8c8c4f"
      }
     },
     "5abeef6147f64e7987b8db025a29923d": {
      "model_module": "@jupyter-widgets/base",
      "model_module_version": "1.2.0",
      "model_name": "LayoutModel",
      "state": {
       "_model_module": "@jupyter-widgets/base",
       "_model_module_version": "1.2.0",
       "_model_name": "LayoutModel",
       "_view_count": null,
       "_view_module": "@jupyter-widgets/base",
       "_view_module_version": "1.2.0",
       "_view_name": "LayoutView",
       "align_content": null,
       "align_items": null,
       "align_self": null,
       "border": null,
       "bottom": null,
       "display": null,
       "flex": null,
       "flex_flow": null,
       "grid_area": null,
       "grid_auto_columns": null,
       "grid_auto_flow": null,
       "grid_auto_rows": null,
       "grid_column": null,
       "grid_gap": null,
       "grid_row": null,
       "grid_template_areas": null,
       "grid_template_columns": null,
       "grid_template_rows": null,
       "height": null,
       "justify_content": null,
       "justify_items": null,
       "left": null,
       "margin": null,
       "max_height": null,
       "max_width": null,
       "min_height": null,
       "min_width": null,
       "object_fit": null,
       "object_position": null,
       "order": null,
       "overflow": null,
       "overflow_x": null,
       "overflow_y": null,
       "padding": null,
       "right": null,
       "top": null,
       "visibility": null,
       "width": null
      }
     },
     "5b53eac83ae54d1cbd0a72c8e4e10d66": {
      "model_module": "@jupyter-widgets/base",
      "model_module_version": "1.2.0",
      "model_name": "LayoutModel",
      "state": {
       "_model_module": "@jupyter-widgets/base",
       "_model_module_version": "1.2.0",
       "_model_name": "LayoutModel",
       "_view_count": null,
       "_view_module": "@jupyter-widgets/base",
       "_view_module_version": "1.2.0",
       "_view_name": "LayoutView",
       "align_content": null,
       "align_items": null,
       "align_self": null,
       "border": null,
       "bottom": null,
       "display": null,
       "flex": null,
       "flex_flow": null,
       "grid_area": null,
       "grid_auto_columns": null,
       "grid_auto_flow": null,
       "grid_auto_rows": null,
       "grid_column": null,
       "grid_gap": null,
       "grid_row": null,
       "grid_template_areas": null,
       "grid_template_columns": null,
       "grid_template_rows": null,
       "height": null,
       "justify_content": null,
       "justify_items": null,
       "left": null,
       "margin": null,
       "max_height": null,
       "max_width": null,
       "min_height": null,
       "min_width": null,
       "object_fit": null,
       "object_position": null,
       "order": null,
       "overflow": null,
       "overflow_x": null,
       "overflow_y": null,
       "padding": null,
       "right": null,
       "top": null,
       "visibility": null,
       "width": null
      }
     },
     "5d96c94ab0434664b1a2694c797d7aa2": {
      "model_module": "@jupyter-widgets/controls",
      "model_module_version": "1.5.0",
      "model_name": "ProgressStyleModel",
      "state": {
       "_model_module": "@jupyter-widgets/controls",
       "_model_module_version": "1.5.0",
       "_model_name": "ProgressStyleModel",
       "_view_count": null,
       "_view_module": "@jupyter-widgets/base",
       "_view_module_version": "1.2.0",
       "_view_name": "StyleView",
       "bar_color": null,
       "description_width": "initial"
      }
     },
     "60e9e15bcac44ababe6a22ec0acae114": {
      "model_module": "@jupyter-widgets/controls",
      "model_module_version": "1.5.0",
      "model_name": "ProgressStyleModel",
      "state": {
       "_model_module": "@jupyter-widgets/controls",
       "_model_module_version": "1.5.0",
       "_model_name": "ProgressStyleModel",
       "_view_count": null,
       "_view_module": "@jupyter-widgets/base",
       "_view_module_version": "1.2.0",
       "_view_name": "StyleView",
       "bar_color": null,
       "description_width": "initial"
      }
     },
     "626d09299e4c4237b3a66a5293fcfc3c": {
      "model_module": "@jupyter-widgets/base",
      "model_module_version": "1.2.0",
      "model_name": "LayoutModel",
      "state": {
       "_model_module": "@jupyter-widgets/base",
       "_model_module_version": "1.2.0",
       "_model_name": "LayoutModel",
       "_view_count": null,
       "_view_module": "@jupyter-widgets/base",
       "_view_module_version": "1.2.0",
       "_view_name": "LayoutView",
       "align_content": null,
       "align_items": null,
       "align_self": null,
       "border": null,
       "bottom": null,
       "display": null,
       "flex": null,
       "flex_flow": null,
       "grid_area": null,
       "grid_auto_columns": null,
       "grid_auto_flow": null,
       "grid_auto_rows": null,
       "grid_column": null,
       "grid_gap": null,
       "grid_row": null,
       "grid_template_areas": null,
       "grid_template_columns": null,
       "grid_template_rows": null,
       "height": null,
       "justify_content": null,
       "justify_items": null,
       "left": null,
       "margin": null,
       "max_height": null,
       "max_width": null,
       "min_height": null,
       "min_width": null,
       "object_fit": null,
       "object_position": null,
       "order": null,
       "overflow": null,
       "overflow_x": null,
       "overflow_y": null,
       "padding": null,
       "right": null,
       "top": null,
       "visibility": null,
       "width": null
      }
     },
     "64406bb321cc4f64aeebb3cd61e441e7": {
      "model_module": "@jupyter-widgets/base",
      "model_module_version": "1.2.0",
      "model_name": "LayoutModel",
      "state": {
       "_model_module": "@jupyter-widgets/base",
       "_model_module_version": "1.2.0",
       "_model_name": "LayoutModel",
       "_view_count": null,
       "_view_module": "@jupyter-widgets/base",
       "_view_module_version": "1.2.0",
       "_view_name": "LayoutView",
       "align_content": null,
       "align_items": null,
       "align_self": null,
       "border": null,
       "bottom": null,
       "display": null,
       "flex": null,
       "flex_flow": null,
       "grid_area": null,
       "grid_auto_columns": null,
       "grid_auto_flow": null,
       "grid_auto_rows": null,
       "grid_column": null,
       "grid_gap": null,
       "grid_row": null,
       "grid_template_areas": null,
       "grid_template_columns": null,
       "grid_template_rows": null,
       "height": null,
       "justify_content": null,
       "justify_items": null,
       "left": null,
       "margin": null,
       "max_height": null,
       "max_width": null,
       "min_height": null,
       "min_width": null,
       "object_fit": null,
       "object_position": null,
       "order": null,
       "overflow": null,
       "overflow_x": null,
       "overflow_y": null,
       "padding": null,
       "right": null,
       "top": null,
       "visibility": null,
       "width": null
      }
     },
     "65ebf85e387841da9b4833898aa52f1f": {
      "model_module": "@jupyter-widgets/controls",
      "model_module_version": "1.5.0",
      "model_name": "ProgressStyleModel",
      "state": {
       "_model_module": "@jupyter-widgets/controls",
       "_model_module_version": "1.5.0",
       "_model_name": "ProgressStyleModel",
       "_view_count": null,
       "_view_module": "@jupyter-widgets/base",
       "_view_module_version": "1.2.0",
       "_view_name": "StyleView",
       "bar_color": null,
       "description_width": "initial"
      }
     },
     "66437cb29887450ca1a5835f384a8a44": {
      "model_module": "@jupyter-widgets/base",
      "model_module_version": "1.2.0",
      "model_name": "LayoutModel",
      "state": {
       "_model_module": "@jupyter-widgets/base",
       "_model_module_version": "1.2.0",
       "_model_name": "LayoutModel",
       "_view_count": null,
       "_view_module": "@jupyter-widgets/base",
       "_view_module_version": "1.2.0",
       "_view_name": "LayoutView",
       "align_content": null,
       "align_items": null,
       "align_self": null,
       "border": null,
       "bottom": null,
       "display": null,
       "flex": null,
       "flex_flow": null,
       "grid_area": null,
       "grid_auto_columns": null,
       "grid_auto_flow": null,
       "grid_auto_rows": null,
       "grid_column": null,
       "grid_gap": null,
       "grid_row": null,
       "grid_template_areas": null,
       "grid_template_columns": null,
       "grid_template_rows": null,
       "height": null,
       "justify_content": null,
       "justify_items": null,
       "left": null,
       "margin": null,
       "max_height": null,
       "max_width": null,
       "min_height": null,
       "min_width": null,
       "object_fit": null,
       "object_position": null,
       "order": null,
       "overflow": null,
       "overflow_x": null,
       "overflow_y": null,
       "padding": null,
       "right": null,
       "top": null,
       "visibility": null,
       "width": null
      }
     },
     "6726a74a37ef4e76aedf6e50169f66f8": {
      "model_module": "@jupyter-widgets/controls",
      "model_module_version": "1.5.0",
      "model_name": "DescriptionStyleModel",
      "state": {
       "_model_module": "@jupyter-widgets/controls",
       "_model_module_version": "1.5.0",
       "_model_name": "DescriptionStyleModel",
       "_view_count": null,
       "_view_module": "@jupyter-widgets/base",
       "_view_module_version": "1.2.0",
       "_view_name": "StyleView",
       "description_width": ""
      }
     },
     "6970dd38a75543e5ad0bc7ad0798764e": {
      "model_module": "@jupyter-widgets/base",
      "model_module_version": "1.2.0",
      "model_name": "LayoutModel",
      "state": {
       "_model_module": "@jupyter-widgets/base",
       "_model_module_version": "1.2.0",
       "_model_name": "LayoutModel",
       "_view_count": null,
       "_view_module": "@jupyter-widgets/base",
       "_view_module_version": "1.2.0",
       "_view_name": "LayoutView",
       "align_content": null,
       "align_items": null,
       "align_self": null,
       "border": null,
       "bottom": null,
       "display": null,
       "flex": null,
       "flex_flow": null,
       "grid_area": null,
       "grid_auto_columns": null,
       "grid_auto_flow": null,
       "grid_auto_rows": null,
       "grid_column": null,
       "grid_gap": null,
       "grid_row": null,
       "grid_template_areas": null,
       "grid_template_columns": null,
       "grid_template_rows": null,
       "height": null,
       "justify_content": null,
       "justify_items": null,
       "left": null,
       "margin": null,
       "max_height": null,
       "max_width": null,
       "min_height": null,
       "min_width": null,
       "object_fit": null,
       "object_position": null,
       "order": null,
       "overflow": null,
       "overflow_x": null,
       "overflow_y": null,
       "padding": null,
       "right": null,
       "top": null,
       "visibility": null,
       "width": null
      }
     },
     "6cb0fde608054545bc7be1d4d0655f3a": {
      "model_module": "@jupyter-widgets/controls",
      "model_module_version": "1.5.0",
      "model_name": "HBoxModel",
      "state": {
       "_dom_classes": [],
       "_model_module": "@jupyter-widgets/controls",
       "_model_module_version": "1.5.0",
       "_model_name": "HBoxModel",
       "_view_count": null,
       "_view_module": "@jupyter-widgets/controls",
       "_view_module_version": "1.5.0",
       "_view_name": "HBoxView",
       "box_style": "",
       "children": [
        "IPY_MODEL_571e5cb1cd9748cc9162da903217d17e",
        "IPY_MODEL_7ab81d2fdf04407d8353475f5c0e4fd1"
       ],
       "layout": "IPY_MODEL_ba828902fcf14e7bb13de5acf184b989"
      }
     },
     "6ec042298b5c4ec395da329019c83e6f": {
      "model_module": "@jupyter-widgets/base",
      "model_module_version": "1.2.0",
      "model_name": "LayoutModel",
      "state": {
       "_model_module": "@jupyter-widgets/base",
       "_model_module_version": "1.2.0",
       "_model_name": "LayoutModel",
       "_view_count": null,
       "_view_module": "@jupyter-widgets/base",
       "_view_module_version": "1.2.0",
       "_view_name": "LayoutView",
       "align_content": null,
       "align_items": null,
       "align_self": null,
       "border": null,
       "bottom": null,
       "display": null,
       "flex": null,
       "flex_flow": null,
       "grid_area": null,
       "grid_auto_columns": null,
       "grid_auto_flow": null,
       "grid_auto_rows": null,
       "grid_column": null,
       "grid_gap": null,
       "grid_row": null,
       "grid_template_areas": null,
       "grid_template_columns": null,
       "grid_template_rows": null,
       "height": null,
       "justify_content": null,
       "justify_items": null,
       "left": null,
       "margin": null,
       "max_height": null,
       "max_width": null,
       "min_height": null,
       "min_width": null,
       "object_fit": null,
       "object_position": null,
       "order": null,
       "overflow": null,
       "overflow_x": null,
       "overflow_y": null,
       "padding": null,
       "right": null,
       "top": null,
       "visibility": null,
       "width": null
      }
     },
     "70aa978b3d0646f2b096522462549797": {
      "model_module": "@jupyter-widgets/controls",
      "model_module_version": "1.5.0",
      "model_name": "HBoxModel",
      "state": {
       "_dom_classes": [],
       "_model_module": "@jupyter-widgets/controls",
       "_model_module_version": "1.5.0",
       "_model_name": "HBoxModel",
       "_view_count": null,
       "_view_module": "@jupyter-widgets/controls",
       "_view_module_version": "1.5.0",
       "_view_name": "HBoxView",
       "box_style": "",
       "children": [
        "IPY_MODEL_34910155d12146f1b41b61444f155afe",
        "IPY_MODEL_d38eb0932a924fc0b1d0972ceb8d1fee"
       ],
       "layout": "IPY_MODEL_48daf978e897469aa45d23b4c673d081"
      }
     },
     "76220291571b40ac977a1474c0e4ce2f": {
      "model_module": "@jupyter-widgets/controls",
      "model_module_version": "1.5.0",
      "model_name": "ProgressStyleModel",
      "state": {
       "_model_module": "@jupyter-widgets/controls",
       "_model_module_version": "1.5.0",
       "_model_name": "ProgressStyleModel",
       "_view_count": null,
       "_view_module": "@jupyter-widgets/base",
       "_view_module_version": "1.2.0",
       "_view_name": "StyleView",
       "bar_color": null,
       "description_width": "initial"
      }
     },
     "7ab81d2fdf04407d8353475f5c0e4fd1": {
      "model_module": "@jupyter-widgets/controls",
      "model_module_version": "1.5.0",
      "model_name": "HTMLModel",
      "state": {
       "_dom_classes": [],
       "_model_module": "@jupyter-widgets/controls",
       "_model_module_version": "1.5.0",
       "_model_name": "HTMLModel",
       "_view_count": null,
       "_view_module": "@jupyter-widgets/controls",
       "_view_module_version": "1.5.0",
       "_view_name": "HTMLView",
       "description": "",
       "description_tooltip": null,
       "layout": "IPY_MODEL_383dfd0a02f84cf5bab27f4ddc9acfd9",
       "placeholder": "​",
       "style": "IPY_MODEL_b2882d483e1b4379967b80ded2abddc1",
       "value": "&lt;tqdm.auto.tqdm object at 0x7f05c973f0d0&gt;"
      }
     },
     "7e8e18c2467b4e6fa5cc78784e103610": {
      "model_module": "@jupyter-widgets/controls",
      "model_module_version": "1.5.0",
      "model_name": "DescriptionStyleModel",
      "state": {
       "_model_module": "@jupyter-widgets/controls",
       "_model_module_version": "1.5.0",
       "_model_name": "DescriptionStyleModel",
       "_view_count": null,
       "_view_module": "@jupyter-widgets/base",
       "_view_module_version": "1.2.0",
       "_view_name": "StyleView",
       "description_width": ""
      }
     },
     "7f72fe2e96e74b2385c26bdd10132e9d": {
      "model_module": "@jupyter-widgets/controls",
      "model_module_version": "1.5.0",
      "model_name": "HTMLModel",
      "state": {
       "_dom_classes": [],
       "_model_module": "@jupyter-widgets/controls",
       "_model_module_version": "1.5.0",
       "_model_name": "HTMLModel",
       "_view_count": null,
       "_view_module": "@jupyter-widgets/controls",
       "_view_module_version": "1.5.0",
       "_view_name": "HTMLView",
       "description": "",
       "description_tooltip": null,
       "layout": "IPY_MODEL_b8fa3a8c52704793abfebde2101fc499",
       "placeholder": "​",
       "style": "IPY_MODEL_4b54224e529a41efa557b47018115e44",
       "value": "&lt;tqdm.auto.tqdm object at 0x7f052ce26550&gt;"
      }
     },
     "841bc26eb3f243e0b3c741f48f9859c5": {
      "model_module": "@jupyter-widgets/controls",
      "model_module_version": "1.5.0",
      "model_name": "FloatProgressModel",
      "state": {
       "_dom_classes": [],
       "_model_module": "@jupyter-widgets/controls",
       "_model_module_version": "1.5.0",
       "_model_name": "FloatProgressModel",
       "_view_count": null,
       "_view_module": "@jupyter-widgets/controls",
       "_view_module_version": "1.5.0",
       "_view_name": "ProgressView",
       "bar_style": "success",
       "description": "",
       "description_tooltip": null,
       "layout": "IPY_MODEL_aba36ba02a7749508759fadcd1d30eb3",
       "max": 2697.0,
       "min": 0.0,
       "orientation": "horizontal",
       "style": "IPY_MODEL_bdb548b13b194c6c8ba4fc6b46106108",
       "value": 2697.0
      }
     },
     "8dbd53fd1e464dcd968e7dd708165471": {
      "model_module": "@jupyter-widgets/base",
      "model_module_version": "1.2.0",
      "model_name": "LayoutModel",
      "state": {
       "_model_module": "@jupyter-widgets/base",
       "_model_module_version": "1.2.0",
       "_model_name": "LayoutModel",
       "_view_count": null,
       "_view_module": "@jupyter-widgets/base",
       "_view_module_version": "1.2.0",
       "_view_name": "LayoutView",
       "align_content": null,
       "align_items": null,
       "align_self": null,
       "border": null,
       "bottom": null,
       "display": null,
       "flex": null,
       "flex_flow": null,
       "grid_area": null,
       "grid_auto_columns": null,
       "grid_auto_flow": null,
       "grid_auto_rows": null,
       "grid_column": null,
       "grid_gap": null,
       "grid_row": null,
       "grid_template_areas": null,
       "grid_template_columns": null,
       "grid_template_rows": null,
       "height": null,
       "justify_content": null,
       "justify_items": null,
       "left": null,
       "margin": null,
       "max_height": null,
       "max_width": null,
       "min_height": null,
       "min_width": null,
       "object_fit": null,
       "object_position": null,
       "order": null,
       "overflow": null,
       "overflow_x": null,
       "overflow_y": null,
       "padding": null,
       "right": null,
       "top": null,
       "visibility": null,
       "width": null
      }
     },
     "95f04b9d38bb4763b1e7c8122a7bd466": {
      "model_module": "@jupyter-widgets/base",
      "model_module_version": "1.2.0",
      "model_name": "LayoutModel",
      "state": {
       "_model_module": "@jupyter-widgets/base",
       "_model_module_version": "1.2.0",
       "_model_name": "LayoutModel",
       "_view_count": null,
       "_view_module": "@jupyter-widgets/base",
       "_view_module_version": "1.2.0",
       "_view_name": "LayoutView",
       "align_content": null,
       "align_items": null,
       "align_self": null,
       "border": null,
       "bottom": null,
       "display": null,
       "flex": null,
       "flex_flow": null,
       "grid_area": null,
       "grid_auto_columns": null,
       "grid_auto_flow": null,
       "grid_auto_rows": null,
       "grid_column": null,
       "grid_gap": null,
       "grid_row": null,
       "grid_template_areas": null,
       "grid_template_columns": null,
       "grid_template_rows": null,
       "height": null,
       "justify_content": null,
       "justify_items": null,
       "left": null,
       "margin": null,
       "max_height": null,
       "max_width": null,
       "min_height": null,
       "min_width": null,
       "object_fit": null,
       "object_position": null,
       "order": null,
       "overflow": null,
       "overflow_x": null,
       "overflow_y": null,
       "padding": null,
       "right": null,
       "top": null,
       "visibility": null,
       "width": null
      }
     },
     "9df26d49331541a8b753dcf3fb118a7d": {
      "model_module": "@jupyter-widgets/base",
      "model_module_version": "1.2.0",
      "model_name": "LayoutModel",
      "state": {
       "_model_module": "@jupyter-widgets/base",
       "_model_module_version": "1.2.0",
       "_model_name": "LayoutModel",
       "_view_count": null,
       "_view_module": "@jupyter-widgets/base",
       "_view_module_version": "1.2.0",
       "_view_name": "LayoutView",
       "align_content": null,
       "align_items": null,
       "align_self": null,
       "border": null,
       "bottom": null,
       "display": null,
       "flex": null,
       "flex_flow": null,
       "grid_area": null,
       "grid_auto_columns": null,
       "grid_auto_flow": null,
       "grid_auto_rows": null,
       "grid_column": null,
       "grid_gap": null,
       "grid_row": null,
       "grid_template_areas": null,
       "grid_template_columns": null,
       "grid_template_rows": null,
       "height": null,
       "justify_content": null,
       "justify_items": null,
       "left": null,
       "margin": null,
       "max_height": null,
       "max_width": null,
       "min_height": null,
       "min_width": null,
       "object_fit": null,
       "object_position": null,
       "order": null,
       "overflow": null,
       "overflow_x": null,
       "overflow_y": null,
       "padding": null,
       "right": null,
       "top": null,
       "visibility": null,
       "width": null
      }
     },
     "9f51a4162dcd4ab88e1c5d2e311db578": {
      "model_module": "@jupyter-widgets/base",
      "model_module_version": "1.2.0",
      "model_name": "LayoutModel",
      "state": {
       "_model_module": "@jupyter-widgets/base",
       "_model_module_version": "1.2.0",
       "_model_name": "LayoutModel",
       "_view_count": null,
       "_view_module": "@jupyter-widgets/base",
       "_view_module_version": "1.2.0",
       "_view_name": "LayoutView",
       "align_content": null,
       "align_items": null,
       "align_self": null,
       "border": null,
       "bottom": null,
       "display": null,
       "flex": null,
       "flex_flow": null,
       "grid_area": null,
       "grid_auto_columns": null,
       "grid_auto_flow": null,
       "grid_auto_rows": null,
       "grid_column": null,
       "grid_gap": null,
       "grid_row": null,
       "grid_template_areas": null,
       "grid_template_columns": null,
       "grid_template_rows": null,
       "height": null,
       "justify_content": null,
       "justify_items": null,
       "left": null,
       "margin": null,
       "max_height": null,
       "max_width": null,
       "min_height": null,
       "min_width": null,
       "object_fit": null,
       "object_position": null,
       "order": null,
       "overflow": null,
       "overflow_x": null,
       "overflow_y": null,
       "padding": null,
       "right": null,
       "top": null,
       "visibility": null,
       "width": null
      }
     },
     "a2c30990e622461d990b77c0486fe4d8": {
      "model_module": "@jupyter-widgets/controls",
      "model_module_version": "1.5.0",
      "model_name": "ProgressStyleModel",
      "state": {
       "_model_module": "@jupyter-widgets/controls",
       "_model_module_version": "1.5.0",
       "_model_name": "ProgressStyleModel",
       "_view_count": null,
       "_view_module": "@jupyter-widgets/base",
       "_view_module_version": "1.2.0",
       "_view_name": "StyleView",
       "bar_color": null,
       "description_width": "initial"
      }
     },
     "a812474bb18648459e56d1c73d33b562": {
      "model_module": "@jupyter-widgets/controls",
      "model_module_version": "1.5.0",
      "model_name": "DescriptionStyleModel",
      "state": {
       "_model_module": "@jupyter-widgets/controls",
       "_model_module_version": "1.5.0",
       "_model_name": "DescriptionStyleModel",
       "_view_count": null,
       "_view_module": "@jupyter-widgets/base",
       "_view_module_version": "1.2.0",
       "_view_name": "StyleView",
       "description_width": ""
      }
     },
     "aba36ba02a7749508759fadcd1d30eb3": {
      "model_module": "@jupyter-widgets/base",
      "model_module_version": "1.2.0",
      "model_name": "LayoutModel",
      "state": {
       "_model_module": "@jupyter-widgets/base",
       "_model_module_version": "1.2.0",
       "_model_name": "LayoutModel",
       "_view_count": null,
       "_view_module": "@jupyter-widgets/base",
       "_view_module_version": "1.2.0",
       "_view_name": "LayoutView",
       "align_content": null,
       "align_items": null,
       "align_self": null,
       "border": null,
       "bottom": null,
       "display": null,
       "flex": null,
       "flex_flow": null,
       "grid_area": null,
       "grid_auto_columns": null,
       "grid_auto_flow": null,
       "grid_auto_rows": null,
       "grid_column": null,
       "grid_gap": null,
       "grid_row": null,
       "grid_template_areas": null,
       "grid_template_columns": null,
       "grid_template_rows": null,
       "height": null,
       "justify_content": null,
       "justify_items": null,
       "left": null,
       "margin": null,
       "max_height": null,
       "max_width": null,
       "min_height": null,
       "min_width": null,
       "object_fit": null,
       "object_position": null,
       "order": null,
       "overflow": null,
       "overflow_x": null,
       "overflow_y": null,
       "padding": null,
       "right": null,
       "top": null,
       "visibility": null,
       "width": null
      }
     },
     "b07d5d8451f04a96a76f1e622ade421a": {
      "model_module": "@jupyter-widgets/controls",
      "model_module_version": "1.5.0",
      "model_name": "ProgressStyleModel",
      "state": {
       "_model_module": "@jupyter-widgets/controls",
       "_model_module_version": "1.5.0",
       "_model_name": "ProgressStyleModel",
       "_view_count": null,
       "_view_module": "@jupyter-widgets/base",
       "_view_module_version": "1.2.0",
       "_view_name": "StyleView",
       "bar_color": null,
       "description_width": "initial"
      }
     },
     "b2882d483e1b4379967b80ded2abddc1": {
      "model_module": "@jupyter-widgets/controls",
      "model_module_version": "1.5.0",
      "model_name": "DescriptionStyleModel",
      "state": {
       "_model_module": "@jupyter-widgets/controls",
       "_model_module_version": "1.5.0",
       "_model_name": "DescriptionStyleModel",
       "_view_count": null,
       "_view_module": "@jupyter-widgets/base",
       "_view_module_version": "1.2.0",
       "_view_name": "StyleView",
       "description_width": ""
      }
     },
     "b8fa3a8c52704793abfebde2101fc499": {
      "model_module": "@jupyter-widgets/base",
      "model_module_version": "1.2.0",
      "model_name": "LayoutModel",
      "state": {
       "_model_module": "@jupyter-widgets/base",
       "_model_module_version": "1.2.0",
       "_model_name": "LayoutModel",
       "_view_count": null,
       "_view_module": "@jupyter-widgets/base",
       "_view_module_version": "1.2.0",
       "_view_name": "LayoutView",
       "align_content": null,
       "align_items": null,
       "align_self": null,
       "border": null,
       "bottom": null,
       "display": null,
       "flex": null,
       "flex_flow": null,
       "grid_area": null,
       "grid_auto_columns": null,
       "grid_auto_flow": null,
       "grid_auto_rows": null,
       "grid_column": null,
       "grid_gap": null,
       "grid_row": null,
       "grid_template_areas": null,
       "grid_template_columns": null,
       "grid_template_rows": null,
       "height": null,
       "justify_content": null,
       "justify_items": null,
       "left": null,
       "margin": null,
       "max_height": null,
       "max_width": null,
       "min_height": null,
       "min_width": null,
       "object_fit": null,
       "object_position": null,
       "order": null,
       "overflow": null,
       "overflow_x": null,
       "overflow_y": null,
       "padding": null,
       "right": null,
       "top": null,
       "visibility": null,
       "width": null
      }
     },
     "b9c04302d54a408c8876c77cbc9424b5": {
      "model_module": "@jupyter-widgets/controls",
      "model_module_version": "1.5.0",
      "model_name": "HTMLModel",
      "state": {
       "_dom_classes": [],
       "_model_module": "@jupyter-widgets/controls",
       "_model_module_version": "1.5.0",
       "_model_name": "HTMLModel",
       "_view_count": null,
       "_view_module": "@jupyter-widgets/controls",
       "_view_module_version": "1.5.0",
       "_view_name": "HTMLView",
       "description": "",
       "description_tooltip": null,
       "layout": "IPY_MODEL_cb43b535ec01406294e29602515abe2e",
       "placeholder": "​",
       "style": "IPY_MODEL_d253c9f72fd647568b81807276377ab8",
       "value": "&lt;tqdm.auto.tqdm object at 0x7f05781d37d0&gt;"
      }
     },
     "b9d2206ba3aa437d86672344b3f8dbeb": {
      "model_module": "@jupyter-widgets/base",
      "model_module_version": "1.2.0",
      "model_name": "LayoutModel",
      "state": {
       "_model_module": "@jupyter-widgets/base",
       "_model_module_version": "1.2.0",
       "_model_name": "LayoutModel",
       "_view_count": null,
       "_view_module": "@jupyter-widgets/base",
       "_view_module_version": "1.2.0",
       "_view_name": "LayoutView",
       "align_content": null,
       "align_items": null,
       "align_self": null,
       "border": null,
       "bottom": null,
       "display": null,
       "flex": null,
       "flex_flow": null,
       "grid_area": null,
       "grid_auto_columns": null,
       "grid_auto_flow": null,
       "grid_auto_rows": null,
       "grid_column": null,
       "grid_gap": null,
       "grid_row": null,
       "grid_template_areas": null,
       "grid_template_columns": null,
       "grid_template_rows": null,
       "height": null,
       "justify_content": null,
       "justify_items": null,
       "left": null,
       "margin": null,
       "max_height": null,
       "max_width": null,
       "min_height": null,
       "min_width": null,
       "object_fit": null,
       "object_position": null,
       "order": null,
       "overflow": null,
       "overflow_x": null,
       "overflow_y": null,
       "padding": null,
       "right": null,
       "top": null,
       "visibility": null,
       "width": null
      }
     },
     "ba6cff693379421db3fafe6367e36087": {
      "model_module": "@jupyter-widgets/base",
      "model_module_version": "1.2.0",
      "model_name": "LayoutModel",
      "state": {
       "_model_module": "@jupyter-widgets/base",
       "_model_module_version": "1.2.0",
       "_model_name": "LayoutModel",
       "_view_count": null,
       "_view_module": "@jupyter-widgets/base",
       "_view_module_version": "1.2.0",
       "_view_name": "LayoutView",
       "align_content": null,
       "align_items": null,
       "align_self": null,
       "border": null,
       "bottom": null,
       "display": null,
       "flex": null,
       "flex_flow": null,
       "grid_area": null,
       "grid_auto_columns": null,
       "grid_auto_flow": null,
       "grid_auto_rows": null,
       "grid_column": null,
       "grid_gap": null,
       "grid_row": null,
       "grid_template_areas": null,
       "grid_template_columns": null,
       "grid_template_rows": null,
       "height": null,
       "justify_content": null,
       "justify_items": null,
       "left": null,
       "margin": null,
       "max_height": null,
       "max_width": null,
       "min_height": null,
       "min_width": null,
       "object_fit": null,
       "object_position": null,
       "order": null,
       "overflow": null,
       "overflow_x": null,
       "overflow_y": null,
       "padding": null,
       "right": null,
       "top": null,
       "visibility": null,
       "width": null
      }
     },
     "ba828902fcf14e7bb13de5acf184b989": {
      "model_module": "@jupyter-widgets/base",
      "model_module_version": "1.2.0",
      "model_name": "LayoutModel",
      "state": {
       "_model_module": "@jupyter-widgets/base",
       "_model_module_version": "1.2.0",
       "_model_name": "LayoutModel",
       "_view_count": null,
       "_view_module": "@jupyter-widgets/base",
       "_view_module_version": "1.2.0",
       "_view_name": "LayoutView",
       "align_content": null,
       "align_items": null,
       "align_self": null,
       "border": null,
       "bottom": null,
       "display": null,
       "flex": null,
       "flex_flow": null,
       "grid_area": null,
       "grid_auto_columns": null,
       "grid_auto_flow": null,
       "grid_auto_rows": null,
       "grid_column": null,
       "grid_gap": null,
       "grid_row": null,
       "grid_template_areas": null,
       "grid_template_columns": null,
       "grid_template_rows": null,
       "height": null,
       "justify_content": null,
       "justify_items": null,
       "left": null,
       "margin": null,
       "max_height": null,
       "max_width": null,
       "min_height": null,
       "min_width": null,
       "object_fit": null,
       "object_position": null,
       "order": null,
       "overflow": null,
       "overflow_x": null,
       "overflow_y": null,
       "padding": null,
       "right": null,
       "top": null,
       "visibility": null,
       "width": null
      }
     },
     "bdb548b13b194c6c8ba4fc6b46106108": {
      "model_module": "@jupyter-widgets/controls",
      "model_module_version": "1.5.0",
      "model_name": "ProgressStyleModel",
      "state": {
       "_model_module": "@jupyter-widgets/controls",
       "_model_module_version": "1.5.0",
       "_model_name": "ProgressStyleModel",
       "_view_count": null,
       "_view_module": "@jupyter-widgets/base",
       "_view_module_version": "1.2.0",
       "_view_name": "StyleView",
       "bar_color": null,
       "description_width": "initial"
      }
     },
     "be5480b86d46470ca51a007f2a80a334": {
      "model_module": "@jupyter-widgets/controls",
      "model_module_version": "1.5.0",
      "model_name": "HTMLModel",
      "state": {
       "_dom_classes": [],
       "_model_module": "@jupyter-widgets/controls",
       "_model_module_version": "1.5.0",
       "_model_name": "HTMLModel",
       "_view_count": null,
       "_view_module": "@jupyter-widgets/controls",
       "_view_module_version": "1.5.0",
       "_view_name": "HTMLView",
       "description": "",
       "description_tooltip": null,
       "layout": "IPY_MODEL_dce4ba00025f4c1e92bfbce36a6d9878",
       "placeholder": "​",
       "style": "IPY_MODEL_d4a6c15bf1cf499b9e27c70f20ed28ab",
       "value": "&lt;tqdm.auto.tqdm object at 0x7f0522da5950&gt;"
      }
     },
     "c3315db2ef5045bb9a5b5f76398e853d": {
      "model_module": "@jupyter-widgets/controls",
      "model_module_version": "1.5.0",
      "model_name": "HBoxModel",
      "state": {
       "_dom_classes": [],
       "_model_module": "@jupyter-widgets/controls",
       "_model_module_version": "1.5.0",
       "_model_name": "HBoxModel",
       "_view_count": null,
       "_view_module": "@jupyter-widgets/controls",
       "_view_module_version": "1.5.0",
       "_view_name": "HBoxView",
       "box_style": "",
       "children": [
        "IPY_MODEL_0ee248b441ad46f69613e2e11ec6fe6c",
        "IPY_MODEL_7f72fe2e96e74b2385c26bdd10132e9d"
       ],
       "layout": "IPY_MODEL_66437cb29887450ca1a5835f384a8a44"
      }
     },
     "c6208aeda944417faa45cd75c974cf39": {
      "model_module": "@jupyter-widgets/controls",
      "model_module_version": "1.5.0",
      "model_name": "FloatProgressModel",
      "state": {
       "_dom_classes": [],
       "_model_module": "@jupyter-widgets/controls",
       "_model_module_version": "1.5.0",
       "_model_name": "FloatProgressModel",
       "_view_count": null,
       "_view_module": "@jupyter-widgets/controls",
       "_view_module_version": "1.5.0",
       "_view_name": "ProgressView",
       "bar_style": "info",
       "description": "",
       "description_tooltip": null,
       "layout": "IPY_MODEL_377878950f6d4ee2a78f104cba69401e",
       "max": 1.0,
       "min": 0.0,
       "orientation": "horizontal",
       "style": "IPY_MODEL_49731c60db3a4d6eb92ffcd09b974153",
       "value": 1.0
      }
     },
     "c821369c8e5640cb807dde3eb9f6cfa8": {
      "model_module": "@jupyter-widgets/controls",
      "model_module_version": "1.5.0",
      "model_name": "FloatProgressModel",
      "state": {
       "_dom_classes": [],
       "_model_module": "@jupyter-widgets/controls",
       "_model_module_version": "1.5.0",
       "_model_name": "FloatProgressModel",
       "_view_count": null,
       "_view_module": "@jupyter-widgets/controls",
       "_view_module_version": "1.5.0",
       "_view_name": "ProgressView",
       "bar_style": "success",
       "description": "",
       "description_tooltip": null,
       "layout": "IPY_MODEL_ba6cff693379421db3fafe6367e36087",
       "max": 17865352.0,
       "min": 0.0,
       "orientation": "horizontal",
       "style": "IPY_MODEL_5d96c94ab0434664b1a2694c797d7aa2",
       "value": 17865352.0
      }
     },
     "cb43b535ec01406294e29602515abe2e": {
      "model_module": "@jupyter-widgets/base",
      "model_module_version": "1.2.0",
      "model_name": "LayoutModel",
      "state": {
       "_model_module": "@jupyter-widgets/base",
       "_model_module_version": "1.2.0",
       "_model_name": "LayoutModel",
       "_view_count": null,
       "_view_module": "@jupyter-widgets/base",
       "_view_module_version": "1.2.0",
       "_view_name": "LayoutView",
       "align_content": null,
       "align_items": null,
       "align_self": null,
       "border": null,
       "bottom": null,
       "display": null,
       "flex": null,
       "flex_flow": null,
       "grid_area": null,
       "grid_auto_columns": null,
       "grid_auto_flow": null,
       "grid_auto_rows": null,
       "grid_column": null,
       "grid_gap": null,
       "grid_row": null,
       "grid_template_areas": null,
       "grid_template_columns": null,
       "grid_template_rows": null,
       "height": null,
       "justify_content": null,
       "justify_items": null,
       "left": null,
       "margin": null,
       "max_height": null,
       "max_width": null,
       "min_height": null,
       "min_width": null,
       "object_fit": null,
       "object_position": null,
       "order": null,
       "overflow": null,
       "overflow_x": null,
       "overflow_y": null,
       "padding": null,
       "right": null,
       "top": null,
       "visibility": null,
       "width": null
      }
     },
     "d253c9f72fd647568b81807276377ab8": {
      "model_module": "@jupyter-widgets/controls",
      "model_module_version": "1.5.0",
      "model_name": "DescriptionStyleModel",
      "state": {
       "_model_module": "@jupyter-widgets/controls",
       "_model_module_version": "1.5.0",
       "_model_name": "DescriptionStyleModel",
       "_view_count": null,
       "_view_module": "@jupyter-widgets/base",
       "_view_module_version": "1.2.0",
       "_view_name": "StyleView",
       "description_width": ""
      }
     },
     "d33dca6683ab423eac6bd1823d7f70fb": {
      "model_module": "@jupyter-widgets/base",
      "model_module_version": "1.2.0",
      "model_name": "LayoutModel",
      "state": {
       "_model_module": "@jupyter-widgets/base",
       "_model_module_version": "1.2.0",
       "_model_name": "LayoutModel",
       "_view_count": null,
       "_view_module": "@jupyter-widgets/base",
       "_view_module_version": "1.2.0",
       "_view_name": "LayoutView",
       "align_content": null,
       "align_items": null,
       "align_self": null,
       "border": null,
       "bottom": null,
       "display": null,
       "flex": null,
       "flex_flow": null,
       "grid_area": null,
       "grid_auto_columns": null,
       "grid_auto_flow": null,
       "grid_auto_rows": null,
       "grid_column": null,
       "grid_gap": null,
       "grid_row": null,
       "grid_template_areas": null,
       "grid_template_columns": null,
       "grid_template_rows": null,
       "height": null,
       "justify_content": null,
       "justify_items": null,
       "left": null,
       "margin": null,
       "max_height": null,
       "max_width": null,
       "min_height": null,
       "min_width": null,
       "object_fit": null,
       "object_position": null,
       "order": null,
       "overflow": null,
       "overflow_x": null,
       "overflow_y": null,
       "padding": null,
       "right": null,
       "top": null,
       "visibility": null,
       "width": null
      }
     },
     "d38eb0932a924fc0b1d0972ceb8d1fee": {
      "model_module": "@jupyter-widgets/controls",
      "model_module_version": "1.5.0",
      "model_name": "HTMLModel",
      "state": {
       "_dom_classes": [],
       "_model_module": "@jupyter-widgets/controls",
       "_model_module_version": "1.5.0",
       "_model_name": "HTMLModel",
       "_view_count": null,
       "_view_module": "@jupyter-widgets/controls",
       "_view_module_version": "1.5.0",
       "_view_name": "HTMLView",
       "description": "",
       "description_tooltip": null,
       "layout": "IPY_MODEL_5b53eac83ae54d1cbd0a72c8e4e10d66",
       "placeholder": "​",
       "style": "IPY_MODEL_7e8e18c2467b4e6fa5cc78784e103610",
       "value": "&lt;tqdm.auto.tqdm object at 0x7f0522b29250&gt;"
      }
     },
     "d4a6c15bf1cf499b9e27c70f20ed28ab": {
      "model_module": "@jupyter-widgets/controls",
      "model_module_version": "1.5.0",
      "model_name": "DescriptionStyleModel",
      "state": {
       "_model_module": "@jupyter-widgets/controls",
       "_model_module_version": "1.5.0",
       "_model_name": "DescriptionStyleModel",
       "_view_count": null,
       "_view_module": "@jupyter-widgets/base",
       "_view_module_version": "1.2.0",
       "_view_name": "StyleView",
       "description_width": ""
      }
     },
     "dce4ba00025f4c1e92bfbce36a6d9878": {
      "model_module": "@jupyter-widgets/base",
      "model_module_version": "1.2.0",
      "model_name": "LayoutModel",
      "state": {
       "_model_module": "@jupyter-widgets/base",
       "_model_module_version": "1.2.0",
       "_model_name": "LayoutModel",
       "_view_count": null,
       "_view_module": "@jupyter-widgets/base",
       "_view_module_version": "1.2.0",
       "_view_name": "LayoutView",
       "align_content": null,
       "align_items": null,
       "align_self": null,
       "border": null,
       "bottom": null,
       "display": null,
       "flex": null,
       "flex_flow": null,
       "grid_area": null,
       "grid_auto_columns": null,
       "grid_auto_flow": null,
       "grid_auto_rows": null,
       "grid_column": null,
       "grid_gap": null,
       "grid_row": null,
       "grid_template_areas": null,
       "grid_template_columns": null,
       "grid_template_rows": null,
       "height": null,
       "justify_content": null,
       "justify_items": null,
       "left": null,
       "margin": null,
       "max_height": null,
       "max_width": null,
       "min_height": null,
       "min_width": null,
       "object_fit": null,
       "object_position": null,
       "order": null,
       "overflow": null,
       "overflow_x": null,
       "overflow_y": null,
       "padding": null,
       "right": null,
       "top": null,
       "visibility": null,
       "width": null
      }
     },
     "de6d8d8d0c094fab9e0b2c0b2700e538": {
      "model_module": "@jupyter-widgets/base",
      "model_module_version": "1.2.0",
      "model_name": "LayoutModel",
      "state": {
       "_model_module": "@jupyter-widgets/base",
       "_model_module_version": "1.2.0",
       "_model_name": "LayoutModel",
       "_view_count": null,
       "_view_module": "@jupyter-widgets/base",
       "_view_module_version": "1.2.0",
       "_view_name": "LayoutView",
       "align_content": null,
       "align_items": null,
       "align_self": null,
       "border": null,
       "bottom": null,
       "display": null,
       "flex": null,
       "flex_flow": null,
       "grid_area": null,
       "grid_auto_columns": null,
       "grid_auto_flow": null,
       "grid_auto_rows": null,
       "grid_column": null,
       "grid_gap": null,
       "grid_row": null,
       "grid_template_areas": null,
       "grid_template_columns": null,
       "grid_template_rows": null,
       "height": null,
       "justify_content": null,
       "justify_items": null,
       "left": null,
       "margin": null,
       "max_height": null,
       "max_width": null,
       "min_height": null,
       "min_width": null,
       "object_fit": null,
       "object_position": null,
       "order": null,
       "overflow": null,
       "overflow_x": null,
       "overflow_y": null,
       "padding": null,
       "right": null,
       "top": null,
       "visibility": null,
       "width": null
      }
     },
     "e028075a75eb4acea44f88f4bae8298e": {
      "model_module": "@jupyter-widgets/controls",
      "model_module_version": "1.5.0",
      "model_name": "FloatProgressModel",
      "state": {
       "_dom_classes": [],
       "_model_module": "@jupyter-widgets/controls",
       "_model_module_version": "1.5.0",
       "_model_name": "FloatProgressModel",
       "_view_count": null,
       "_view_module": "@jupyter-widgets/controls",
       "_view_module_version": "1.5.0",
       "_view_name": "ProgressView",
       "bar_style": "success",
       "description": "",
       "description_tooltip": null,
       "layout": "IPY_MODEL_4d87f2115b0742eab17a5f7fe85e3bd7",
       "max": 3271420488.0,
       "min": 0.0,
       "orientation": "horizontal",
       "style": "IPY_MODEL_16ec0e12381849b88e201ae8e798868c",
       "value": 3271420488.0
      }
     },
     "edd0ccc8ab654502a8cd25d2c86536c5": {
      "model_module": "@jupyter-widgets/base",
      "model_module_version": "1.2.0",
      "model_name": "LayoutModel",
      "state": {
       "_model_module": "@jupyter-widgets/base",
       "_model_module_version": "1.2.0",
       "_model_name": "LayoutModel",
       "_view_count": null,
       "_view_module": "@jupyter-widgets/base",
       "_view_module_version": "1.2.0",
       "_view_name": "LayoutView",
       "align_content": null,
       "align_items": null,
       "align_self": null,
       "border": null,
       "bottom": null,
       "display": null,
       "flex": null,
       "flex_flow": null,
       "grid_area": null,
       "grid_auto_columns": null,
       "grid_auto_flow": null,
       "grid_auto_rows": null,
       "grid_column": null,
       "grid_gap": null,
       "grid_row": null,
       "grid_template_areas": null,
       "grid_template_columns": null,
       "grid_template_rows": null,
       "height": null,
       "justify_content": null,
       "justify_items": null,
       "left": null,
       "margin": null,
       "max_height": null,
       "max_width": null,
       "min_height": null,
       "min_width": null,
       "object_fit": null,
       "object_position": null,
       "order": null,
       "overflow": null,
       "overflow_x": null,
       "overflow_y": null,
       "padding": null,
       "right": null,
       "top": null,
       "visibility": null,
       "width": "20px"
      }
     },
     "f0b9b3a9dfe4467f98903c50aafe6f01": {
      "model_module": "@jupyter-widgets/controls",
      "model_module_version": "1.5.0",
      "model_name": "HBoxModel",
      "state": {
       "_dom_classes": [],
       "_model_module": "@jupyter-widgets/controls",
       "_model_module_version": "1.5.0",
       "_model_name": "HBoxModel",
       "_view_count": null,
       "_view_module": "@jupyter-widgets/controls",
       "_view_module_version": "1.5.0",
       "_view_name": "HBoxView",
       "box_style": "",
       "children": [
        "IPY_MODEL_e028075a75eb4acea44f88f4bae8298e",
        "IPY_MODEL_01a7c2ee3b99491b91da08f605feb28b"
       ],
       "layout": "IPY_MODEL_8dbd53fd1e464dcd968e7dd708165471"
      }
     },
     "f1886a69a7d4427193ac746d1589c63c": {
      "model_module": "@jupyter-widgets/controls",
      "model_module_version": "1.5.0",
      "model_name": "HBoxModel",
      "state": {
       "_dom_classes": [],
       "_model_module": "@jupyter-widgets/controls",
       "_model_module_version": "1.5.0",
       "_model_name": "HBoxModel",
       "_view_count": null,
       "_view_module": "@jupyter-widgets/controls",
       "_view_module_version": "1.5.0",
       "_view_name": "HBoxView",
       "box_style": "",
       "children": [
        "IPY_MODEL_c821369c8e5640cb807dde3eb9f6cfa8",
        "IPY_MODEL_492c29505f6d427c96ac8071c0477de9"
       ],
       "layout": "IPY_MODEL_626d09299e4c4237b3a66a5293fcfc3c"
      }
     },
     "f23313f7c4eb4cbdb2d104039b83ace5": {
      "model_module": "@jupyter-widgets/controls",
      "model_module_version": "1.5.0",
      "model_name": "HTMLModel",
      "state": {
       "_dom_classes": [],
       "_model_module": "@jupyter-widgets/controls",
       "_model_module_version": "1.5.0",
       "_model_name": "HTMLModel",
       "_view_count": null,
       "_view_module": "@jupyter-widgets/controls",
       "_view_module_version": "1.5.0",
       "_view_name": "HTMLView",
       "description": "",
       "description_tooltip": null,
       "layout": "IPY_MODEL_41a0ff6b271241fc9ff9c1306759242a",
       "placeholder": "​",
       "style": "IPY_MODEL_1b45a8f05f094f9a82d1fbb7e2a2153f",
       "value": "&lt;tqdm.auto.tqdm object at 0x7f05780c90d0&gt;"
      }
     },
     "fc33e6e44c4743b4b342ce408a95ea15": {
      "model_module": "@jupyter-widgets/controls",
      "model_module_version": "1.5.0",
      "model_name": "ProgressStyleModel",
      "state": {
       "_model_module": "@jupyter-widgets/controls",
       "_model_module_version": "1.5.0",
       "_model_name": "ProgressStyleModel",
       "_view_count": null,
       "_view_module": "@jupyter-widgets/base",
       "_view_module_version": "1.2.0",
       "_view_name": "StyleView",
       "bar_color": null,
       "description_width": "initial"
      }
     }
    },
    "version_major": 2,
    "version_minor": 0
   }
  }
 },
 "nbformat": 4,
 "nbformat_minor": 5
}
