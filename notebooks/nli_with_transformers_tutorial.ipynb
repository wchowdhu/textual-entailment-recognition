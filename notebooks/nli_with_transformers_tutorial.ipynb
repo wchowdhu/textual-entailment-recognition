{
 "cells": [
  {
   "cell_type": "markdown",
   "id": "grand-importance",
   "metadata": {
    "papermill": {
     "duration": 0.053669,
     "end_time": "2021-04-04T21:59:14.418388",
     "exception": false,
     "start_time": "2021-04-04T21:59:14.364719",
     "status": "completed"
    },
    "tags": []
   },
   "source": [
    "# Introduction"
   ]
  },
  {
   "cell_type": "markdown",
   "id": "visible-jason",
   "metadata": {
    "papermill": {
     "duration": 0.048913,
     "end_time": "2021-04-04T21:59:14.517137",
     "exception": false,
     "start_time": "2021-04-04T21:59:14.468224",
     "status": "completed"
    },
    "tags": []
   },
   "source": [
    "The notebook is a step-by-step tutorial on using Transformer models for Natural Language Inferencing (NLI). This includes how to load, fine-tune, and evaluate M-BERT and XLM-RoBERTa models with Tensorflow."
   ]
  },
  {
   "cell_type": "markdown",
   "id": "greek-fellow",
   "metadata": {
    "papermill": {
     "duration": 0.049499,
     "end_time": "2021-04-04T21:59:14.617743",
     "exception": false,
     "start_time": "2021-04-04T21:59:14.568244",
     "status": "completed"
    },
    "tags": []
   },
   "source": [
    "Natural Language Inferencing (NLI) is an exciting NLP (Natural Language Processing) problem to identify the semantic relationship between two sentences. Given a hypothesis and premise sentence-pairs, the task is to determine whether the premise `entails` the hypothesis statement, `contradicts` it, or neither (`neutral`). \n",
    "\n",
    "For more information on the problem, you can visit [Contradictory, My Dear Watson competition](https://www.kaggle.com/c/contradictory-my-dear-watson/overview)"
   ]
  },
  {
   "cell_type": "markdown",
   "id": "biological-stream",
   "metadata": {
    "papermill": {
     "duration": 0.048096,
     "end_time": "2021-04-04T21:59:14.724805",
     "exception": false,
     "start_time": "2021-04-04T21:59:14.676709",
     "status": "completed"
    },
    "tags": []
   },
   "source": [
    "# Load Libraries and Dependencies"
   ]
  },
  {
   "cell_type": "code",
   "execution_count": 1,
   "id": "demographic-handling",
   "metadata": {
    "execution": {
     "iopub.execute_input": "2021-04-04T21:59:14.829883Z",
     "iopub.status.busy": "2021-04-04T21:59:14.828614Z",
     "iopub.status.idle": "2021-04-04T21:59:44.178018Z",
     "shell.execute_reply": "2021-04-04T21:59:44.176964Z"
    },
    "papermill": {
     "duration": 29.402736,
     "end_time": "2021-04-04T21:59:44.178218",
     "exception": false,
     "start_time": "2021-04-04T21:59:14.775482",
     "status": "completed"
    },
    "tags": []
   },
   "outputs": [
    {
     "name": "stdout",
     "output_type": "stream",
     "text": [
      "Requirement already satisfied: pip in /opt/conda/lib/python3.7/site-packages (21.0.1)\r\n",
      "Requirement already satisfied: allennlp in /opt/conda/lib/python3.7/site-packages (2.2.0)\r\n",
      "Requirement already satisfied: scikit-learn in /opt/conda/lib/python3.7/site-packages (from allennlp) (0.24.1)\r\n",
      "Requirement already satisfied: h5py in /opt/conda/lib/python3.7/site-packages (from allennlp) (2.10.0)\r\n",
      "Requirement already satisfied: pytest in /opt/conda/lib/python3.7/site-packages (from allennlp) (6.2.2)\r\n",
      "Requirement already satisfied: transformers<4.5,>=4.1 in /opt/conda/lib/python3.7/site-packages (from allennlp) (4.4.2)\r\n",
      "Requirement already satisfied: scipy in /opt/conda/lib/python3.7/site-packages (from allennlp) (1.5.4)\r\n",
      "Requirement already satisfied: jsonpickle in /opt/conda/lib/python3.7/site-packages (from allennlp) (2.0.0)\r\n",
      "Requirement already satisfied: jsonnet>=0.10.0 in /opt/conda/lib/python3.7/site-packages (from allennlp) (0.17.0)\r\n",
      "Requirement already satisfied: sentencepiece in /opt/conda/lib/python3.7/site-packages (from allennlp) (0.1.95)\r\n",
      "Requirement already satisfied: wandb<0.11.0,>=0.10.0 in /opt/conda/lib/python3.7/site-packages (from allennlp) (0.10.23)\r\n",
      "Requirement already satisfied: requests>=2.18 in /opt/conda/lib/python3.7/site-packages (from allennlp) (2.25.1)\r\n",
      "Requirement already satisfied: tqdm>=4.19 in /opt/conda/lib/python3.7/site-packages (from allennlp) (4.56.2)\r\n",
      "Requirement already satisfied: torchvision<0.10.0,>=0.8.1 in /opt/conda/lib/python3.7/site-packages (from allennlp) (0.8.1)\r\n",
      "Requirement already satisfied: more-itertools in /opt/conda/lib/python3.7/site-packages (from allennlp) (8.7.0)\r\n",
      "Requirement already satisfied: tensorboardX>=1.2 in /opt/conda/lib/python3.7/site-packages (from allennlp) (2.1)\r\n",
      "Requirement already satisfied: lmdb in /opt/conda/lib/python3.7/site-packages (from allennlp) (1.1.1)\r\n",
      "Requirement already satisfied: overrides==3.1.0 in /opt/conda/lib/python3.7/site-packages (from allennlp) (3.1.0)\r\n",
      "Requirement already satisfied: torch<1.9.0,>=1.6.0 in /opt/conda/lib/python3.7/site-packages (from allennlp) (1.7.0)\r\n",
      "Requirement already satisfied: nltk in /opt/conda/lib/python3.7/site-packages (from allennlp) (3.2.4)\r\n",
      "Requirement already satisfied: filelock<3.1,>=3.0 in /opt/conda/lib/python3.7/site-packages (from allennlp) (3.0.12)\r\n",
      "Requirement already satisfied: numpy in /opt/conda/lib/python3.7/site-packages (from allennlp) (1.19.5)\r\n",
      "Requirement already satisfied: spacy<3.1,>=2.1.0 in /opt/conda/lib/python3.7/site-packages (from allennlp) (2.3.5)\r\n",
      "Requirement already satisfied: boto3<2.0,>=1.14 in /opt/conda/lib/python3.7/site-packages (from allennlp) (1.17.40)\r\n",
      "Requirement already satisfied: s3transfer<0.4.0,>=0.3.0 in /opt/conda/lib/python3.7/site-packages (from boto3<2.0,>=1.14->allennlp) (0.3.6)\r\n",
      "Requirement already satisfied: botocore<1.21.0,>=1.20.40 in /opt/conda/lib/python3.7/site-packages (from boto3<2.0,>=1.14->allennlp) (1.20.40)\r\n",
      "Requirement already satisfied: jmespath<1.0.0,>=0.7.1 in /opt/conda/lib/python3.7/site-packages (from boto3<2.0,>=1.14->allennlp) (0.10.0)\r\n",
      "Requirement already satisfied: urllib3<1.27,>=1.25.4 in /opt/conda/lib/python3.7/site-packages (from botocore<1.21.0,>=1.20.40->boto3<2.0,>=1.14->allennlp) (1.26.3)\r\n",
      "Requirement already satisfied: python-dateutil<3.0.0,>=2.1 in /opt/conda/lib/python3.7/site-packages (from botocore<1.21.0,>=1.20.40->boto3<2.0,>=1.14->allennlp) (2.8.1)\r\n",
      "Requirement already satisfied: six>=1.5 in /opt/conda/lib/python3.7/site-packages (from python-dateutil<3.0.0,>=2.1->botocore<1.21.0,>=1.20.40->boto3<2.0,>=1.14->allennlp) (1.15.0)\r\n",
      "Requirement already satisfied: idna<3,>=2.5 in /opt/conda/lib/python3.7/site-packages (from requests>=2.18->allennlp) (2.10)\r\n",
      "Requirement already satisfied: chardet<5,>=3.0.2 in /opt/conda/lib/python3.7/site-packages (from requests>=2.18->allennlp) (3.0.4)\r\n",
      "Requirement already satisfied: certifi>=2017.4.17 in /opt/conda/lib/python3.7/site-packages (from requests>=2.18->allennlp) (2020.12.5)\r\n",
      "Requirement already satisfied: blis<0.8.0,>=0.4.0 in /opt/conda/lib/python3.7/site-packages (from spacy<3.1,>=2.1.0->allennlp) (0.7.4)\r\n",
      "Requirement already satisfied: setuptools in /opt/conda/lib/python3.7/site-packages (from spacy<3.1,>=2.1.0->allennlp) (49.6.0.post20210108)\r\n",
      "Requirement already satisfied: wasabi<1.1.0,>=0.4.0 in /opt/conda/lib/python3.7/site-packages (from spacy<3.1,>=2.1.0->allennlp) (0.8.2)\r\n",
      "Requirement already satisfied: cymem<2.1.0,>=2.0.2 in /opt/conda/lib/python3.7/site-packages (from spacy<3.1,>=2.1.0->allennlp) (2.0.5)\r\n",
      "Requirement already satisfied: preshed<3.1.0,>=3.0.2 in /opt/conda/lib/python3.7/site-packages (from spacy<3.1,>=2.1.0->allennlp) (3.0.5)\r\n",
      "Requirement already satisfied: srsly<1.1.0,>=1.0.2 in /opt/conda/lib/python3.7/site-packages (from spacy<3.1,>=2.1.0->allennlp) (1.0.5)\r\n",
      "Requirement already satisfied: thinc<7.5.0,>=7.4.1 in /opt/conda/lib/python3.7/site-packages (from spacy<3.1,>=2.1.0->allennlp) (7.4.5)\r\n",
      "Requirement already satisfied: murmurhash<1.1.0,>=0.28.0 in /opt/conda/lib/python3.7/site-packages (from spacy<3.1,>=2.1.0->allennlp) (1.0.5)\r\n",
      "Requirement already satisfied: catalogue<1.1.0,>=0.0.7 in /opt/conda/lib/python3.7/site-packages (from spacy<3.1,>=2.1.0->allennlp) (1.0.0)\r\n",
      "Requirement already satisfied: plac<1.2.0,>=0.9.6 in /opt/conda/lib/python3.7/site-packages (from spacy<3.1,>=2.1.0->allennlp) (1.1.3)\r\n",
      "Requirement already satisfied: importlib-metadata>=0.20 in /opt/conda/lib/python3.7/site-packages (from catalogue<1.1.0,>=0.0.7->spacy<3.1,>=2.1.0->allennlp) (3.4.0)\r\n",
      "Requirement already satisfied: typing-extensions>=3.6.4 in /opt/conda/lib/python3.7/site-packages (from importlib-metadata>=0.20->catalogue<1.1.0,>=0.0.7->spacy<3.1,>=2.1.0->allennlp) (3.7.4.3)\r\n",
      "Requirement already satisfied: zipp>=0.5 in /opt/conda/lib/python3.7/site-packages (from importlib-metadata>=0.20->catalogue<1.1.0,>=0.0.7->spacy<3.1,>=2.1.0->allennlp) (3.4.0)\r\n",
      "Requirement already satisfied: protobuf>=3.8.0 in /opt/conda/lib/python3.7/site-packages (from tensorboardX>=1.2->allennlp) (3.15.6)\r\n",
      "Requirement already satisfied: future in /opt/conda/lib/python3.7/site-packages (from torch<1.9.0,>=1.6.0->allennlp) (0.18.2)\r\n",
      "Requirement already satisfied: dataclasses in /opt/conda/lib/python3.7/site-packages (from torch<1.9.0,>=1.6.0->allennlp) (0.6)\r\n",
      "Requirement already satisfied: pillow>=4.1.1 in /opt/conda/lib/python3.7/site-packages (from torchvision<0.10.0,>=0.8.1->allennlp) (7.2.0)\r\n",
      "Requirement already satisfied: packaging in /opt/conda/lib/python3.7/site-packages (from transformers<4.5,>=4.1->allennlp) (20.9)\r\n",
      "Requirement already satisfied: regex!=2019.12.17 in /opt/conda/lib/python3.7/site-packages (from transformers<4.5,>=4.1->allennlp) (2020.11.13)\r\n",
      "Requirement already satisfied: tokenizers<0.11,>=0.10.1 in /opt/conda/lib/python3.7/site-packages (from transformers<4.5,>=4.1->allennlp) (0.10.1)\r\n",
      "Requirement already satisfied: sacremoses in /opt/conda/lib/python3.7/site-packages (from transformers<4.5,>=4.1->allennlp) (0.0.43)\r\n",
      "Requirement already satisfied: promise<3,>=2.0 in /opt/conda/lib/python3.7/site-packages (from wandb<0.11.0,>=0.10.0->allennlp) (2.3)\r\n",
      "Requirement already satisfied: PyYAML in /opt/conda/lib/python3.7/site-packages (from wandb<0.11.0,>=0.10.0->allennlp) (5.3.1)\r\n",
      "Requirement already satisfied: pathtools in /opt/conda/lib/python3.7/site-packages (from wandb<0.11.0,>=0.10.0->allennlp) (0.1.2)\r\n",
      "Requirement already satisfied: configparser>=3.8.1 in /opt/conda/lib/python3.7/site-packages (from wandb<0.11.0,>=0.10.0->allennlp) (5.0.2)\r\n",
      "Requirement already satisfied: GitPython>=1.0.0 in /opt/conda/lib/python3.7/site-packages (from wandb<0.11.0,>=0.10.0->allennlp) (3.1.13)\r\n",
      "Requirement already satisfied: shortuuid>=0.5.0 in /opt/conda/lib/python3.7/site-packages (from wandb<0.11.0,>=0.10.0->allennlp) (1.0.1)\r\n",
      "Requirement already satisfied: subprocess32>=3.5.3 in /opt/conda/lib/python3.7/site-packages (from wandb<0.11.0,>=0.10.0->allennlp) (3.5.4)\r\n",
      "Requirement already satisfied: sentry-sdk>=0.4.0 in /opt/conda/lib/python3.7/site-packages (from wandb<0.11.0,>=0.10.0->allennlp) (1.0.0)\r\n",
      "Requirement already satisfied: Click>=7.0 in /opt/conda/lib/python3.7/site-packages (from wandb<0.11.0,>=0.10.0->allennlp) (7.1.2)\r\n",
      "Requirement already satisfied: docker-pycreds>=0.4.0 in /opt/conda/lib/python3.7/site-packages (from wandb<0.11.0,>=0.10.0->allennlp) (0.4.0)\r\n",
      "Requirement already satisfied: psutil>=5.0.0 in /opt/conda/lib/python3.7/site-packages (from wandb<0.11.0,>=0.10.0->allennlp) (5.8.0)\r\n",
      "Requirement already satisfied: gitdb<5,>=4.0.1 in /opt/conda/lib/python3.7/site-packages (from GitPython>=1.0.0->wandb<0.11.0,>=0.10.0->allennlp) (4.0.5)\r\n",
      "Requirement already satisfied: smmap<4,>=3.0.1 in /opt/conda/lib/python3.7/site-packages (from gitdb<5,>=4.0.1->GitPython>=1.0.0->wandb<0.11.0,>=0.10.0->allennlp) (3.0.5)\r\n",
      "Requirement already satisfied: pyparsing>=2.0.2 in /opt/conda/lib/python3.7/site-packages (from packaging->transformers<4.5,>=4.1->allennlp) (2.4.7)\r\n",
      "Requirement already satisfied: attrs>=19.2.0 in /opt/conda/lib/python3.7/site-packages (from pytest->allennlp) (20.3.0)\r\n",
      "Requirement already satisfied: pluggy<1.0.0a1,>=0.12 in /opt/conda/lib/python3.7/site-packages (from pytest->allennlp) (0.13.1)\r\n",
      "Requirement already satisfied: iniconfig in /opt/conda/lib/python3.7/site-packages (from pytest->allennlp) (1.1.1)\r\n",
      "Requirement already satisfied: toml in /opt/conda/lib/python3.7/site-packages (from pytest->allennlp) (0.10.2)\r\n",
      "Requirement already satisfied: py>=1.8.2 in /opt/conda/lib/python3.7/site-packages (from pytest->allennlp) (1.10.0)\r\n",
      "Requirement already satisfied: joblib in /opt/conda/lib/python3.7/site-packages (from sacremoses->transformers<4.5,>=4.1->allennlp) (1.0.1)\r\n",
      "Requirement already satisfied: threadpoolctl>=2.0.0 in /opt/conda/lib/python3.7/site-packages (from scikit-learn->allennlp) (2.1.0)\r\n",
      "Collecting transformers==4.3.0\r\n",
      "  Downloading transformers-4.3.0-py3-none-any.whl (1.8 MB)\r\n",
      "\u001b[K     |████████████████████████████████| 1.8 MB 868 kB/s \r\n",
      "\u001b[?25hRequirement already satisfied: importlib-metadata in /opt/conda/lib/python3.7/site-packages (from transformers==4.3.0) (3.4.0)\r\n",
      "Requirement already satisfied: requests in /opt/conda/lib/python3.7/site-packages (from transformers==4.3.0) (2.25.1)\r\n",
      "Requirement already satisfied: sacremoses in /opt/conda/lib/python3.7/site-packages (from transformers==4.3.0) (0.0.43)\r\n",
      "Requirement already satisfied: tokenizers<0.11,>=0.10.1 in /opt/conda/lib/python3.7/site-packages (from transformers==4.3.0) (0.10.1)\r\n",
      "Requirement already satisfied: numpy>=1.17 in /opt/conda/lib/python3.7/site-packages (from transformers==4.3.0) (1.19.5)\r\n",
      "Requirement already satisfied: tqdm>=4.27 in /opt/conda/lib/python3.7/site-packages (from transformers==4.3.0) (4.56.2)\r\n",
      "Requirement already satisfied: packaging in /opt/conda/lib/python3.7/site-packages (from transformers==4.3.0) (20.9)\r\n",
      "Requirement already satisfied: filelock in /opt/conda/lib/python3.7/site-packages (from transformers==4.3.0) (3.0.12)\r\n",
      "Requirement already satisfied: regex!=2019.12.17 in /opt/conda/lib/python3.7/site-packages (from transformers==4.3.0) (2020.11.13)\r\n",
      "Requirement already satisfied: zipp>=0.5 in /opt/conda/lib/python3.7/site-packages (from importlib-metadata->transformers==4.3.0) (3.4.0)\r\n",
      "Requirement already satisfied: typing-extensions>=3.6.4 in /opt/conda/lib/python3.7/site-packages (from importlib-metadata->transformers==4.3.0) (3.7.4.3)\r\n",
      "Requirement already satisfied: pyparsing>=2.0.2 in /opt/conda/lib/python3.7/site-packages (from packaging->transformers==4.3.0) (2.4.7)\r\n",
      "Requirement already satisfied: chardet<5,>=3.0.2 in /opt/conda/lib/python3.7/site-packages (from requests->transformers==4.3.0) (3.0.4)\r\n",
      "Requirement already satisfied: urllib3<1.27,>=1.21.1 in /opt/conda/lib/python3.7/site-packages (from requests->transformers==4.3.0) (1.26.3)\r\n",
      "Requirement already satisfied: certifi>=2017.4.17 in /opt/conda/lib/python3.7/site-packages (from requests->transformers==4.3.0) (2020.12.5)\r\n",
      "Requirement already satisfied: idna<3,>=2.5 in /opt/conda/lib/python3.7/site-packages (from requests->transformers==4.3.0) (2.10)\r\n",
      "Requirement already satisfied: click in /opt/conda/lib/python3.7/site-packages (from sacremoses->transformers==4.3.0) (7.1.2)\r\n",
      "Requirement already satisfied: six in /opt/conda/lib/python3.7/site-packages (from sacremoses->transformers==4.3.0) (1.15.0)\r\n",
      "Requirement already satisfied: joblib in /opt/conda/lib/python3.7/site-packages (from sacremoses->transformers==4.3.0) (1.0.1)\r\n",
      "Installing collected packages: transformers\r\n",
      "  Attempting uninstall: transformers\r\n",
      "    Found existing installation: transformers 4.4.2\r\n",
      "    Uninstalling transformers-4.4.2:\r\n",
      "      Successfully uninstalled transformers-4.4.2\r\n",
      "Successfully installed transformers-4.3.0\r\n"
     ]
    }
   ],
   "source": [
    "!pip install --upgrade pip\n",
    "!pip install --upgrade allennlp\n",
    "!pip install transformers==4.3.0"
   ]
  },
  {
   "cell_type": "code",
   "execution_count": 2,
   "id": "numerical-replication",
   "metadata": {
    "_cell_guid": "b1076dfc-b9ad-4769-8c92-a6c4dae69d19",
    "_uuid": "8f2839f25d086af736a60e9eeb907d3b93b6e0e5",
    "execution": {
     "iopub.execute_input": "2021-04-04T21:59:44.311319Z",
     "iopub.status.busy": "2021-04-04T21:59:44.310592Z",
     "iopub.status.idle": "2021-04-04T21:59:44.316663Z",
     "shell.execute_reply": "2021-04-04T21:59:44.316051Z"
    },
    "papermill": {
     "duration": 0.07621,
     "end_time": "2021-04-04T21:59:44.316819",
     "exception": false,
     "start_time": "2021-04-04T21:59:44.240609",
     "status": "completed"
    },
    "tags": []
   },
   "outputs": [
    {
     "name": "stdout",
     "output_type": "stream",
     "text": [
      "/kaggle/input/contradictory-my-dear-watson/sample_submission.csv\n",
      "/kaggle/input/contradictory-my-dear-watson/train.csv\n",
      "/kaggle/input/contradictory-my-dear-watson/test.csv\n"
     ]
    }
   ],
   "source": [
    "# This Python 3 environment comes with many helpful analytics libraries installed\n",
    "# It is defined by the kaggle/python Docker image: https://github.com/kaggle/docker-python\n",
    "# For example, here's several helpful packages to load\n",
    "\n",
    "import numpy as np # linear algebra\n",
    "import pandas as pd # data processing, CSV file I/O (e.g. pd.read_csv)\n",
    "\n",
    "# Input data files are available in the read-only \"../input/\" directory\n",
    "# For example, running this (by clicking run or pressing Shift+Enter) will list all files under the input directory\n",
    "\n",
    "import os\n",
    "for dirname, _, filenames in os.walk('/kaggle/input'):\n",
    "    for filename in filenames:\n",
    "        print(os.path.join(dirname, filename))\n",
    "\n",
    "# You can write up to 20GB to the current directory (/kaggle/working/) that gets preserved as output when you create a version using \"Save & Run All\" \n",
    "# You can also write temporary files to /kaggle/temp/, but they won't be saved outside of the current session"
   ]
  },
  {
   "cell_type": "code",
   "execution_count": 3,
   "id": "dynamic-classroom",
   "metadata": {
    "execution": {
     "iopub.execute_input": "2021-04-04T21:59:44.454014Z",
     "iopub.status.busy": "2021-04-04T21:59:44.453315Z",
     "iopub.status.idle": "2021-04-04T21:59:55.000753Z",
     "shell.execute_reply": "2021-04-04T21:59:54.999574Z"
    },
    "papermill": {
     "duration": 10.619932,
     "end_time": "2021-04-04T21:59:55.000976",
     "exception": false,
     "start_time": "2021-04-04T21:59:44.381044",
     "status": "completed"
    },
    "tags": []
   },
   "outputs": [],
   "source": [
    "from transformers import BertTokenizer, TFBertModel\n",
    "from tokenizers import BertWordPieceTokenizer\n",
    "from transformers import AutoTokenizer, AutoConfig, TFAutoModel    \n",
    "from transformers import (XLMRobertaConfig, XLMRobertaTokenizer, TFXLMRobertaModel)            \n",
    "\n",
    "import matplotlib.pyplot as plt\n",
    "import tensorflow as tf\n",
    "import tensorflow.keras.backend as K\n",
    "\n",
    "from sklearn.metrics import classification_report, f1_score, accuracy_score\n",
    "\n",
    "os.environ[\"WANDB_API_KEY\"] = \"0\" # to silence warning\n",
    "\n",
    "np.random.seed(0)"
   ]
  },
  {
   "cell_type": "markdown",
   "id": "medical-female",
   "metadata": {
    "papermill": {
     "duration": 0.063671,
     "end_time": "2021-04-04T21:59:55.131702",
     "exception": false,
     "start_time": "2021-04-04T21:59:55.068031",
     "status": "completed"
    },
    "tags": []
   },
   "source": [
    "# Configure TPU Settings"
   ]
  },
  {
   "cell_type": "code",
   "execution_count": 4,
   "id": "employed-denver",
   "metadata": {
    "execution": {
     "iopub.execute_input": "2021-04-04T21:59:55.275111Z",
     "iopub.status.busy": "2021-04-04T21:59:55.274139Z",
     "iopub.status.idle": "2021-04-04T22:00:01.119974Z",
     "shell.execute_reply": "2021-04-04T22:00:01.119342Z"
    },
    "papermill": {
     "duration": 5.923465,
     "end_time": "2021-04-04T22:00:01.120123",
     "exception": false,
     "start_time": "2021-04-04T21:59:55.196658",
     "status": "completed"
    },
    "tags": []
   },
   "outputs": [
    {
     "name": "stdout",
     "output_type": "stream",
     "text": [
      "Number of replicas: 8\n"
     ]
    }
   ],
   "source": [
    "try:\n",
    "    tpu = tf.distribute.cluster_resolver.TPUClusterResolver()\n",
    "    tf.config.experimental_connect_to_cluster(tpu)\n",
    "    tf.tpu.experimental.initialize_tpu_system(tpu)\n",
    "    strategy = tf.distribute.experimental.TPUStrategy(tpu)\n",
    "except ValueError:\n",
    "    strategy = tf.distribute.get_strategy() # for CPU and single GPU\n",
    "print('Number of replicas:', strategy.num_replicas_in_sync)"
   ]
  },
  {
   "cell_type": "markdown",
   "id": "configured-friend",
   "metadata": {
    "papermill": {
     "duration": 0.066489,
     "end_time": "2021-04-04T22:00:01.254343",
     "exception": false,
     "start_time": "2021-04-04T22:00:01.187854",
     "status": "completed"
    },
    "tags": []
   },
   "source": [
    "# Load CSV Data files with Pandas"
   ]
  },
  {
   "cell_type": "markdown",
   "id": "native-scenario",
   "metadata": {
    "papermill": {
     "duration": 0.066784,
     "end_time": "2021-04-04T22:00:01.390076",
     "exception": false,
     "start_time": "2021-04-04T22:00:01.323292",
     "status": "completed"
    },
    "tags": []
   },
   "source": [
    "The dataset contains train and test files that includes premise-hypothesis pairs in fifteen different languages. \n",
    "\n",
    "The classification of the relationship between the premise and hypothesis statements is as follows:\n",
    "\n",
    "- label==`0` for `entailment`\n",
    "- label==`1` for `neutral`\n",
    "- label==`2` for `contradiction`\n",
    "\n",
    "You can look at [competition website](https://www.kaggle.com/c/contradictory-my-dear-watson/data) for elaboration on the dataset."
   ]
  },
  {
   "cell_type": "code",
   "execution_count": 5,
   "id": "dress-pipeline",
   "metadata": {
    "execution": {
     "iopub.execute_input": "2021-04-04T22:00:01.535921Z",
     "iopub.status.busy": "2021-04-04T22:00:01.535145Z",
     "iopub.status.idle": "2021-04-04T22:00:02.000719Z",
     "shell.execute_reply": "2021-04-04T22:00:02.001405Z"
    },
    "papermill": {
     "duration": 0.542825,
     "end_time": "2021-04-04T22:00:02.001673",
     "exception": false,
     "start_time": "2021-04-04T22:00:01.458848",
     "status": "completed"
    },
    "tags": []
   },
   "outputs": [
    {
     "data": {
      "text/html": [
       "<div>\n",
       "<style scoped>\n",
       "    .dataframe tbody tr th:only-of-type {\n",
       "        vertical-align: middle;\n",
       "    }\n",
       "\n",
       "    .dataframe tbody tr th {\n",
       "        vertical-align: top;\n",
       "    }\n",
       "\n",
       "    .dataframe thead th {\n",
       "        text-align: right;\n",
       "    }\n",
       "</style>\n",
       "<table border=\"1\" class=\"dataframe\">\n",
       "  <thead>\n",
       "    <tr style=\"text-align: right;\">\n",
       "      <th></th>\n",
       "      <th>id</th>\n",
       "      <th>premise</th>\n",
       "      <th>hypothesis</th>\n",
       "      <th>lang_abv</th>\n",
       "      <th>language</th>\n",
       "      <th>label</th>\n",
       "    </tr>\n",
       "  </thead>\n",
       "  <tbody>\n",
       "    <tr>\n",
       "      <th>0</th>\n",
       "      <td>5130fd2cb5</td>\n",
       "      <td>and these comments were considered in formulat...</td>\n",
       "      <td>The rules developed in the interim were put to...</td>\n",
       "      <td>en</td>\n",
       "      <td>English</td>\n",
       "      <td>0</td>\n",
       "    </tr>\n",
       "    <tr>\n",
       "      <th>1</th>\n",
       "      <td>5b72532a0b</td>\n",
       "      <td>These are issues that we wrestle with in pract...</td>\n",
       "      <td>Practice groups are not permitted to work on t...</td>\n",
       "      <td>en</td>\n",
       "      <td>English</td>\n",
       "      <td>2</td>\n",
       "    </tr>\n",
       "    <tr>\n",
       "      <th>2</th>\n",
       "      <td>3931fbe82a</td>\n",
       "      <td>Des petites choses comme celles-là font une di...</td>\n",
       "      <td>J'essayais d'accomplir quelque chose.</td>\n",
       "      <td>fr</td>\n",
       "      <td>French</td>\n",
       "      <td>0</td>\n",
       "    </tr>\n",
       "    <tr>\n",
       "      <th>3</th>\n",
       "      <td>5622f0c60b</td>\n",
       "      <td>you know they can't really defend themselves l...</td>\n",
       "      <td>They can't defend themselves because of their ...</td>\n",
       "      <td>en</td>\n",
       "      <td>English</td>\n",
       "      <td>0</td>\n",
       "    </tr>\n",
       "    <tr>\n",
       "      <th>4</th>\n",
       "      <td>86aaa48b45</td>\n",
       "      <td>ในการเล่นบทบาทสมมุติก็เช่นกัน โอกาสที่จะได้แสด...</td>\n",
       "      <td>เด็กสามารถเห็นได้ว่าชาติพันธุ์แตกต่างกันอย่างไร</td>\n",
       "      <td>th</td>\n",
       "      <td>Thai</td>\n",
       "      <td>1</td>\n",
       "    </tr>\n",
       "  </tbody>\n",
       "</table>\n",
       "</div>"
      ],
      "text/plain": [
       "           id                                            premise  \\\n",
       "0  5130fd2cb5  and these comments were considered in formulat...   \n",
       "1  5b72532a0b  These are issues that we wrestle with in pract...   \n",
       "2  3931fbe82a  Des petites choses comme celles-là font une di...   \n",
       "3  5622f0c60b  you know they can't really defend themselves l...   \n",
       "4  86aaa48b45  ในการเล่นบทบาทสมมุติก็เช่นกัน โอกาสที่จะได้แสด...   \n",
       "\n",
       "                                          hypothesis lang_abv language  label  \n",
       "0  The rules developed in the interim were put to...       en  English      0  \n",
       "1  Practice groups are not permitted to work on t...       en  English      2  \n",
       "2              J'essayais d'accomplir quelque chose.       fr   French      0  \n",
       "3  They can't defend themselves because of their ...       en  English      0  \n",
       "4    เด็กสามารถเห็นได้ว่าชาติพันธุ์แตกต่างกันอย่างไร       th     Thai      1  "
      ]
     },
     "execution_count": 5,
     "metadata": {},
     "output_type": "execute_result"
    }
   ],
   "source": [
    "train = pd.read_csv(\"../input/contradictory-my-dear-watson/train.csv\")\n",
    "test = pd.read_csv(\"../input/contradictory-my-dear-watson/test.csv\")\n",
    "\n",
    "train.head()"
   ]
  },
  {
   "cell_type": "markdown",
   "id": "varied-information",
   "metadata": {
    "papermill": {
     "duration": 0.076293,
     "end_time": "2021-04-04T22:00:02.155444",
     "exception": false,
     "start_time": "2021-04-04T22:00:02.079151",
     "status": "completed"
    },
    "tags": []
   },
   "source": [
    "# Data Exploration and Analysis"
   ]
  },
  {
   "cell_type": "markdown",
   "id": "published-declaration",
   "metadata": {
    "papermill": {
     "duration": 0.069829,
     "end_time": "2021-04-04T22:00:02.297805",
     "exception": false,
     "start_time": "2021-04-04T22:00:02.227976",
     "status": "completed"
    },
    "tags": []
   },
   "source": [
    "Explore data & drop any incomplete rows of data.\n",
    "\n",
    "Find how many data points and features are in the original, provided training dataset."
   ]
  },
  {
   "cell_type": "code",
   "execution_count": 6,
   "id": "latter-permission",
   "metadata": {
    "execution": {
     "iopub.execute_input": "2021-04-04T22:00:02.455745Z",
     "iopub.status.busy": "2021-04-04T22:00:02.454396Z",
     "iopub.status.idle": "2021-04-04T22:00:02.462643Z",
     "shell.execute_reply": "2021-04-04T22:00:02.461925Z"
    },
    "papermill": {
     "duration": 0.093889,
     "end_time": "2021-04-04T22:00:02.462809",
     "exception": false,
     "start_time": "2021-04-04T22:00:02.368920",
     "status": "completed"
    },
    "tags": []
   },
   "outputs": [
    {
     "name": "stdout",
     "output_type": "stream",
     "text": [
      "Number of missing data points per column:\n",
      "\n",
      "id            0\n",
      "premise       0\n",
      "hypothesis    0\n",
      "lang_abv      0\n",
      "language      0\n",
      "label         0\n",
      "dtype: int64\n"
     ]
    }
   ],
   "source": [
    "# print out stats about data\n",
    "\n",
    "missing_values_count = train.isnull().sum() # we get the number of missing data points per column\n",
    "print(\"Number of missing data points per column:\\n\")\n",
    "print (missing_values_count)"
   ]
  },
  {
   "cell_type": "code",
   "execution_count": 7,
   "id": "approved-architecture",
   "metadata": {
    "execution": {
     "iopub.execute_input": "2021-04-04T22:00:02.613295Z",
     "iopub.status.busy": "2021-04-04T22:00:02.612234Z",
     "iopub.status.idle": "2021-04-04T22:00:02.616998Z",
     "shell.execute_reply": "2021-04-04T22:00:02.617866Z"
    },
    "papermill": {
     "duration": 0.084062,
     "end_time": "2021-04-04T22:00:02.618116",
     "exception": false,
     "start_time": "2021-04-04T22:00:02.534054",
     "status": "completed"
    },
    "tags": []
   },
   "outputs": [
    {
     "name": "stdout",
     "output_type": "stream",
     "text": [
      "Number of training data rows: 12120 \n",
      "\n",
      "Number of training data columns: 6 \n",
      "\n"
     ]
    }
   ],
   "source": [
    "# check the number of rows and columns in the training set\n",
    "\n",
    "print(\"Number of training data rows: {} \\n\".format(train.shape[0]))\n",
    "\n",
    "print(\"Number of training data columns: {} \\n\".format(train.shape[1]))"
   ]
  },
  {
   "cell_type": "markdown",
   "id": "coastal-product",
   "metadata": {
    "papermill": {
     "duration": 0.068726,
     "end_time": "2021-04-04T22:00:02.759439",
     "exception": false,
     "start_time": "2021-04-04T22:00:02.690713",
     "status": "completed"
    },
    "tags": []
   },
   "source": [
    "Let's look at the distribution of languages in the training set."
   ]
  },
  {
   "cell_type": "code",
   "execution_count": 8,
   "id": "organic-buyer",
   "metadata": {
    "execution": {
     "iopub.execute_input": "2021-04-04T22:00:02.906809Z",
     "iopub.status.busy": "2021-04-04T22:00:02.905977Z",
     "iopub.status.idle": "2021-04-04T22:00:02.923551Z",
     "shell.execute_reply": "2021-04-04T22:00:02.922803Z"
    },
    "papermill": {
     "duration": 0.092225,
     "end_time": "2021-04-04T22:00:02.923732",
     "exception": false,
     "start_time": "2021-04-04T22:00:02.831507",
     "status": "completed"
    },
    "tags": []
   },
   "outputs": [
    {
     "data": {
      "text/plain": [
       "English       6870\n",
       "Chinese        411\n",
       "Arabic         401\n",
       "French         390\n",
       "Swahili        385\n",
       "Urdu           381\n",
       "Vietnamese     379\n",
       "Russian        376\n",
       "Hindi          374\n",
       "Greek          372\n",
       "Thai           371\n",
       "Spanish        366\n",
       "German         351\n",
       "Turkish        351\n",
       "Bulgarian      342\n",
       "Name: language, dtype: int64"
      ]
     },
     "execution_count": 8,
     "metadata": {},
     "output_type": "execute_result"
    }
   ],
   "source": [
    "train.language.unique()\n",
    "train.language.value_counts()"
   ]
  },
  {
   "cell_type": "markdown",
   "id": "surprised-lawsuit",
   "metadata": {
    "papermill": {
     "duration": 0.068647,
     "end_time": "2021-04-04T22:00:03.067818",
     "exception": false,
     "start_time": "2021-04-04T22:00:02.999171",
     "status": "completed"
    },
    "tags": []
   },
   "source": [
    "Let's now visualize the distribution of class labels over the training data"
   ]
  },
  {
   "cell_type": "code",
   "execution_count": 9,
   "id": "scientific-carnival",
   "metadata": {
    "execution": {
     "iopub.execute_input": "2021-04-04T22:00:03.213016Z",
     "iopub.status.busy": "2021-04-04T22:00:03.212257Z",
     "iopub.status.idle": "2021-04-04T22:00:03.393358Z",
     "shell.execute_reply": "2021-04-04T22:00:03.393913Z"
    },
    "papermill": {
     "duration": 0.253981,
     "end_time": "2021-04-04T22:00:03.394220",
     "exception": false,
     "start_time": "2021-04-04T22:00:03.140239",
     "status": "completed"
    },
    "tags": []
   },
   "outputs": [
    {
     "data": {
      "image/png": "[encoded data removed]",
      "text/plain": [
       "<Figure size 720x720 with 1 Axes>"
      ]
     },
     "metadata": {},
     "output_type": "display_data"
    }
   ],
   "source": [
    "# counts for all classes\n",
    "counts = train['label'].value_counts()\n",
    "\n",
    "class_labels = ['Entailment', 'Neutral', 'Contradiction']\n",
    "\n",
    "counts_per_class = [counts[0], counts[1], counts[2]]\n",
    "\n",
    "# counts.plot(kind='barh')\n",
    "\n",
    "plt.figure(figsize = (10,10))\n",
    "plt.pie(counts_per_class,labels = class_labels, autopct = '%1.1f%%')\n",
    "plt.show()"
   ]
  },
  {
   "cell_type": "markdown",
   "id": "spread-header",
   "metadata": {
    "papermill": {
     "duration": 0.074012,
     "end_time": "2021-04-04T22:00:03.542248",
     "exception": false,
     "start_time": "2021-04-04T22:00:03.468236",
     "status": "completed"
    },
    "tags": []
   },
   "source": [
    "From the chart above, we can see that the training data is fairly balanced over the 3 classes."
   ]
  },
  {
   "cell_type": "markdown",
   "id": "careful-fruit",
   "metadata": {
    "papermill": {
     "duration": 0.070816,
     "end_time": "2021-04-04T22:00:03.690033",
     "exception": false,
     "start_time": "2021-04-04T22:00:03.619217",
     "status": "completed"
    },
    "tags": []
   },
   "source": [
    "# Split the Training Data"
   ]
  },
  {
   "cell_type": "markdown",
   "id": "removable-mouth",
   "metadata": {
    "papermill": {
     "duration": 0.072035,
     "end_time": "2021-04-04T22:00:03.832605",
     "exception": false,
     "start_time": "2021-04-04T22:00:03.760570",
     "status": "completed"
    },
    "tags": []
   },
   "source": [
    "We will be splitting the training dataset into two parts - the data we will train the model with and a validation set. We stratify data during train-valid split to preserve the original distribution of the target classes."
   ]
  },
  {
   "cell_type": "code",
   "execution_count": 10,
   "id": "adjacent-blair",
   "metadata": {
    "execution": {
     "iopub.execute_input": "2021-04-04T22:00:03.986379Z",
     "iopub.status.busy": "2021-04-04T22:00:03.985333Z",
     "iopub.status.idle": "2021-04-04T22:00:04.029993Z",
     "shell.execute_reply": "2021-04-04T22:00:04.029316Z"
    },
    "papermill": {
     "duration": 0.126963,
     "end_time": "2021-04-04T22:00:04.030197",
     "exception": false,
     "start_time": "2021-04-04T22:00:03.903234",
     "status": "completed"
    },
    "tags": []
   },
   "outputs": [],
   "source": [
    "from sklearn.model_selection import train_test_split\n",
    "train, validation = train_test_split(train, stratify=train.label.values, \n",
    "                                                  random_state=42, \n",
    "                                                  test_size=0.2, shuffle=True)\n",
    "\n",
    "\n",
    "train.reset_index(drop=True, inplace=True)\n",
    "validation.reset_index(drop=True, inplace=True)"
   ]
  },
  {
   "cell_type": "code",
   "execution_count": 11,
   "id": "capital-header",
   "metadata": {
    "execution": {
     "iopub.execute_input": "2021-04-04T22:00:04.188325Z",
     "iopub.status.busy": "2021-04-04T22:00:04.187349Z",
     "iopub.status.idle": "2021-04-04T22:00:04.194307Z",
     "shell.execute_reply": "2021-04-04T22:00:04.192819Z"
    },
    "papermill": {
     "duration": 0.089895,
     "end_time": "2021-04-04T22:00:04.194741",
     "exception": false,
     "start_time": "2021-04-04T22:00:04.104846",
     "status": "completed"
    },
    "tags": []
   },
   "outputs": [
    {
     "name": "stdout",
     "output_type": "stream",
     "text": [
      "Train data: (9696, 6) \n",
      "\n",
      "Validation data: (2424, 6) \n",
      "\n"
     ]
    }
   ],
   "source": [
    "# check the number of rows and columns after split\n",
    "\n",
    "print(\"Train data: {} \\n\".format(train.shape))\n",
    "\n",
    "print(\"Validation data: {} \\n\".format(validation.shape))"
   ]
  },
  {
   "cell_type": "markdown",
   "id": "united-camera",
   "metadata": {
    "papermill": {
     "duration": 0.071834,
     "end_time": "2021-04-04T22:00:04.345406",
     "exception": false,
     "start_time": "2021-04-04T22:00:04.273572",
     "status": "completed"
    },
    "tags": []
   },
   "source": [
    "# Implement M-BERT Model"
   ]
  },
  {
   "cell_type": "markdown",
   "id": "technological-arlington",
   "metadata": {
    "papermill": {
     "duration": 0.074214,
     "end_time": "2021-04-04T22:00:04.497053",
     "exception": false,
     "start_time": "2021-04-04T22:00:04.422839",
     "status": "completed"
    },
    "tags": []
   },
   "source": [
    "The Multilingual BERT or M-BERT is a single language model pre-trained on the concatenation of monolingual Wikipedia corpora from 104 languages. We will fine-tune this pretrained model on our training dataset to get the predictions for textual entailment recognition."
   ]
  },
  {
   "cell_type": "markdown",
   "id": "double-performer",
   "metadata": {
    "papermill": {
     "duration": 0.07555,
     "end_time": "2021-04-04T22:00:04.644417",
     "exception": false,
     "start_time": "2021-04-04T22:00:04.568867",
     "status": "completed"
    },
    "tags": []
   },
   "source": [
    "## Set up M-BERT Tokenizer"
   ]
  },
  {
   "cell_type": "markdown",
   "id": "pediatric-delhi",
   "metadata": {
    "papermill": {
     "duration": 0.071667,
     "end_time": "2021-04-04T22:00:04.787977",
     "exception": false,
     "start_time": "2021-04-04T22:00:04.716310",
     "status": "completed"
    },
    "tags": []
   },
   "source": [
    "A pretrained model only performs properly if we feed it an input that was tokenized with the same rules that were used to tokenize its training data. The BERT multilingual model does not perform any normalization on the input (no lower casing, accent stripping, or Unicode normalization). Hence we also follow the same rules when tokenizing input data for our task. For more information on data pre-processing, visit [M-BERT github](https://github.com/google-research/bert/blob/master/multilingual.md)."
   ]
  },
  {
   "cell_type": "code",
   "execution_count": 12,
   "id": "flexible-adoption",
   "metadata": {
    "execution": {
     "iopub.execute_input": "2021-04-04T22:00:04.944769Z",
     "iopub.status.busy": "2021-04-04T22:00:04.943504Z",
     "iopub.status.idle": "2021-04-04T22:00:06.698035Z",
     "shell.execute_reply": "2021-04-04T22:00:06.697350Z"
    },
    "papermill": {
     "duration": 1.836339,
     "end_time": "2021-04-04T22:00:06.698181",
     "exception": false,
     "start_time": "2021-04-04T22:00:04.861842",
     "status": "completed"
    },
    "tags": []
   },
   "outputs": [
    {
     "data": {
      "application/vnd.jupyter.widget-view+json": {
       "model_id": "e29833cb23ec49dca537e6556c0f0ac9",
       "version_major": 2,
       "version_minor": 0
      },
      "text/plain": [
       "Downloading:   0%|          | 0.00/996k [00:00<?, ?B/s]"
      ]
     },
     "metadata": {},
     "output_type": "display_data"
    },
    {
     "data": {
      "text/plain": [
       "Tokenizer(vocabulary_size=119547, model=BertWordPiece, unk_token=[UNK], sep_token=[SEP], cls_token=[CLS], pad_token=[PAD], mask_token=[MASK], clean_text=True, handle_chinese_chars=True, strip_accents=False, lowercase=False, wordpieces_prefix=##)"
      ]
     },
     "execution_count": 12,
     "metadata": {},
     "output_type": "execute_result"
    }
   ],
   "source": [
    "model_name = 'bert-base-multilingual-cased'\n",
    "tokenizer = BertTokenizer.from_pretrained(model_name) # Save the slow pretrained tokenizer\n",
    "save_path = '.'\n",
    "if not os.path.exists(save_path):\n",
    "    os.makedirs(save_path)\n",
    "tokenizer.save_pretrained(save_path) # Save the loaded tokenizer locally\n",
    "tokenizer = BertWordPieceTokenizer(\"vocab.txt\", lowercase=False, strip_accents=False) # Load the fast tokenizer from saved file\n",
    "\n",
    "tokenizer"
   ]
  },
  {
   "cell_type": "markdown",
   "id": "desperate-choice",
   "metadata": {
    "papermill": {
     "duration": 0.075899,
     "end_time": "2021-04-04T22:00:06.842555",
     "exception": false,
     "start_time": "2021-04-04T22:00:06.766656",
     "status": "completed"
    },
    "tags": []
   },
   "source": [
    "Let's look at the sequence length distribution (e.g. number of tokens in a sequence) for the input data. We will need this information later when setting the `max_len` value since a machine learning algorithm requires all the inputs in a batch to have the same length."
   ]
  },
  {
   "cell_type": "code",
   "execution_count": 13,
   "id": "single-trailer",
   "metadata": {
    "execution": {
     "iopub.execute_input": "2021-04-04T22:00:07.012764Z",
     "iopub.status.busy": "2021-04-04T22:00:07.011998Z",
     "iopub.status.idle": "2021-04-04T22:00:08.235267Z",
     "shell.execute_reply": "2021-04-04T22:00:08.234601Z"
    },
    "papermill": {
     "duration": 1.317799,
     "end_time": "2021-04-04T22:00:08.235425",
     "exception": false,
     "start_time": "2021-04-04T22:00:06.917626",
     "status": "completed"
    },
    "tags": []
   },
   "outputs": [
    {
     "data": {
      "image/png": "[encoded data removed]",
      "text/plain": [
       "<Figure size 432x288 with 1 Axes>"
      ]
     },
     "metadata": {
      "needs_background": "light"
     },
     "output_type": "display_data"
    }
   ],
   "source": [
    "def plot(df, tokenizer):\n",
    "    \"\"\"\n",
    "    Plot histogram of lengths of input sequences\n",
    "    \"\"\"\n",
    "    all_text = df.premise.values.tolist() + df.hypothesis.values.tolist() # list of string texts\n",
    "    all_text_tokenized = tokenizer.encode_batch(all_text) # list of encoding objects\n",
    "    all_tokenized_len = [len(encoding.tokens) for encoding in all_text_tokenized] # list of token lengths\n",
    "       \n",
    "    plt.hist(all_tokenized_len, bins=30, alpha=0.5)\n",
    "    plt.title(' Histogram of lengths of input sequences')\n",
    "    plt.xlabel('Number of tokens')\n",
    "    plt.ylabel('Count')\n",
    "\n",
    "    plt.show()\n",
    "\n",
    "plot(train, tokenizer)"
   ]
  },
  {
   "cell_type": "markdown",
   "id": "english-shopping",
   "metadata": {
    "papermill": {
     "duration": 0.072577,
     "end_time": "2021-04-04T22:00:08.376483",
     "exception": false,
     "start_time": "2021-04-04T22:00:08.303906",
     "status": "completed"
    },
    "tags": []
   },
   "source": [
    "From the histogram above, we can see that majority of the input sequences have less than 50 tokens."
   ]
  },
  {
   "cell_type": "markdown",
   "id": "assigned-charter",
   "metadata": {
    "papermill": {
     "duration": 0.069097,
     "end_time": "2021-04-04T22:00:08.517806",
     "exception": false,
     "start_time": "2021-04-04T22:00:08.448709",
     "status": "completed"
    },
    "tags": []
   },
   "source": [
    "We can also calculate the mean and max input sequence lengths per language."
   ]
  },
  {
   "cell_type": "code",
   "execution_count": 14,
   "id": "ongoing-finance",
   "metadata": {
    "execution": {
     "iopub.execute_input": "2021-04-04T22:00:08.676660Z",
     "iopub.status.busy": "2021-04-04T22:00:08.675830Z",
     "iopub.status.idle": "2021-04-04T22:00:09.491490Z",
     "shell.execute_reply": "2021-04-04T22:00:09.490897Z"
    },
    "papermill": {
     "duration": 0.904482,
     "end_time": "2021-04-04T22:00:09.491869",
     "exception": false,
     "start_time": "2021-04-04T22:00:08.587387",
     "status": "completed"
    },
    "tags": []
   },
   "outputs": [
    {
     "name": "stdout",
     "output_type": "stream",
     "text": [
      "           premise_seq_length            hypothesis_seq_length          \n",
      "                         mean  max count                  mean max count\n",
      "language                                                                \n",
      "Arabic              36.375776   96   322             18.776398  65   322\n",
      "Bulgarian           40.114391   89   271             20.619926  56   271\n",
      "Chinese             33.707792   76   308             17.113636  47   308\n",
      "English             28.039703  234  5516             15.045323  61  5516\n",
      "French              32.851964   74   331             18.078550  41   331\n",
      "German              30.721831   69   284             16.169014  34   284\n",
      "Greek               50.888136  109   295             26.366102  61   295\n",
      "Hindi               42.878472   99   288             22.871528  51   288\n",
      "Russian             36.202128   88   282             19.060284  54   282\n",
      "Spanish             29.770318   62   283             16.070671  47   283\n",
      "Swahili             35.964856   88   313             18.492013  53   313\n",
      "Thai                62.374150  158   294             33.863946  83   294\n",
      "Turkish             33.258741   86   286             18.209790  43   286\n",
      "Urdu                39.077170   90   311             20.874598  54   311\n",
      "Vietnamese          32.987179   74   312             17.538462  42   312\n"
     ]
    }
   ],
   "source": [
    "tokenized_premise = tokenizer.encode_batch(train.premise.values.tolist()) # list of encoding objects\n",
    "train['premise_seq_length'] = [len(encoding.tokens) for encoding in tokenized_premise] # list of lengths\n",
    "    \n",
    "tokenized_hypothesis = tokenizer.encode_batch(train.hypothesis.values.tolist()) # list of encoding objects\n",
    "train['hypothesis_seq_length'] = [len(encoding.tokens) for encoding in tokenized_hypothesis] # list of lengths\n",
    "\n",
    "# Calculate max and avg sequence length per language\n",
    "info_per_lang = train.groupby('language').agg({'premise_seq_length': ['mean', 'max', 'count'], 'hypothesis_seq_length': ['mean', 'max', 'count']})\n",
    "print (info_per_lang)"
   ]
  },
  {
   "cell_type": "markdown",
   "id": "distant-headquarters",
   "metadata": {
    "papermill": {
     "duration": 0.073168,
     "end_time": "2021-04-04T22:00:09.634946",
     "exception": false,
     "start_time": "2021-04-04T22:00:09.561778",
     "status": "completed"
    },
    "tags": []
   },
   "source": [
    "From the above table, we can see that the length of premise sentences are greater than those of the hypothesis sentences for all languages. \n",
    "\n",
    "Hence, let's visualize the mean sequence length distribution over the languages for the premise inputs."
   ]
  },
  {
   "cell_type": "code",
   "execution_count": 15,
   "id": "popular-water",
   "metadata": {
    "execution": {
     "iopub.execute_input": "2021-04-04T22:00:09.784223Z",
     "iopub.status.busy": "2021-04-04T22:00:09.783555Z",
     "iopub.status.idle": "2021-04-04T22:00:10.077217Z",
     "shell.execute_reply": "2021-04-04T22:00:10.076366Z"
    },
    "papermill": {
     "duration": 0.37219,
     "end_time": "2021-04-04T22:00:10.077399",
     "exception": false,
     "start_time": "2021-04-04T22:00:09.705209",
     "status": "completed"
    },
    "tags": []
   },
   "outputs": [
    {
     "data": {
      "text/plain": [
       "<AxesSubplot:xlabel='language'>"
      ]
     },
     "execution_count": 15,
     "metadata": {},
     "output_type": "execute_result"
    },
    {
     "data": {
      "image/png": "[encoded data removed]",
      "text/plain": [
       "<Figure size 432x288 with 1 Axes>"
      ]
     },
     "metadata": {
      "needs_background": "light"
     },
     "output_type": "display_data"
    }
   ],
   "source": [
    "column_name = info_per_lang.columns.values[0] #premise mean column\n",
    "info_per_lang[column_name].plot(kind='bar')"
   ]
  },
  {
   "cell_type": "markdown",
   "id": "annual-beast",
   "metadata": {
    "papermill": {
     "duration": 0.085985,
     "end_time": "2021-04-04T22:00:10.245987",
     "exception": false,
     "start_time": "2021-04-04T22:00:10.160002",
     "status": "completed"
    },
    "tags": []
   },
   "source": [
    "The length should be large enough such that we don’t lose much data. Additionally, a very big number would make the model complex.\n",
    "\n",
    "Since most of the inputs are shorter than 50 words, we can consider length 50 for each input type of hypothesis and premise. \n",
    "\n",
    "Hence we set `MAX_LEN`=100.\n",
    "\n",
    "*Note*: The `MAX_LEN` hyperparameter can be taken as a parameter to be tuned to get optimal results."
   ]
  },
  {
   "cell_type": "markdown",
   "id": "biological-shower",
   "metadata": {
    "papermill": {
     "duration": 0.075693,
     "end_time": "2021-04-04T22:00:10.395328",
     "exception": false,
     "start_time": "2021-04-04T22:00:10.319635",
     "status": "completed"
    },
    "tags": []
   },
   "source": [
    "## Configure Hyperparameter Settings"
   ]
  },
  {
   "cell_type": "code",
   "execution_count": 16,
   "id": "found-richards",
   "metadata": {
    "execution": {
     "iopub.execute_input": "2021-04-04T22:00:10.552493Z",
     "iopub.status.busy": "2021-04-04T22:00:10.551765Z",
     "iopub.status.idle": "2021-04-04T22:00:10.555800Z",
     "shell.execute_reply": "2021-04-04T22:00:10.556439Z"
    },
    "papermill": {
     "duration": 0.085647,
     "end_time": "2021-04-04T22:00:10.556642",
     "exception": false,
     "start_time": "2021-04-04T22:00:10.470995",
     "status": "completed"
    },
    "tags": []
   },
   "outputs": [],
   "source": [
    "# Configuration\n",
    "EPOCHS = 3\n",
    "BATCH_SIZE = 64 \n",
    "MAX_LEN = 100\n",
    "PATIENCE = 1\n",
    "LEARNING_RATE = 1e-5"
   ]
  },
  {
   "cell_type": "markdown",
   "id": "mighty-balloon",
   "metadata": {
    "papermill": {
     "duration": 0.09289,
     "end_time": "2021-04-04T22:00:10.720753",
     "exception": false,
     "start_time": "2021-04-04T22:00:10.627863",
     "status": "completed"
    },
    "tags": []
   },
   "source": [
    "## Encode Input Sequences"
   ]
  },
  {
   "cell_type": "markdown",
   "id": "enhanced-miami",
   "metadata": {
    "papermill": {
     "duration": 0.074975,
     "end_time": "2021-04-04T22:00:10.889964",
     "exception": false,
     "start_time": "2021-04-04T22:00:10.814989",
     "status": "completed"
    },
    "tags": []
   },
   "source": [
    "For BERT model, the input is represented in the following format:\n",
    "\n",
    "`CLS` Premise `SEP` Hypothesis `SEP`\n",
    "\n",
    "The `CLS` and `SEP` are special tokens, where `CLS` is used in the beginning of a sequence for sentence-level classification while `SEP` separates the sentence pairs.\n",
    "\n",
    "We encode the training data by vectorizing the input strings and applying padding and truncation using `MAX_LEN` value.\n",
    "\n",
    "The encoded input will include - input word IDs, input masks, and input type IDs"
   ]
  },
  {
   "cell_type": "code",
   "execution_count": 17,
   "id": "hungry-speech",
   "metadata": {
    "execution": {
     "iopub.execute_input": "2021-04-04T22:00:11.053603Z",
     "iopub.status.busy": "2021-04-04T22:00:11.052477Z",
     "iopub.status.idle": "2021-04-04T22:00:11.057779Z",
     "shell.execute_reply": "2021-04-04T22:00:11.057103Z"
    },
    "papermill": {
     "duration": 0.091019,
     "end_time": "2021-04-04T22:00:11.057952",
     "exception": false,
     "start_time": "2021-04-04T22:00:10.966933",
     "status": "completed"
    },
    "tags": []
   },
   "outputs": [],
   "source": [
    "def encode(df, tokenizer, max_len=50):\n",
    "    \n",
    "    pairs = df[['premise','hypothesis']].values.tolist()\n",
    "\n",
    "    tokenizer.enable_truncation(max_len)\n",
    "    tokenizer.enable_padding()\n",
    "    \n",
    "    print (\"Encoding...\")\n",
    "    # We'll use encode_batch() as 'BertWordPieceTokenizer' object has no attribute 'batch_encode_plus'\n",
    "    enc_list = tokenizer.encode_batch(pairs)\n",
    "    print (\"Complete\")\n",
    "    \n",
    "    input_word_ids = tf.ragged.constant([enc.ids for enc in enc_list], dtype=tf.int32) #shape=[num_examples, max_len])\n",
    "    input_mask = tf.ragged.constant([enc.attention_mask for enc in enc_list], dtype=tf.int32) #shape=[num_examples, max_len]\n",
    "    input_type_ids = tf.ragged.constant([enc.type_ids for enc in enc_list], dtype=tf.int32) #shape=[num_examples, max_len]\n",
    "   \n",
    "    inputs = {\n",
    "        'input_word_ids': input_word_ids.to_tensor(),\n",
    "        'input_mask': input_mask.to_tensor(),\n",
    "        'input_type_ids': input_type_ids.to_tensor()}\n",
    "    \n",
    "    return inputs "
   ]
  },
  {
   "cell_type": "code",
   "execution_count": 18,
   "id": "formal-lover",
   "metadata": {
    "execution": {
     "iopub.execute_input": "2021-04-04T22:00:11.215203Z",
     "iopub.status.busy": "2021-04-04T22:00:11.214136Z",
     "iopub.status.idle": "2021-04-04T22:00:25.079833Z",
     "shell.execute_reply": "2021-04-04T22:00:25.080598Z"
    },
    "papermill": {
     "duration": 13.947683,
     "end_time": "2021-04-04T22:00:25.080857",
     "exception": false,
     "start_time": "2021-04-04T22:00:11.133174",
     "status": "completed"
    },
    "tags": []
   },
   "outputs": [
    {
     "name": "stdout",
     "output_type": "stream",
     "text": [
      "Encoding...\n",
      "Complete\n"
     ]
    }
   ],
   "source": [
    "train_input = encode(train, tokenizer=tokenizer, max_len=MAX_LEN)"
   ]
  },
  {
   "cell_type": "code",
   "execution_count": 19,
   "id": "ideal-discussion",
   "metadata": {
    "execution": {
     "iopub.execute_input": "2021-04-04T22:00:25.264271Z",
     "iopub.status.busy": "2021-04-04T22:00:25.263136Z",
     "iopub.status.idle": "2021-04-04T22:00:28.709014Z",
     "shell.execute_reply": "2021-04-04T22:00:28.708404Z"
    },
    "papermill": {
     "duration": 3.548145,
     "end_time": "2021-04-04T22:00:28.709162",
     "exception": false,
     "start_time": "2021-04-04T22:00:25.161017",
     "status": "completed"
    },
    "tags": []
   },
   "outputs": [
    {
     "name": "stdout",
     "output_type": "stream",
     "text": [
      "Encoding...\n",
      "Complete\n"
     ]
    }
   ],
   "source": [
    "validation_input = encode(validation, tokenizer=tokenizer, max_len=MAX_LEN)"
   ]
  },
  {
   "cell_type": "markdown",
   "id": "usual-pilot",
   "metadata": {
    "papermill": {
     "duration": 0.075295,
     "end_time": "2021-04-04T22:00:28.860087",
     "exception": false,
     "start_time": "2021-04-04T22:00:28.784792",
     "status": "completed"
    },
    "tags": []
   },
   "source": [
    "## Create and Train Model"
   ]
  },
  {
   "cell_type": "markdown",
   "id": "elementary-bottle",
   "metadata": {
    "papermill": {
     "duration": 0.077699,
     "end_time": "2021-04-04T22:00:29.012911",
     "exception": false,
     "start_time": "2021-04-04T22:00:28.935212",
     "status": "completed"
    },
    "tags": []
   },
   "source": [
    "We extract the pretrained BERT embedding vectors of the `CLS` token in the last layer and pass that as input to the classification layer for further training."
   ]
  },
  {
   "cell_type": "code",
   "execution_count": 20,
   "id": "charming-democracy",
   "metadata": {
    "execution": {
     "iopub.execute_input": "2021-04-04T22:00:29.180300Z",
     "iopub.status.busy": "2021-04-04T22:00:29.179442Z",
     "iopub.status.idle": "2021-04-04T22:00:29.184316Z",
     "shell.execute_reply": "2021-04-04T22:00:29.183575Z"
    },
    "papermill": {
     "duration": 0.091291,
     "end_time": "2021-04-04T22:00:29.184492",
     "exception": false,
     "start_time": "2021-04-04T22:00:29.093201",
     "status": "completed"
    },
    "tags": []
   },
   "outputs": [],
   "source": [
    "def build_model(model_name, max_len=50):\n",
    "    \n",
    "    tf.random.set_seed(12345) # For reproducibility\n",
    "    \n",
    "    bert_encoder = TFBertModel.from_pretrained(model_name)\n",
    "#     bert_encoder = TFAutoModel.from_pretrained(model_name)\n",
    "\n",
    "    input_word_ids = tf.keras.Input(shape=(max_len,), dtype=tf.int32, name=\"input_word_ids\")\n",
    "    input_mask = tf.keras.Input(shape=(max_len,), dtype=tf.int32, name=\"input_mask\")\n",
    "    input_type_ids = tf.keras.Input(shape=(max_len,), dtype=tf.int32, name=\"input_type_ids\")\n",
    "    \n",
    "    embedding = bert_encoder([input_word_ids, input_mask, input_type_ids])[0] # shape=(batch_size, max_len, embed_size)\n",
    "    cls_vector = embedding[:,0,:] #shape=(batch_size, embed_size)\n",
    "    output = tf.keras.layers.Dense(3, activation='softmax')(cls_vector) # shape=[batch_size, num_class=3]       \n",
    "    \n",
    "    model = tf.keras.Model(inputs=[input_word_ids, input_mask, input_type_ids], outputs=output)\n",
    "    model.compile(tf.keras.optimizers.Adam(lr=LEARNING_RATE), loss='sparse_categorical_crossentropy', metrics=['accuracy'])\n",
    "    \n",
    "    return model"
   ]
  },
  {
   "cell_type": "code",
   "execution_count": 21,
   "id": "handmade-lancaster",
   "metadata": {
    "execution": {
     "iopub.execute_input": "2021-04-04T22:00:29.338915Z",
     "iopub.status.busy": "2021-04-04T22:00:29.338177Z",
     "iopub.status.idle": "2021-04-04T22:01:35.374388Z",
     "shell.execute_reply": "2021-04-04T22:01:35.376263Z"
    },
    "papermill": {
     "duration": 66.119408,
     "end_time": "2021-04-04T22:01:35.376622",
     "exception": false,
     "start_time": "2021-04-04T22:00:29.257214",
     "status": "completed"
    },
    "tags": []
   },
   "outputs": [
    {
     "data": {
      "application/vnd.jupyter.widget-view+json": {
       "model_id": "cc3b223010f04ceeba6a9895bdfbf829",
       "version_major": 2,
       "version_minor": 0
      },
      "text/plain": [
       "Downloading:   0%|          | 0.00/625 [00:00<?, ?B/s]"
      ]
     },
     "metadata": {},
     "output_type": "display_data"
    },
    {
     "data": {
      "application/vnd.jupyter.widget-view+json": {
       "model_id": "198e5dbeb7274e0190428dc0e14f64db",
       "version_major": 2,
       "version_minor": 0
      },
      "text/plain": [
       "Downloading:   0%|          | 0.00/1.08G [00:00<?, ?B/s]"
      ]
     },
     "metadata": {},
     "output_type": "display_data"
    },
    {
     "name": "stderr",
     "output_type": "stream",
     "text": [
      "Some layers from the model checkpoint at bert-base-multilingual-cased were not used when initializing TFBertModel: ['nsp___cls', 'mlm___cls']\n",
      "- This IS expected if you are initializing TFBertModel from the checkpoint of a model trained on another task or with another architecture (e.g. initializing a BertForSequenceClassification model from a BertForPreTraining model).\n",
      "- This IS NOT expected if you are initializing TFBertModel from the checkpoint of a model that you expect to be exactly identical (initializing a BertForSequenceClassification model from a BertForSequenceClassification model).\n",
      "All the layers of TFBertModel were initialized from the model checkpoint at bert-base-multilingual-cased.\n",
      "If your task is similar to the task the model of the checkpoint was trained on, you can already use TFBertModel for predictions without further training.\n"
     ]
    },
    {
     "name": "stdout",
     "output_type": "stream",
     "text": [
      "Model: \"model\"\n",
      "__________________________________________________________________________________________________\n",
      "Layer (type)                    Output Shape         Param #     Connected to                     \n",
      "==================================================================================================\n",
      "input_word_ids (InputLayer)     [(None, 100)]        0                                            \n",
      "__________________________________________________________________________________________________\n",
      "input_mask (InputLayer)         [(None, 100)]        0                                            \n",
      "__________________________________________________________________________________________________\n",
      "input_type_ids (InputLayer)     [(None, 100)]        0                                            \n",
      "__________________________________________________________________________________________________\n",
      "tf_bert_model (TFBertModel)     TFBaseModelOutputWit 177853440   input_word_ids[0][0]             \n",
      "                                                                 input_mask[0][0]                 \n",
      "                                                                 input_type_ids[0][0]             \n",
      "__________________________________________________________________________________________________\n",
      "tf.__operators__.getitem (Slici (None, 768)          0           tf_bert_model[0][0]              \n",
      "__________________________________________________________________________________________________\n",
      "dense (Dense)                   (None, 3)            2307        tf.__operators__.getitem[0][0]   \n",
      "==================================================================================================\n",
      "Total params: 177,855,747\n",
      "Trainable params: 177,855,747\n",
      "Non-trainable params: 0\n",
      "__________________________________________________________________________________________________\n"
     ]
    }
   ],
   "source": [
    "# instantiating the model in the strategy scope creates the model on the TPU\n",
    "with strategy.scope():\n",
    "    model = build_model(model_name, MAX_LEN)\n",
    "    model.summary()"
   ]
  },
  {
   "cell_type": "markdown",
   "id": "better-flower",
   "metadata": {
    "papermill": {
     "duration": 0.08023,
     "end_time": "2021-04-04T22:01:35.545680",
     "exception": false,
     "start_time": "2021-04-04T22:01:35.465450",
     "status": "completed"
    },
    "tags": []
   },
   "source": [
    "The model will be trained on the training subset and early-stopping will be applied on validation subset to avoid overfitting. The best model checkpoint will be saved after `EPOCHS` iterations."
   ]
  },
  {
   "cell_type": "code",
   "execution_count": 22,
   "id": "waiting-chicago",
   "metadata": {
    "execution": {
     "iopub.execute_input": "2021-04-04T22:01:35.721649Z",
     "iopub.status.busy": "2021-04-04T22:01:35.720790Z",
     "iopub.status.idle": "2021-04-04T22:04:22.300889Z",
     "shell.execute_reply": "2021-04-04T22:04:22.300067Z"
    },
    "papermill": {
     "duration": 166.67173,
     "end_time": "2021-04-04T22:04:22.301207",
     "exception": false,
     "start_time": "2021-04-04T22:01:35.629477",
     "status": "completed"
    },
    "tags": []
   },
   "outputs": [
    {
     "name": "stdout",
     "output_type": "stream",
     "text": [
      "Epoch 1/3\n",
      "152/152 [==============================] - 131s 419ms/step - loss: 1.0779 - accuracy: 0.4176 - val_loss: 0.8655 - val_accuracy: 0.6167\n",
      "\n",
      "Epoch 00001: val_loss improved from inf to 0.86545, saving model to bert_best_checkpoint.hdf5\n",
      "Epoch 2/3\n",
      "152/152 [==============================] - 13s 85ms/step - loss: 0.7945 - accuracy: 0.6496 - val_loss: 0.8371 - val_accuracy: 0.6324\n",
      "\n",
      "Epoch 00002: val_loss improved from 0.86545 to 0.83712, saving model to bert_best_checkpoint.hdf5\n",
      "Epoch 3/3\n",
      "152/152 [==============================] - 13s 85ms/step - loss: 0.6219 - accuracy: 0.7430 - val_loss: 0.8958 - val_accuracy: 0.6353\n",
      "\n",
      "Epoch 00003: val_loss did not improve from 0.83712\n",
      "Epoch 00003: early stopping\n"
     ]
    }
   ],
   "source": [
    "from keras.callbacks import EarlyStopping, ModelCheckpoint\n",
    "\n",
    "checkpoint_filepath='bert_best_checkpoint.hdf5'\n",
    "\n",
    "# callbacks = [EarlyStopping(monitor='val_loss', mode='min', verbose=1, patience=PATIENCE), ModelCheckpoint(filepath=checkpoint_filepath, save_best_only=True, save_weights_only=True, monitor='val_accuracy', mode='max', verbose=1)]\n",
    "callbacks = [EarlyStopping(monitor='val_loss', mode='min', verbose=1, patience=PATIENCE), ModelCheckpoint(filepath=checkpoint_filepath, save_best_only=True, save_weights_only=True, monitor='val_loss', mode='min', verbose=1)]\n",
    "\n",
    "train_history = model.fit(x=train_input, y=train.label.values, validation_data=(validation_input, validation.label.values), epochs=EPOCHS, verbose=1, batch_size=BATCH_SIZE, callbacks=callbacks)"
   ]
  },
  {
   "cell_type": "code",
   "execution_count": 23,
   "id": "special-glenn",
   "metadata": {
    "execution": {
     "iopub.execute_input": "2021-04-04T22:04:22.786022Z",
     "iopub.status.busy": "2021-04-04T22:04:22.784411Z",
     "iopub.status.idle": "2021-04-04T22:04:23.043128Z",
     "shell.execute_reply": "2021-04-04T22:04:23.044030Z"
    },
    "papermill": {
     "duration": 0.507977,
     "end_time": "2021-04-04T22:04:23.044254",
     "exception": false,
     "start_time": "2021-04-04T22:04:22.536277",
     "status": "completed"
    },
    "tags": []
   },
   "outputs": [
    {
     "data": {
      "image/png": "[encoded data removed]",
      "text/plain": [
       "<Figure size 432x288 with 1 Axes>"
      ]
     },
     "metadata": {
      "needs_background": "light"
     },
     "output_type": "display_data"
    }
   ],
   "source": [
    "# plot loss history\n",
    "plt.plot(train_history.history['loss'], label='train loss')\n",
    "plt.plot(train_history.history['val_loss'], label='validation loss')\n",
    "plt.title('Average Loss')\n",
    "plt.xlabel('Epoch')\n",
    "plt.ylabel('Loss')\n",
    "plt.legend()\n",
    "plt.show()"
   ]
  },
  {
   "cell_type": "code",
   "execution_count": 24,
   "id": "quiet-prairie",
   "metadata": {
    "execution": {
     "iopub.execute_input": "2021-04-04T22:04:23.578670Z",
     "iopub.status.busy": "2021-04-04T22:04:23.577847Z",
     "iopub.status.idle": "2021-04-04T22:04:23.831289Z",
     "shell.execute_reply": "2021-04-04T22:04:23.831996Z"
    },
    "papermill": {
     "duration": 0.53178,
     "end_time": "2021-04-04T22:04:23.832237",
     "exception": false,
     "start_time": "2021-04-04T22:04:23.300457",
     "status": "completed"
    },
    "tags": []
   },
   "outputs": [
    {
     "data": {
      "image/png": "[encoded data removed]",
      "text/plain": [
       "<Figure size 432x288 with 1 Axes>"
      ]
     },
     "metadata": {
      "needs_background": "light"
     },
     "output_type": "display_data"
    }
   ],
   "source": [
    "# plot accuracy history\n",
    "plt.plot(train_history.history['accuracy'], label='train accuracy')\n",
    "plt.plot(train_history.history['val_accuracy'], label='validation accuracy')\n",
    "plt.title('Average Accuracy')\n",
    "plt.xlabel('Epoch')\n",
    "plt.ylabel('Accuracy')\n",
    "plt.legend()\n",
    "plt.show()"
   ]
  },
  {
   "cell_type": "markdown",
   "id": "differential-inspection",
   "metadata": {
    "papermill": {
     "duration": 0.236479,
     "end_time": "2021-04-04T22:04:24.315158",
     "exception": false,
     "start_time": "2021-04-04T22:04:24.078679",
     "status": "completed"
    },
    "tags": []
   },
   "source": [
    "From the above plots, we can see that there is a huge gap between the training and validation losses, which suggests that the M-BERT model is not quite good at generalizing to unseen data. The M-BERT model gives final validation accuracy of around 64%. In the next section, we'll look at another model, namely XLM-RoBERTa, which improves the validation accuracy and is much better at predictions on new data.  "
   ]
  },
  {
   "cell_type": "code",
   "execution_count": 25,
   "id": "appropriate-account",
   "metadata": {
    "execution": {
     "iopub.execute_input": "2021-04-04T22:04:24.787261Z",
     "iopub.status.busy": "2021-04-04T22:04:24.786213Z",
     "iopub.status.idle": "2021-04-04T22:04:24.791233Z",
     "shell.execute_reply": "2021-04-04T22:04:24.791900Z"
    },
    "papermill": {
     "duration": 0.23223,
     "end_time": "2021-04-04T22:04:24.792098",
     "exception": false,
     "start_time": "2021-04-04T22:04:24.559868",
     "status": "completed"
    },
    "tags": []
   },
   "outputs": [],
   "source": [
    "del model #to free up space"
   ]
  },
  {
   "cell_type": "code",
   "execution_count": 26,
   "id": "superb-tattoo",
   "metadata": {
    "execution": {
     "iopub.execute_input": "2021-04-04T22:04:25.260334Z",
     "iopub.status.busy": "2021-04-04T22:04:25.257235Z",
     "iopub.status.idle": "2021-04-04T22:04:25.267740Z",
     "shell.execute_reply": "2021-04-04T22:04:25.268355Z"
    },
    "papermill": {
     "duration": 0.243355,
     "end_time": "2021-04-04T22:04:25.268582",
     "exception": false,
     "start_time": "2021-04-04T22:04:25.025227",
     "status": "completed"
    },
    "tags": []
   },
   "outputs": [],
   "source": [
    "# Resets all state generated by Keras\n",
    "K.clear_session()"
   ]
  },
  {
   "cell_type": "markdown",
   "id": "passing-samuel",
   "metadata": {
    "papermill": {
     "duration": 0.225432,
     "end_time": "2021-04-04T22:04:25.717859",
     "exception": false,
     "start_time": "2021-04-04T22:04:25.492427",
     "status": "completed"
    },
    "tags": []
   },
   "source": [
    "# Implement XLM-RoBERTa Model"
   ]
  },
  {
   "cell_type": "markdown",
   "id": "criminal-holly",
   "metadata": {
    "papermill": {
     "duration": 0.233469,
     "end_time": "2021-04-04T22:04:26.170891",
     "exception": false,
     "start_time": "2021-04-04T22:04:25.937422",
     "status": "completed"
    },
    "tags": []
   },
   "source": [
    "The XLM-RoBERTa is based on Facebook’s RoBERTa model released in 2019. It is a large multi-lingual language model, trained on 2.5TB of filtered CommonCrawl data."
   ]
  },
  {
   "cell_type": "markdown",
   "id": "loose-privilege",
   "metadata": {
    "papermill": {
     "duration": 0.221893,
     "end_time": "2021-04-04T22:04:26.611423",
     "exception": false,
     "start_time": "2021-04-04T22:04:26.389530",
     "status": "completed"
    },
    "tags": []
   },
   "source": [
    "## Set up the Tokenizer"
   ]
  },
  {
   "cell_type": "code",
   "execution_count": 27,
   "id": "driven-fashion",
   "metadata": {
    "execution": {
     "iopub.execute_input": "2021-04-04T22:04:27.084454Z",
     "iopub.status.busy": "2021-04-04T22:04:27.083408Z",
     "iopub.status.idle": "2021-04-04T22:04:33.224264Z",
     "shell.execute_reply": "2021-04-04T22:04:33.223543Z"
    },
    "papermill": {
     "duration": 6.379135,
     "end_time": "2021-04-04T22:04:33.224426",
     "exception": false,
     "start_time": "2021-04-04T22:04:26.845291",
     "status": "completed"
    },
    "tags": []
   },
   "outputs": [
    {
     "data": {
      "application/vnd.jupyter.widget-view+json": {
       "model_id": "77e44e2fb3ec4c7ba8ecb9fe4b5b50f8",
       "version_major": 2,
       "version_minor": 0
      },
      "text/plain": [
       "Downloading:   0%|          | 0.00/513 [00:00<?, ?B/s]"
      ]
     },
     "metadata": {},
     "output_type": "display_data"
    },
    {
     "data": {
      "application/vnd.jupyter.widget-view+json": {
       "model_id": "81d7f84f26444fd3a9ca92b970be3f43",
       "version_major": 2,
       "version_minor": 0
      },
      "text/plain": [
       "Downloading:   0%|          | 0.00/5.07M [00:00<?, ?B/s]"
      ]
     },
     "metadata": {},
     "output_type": "display_data"
    },
    {
     "data": {
      "text/plain": [
       "PreTrainedTokenizerFast(name_or_path='jplu/tf-xlm-roberta-large', vocab_size=250002, model_max_len=1000000000000000019884624838656, is_fast=True, padding_side='right', special_tokens={'bos_token': '<s>', 'eos_token': '</s>', 'unk_token': '<unk>', 'sep_token': '</s>', 'pad_token': '<pad>', 'cls_token': '<s>', 'mask_token': AddedToken(\"<mask>\", rstrip=False, lstrip=True, single_word=False, normalized=True)})"
      ]
     },
     "execution_count": 27,
     "metadata": {},
     "output_type": "execute_result"
    }
   ],
   "source": [
    "PRETRAINED_MODEL_TYPES = {\n",
    "    'xlmroberta': (XLMRobertaConfig, TFXLMRobertaModel, XLMRobertaTokenizer, 'jplu/tf-xlm-roberta-large')\n",
    "}\n",
    "\n",
    "config_class, model_class, tokenizer_class, model_name = PRETRAINED_MODEL_TYPES['xlmroberta']\n",
    "\n",
    "# Download vocabulary from huggingface.co and cache.\n",
    "# tokenizer = tokenizer_class.from_pretrained(model_name) \n",
    "tokenizer = AutoTokenizer.from_pretrained(model_name) #fast tokenizer\n",
    "\n",
    "tokenizer"
   ]
  },
  {
   "cell_type": "markdown",
   "id": "unsigned-sharing",
   "metadata": {
    "papermill": {
     "duration": 0.22646,
     "end_time": "2021-04-04T22:04:33.672329",
     "exception": false,
     "start_time": "2021-04-04T22:04:33.445869",
     "status": "completed"
    },
    "tags": []
   },
   "source": [
    "## Encode Input Sequences"
   ]
  },
  {
   "cell_type": "markdown",
   "id": "pharmaceutical-former",
   "metadata": {
    "papermill": {
     "duration": 0.220672,
     "end_time": "2021-04-04T22:04:34.125149",
     "exception": false,
     "start_time": "2021-04-04T22:04:33.904477",
     "status": "completed"
    },
    "tags": []
   },
   "source": [
    "The encoded input will include - input word IDs and input masks, as required by the XLM-RoBERTa model."
   ]
  },
  {
   "cell_type": "code",
   "execution_count": 28,
   "id": "professional-martin",
   "metadata": {
    "execution": {
     "iopub.execute_input": "2021-04-04T22:04:34.599632Z",
     "iopub.status.busy": "2021-04-04T22:04:34.598616Z",
     "iopub.status.idle": "2021-04-04T22:04:34.603985Z",
     "shell.execute_reply": "2021-04-04T22:04:34.602793Z"
    },
    "papermill": {
     "duration": 0.242155,
     "end_time": "2021-04-04T22:04:34.604346",
     "exception": false,
     "start_time": "2021-04-04T22:04:34.362191",
     "status": "completed"
    },
    "tags": []
   },
   "outputs": [],
   "source": [
    "def encode(df, tokenizer, max_len=50):\n",
    "    \n",
    "    pairs = df[['premise','hypothesis']].values.tolist() #shape=[num_examples]\n",
    "    \n",
    "    print (\"Encoding...\")\n",
    "    encoded_dict = tokenizer.batch_encode_plus(pairs, max_length=max_len, padding=True, truncation=True, \n",
    "                                               add_special_tokens=True, return_attention_mask=True)\n",
    "    print (\"Complete\")\n",
    "    \n",
    "    input_word_ids = tf.convert_to_tensor(encoded_dict['input_ids'], dtype=tf.int32) #shape=[num_examples, max_len])\n",
    "    input_mask = tf.convert_to_tensor(encoded_dict['attention_mask'], dtype=tf.int32) #shape=[num_examples, max_len]\n",
    "    \n",
    "    inputs = {\n",
    "        'input_word_ids': input_word_ids,\n",
    "        'input_mask': input_mask}    \n",
    "    \n",
    "    return inputs"
   ]
  },
  {
   "cell_type": "markdown",
   "id": "approved-coupon",
   "metadata": {
    "papermill": {
     "duration": 0.236532,
     "end_time": "2021-04-04T22:04:35.129673",
     "exception": false,
     "start_time": "2021-04-04T22:04:34.893141",
     "status": "completed"
    },
    "tags": []
   },
   "source": [
    "We will use the same train-validation split and hyperparameter settings as in the previous BERT model for results to be comparable."
   ]
  },
  {
   "cell_type": "code",
   "execution_count": 29,
   "id": "bottom-amateur",
   "metadata": {
    "execution": {
     "iopub.execute_input": "2021-04-04T22:04:35.641265Z",
     "iopub.status.busy": "2021-04-04T22:04:35.640414Z",
     "iopub.status.idle": "2021-04-04T22:04:37.640643Z",
     "shell.execute_reply": "2021-04-04T22:04:37.639898Z"
    },
    "papermill": {
     "duration": 2.281926,
     "end_time": "2021-04-04T22:04:37.640823",
     "exception": false,
     "start_time": "2021-04-04T22:04:35.358897",
     "status": "completed"
    },
    "tags": []
   },
   "outputs": [
    {
     "name": "stdout",
     "output_type": "stream",
     "text": [
      "Encoding...\n",
      "Complete\n"
     ]
    }
   ],
   "source": [
    "train_input = encode(train, tokenizer=tokenizer, max_len=MAX_LEN)"
   ]
  },
  {
   "cell_type": "code",
   "execution_count": 30,
   "id": "impossible-lottery",
   "metadata": {
    "execution": {
     "iopub.execute_input": "2021-04-04T22:04:38.092952Z",
     "iopub.status.busy": "2021-04-04T22:04:38.091921Z",
     "iopub.status.idle": "2021-04-04T22:04:38.605345Z",
     "shell.execute_reply": "2021-04-04T22:04:38.605942Z"
    },
    "papermill": {
     "duration": 0.741038,
     "end_time": "2021-04-04T22:04:38.606131",
     "exception": false,
     "start_time": "2021-04-04T22:04:37.865093",
     "status": "completed"
    },
    "tags": []
   },
   "outputs": [
    {
     "name": "stdout",
     "output_type": "stream",
     "text": [
      "Encoding...\n",
      "Complete\n"
     ]
    }
   ],
   "source": [
    "validation_input = encode(validation, tokenizer=tokenizer, max_len=MAX_LEN)"
   ]
  },
  {
   "cell_type": "markdown",
   "id": "sapphire-cinema",
   "metadata": {
    "papermill": {
     "duration": 0.234492,
     "end_time": "2021-04-04T22:04:39.075080",
     "exception": false,
     "start_time": "2021-04-04T22:04:38.840588",
     "status": "completed"
    },
    "tags": []
   },
   "source": [
    "## Create and Train Model"
   ]
  },
  {
   "cell_type": "code",
   "execution_count": 31,
   "id": "governing-water",
   "metadata": {
    "execution": {
     "iopub.execute_input": "2021-04-04T22:04:39.552732Z",
     "iopub.status.busy": "2021-04-04T22:04:39.551988Z",
     "iopub.status.idle": "2021-04-04T22:04:39.561613Z",
     "shell.execute_reply": "2021-04-04T22:04:39.562121Z"
    },
    "papermill": {
     "duration": 0.243191,
     "end_time": "2021-04-04T22:04:39.562332",
     "exception": false,
     "start_time": "2021-04-04T22:04:39.319141",
     "status": "completed"
    },
    "tags": []
   },
   "outputs": [],
   "source": [
    "def build_model(max_len=50):\n",
    "    \n",
    "    tf.random.set_seed(12345) # For reproducibility\n",
    "    \n",
    "    # The bare XLM-RoBERTa Model transformer outputting raw hidden-states without any specific head on top.\n",
    "    encoder = model_class.from_pretrained(model_name)\n",
    "#     encoder = TFAutoModel.from_pretrained(model_name)\n",
    "    \n",
    "    input_word_ids = tf.keras.Input(shape=(max_len,), dtype=tf.int32, name=\"input_word_ids\")\n",
    "    input_mask = tf.keras.Input(shape=(max_len,), dtype=tf.int32, name=\"input_mask\")\n",
    "    \n",
    "    # Extract pretrained embedding vectors\n",
    "    embedding = encoder([input_word_ids, input_mask])[0] # shape=(batch_size, max_len, embed_size)\n",
    "    # We pass the embedding vectors of only the 'cls' token (at index=0) to the dense layer\n",
    "    sequence_output = embedding[:,0,:] #shape=(batch_size, embed_size)\n",
    "   \n",
    "    # Add a classification layer\n",
    "    output = tf.keras.layers.Dense(3, activation=\"softmax\")(sequence_output)  \n",
    "    \n",
    "    model = tf.keras.Model(inputs=[input_word_ids, input_mask], outputs=output)\n",
    "    model.compile(tf.keras.optimizers.Adam(lr=LEARNING_RATE), loss='sparse_categorical_crossentropy', metrics=['accuracy'])\n",
    "    \n",
    "    return model"
   ]
  },
  {
   "cell_type": "code",
   "execution_count": 32,
   "id": "positive-sheriff",
   "metadata": {
    "execution": {
     "iopub.execute_input": "2021-04-04T22:04:40.031539Z",
     "iopub.status.busy": "2021-04-04T22:04:40.030825Z",
     "iopub.status.idle": "2021-04-04T22:07:21.036819Z",
     "shell.execute_reply": "2021-04-04T22:07:21.035570Z"
    },
    "papermill": {
     "duration": 161.244005,
     "end_time": "2021-04-04T22:07:21.037103",
     "exception": false,
     "start_time": "2021-04-04T22:04:39.793098",
     "status": "completed"
    },
    "tags": []
   },
   "outputs": [
    {
     "data": {
      "application/vnd.jupyter.widget-view+json": {
       "model_id": "4a82da31605e42608e5c18682b842721",
       "version_major": 2,
       "version_minor": 0
      },
      "text/plain": [
       "Downloading:   0%|          | 0.00/3.27G [00:00<?, ?B/s]"
      ]
     },
     "metadata": {},
     "output_type": "display_data"
    },
    {
     "name": "stderr",
     "output_type": "stream",
     "text": [
      "Some layers from the model checkpoint at jplu/tf-xlm-roberta-large were not used when initializing TFXLMRobertaModel: ['lm_head']\n",
      "- This IS expected if you are initializing TFXLMRobertaModel from the checkpoint of a model trained on another task or with another architecture (e.g. initializing a BertForSequenceClassification model from a BertForPreTraining model).\n",
      "- This IS NOT expected if you are initializing TFXLMRobertaModel from the checkpoint of a model that you expect to be exactly identical (initializing a BertForSequenceClassification model from a BertForSequenceClassification model).\n",
      "All the layers of TFXLMRobertaModel were initialized from the model checkpoint at jplu/tf-xlm-roberta-large.\n",
      "If your task is similar to the task the model of the checkpoint was trained on, you can already use TFXLMRobertaModel for predictions without further training.\n"
     ]
    },
    {
     "name": "stdout",
     "output_type": "stream",
     "text": [
      "Model: \"model\"\n",
      "__________________________________________________________________________________________________\n",
      "Layer (type)                    Output Shape         Param #     Connected to                     \n",
      "==================================================================================================\n",
      "input_word_ids (InputLayer)     [(None, 100)]        0                                            \n",
      "__________________________________________________________________________________________________\n",
      "input_mask (InputLayer)         [(None, 100)]        0                                            \n",
      "__________________________________________________________________________________________________\n",
      "tfxlm_roberta_model (TFXLMRober TFBaseModelOutputWit 559890432   input_word_ids[0][0]             \n",
      "                                                                 input_mask[0][0]                 \n",
      "__________________________________________________________________________________________________\n",
      "tf.__operators__.getitem (Slici (None, 1024)         0           tfxlm_roberta_model[0][0]        \n",
      "__________________________________________________________________________________________________\n",
      "dense (Dense)                   (None, 3)            3075        tf.__operators__.getitem[0][0]   \n",
      "==================================================================================================\n",
      "Total params: 559,893,507\n",
      "Trainable params: 559,893,507\n",
      "Non-trainable params: 0\n",
      "__________________________________________________________________________________________________\n"
     ]
    }
   ],
   "source": [
    "# instantiating the model in the strategy scope creates the model on the TPU\n",
    "with strategy.scope():\n",
    "    model = build_model(MAX_LEN)\n",
    "    model.summary()"
   ]
  },
  {
   "cell_type": "code",
   "execution_count": 33,
   "id": "electronic-stadium",
   "metadata": {
    "execution": {
     "iopub.execute_input": "2021-04-04T22:07:21.546812Z",
     "iopub.status.busy": "2021-04-04T22:07:21.545902Z",
     "iopub.status.idle": "2021-04-04T22:13:06.430817Z",
     "shell.execute_reply": "2021-04-04T22:13:06.429593Z"
    },
    "papermill": {
     "duration": 345.137622,
     "end_time": "2021-04-04T22:13:06.431001",
     "exception": false,
     "start_time": "2021-04-04T22:07:21.293379",
     "status": "completed"
    },
    "tags": []
   },
   "outputs": [
    {
     "name": "stdout",
     "output_type": "stream",
     "text": [
      "Epoch 1/3\n"
     ]
    },
    {
     "name": "stderr",
     "output_type": "stream",
     "text": [
      "/opt/conda/lib/python3.7/site-packages/tensorflow/python/framework/indexed_slices.py:430: UserWarning: Converting sparse IndexedSlices to a dense Tensor with 256002048 elements. This may consume a large amount of memory.\n",
      "  num_elements)\n"
     ]
    },
    {
     "name": "stdout",
     "output_type": "stream",
     "text": [
      "152/152 [==============================] - 248s 801ms/step - loss: 1.3767 - accuracy: 0.3430 - val_loss: 0.9272 - val_accuracy: 0.5825\n",
      "\n",
      "Epoch 00001: val_loss improved from inf to 0.92719, saving model to xlmroberta_best_checkpoint.hdf5\n",
      "Epoch 2/3\n",
      "152/152 [==============================] - 31s 203ms/step - loss: 0.8503 - accuracy: 0.6243 - val_loss: 0.5588 - val_accuracy: 0.7731\n",
      "\n",
      "Epoch 00002: val_loss improved from 0.92719 to 0.55877, saving model to xlmroberta_best_checkpoint.hdf5\n",
      "Epoch 3/3\n",
      "152/152 [==============================] - 31s 204ms/step - loss: 0.5748 - accuracy: 0.7705 - val_loss: 0.5382 - val_accuracy: 0.7908\n",
      "\n",
      "Epoch 00003: val_loss improved from 0.55877 to 0.53820, saving model to xlmroberta_best_checkpoint.hdf5\n"
     ]
    }
   ],
   "source": [
    "from keras.callbacks import EarlyStopping, ModelCheckpoint\n",
    "\n",
    "checkpoint_filepath='xlmroberta_best_checkpoint.hdf5'\n",
    "\n",
    "# callbacks = [EarlyStopping(monitor='val_loss', mode='min', verbose=1, patience=PATIENCE), ModelCheckpoint(filepath=checkpoint_filepath, save_best_only=True, save_weights_only=True, monitor='val_accuracy', mode='max', verbose=1)]\n",
    "callbacks = [EarlyStopping(monitor='val_loss', mode='min', verbose=1, patience=PATIENCE), ModelCheckpoint(filepath=checkpoint_filepath, save_best_only=True, save_weights_only=True, monitor='val_loss', mode='min', verbose=1)]\n",
    "\n",
    "train_history = model.fit(x=train_input, y=train.label.values, validation_data=(validation_input, validation.label.values), epochs=EPOCHS, verbose=1, batch_size=BATCH_SIZE, callbacks=callbacks)"
   ]
  },
  {
   "cell_type": "markdown",
   "id": "statutory-gravity",
   "metadata": {
    "papermill": {
     "duration": 0.378779,
     "end_time": "2021-04-04T22:13:07.183709",
     "exception": false,
     "start_time": "2021-04-04T22:13:06.804930",
     "status": "completed"
    },
    "tags": []
   },
   "source": [
    "Let's now visualize the loss and accuracy history for training and validation sets."
   ]
  },
  {
   "cell_type": "code",
   "execution_count": 34,
   "id": "piano-cassette",
   "metadata": {
    "execution": {
     "iopub.execute_input": "2021-04-04T22:13:07.975406Z",
     "iopub.status.busy": "2021-04-04T22:13:07.974189Z",
     "iopub.status.idle": "2021-04-04T22:13:08.181765Z",
     "shell.execute_reply": "2021-04-04T22:13:08.180590Z"
    },
    "papermill": {
     "duration": 0.616539,
     "end_time": "2021-04-04T22:13:08.182041",
     "exception": false,
     "start_time": "2021-04-04T22:13:07.565502",
     "status": "completed"
    },
    "tags": []
   },
   "outputs": [
    {
     "data": {
      "image/png": "[encoded data removed]",
      "text/plain": [
       "<Figure size 432x288 with 1 Axes>"
      ]
     },
     "metadata": {
      "needs_background": "light"
     },
     "output_type": "display_data"
    }
   ],
   "source": [
    "# plot loss history\n",
    "plt.plot(train_history.history['loss'], label='train loss')\n",
    "plt.plot(train_history.history['val_loss'], label='validation loss')\n",
    "plt.title('Average Loss')\n",
    "plt.xlabel('Epoch')\n",
    "plt.ylabel('Loss')\n",
    "plt.legend()\n",
    "plt.show()"
   ]
  },
  {
   "cell_type": "code",
   "execution_count": 35,
   "id": "focused-curtis",
   "metadata": {
    "execution": {
     "iopub.execute_input": "2021-04-04T22:13:23.316870Z",
     "iopub.status.busy": "2021-04-04T22:13:23.316171Z",
     "iopub.status.idle": "2021-04-04T22:13:23.503032Z",
     "shell.execute_reply": "2021-04-04T22:13:23.503563Z"
    },
    "papermill": {
     "duration": 0.607957,
     "end_time": "2021-04-04T22:13:23.503755",
     "exception": false,
     "start_time": "2021-04-04T22:13:22.895798",
     "status": "completed"
    },
    "tags": []
   },
   "outputs": [
    {
     "data": {
      "image/png": "[encoded data removed]",
      "text/plain": [
       "<Figure size 432x288 with 1 Axes>"
      ]
     },
     "metadata": {
      "needs_background": "light"
     },
     "output_type": "display_data"
    }
   ],
   "source": [
    "# plot accuracy history\n",
    "plt.plot(train_history.history['accuracy'], label='train accuracy')\n",
    "plt.plot(train_history.history['val_accuracy'], label='validation accuracy')\n",
    "plt.title('Average Accuracy')\n",
    "plt.xlabel('Epoch')\n",
    "plt.ylabel('Accuracy')\n",
    "plt.legend()\n",
    "plt.show()"
   ]
  },
  {
   "cell_type": "markdown",
   "id": "annual-hypothesis",
   "metadata": {
    "papermill": {
     "duration": 0.384881,
     "end_time": "2021-04-04T22:13:24.268936",
     "exception": false,
     "start_time": "2021-04-04T22:13:23.884055",
     "status": "completed"
    },
    "tags": []
   },
   "source": [
    "From the above plots we can clearly see that the gap between the training and validation losses has decreased by a large margin and best validation accuracy with XLM-RoBERTa model is 79-80%."
   ]
  },
  {
   "cell_type": "markdown",
   "id": "passing-timeline",
   "metadata": {
    "papermill": {
     "duration": 0.382505,
     "end_time": "2021-04-04T22:13:25.029189",
     "exception": false,
     "start_time": "2021-04-04T22:13:24.646684",
     "status": "completed"
    },
    "tags": []
   },
   "source": [
    "To further evaluate the performance of the XLM-RoBERTa model, we'll generate the confusion matrix and classification report on the validation data."
   ]
  },
  {
   "cell_type": "code",
   "execution_count": 36,
   "id": "illegal-alarm",
   "metadata": {
    "execution": {
     "iopub.execute_input": "2021-04-04T22:13:25.797242Z",
     "iopub.status.busy": "2021-04-04T22:13:25.796490Z",
     "iopub.status.idle": "2021-04-04T22:13:43.773746Z",
     "shell.execute_reply": "2021-04-04T22:13:43.774335Z"
    },
    "papermill": {
     "duration": 18.366219,
     "end_time": "2021-04-04T22:13:43.774561",
     "exception": false,
     "start_time": "2021-04-04T22:13:25.408342",
     "status": "completed"
    },
    "tags": []
   },
   "outputs": [
    {
     "name": "stdout",
     "output_type": "stream",
     "text": [
      "\n",
      "Classification Report\n",
      "               precision    recall  f1-score   support\n",
      "\n",
      "contradiction       0.91      0.74      0.82       813\n",
      "   entailment       0.80      0.81      0.81       835\n",
      "      neutral       0.69      0.82      0.75       776\n",
      "\n",
      "     accuracy                           0.79      2424\n",
      "    macro avg       0.80      0.79      0.79      2424\n",
      " weighted avg       0.80      0.79      0.79      2424\n",
      "\n"
     ]
    },
    {
     "data": {
      "image/png": "[encoded data removed]",
      "text/plain": [
       "<Figure size 432x288 with 2 Axes>"
      ]
     },
     "metadata": {
      "needs_background": "light"
     },
     "output_type": "display_data"
    }
   ],
   "source": [
    "from sklearn.metrics import classification_report, confusion_matrix\n",
    "from itertools import product\n",
    "\n",
    "# The function plot_confusion_matrix() is from scikit-learn’s website to plot the confusion matrix. \n",
    "# link: https://scikit-learn.org/0.18/auto_examples/model_selection/plot_confusion_matrix.html\n",
    "def plot_confusion_matrix(cm, classes,\n",
    "                        normalize=False,\n",
    "                        title='Confusion matrix',\n",
    "                        cmap=plt.cm.Blues):\n",
    "    \"\"\"\n",
    "    This function prints and plots the confusion matrix.\n",
    "    Normalization can be applied by setting `normalize=True`.\n",
    "    \"\"\"\n",
    "    plt.imshow(cm, interpolation='nearest', cmap=cmap)\n",
    "    plt.title(title)\n",
    "    plt.colorbar()\n",
    "    tick_marks = np.arange(len(classes))\n",
    "    plt.xticks(tick_marks, classes, rotation=45)\n",
    "    plt.yticks(tick_marks, classes)\n",
    "\n",
    "    if normalize:\n",
    "        cm = np.around(cm.astype('float') / cm.sum(axis=1)[:, np.newaxis], 2)\n",
    "#         print(\"Normalized confusion matrix\")\n",
    "#     else:\n",
    "#         print('Confusion matrix, without normalization')\n",
    "\n",
    "#     print(cm)\n",
    "\n",
    "    thresh = cm.max() / 2.\n",
    "    for i, j in product(range(cm.shape[0]), range(cm.shape[1])):\n",
    "        plt.text(j, i, cm[i, j],\n",
    "            horizontalalignment=\"center\",\n",
    "            color=\"white\" if cm[i, j] > thresh else \"black\")\n",
    "\n",
    "    plt.tight_layout()\n",
    "    plt.ylabel('True label')\n",
    "    plt.xlabel('Predicted label')\n",
    "\n",
    "\n",
    "validation_predictions = [np.argmax(i) for i in model.predict(validation_input)] #predictions\n",
    "validation_labels = validation.label.values.tolist() #ground truth labels\n",
    "\n",
    "cm_plot_labels = ['entailment','neutral', 'contradiction']\n",
    "cm = confusion_matrix(y_true=validation_labels, y_pred=validation_predictions)\n",
    "plot_confusion_matrix(cm=cm, classes=cm_plot_labels, title='Confusion Matrix Without Normalization')\n",
    "# plot_confusion_matrix(cm=cm, classes=cm_plot_labels, title='Confusion Matrix With Normalization', normalize=True)\n",
    "\n",
    "target_class = ['entailment' if label==0 else 'neutral' if label==1 else 'contradiction' for label in validation_labels]\n",
    "prediction_class = ['entailment' if label==0 else 'neutral' if label==1 else 'contradiction' for label in validation_predictions]\n",
    "print('\\nClassification Report')\n",
    "print(classification_report(y_true=target_class, y_pred=prediction_class))"
   ]
  },
  {
   "cell_type": "markdown",
   "id": "exciting-level",
   "metadata": {
    "papermill": {
     "duration": 0.379913,
     "end_time": "2021-04-04T22:13:44.541447",
     "exception": false,
     "start_time": "2021-04-04T22:13:44.161534",
     "status": "completed"
    },
    "tags": []
   },
   "source": [
    "It would also be interesting to look at the number of correct predictions per language."
   ]
  },
  {
   "cell_type": "code",
   "execution_count": 37,
   "id": "composed-elevation",
   "metadata": {
    "execution": {
     "iopub.execute_input": "2021-04-04T22:13:45.339479Z",
     "iopub.status.busy": "2021-04-04T22:13:45.338795Z",
     "iopub.status.idle": "2021-04-04T22:13:45.428994Z",
     "shell.execute_reply": "2021-04-04T22:13:45.427980Z"
    },
    "papermill": {
     "duration": 0.473652,
     "end_time": "2021-04-04T22:13:45.429207",
     "exception": false,
     "start_time": "2021-04-04T22:13:44.955555",
     "status": "completed"
    },
    "tags": []
   },
   "outputs": [
    {
     "name": "stdout",
     "output_type": "stream",
     "text": [
      "Accuracy of Arabic is 82.0 \n",
      "Accuracy of Bulgarian is 79.0 \n",
      "Accuracy of Chinese is 81.0 \n",
      "Accuracy of English is 82.0 \n",
      "Accuracy of French is 76.0 \n",
      "Accuracy of German is 75.0 \n",
      "Accuracy of Greek is 77.0 \n",
      "Accuracy of Hindi is 67.0 \n",
      "Accuracy of Russian is 76.0 \n",
      "Accuracy of Spanish is 82.0 \n",
      "Accuracy of Swahili is 65.0 \n",
      "Accuracy of Thai is 68.0 \n",
      "Accuracy of Turkish is 72.0 \n",
      "Accuracy of Urdu is 76.0 \n",
      "Accuracy of Vietnamese is 85.0 \n"
     ]
    }
   ],
   "source": [
    "# function to print accuracy per language\n",
    "def accuracy(x):\n",
    "    return round(float(x[2]/x[1]), 2)*100\n",
    "\n",
    "validation['predictions'] = validation_predictions\n",
    "\n",
    "# Calculate the total number of examples per language\n",
    "lang_counts = validation.language.value_counts().sort_index()\n",
    "\n",
    "# Calculate the number of correct predictions per language\n",
    "tp_per_lang = validation[validation['label'] == validation['predictions']].groupby('language').agg({'language': ['count']}).sort_index()\n",
    "\n",
    "lang_names = lang_counts.index.tolist()\n",
    "lang_tuples = list(zip(lang_names, lang_counts.values.tolist(), tp_per_lang.iloc[:, 0].values.tolist()))\n",
    "acc = map(accuracy, lang_tuples)\n",
    "for i, score in enumerate(acc):\n",
    "    print (\"Accuracy of {} is {} \".format(lang_tuples[i][0], score))"
   ]
  },
  {
   "cell_type": "markdown",
   "id": "strange-desire",
   "metadata": {
    "papermill": {
     "duration": 0.375684,
     "end_time": "2021-04-04T22:13:46.187306",
     "exception": false,
     "start_time": "2021-04-04T22:13:45.811622",
     "status": "completed"
    },
    "tags": []
   },
   "source": [
    "# Generate Predictions on Test Data"
   ]
  },
  {
   "cell_type": "markdown",
   "id": "pretty-technical",
   "metadata": {
    "papermill": {
     "duration": 0.375545,
     "end_time": "2021-04-04T22:13:46.948138",
     "exception": false,
     "start_time": "2021-04-04T22:13:46.572593",
     "status": "completed"
    },
    "tags": []
   },
   "source": [
    "Once we are satisfied with our model's performance, we can get test-data predictions for submission."
   ]
  },
  {
   "cell_type": "code",
   "execution_count": 38,
   "id": "decimal-queen",
   "metadata": {
    "execution": {
     "iopub.execute_input": "2021-04-04T22:13:47.726913Z",
     "iopub.status.busy": "2021-04-04T22:13:47.721589Z",
     "iopub.status.idle": "2021-04-04T22:14:18.093757Z",
     "shell.execute_reply": "2021-04-04T22:14:18.095017Z"
    },
    "papermill": {
     "duration": 30.773429,
     "end_time": "2021-04-04T22:14:18.095378",
     "exception": false,
     "start_time": "2021-04-04T22:13:47.321949",
     "status": "completed"
    },
    "tags": []
   },
   "outputs": [],
   "source": [
    "# The model weights (that are considered the best) are loaded into the model.\n",
    "model.load_weights(checkpoint_filepath)"
   ]
  },
  {
   "cell_type": "code",
   "execution_count": 39,
   "id": "social-harris",
   "metadata": {
    "execution": {
     "iopub.execute_input": "2021-04-04T22:14:18.951891Z",
     "iopub.status.busy": "2021-04-04T22:14:18.950872Z",
     "iopub.status.idle": "2021-04-04T22:14:20.127289Z",
     "shell.execute_reply": "2021-04-04T22:14:20.127950Z"
    },
    "papermill": {
     "duration": 1.630307,
     "end_time": "2021-04-04T22:14:20.128146",
     "exception": false,
     "start_time": "2021-04-04T22:14:18.497839",
     "status": "completed"
    },
    "tags": []
   },
   "outputs": [
    {
     "name": "stdout",
     "output_type": "stream",
     "text": [
      "Encoding...\n",
      "Complete\n"
     ]
    }
   ],
   "source": [
    "#encode the test-input sequences\n",
    "test_input = encode(test, tokenizer=tokenizer, max_len=MAX_LEN)"
   ]
  },
  {
   "cell_type": "code",
   "execution_count": 40,
   "id": "driven-contrast",
   "metadata": {
    "execution": {
     "iopub.execute_input": "2021-04-04T22:14:20.917558Z",
     "iopub.status.busy": "2021-04-04T22:14:20.916380Z",
     "iopub.status.idle": "2021-04-04T22:14:32.022086Z",
     "shell.execute_reply": "2021-04-04T22:14:32.020645Z"
    },
    "papermill": {
     "duration": 11.49884,
     "end_time": "2021-04-04T22:14:32.022282",
     "exception": false,
     "start_time": "2021-04-04T22:14:20.523442",
     "status": "completed"
    },
    "tags": []
   },
   "outputs": [],
   "source": [
    "predictions = [np.argmax(i) for i in model.predict(test_input)]\n",
    "# predictions = predictions[:test.shape[0]]"
   ]
  },
  {
   "cell_type": "markdown",
   "id": "flexible-nutrition",
   "metadata": {
    "papermill": {
     "duration": 0.37928,
     "end_time": "2021-04-04T22:14:32.795830",
     "exception": false,
     "start_time": "2021-04-04T22:14:32.416550",
     "status": "completed"
    },
    "tags": []
   },
   "source": [
    "# Submit the Predictions"
   ]
  },
  {
   "cell_type": "code",
   "execution_count": 41,
   "id": "appropriate-alpha",
   "metadata": {
    "execution": {
     "iopub.execute_input": "2021-04-04T22:14:33.557336Z",
     "iopub.status.busy": "2021-04-04T22:14:33.556444Z",
     "iopub.status.idle": "2021-04-04T22:14:33.561910Z",
     "shell.execute_reply": "2021-04-04T22:14:33.562391Z"
    },
    "papermill": {
     "duration": 0.394697,
     "end_time": "2021-04-04T22:14:33.562604",
     "exception": false,
     "start_time": "2021-04-04T22:14:33.167907",
     "status": "completed"
    },
    "tags": []
   },
   "outputs": [
    {
     "data": {
      "text/html": [
       "<div>\n",
       "<style scoped>\n",
       "    .dataframe tbody tr th:only-of-type {\n",
       "        vertical-align: middle;\n",
       "    }\n",
       "\n",
       "    .dataframe tbody tr th {\n",
       "        vertical-align: top;\n",
       "    }\n",
       "\n",
       "    .dataframe thead th {\n",
       "        text-align: right;\n",
       "    }\n",
       "</style>\n",
       "<table border=\"1\" class=\"dataframe\">\n",
       "  <thead>\n",
       "    <tr style=\"text-align: right;\">\n",
       "      <th></th>\n",
       "      <th>id</th>\n",
       "      <th>prediction</th>\n",
       "    </tr>\n",
       "  </thead>\n",
       "  <tbody>\n",
       "    <tr>\n",
       "      <th>0</th>\n",
       "      <td>c6d58c3f69</td>\n",
       "      <td>2</td>\n",
       "    </tr>\n",
       "    <tr>\n",
       "      <th>1</th>\n",
       "      <td>cefcc82292</td>\n",
       "      <td>1</td>\n",
       "    </tr>\n",
       "    <tr>\n",
       "      <th>2</th>\n",
       "      <td>e98005252c</td>\n",
       "      <td>0</td>\n",
       "    </tr>\n",
       "    <tr>\n",
       "      <th>3</th>\n",
       "      <td>58518c10ba</td>\n",
       "      <td>1</td>\n",
       "    </tr>\n",
       "    <tr>\n",
       "      <th>4</th>\n",
       "      <td>c32b0d16df</td>\n",
       "      <td>0</td>\n",
       "    </tr>\n",
       "  </tbody>\n",
       "</table>\n",
       "</div>"
      ],
      "text/plain": [
       "           id  prediction\n",
       "0  c6d58c3f69           2\n",
       "1  cefcc82292           1\n",
       "2  e98005252c           0\n",
       "3  58518c10ba           1\n",
       "4  c32b0d16df           0"
      ]
     },
     "execution_count": 41,
     "metadata": {},
     "output_type": "execute_result"
    }
   ],
   "source": [
    "submission = test.id.copy().to_frame()\n",
    "submission['prediction'] = predictions\n",
    "\n",
    "submission.head()"
   ]
  },
  {
   "cell_type": "code",
   "execution_count": 42,
   "id": "agricultural-cable",
   "metadata": {
    "execution": {
     "iopub.execute_input": "2021-04-04T22:14:34.335296Z",
     "iopub.status.busy": "2021-04-04T22:14:34.334551Z",
     "iopub.status.idle": "2021-04-04T22:14:34.355191Z",
     "shell.execute_reply": "2021-04-04T22:14:34.354333Z"
    },
    "papermill": {
     "duration": 0.406139,
     "end_time": "2021-04-04T22:14:34.355361",
     "exception": false,
     "start_time": "2021-04-04T22:14:33.949222",
     "status": "completed"
    },
    "tags": []
   },
   "outputs": [],
   "source": [
    "submission.to_csv(\"submission.csv\", index = False)"
   ]
  },
  {
   "cell_type": "markdown",
   "id": "intimate-personality",
   "metadata": {
    "papermill": {
     "duration": 0.378717,
     "end_time": "2021-04-04T22:14:35.108141",
     "exception": false,
     "start_time": "2021-04-04T22:14:34.729424",
     "status": "completed"
    },
    "tags": []
   },
   "source": [
    "That's it! The submission file has been created, for more information on how to submit to the competition, please visit the following [link](https://www.kaggle.com/c/contradictory-my-dear-watson/overview/evaluation).\n",
    "\n",
    "\n",
    "\n",
    "\n",
    "<span style=\"color:blue\">If you found this notebook helpful, please kindly upvote!</span>"
   ]
  }
 ],
 "metadata": {
  "kernelspec": {
   "display_name": "Python 3",
   "language": "python",
   "name": "python3"
  },
  "language_info": {
   "codemirror_mode": {
    "name": "ipython",
    "version": 3
   },
   "file_extension": ".py",
   "mimetype": "text/x-python",
   "name": "python",
   "nbconvert_exporter": "python",
   "pygments_lexer": "ipython3",
   "version": "3.7.9"
  },
  "papermill": {
   "default_parameters": {},
   "duration": 933.832229,
   "end_time": "2021-04-04T22:14:40.702333",
   "environment_variables": {},
   "exception": null,
   "input_path": "__notebook__.ipynb",
   "output_path": "__notebook__.ipynb",
   "parameters": {},
   "start_time": "2021-04-04T21:59:06.870104",
   "version": "2.3.2"
  },
  "widgets": {
   "application/vnd.jupyter.widget-state+json": {
    "state": {
     "0359f0525c194c84b2bda0bede097ab1": {
      "model_module": "@jupyter-widgets/controls",
      "model_module_version": "1.5.0",
      "model_name": "HTMLModel",
      "state": {
       "_dom_classes": [],
       "_model_module": "@jupyter-widgets/controls",
       "_model_module_version": "1.5.0",
       "_model_name": "HTMLModel",
       "_view_count": null,
       "_view_module": "@jupyter-widgets/controls",
       "_view_module_version": "1.5.0",
       "_view_name": "HTMLView",
       "description": "",
       "description_tooltip": null,
       "layout": "IPY_MODEL_674804660c9d4ecda07017ad6e97c5ca",
       "placeholder": "​",
       "style": "IPY_MODEL_344d7931fc9f4506bf900dccc808dadb",
       "value": " 513/513 [00:00&lt;00:00, 12.9kB/s]"
      }
     },
     "088398ca59a047b1bb8af404c84bd7f9": {
      "model_module": "@jupyter-widgets/controls",
      "model_module_version": "1.5.0",
      "model_name": "DescriptionStyleModel",
      "state": {
       "_model_module": "@jupyter-widgets/controls",
       "_model_module_version": "1.5.0",
       "_model_name": "DescriptionStyleModel",
       "_view_count": null,
       "_view_module": "@jupyter-widgets/base",
       "_view_module_version": "1.2.0",
       "_view_name": "StyleView",
       "description_width": ""
      }
     },
     "0a79c0fd7007454f949fb449f3fb8a51": {
      "model_module": "@jupyter-widgets/controls",
      "model_module_version": "1.5.0",
      "model_name": "ProgressStyleModel",
      "state": {
       "_model_module": "@jupyter-widgets/controls",
       "_model_module_version": "1.5.0",
       "_model_name": "ProgressStyleModel",
       "_view_count": null,
       "_view_module": "@jupyter-widgets/base",
       "_view_module_version": "1.2.0",
       "_view_name": "StyleView",
       "bar_color": null,
       "description_width": ""
      }
     },
     "1217101939794530aa1e6fc509e05261": {
      "model_module": "@jupyter-widgets/base",
      "model_module_version": "1.2.0",
      "model_name": "LayoutModel",
      "state": {
       "_model_module": "@jupyter-widgets/base",
       "_model_module_version": "1.2.0",
       "_model_name": "LayoutModel",
       "_view_count": null,
       "_view_module": "@jupyter-widgets/base",
       "_view_module_version": "1.2.0",
       "_view_name": "LayoutView",
       "align_content": null,
       "align_items": null,
       "align_self": null,
       "border": null,
       "bottom": null,
       "display": null,
       "flex": null,
       "flex_flow": null,
       "grid_area": null,
       "grid_auto_columns": null,
       "grid_auto_flow": null,
       "grid_auto_rows": null,
       "grid_column": null,
       "grid_gap": null,
       "grid_row": null,
       "grid_template_areas": null,
       "grid_template_columns": null,
       "grid_template_rows": null,
       "height": null,
       "justify_content": null,
       "justify_items": null,
       "left": null,
       "margin": null,
       "max_height": null,
       "max_width": null,
       "min_height": null,
       "min_width": null,
       "object_fit": null,
       "object_position": null,
       "order": null,
       "overflow": null,
       "overflow_x": null,
       "overflow_y": null,
       "padding": null,
       "right": null,
       "top": null,
       "visibility": null,
       "width": null
      }
     },
     "13d75eca2e764d00836a6ec7be92d97a": {
      "model_module": "@jupyter-widgets/controls",
      "model_module_version": "1.5.0",
      "model_name": "HTMLModel",
      "state": {
       "_dom_classes": [],
       "_model_module": "@jupyter-widgets/controls",
       "_model_module_version": "1.5.0",
       "_model_name": "HTMLModel",
       "_view_count": null,
       "_view_module": "@jupyter-widgets/controls",
       "_view_module_version": "1.5.0",
       "_view_name": "HTMLView",
       "description": "",
       "description_tooltip": null,
       "layout": "IPY_MODEL_5c5741f67a8a4ab09b06f5379c1a6530",
       "placeholder": "​",
       "style": "IPY_MODEL_6b3d242970244111a93eafff4b434aaf",
       "value": " 996k/996k [00:00&lt;00:00, 1.17MB/s]"
      }
     },
     "1571fa33c23749b7b724593132a5c704": {
      "model_module": "@jupyter-widgets/controls",
      "model_module_version": "1.5.0",
      "model_name": "DescriptionStyleModel",
      "state": {
       "_model_module": "@jupyter-widgets/controls",
       "_model_module_version": "1.5.0",
       "_model_name": "DescriptionStyleModel",
       "_view_count": null,
       "_view_module": "@jupyter-widgets/base",
       "_view_module_version": "1.2.0",
       "_view_name": "StyleView",
       "description_width": ""
      }
     },
     "198e5dbeb7274e0190428dc0e14f64db": {
      "model_module": "@jupyter-widgets/controls",
      "model_module_version": "1.5.0",
      "model_name": "HBoxModel",
      "state": {
       "_dom_classes": [],
       "_model_module": "@jupyter-widgets/controls",
       "_model_module_version": "1.5.0",
       "_model_name": "HBoxModel",
       "_view_count": null,
       "_view_module": "@jupyter-widgets/controls",
       "_view_module_version": "1.5.0",
       "_view_name": "HBoxView",
       "box_style": "",
       "children": [
        "IPY_MODEL_a5030d08402741ea9c964f92d89ec3ba",
        "IPY_MODEL_ba580a3f3b9f45ea876baca92851565e",
        "IPY_MODEL_77f2565cf0da4536a4dfaf5a467416f1"
       ],
       "layout": "IPY_MODEL_8b049feafa3b415abdb5587e43ab889a"
      }
     },
     "1b75e9d19dcc41e4bdcda353d1e44180": {
      "model_module": "@jupyter-widgets/controls",
      "model_module_version": "1.5.0",
      "model_name": "DescriptionStyleModel",
      "state": {
       "_model_module": "@jupyter-widgets/controls",
       "_model_module_version": "1.5.0",
       "_model_name": "DescriptionStyleModel",
       "_view_count": null,
       "_view_module": "@jupyter-widgets/base",
       "_view_module_version": "1.2.0",
       "_view_name": "StyleView",
       "description_width": ""
      }
     },
     "1d016fafcbbd48b58c17cbc02cde8d3a": {
      "model_module": "@jupyter-widgets/controls",
      "model_module_version": "1.5.0",
      "model_name": "DescriptionStyleModel",
      "state": {
       "_model_module": "@jupyter-widgets/controls",
       "_model_module_version": "1.5.0",
       "_model_name": "DescriptionStyleModel",
       "_view_count": null,
       "_view_module": "@jupyter-widgets/base",
       "_view_module_version": "1.2.0",
       "_view_name": "StyleView",
       "description_width": ""
      }
     },
     "1e6803cbee2c473d9d7c37deae8ea428": {
      "model_module": "@jupyter-widgets/base",
      "model_module_version": "1.2.0",
      "model_name": "LayoutModel",
      "state": {
       "_model_module": "@jupyter-widgets/base",
       "_model_module_version": "1.2.0",
       "_model_name": "LayoutModel",
       "_view_count": null,
       "_view_module": "@jupyter-widgets/base",
       "_view_module_version": "1.2.0",
       "_view_name": "LayoutView",
       "align_content": null,
       "align_items": null,
       "align_self": null,
       "border": null,
       "bottom": null,
       "display": null,
       "flex": null,
       "flex_flow": null,
       "grid_area": null,
       "grid_auto_columns": null,
       "grid_auto_flow": null,
       "grid_auto_rows": null,
       "grid_column": null,
       "grid_gap": null,
       "grid_row": null,
       "grid_template_areas": null,
       "grid_template_columns": null,
       "grid_template_rows": null,
       "height": null,
       "justify_content": null,
       "justify_items": null,
       "left": null,
       "margin": null,
       "max_height": null,
       "max_width": null,
       "min_height": null,
       "min_width": null,
       "object_fit": null,
       "object_position": null,
       "order": null,
       "overflow": null,
       "overflow_x": null,
       "overflow_y": null,
       "padding": null,
       "right": null,
       "top": null,
       "visibility": null,
       "width": null
      }
     },
     "249f196d5ca64f95ab0d6283f7180ceb": {
      "model_module": "@jupyter-widgets/base",
      "model_module_version": "1.2.0",
      "model_name": "LayoutModel",
      "state": {
       "_model_module": "@jupyter-widgets/base",
       "_model_module_version": "1.2.0",
       "_model_name": "LayoutModel",
       "_view_count": null,
       "_view_module": "@jupyter-widgets/base",
       "_view_module_version": "1.2.0",
       "_view_name": "LayoutView",
       "align_content": null,
       "align_items": null,
       "align_self": null,
       "border": null,
       "bottom": null,
       "display": null,
       "flex": null,
       "flex_flow": null,
       "grid_area": null,
       "grid_auto_columns": null,
       "grid_auto_flow": null,
       "grid_auto_rows": null,
       "grid_column": null,
       "grid_gap": null,
       "grid_row": null,
       "grid_template_areas": null,
       "grid_template_columns": null,
       "grid_template_rows": null,
       "height": null,
       "justify_content": null,
       "justify_items": null,
       "left": null,
       "margin": null,
       "max_height": null,
       "max_width": null,
       "min_height": null,
       "min_width": null,
       "object_fit": null,
       "object_position": null,
       "order": null,
       "overflow": null,
       "overflow_x": null,
       "overflow_y": null,
       "padding": null,
       "right": null,
       "top": null,
       "visibility": null,
       "width": null
      }
     },
     "252915537456446a899ac29f0df2a0b5": {
      "model_module": "@jupyter-widgets/base",
      "model_module_version": "1.2.0",
      "model_name": "LayoutModel",
      "state": {
       "_model_module": "@jupyter-widgets/base",
       "_model_module_version": "1.2.0",
       "_model_name": "LayoutModel",
       "_view_count": null,
       "_view_module": "@jupyter-widgets/base",
       "_view_module_version": "1.2.0",
       "_view_name": "LayoutView",
       "align_content": null,
       "align_items": null,
       "align_self": null,
       "border": null,
       "bottom": null,
       "display": null,
       "flex": null,
       "flex_flow": null,
       "grid_area": null,
       "grid_auto_columns": null,
       "grid_auto_flow": null,
       "grid_auto_rows": null,
       "grid_column": null,
       "grid_gap": null,
       "grid_row": null,
       "grid_template_areas": null,
       "grid_template_columns": null,
       "grid_template_rows": null,
       "height": null,
       "justify_content": null,
       "justify_items": null,
       "left": null,
       "margin": null,
       "max_height": null,
       "max_width": null,
       "min_height": null,
       "min_width": null,
       "object_fit": null,
       "object_position": null,
       "order": null,
       "overflow": null,
       "overflow_x": null,
       "overflow_y": null,
       "padding": null,
       "right": null,
       "top": null,
       "visibility": null,
       "width": null
      }
     },
     "2b85ace11c534f5fb0f83b280d7915e1": {
      "model_module": "@jupyter-widgets/base",
      "model_module_version": "1.2.0",
      "model_name": "LayoutModel",
      "state": {
       "_model_module": "@jupyter-widgets/base",
       "_model_module_version": "1.2.0",
       "_model_name": "LayoutModel",
       "_view_count": null,
       "_view_module": "@jupyter-widgets/base",
       "_view_module_version": "1.2.0",
       "_view_name": "LayoutView",
       "align_content": null,
       "align_items": null,
       "align_self": null,
       "border": null,
       "bottom": null,
       "display": null,
       "flex": null,
       "flex_flow": null,
       "grid_area": null,
       "grid_auto_columns": null,
       "grid_auto_flow": null,
       "grid_auto_rows": null,
       "grid_column": null,
       "grid_gap": null,
       "grid_row": null,
       "grid_template_areas": null,
       "grid_template_columns": null,
       "grid_template_rows": null,
       "height": null,
       "justify_content": null,
       "justify_items": null,
       "left": null,
       "margin": null,
       "max_height": null,
       "max_width": null,
       "min_height": null,
       "min_width": null,
       "object_fit": null,
       "object_position": null,
       "order": null,
       "overflow": null,
       "overflow_x": null,
       "overflow_y": null,
       "padding": null,
       "right": null,
       "top": null,
       "visibility": null,
       "width": null
      }
     },
     "32d20d9ae2bb40ab8e1c9b444faaa269": {
      "model_module": "@jupyter-widgets/base",
      "model_module_version": "1.2.0",
      "model_name": "LayoutModel",
      "state": {
       "_model_module": "@jupyter-widgets/base",
       "_model_module_version": "1.2.0",
       "_model_name": "LayoutModel",
       "_view_count": null,
       "_view_module": "@jupyter-widgets/base",
       "_view_module_version": "1.2.0",
       "_view_name": "LayoutView",
       "align_content": null,
       "align_items": null,
       "align_self": null,
       "border": null,
       "bottom": null,
       "display": null,
       "flex": null,
       "flex_flow": null,
       "grid_area": null,
       "grid_auto_columns": null,
       "grid_auto_flow": null,
       "grid_auto_rows": null,
       "grid_column": null,
       "grid_gap": null,
       "grid_row": null,
       "grid_template_areas": null,
       "grid_template_columns": null,
       "grid_template_rows": null,
       "height": null,
       "justify_content": null,
       "justify_items": null,
       "left": null,
       "margin": null,
       "max_height": null,
       "max_width": null,
       "min_height": null,
       "min_width": null,
       "object_fit": null,
       "object_position": null,
       "order": null,
       "overflow": null,
       "overflow_x": null,
       "overflow_y": null,
       "padding": null,
       "right": null,
       "top": null,
       "visibility": null,
       "width": null
      }
     },
     "344d7931fc9f4506bf900dccc808dadb": {
      "model_module": "@jupyter-widgets/controls",
      "model_module_version": "1.5.0",
      "model_name": "DescriptionStyleModel",
      "state": {
       "_model_module": "@jupyter-widgets/controls",
       "_model_module_version": "1.5.0",
       "_model_name": "DescriptionStyleModel",
       "_view_count": null,
       "_view_module": "@jupyter-widgets/base",
       "_view_module_version": "1.2.0",
       "_view_name": "StyleView",
       "description_width": ""
      }
     },
     "3863e4b843e543a19fee38c33487716f": {
      "model_module": "@jupyter-widgets/controls",
      "model_module_version": "1.5.0",
      "model_name": "DescriptionStyleModel",
      "state": {
       "_model_module": "@jupyter-widgets/controls",
       "_model_module_version": "1.5.0",
       "_model_name": "DescriptionStyleModel",
       "_view_count": null,
       "_view_module": "@jupyter-widgets/base",
       "_view_module_version": "1.2.0",
       "_view_name": "StyleView",
       "description_width": ""
      }
     },
     "39706cd52a1547b3a72eb2a01218452c": {
      "model_module": "@jupyter-widgets/controls",
      "model_module_version": "1.5.0",
      "model_name": "ProgressStyleModel",
      "state": {
       "_model_module": "@jupyter-widgets/controls",
       "_model_module_version": "1.5.0",
       "_model_name": "ProgressStyleModel",
       "_view_count": null,
       "_view_module": "@jupyter-widgets/base",
       "_view_module_version": "1.2.0",
       "_view_name": "StyleView",
       "bar_color": null,
       "description_width": ""
      }
     },
     "475aad16116d4fb1b69b13b124fbc60a": {
      "model_module": "@jupyter-widgets/base",
      "model_module_version": "1.2.0",
      "model_name": "LayoutModel",
      "state": {
       "_model_module": "@jupyter-widgets/base",
       "_model_module_version": "1.2.0",
       "_model_name": "LayoutModel",
       "_view_count": null,
       "_view_module": "@jupyter-widgets/base",
       "_view_module_version": "1.2.0",
       "_view_name": "LayoutView",
       "align_content": null,
       "align_items": null,
       "align_self": null,
       "border": null,
       "bottom": null,
       "display": null,
       "flex": null,
       "flex_flow": null,
       "grid_area": null,
       "grid_auto_columns": null,
       "grid_auto_flow": null,
       "grid_auto_rows": null,
       "grid_column": null,
       "grid_gap": null,
       "grid_row": null,
       "grid_template_areas": null,
       "grid_template_columns": null,
       "grid_template_rows": null,
       "height": null,
       "justify_content": null,
       "justify_items": null,
       "left": null,
       "margin": null,
       "max_height": null,
       "max_width": null,
       "min_height": null,
       "min_width": null,
       "object_fit": null,
       "object_position": null,
       "order": null,
       "overflow": null,
       "overflow_x": null,
       "overflow_y": null,
       "padding": null,
       "right": null,
       "top": null,
       "visibility": null,
       "width": null
      }
     },
     "4a82da31605e42608e5c18682b842721": {
      "model_module": "@jupyter-widgets/controls",
      "model_module_version": "1.5.0",
      "model_name": "HBoxModel",
      "state": {
       "_dom_classes": [],
       "_model_module": "@jupyter-widgets/controls",
       "_model_module_version": "1.5.0",
       "_model_name": "HBoxModel",
       "_view_count": null,
       "_view_module": "@jupyter-widgets/controls",
       "_view_module_version": "1.5.0",
       "_view_name": "HBoxView",
       "box_style": "",
       "children": [
        "IPY_MODEL_a376bd74015c4c68ac9d8bc4fdb96e0e",
        "IPY_MODEL_c0988d76b1af4f45a77c2ea58306dc03",
        "IPY_MODEL_5a1ce11c118248b4a3d45f55067e6392"
       ],
       "layout": "IPY_MODEL_aaff9e498fd743d1a7d1c8e17caa9f29"
      }
     },
     "4ac68231b2934e47840871ee343c529f": {
      "model_module": "@jupyter-widgets/base",
      "model_module_version": "1.2.0",
      "model_name": "LayoutModel",
      "state": {
       "_model_module": "@jupyter-widgets/base",
       "_model_module_version": "1.2.0",
       "_model_name": "LayoutModel",
       "_view_count": null,
       "_view_module": "@jupyter-widgets/base",
       "_view_module_version": "1.2.0",
       "_view_name": "LayoutView",
       "align_content": null,
       "align_items": null,
       "align_self": null,
       "border": null,
       "bottom": null,
       "display": null,
       "flex": null,
       "flex_flow": null,
       "grid_area": null,
       "grid_auto_columns": null,
       "grid_auto_flow": null,
       "grid_auto_rows": null,
       "grid_column": null,
       "grid_gap": null,
       "grid_row": null,
       "grid_template_areas": null,
       "grid_template_columns": null,
       "grid_template_rows": null,
       "height": null,
       "justify_content": null,
       "justify_items": null,
       "left": null,
       "margin": null,
       "max_height": null,
       "max_width": null,
       "min_height": null,
       "min_width": null,
       "object_fit": null,
       "object_position": null,
       "order": null,
       "overflow": null,
       "overflow_x": null,
       "overflow_y": null,
       "padding": null,
       "right": null,
       "top": null,
       "visibility": null,
       "width": null
      }
     },
     "4b54b6de182840aca51dab6f479798b3": {
      "model_module": "@jupyter-widgets/controls",
      "model_module_version": "1.5.0",
      "model_name": "DescriptionStyleModel",
      "state": {
       "_model_module": "@jupyter-widgets/controls",
       "_model_module_version": "1.5.0",
       "_model_name": "DescriptionStyleModel",
       "_view_count": null,
       "_view_module": "@jupyter-widgets/base",
       "_view_module_version": "1.2.0",
       "_view_name": "StyleView",
       "description_width": ""
      }
     },
     "55747f6b6164436d9deb435df6996251": {
      "model_module": "@jupyter-widgets/controls",
      "model_module_version": "1.5.0",
      "model_name": "ProgressStyleModel",
      "state": {
       "_model_module": "@jupyter-widgets/controls",
       "_model_module_version": "1.5.0",
       "_model_name": "ProgressStyleModel",
       "_view_count": null,
       "_view_module": "@jupyter-widgets/base",
       "_view_module_version": "1.2.0",
       "_view_name": "StyleView",
       "bar_color": null,
       "description_width": ""
      }
     },
     "5a1ce11c118248b4a3d45f55067e6392": {
      "model_module": "@jupyter-widgets/controls",
      "model_module_version": "1.5.0",
      "model_name": "HTMLModel",
      "state": {
       "_dom_classes": [],
       "_model_module": "@jupyter-widgets/controls",
       "_model_module_version": "1.5.0",
       "_model_name": "HTMLModel",
       "_view_count": null,
       "_view_module": "@jupyter-widgets/controls",
       "_view_module_version": "1.5.0",
       "_view_name": "HTMLView",
       "description": "",
       "description_tooltip": null,
       "layout": "IPY_MODEL_c9c4c04c6b3e40b8bc3faedf2b68822b",
       "placeholder": "​",
       "style": "IPY_MODEL_5d3a598d975743fab37653146aeb8c76",
       "value": " 3.27G/3.27G [01:32&lt;00:00, 26.2MB/s]"
      }
     },
     "5c30f6fe7d364a5e8b40707079fa441a": {
      "model_module": "@jupyter-widgets/base",
      "model_module_version": "1.2.0",
      "model_name": "LayoutModel",
      "state": {
       "_model_module": "@jupyter-widgets/base",
       "_model_module_version": "1.2.0",
       "_model_name": "LayoutModel",
       "_view_count": null,
       "_view_module": "@jupyter-widgets/base",
       "_view_module_version": "1.2.0",
       "_view_name": "LayoutView",
       "align_content": null,
       "align_items": null,
       "align_self": null,
       "border": null,
       "bottom": null,
       "display": null,
       "flex": null,
       "flex_flow": null,
       "grid_area": null,
       "grid_auto_columns": null,
       "grid_auto_flow": null,
       "grid_auto_rows": null,
       "grid_column": null,
       "grid_gap": null,
       "grid_row": null,
       "grid_template_areas": null,
       "grid_template_columns": null,
       "grid_template_rows": null,
       "height": null,
       "justify_content": null,
       "justify_items": null,
       "left": null,
       "margin": null,
       "max_height": null,
       "max_width": null,
       "min_height": null,
       "min_width": null,
       "object_fit": null,
       "object_position": null,
       "order": null,
       "overflow": null,
       "overflow_x": null,
       "overflow_y": null,
       "padding": null,
       "right": null,
       "top": null,
       "visibility": null,
       "width": null
      }
     },
     "5c5741f67a8a4ab09b06f5379c1a6530": {
      "model_module": "@jupyter-widgets/base",
      "model_module_version": "1.2.0",
      "model_name": "LayoutModel",
      "state": {
       "_model_module": "@jupyter-widgets/base",
       "_model_module_version": "1.2.0",
       "_model_name": "LayoutModel",
       "_view_count": null,
       "_view_module": "@jupyter-widgets/base",
       "_view_module_version": "1.2.0",
       "_view_name": "LayoutView",
       "align_content": null,
       "align_items": null,
       "align_self": null,
       "border": null,
       "bottom": null,
       "display": null,
       "flex": null,
       "flex_flow": null,
       "grid_area": null,
       "grid_auto_columns": null,
       "grid_auto_flow": null,
       "grid_auto_rows": null,
       "grid_column": null,
       "grid_gap": null,
       "grid_row": null,
       "grid_template_areas": null,
       "grid_template_columns": null,
       "grid_template_rows": null,
       "height": null,
       "justify_content": null,
       "justify_items": null,
       "left": null,
       "margin": null,
       "max_height": null,
       "max_width": null,
       "min_height": null,
       "min_width": null,
       "object_fit": null,
       "object_position": null,
       "order": null,
       "overflow": null,
       "overflow_x": null,
       "overflow_y": null,
       "padding": null,
       "right": null,
       "top": null,
       "visibility": null,
       "width": null
      }
     },
     "5d3a598d975743fab37653146aeb8c76": {
      "model_module": "@jupyter-widgets/controls",
      "model_module_version": "1.5.0",
      "model_name": "DescriptionStyleModel",
      "state": {
       "_model_module": "@jupyter-widgets/controls",
       "_model_module_version": "1.5.0",
       "_model_name": "DescriptionStyleModel",
       "_view_count": null,
       "_view_module": "@jupyter-widgets/base",
       "_view_module_version": "1.2.0",
       "_view_name": "StyleView",
       "description_width": ""
      }
     },
     "674804660c9d4ecda07017ad6e97c5ca": {
      "model_module": "@jupyter-widgets/base",
      "model_module_version": "1.2.0",
      "model_name": "LayoutModel",
      "state": {
       "_model_module": "@jupyter-widgets/base",
       "_model_module_version": "1.2.0",
       "_model_name": "LayoutModel",
       "_view_count": null,
       "_view_module": "@jupyter-widgets/base",
       "_view_module_version": "1.2.0",
       "_view_name": "LayoutView",
       "align_content": null,
       "align_items": null,
       "align_self": null,
       "border": null,
       "bottom": null,
       "display": null,
       "flex": null,
       "flex_flow": null,
       "grid_area": null,
       "grid_auto_columns": null,
       "grid_auto_flow": null,
       "grid_auto_rows": null,
       "grid_column": null,
       "grid_gap": null,
       "grid_row": null,
       "grid_template_areas": null,
       "grid_template_columns": null,
       "grid_template_rows": null,
       "height": null,
       "justify_content": null,
       "justify_items": null,
       "left": null,
       "margin": null,
       "max_height": null,
       "max_width": null,
       "min_height": null,
       "min_width": null,
       "object_fit": null,
       "object_position": null,
       "order": null,
       "overflow": null,
       "overflow_x": null,
       "overflow_y": null,
       "padding": null,
       "right": null,
       "top": null,
       "visibility": null,
       "width": null
      }
     },
     "67736f5bff9d450888d062195d33885f": {
      "model_module": "@jupyter-widgets/base",
      "model_module_version": "1.2.0",
      "model_name": "LayoutModel",
      "state": {
       "_model_module": "@jupyter-widgets/base",
       "_model_module_version": "1.2.0",
       "_model_name": "LayoutModel",
       "_view_count": null,
       "_view_module": "@jupyter-widgets/base",
       "_view_module_version": "1.2.0",
       "_view_name": "LayoutView",
       "align_content": null,
       "align_items": null,
       "align_self": null,
       "border": null,
       "bottom": null,
       "display": null,
       "flex": null,
       "flex_flow": null,
       "grid_area": null,
       "grid_auto_columns": null,
       "grid_auto_flow": null,
       "grid_auto_rows": null,
       "grid_column": null,
       "grid_gap": null,
       "grid_row": null,
       "grid_template_areas": null,
       "grid_template_columns": null,
       "grid_template_rows": null,
       "height": null,
       "justify_content": null,
       "justify_items": null,
       "left": null,
       "margin": null,
       "max_height": null,
       "max_width": null,
       "min_height": null,
       "min_width": null,
       "object_fit": null,
       "object_position": null,
       "order": null,
       "overflow": null,
       "overflow_x": null,
       "overflow_y": null,
       "padding": null,
       "right": null,
       "top": null,
       "visibility": null,
       "width": null
      }
     },
     "68d479c7b298435d8cebf65d77d6ebe3": {
      "model_module": "@jupyter-widgets/controls",
      "model_module_version": "1.5.0",
      "model_name": "HTMLModel",
      "state": {
       "_dom_classes": [],
       "_model_module": "@jupyter-widgets/controls",
       "_model_module_version": "1.5.0",
       "_model_name": "HTMLModel",
       "_view_count": null,
       "_view_module": "@jupyter-widgets/controls",
       "_view_module_version": "1.5.0",
       "_view_name": "HTMLView",
       "description": "",
       "description_tooltip": null,
       "layout": "IPY_MODEL_252915537456446a899ac29f0df2a0b5",
       "placeholder": "​",
       "style": "IPY_MODEL_1571fa33c23749b7b724593132a5c704",
       "value": "Downloading: 100%"
      }
     },
     "6b3d242970244111a93eafff4b434aaf": {
      "model_module": "@jupyter-widgets/controls",
      "model_module_version": "1.5.0",
      "model_name": "DescriptionStyleModel",
      "state": {
       "_model_module": "@jupyter-widgets/controls",
       "_model_module_version": "1.5.0",
       "_model_name": "DescriptionStyleModel",
       "_view_count": null,
       "_view_module": "@jupyter-widgets/base",
       "_view_module_version": "1.2.0",
       "_view_name": "StyleView",
       "description_width": ""
      }
     },
     "7232a6f5ad8c4ed7b111354e4e525216": {
      "model_module": "@jupyter-widgets/base",
      "model_module_version": "1.2.0",
      "model_name": "LayoutModel",
      "state": {
       "_model_module": "@jupyter-widgets/base",
       "_model_module_version": "1.2.0",
       "_model_name": "LayoutModel",
       "_view_count": null,
       "_view_module": "@jupyter-widgets/base",
       "_view_module_version": "1.2.0",
       "_view_name": "LayoutView",
       "align_content": null,
       "align_items": null,
       "align_self": null,
       "border": null,
       "bottom": null,
       "display": null,
       "flex": null,
       "flex_flow": null,
       "grid_area": null,
       "grid_auto_columns": null,
       "grid_auto_flow": null,
       "grid_auto_rows": null,
       "grid_column": null,
       "grid_gap": null,
       "grid_row": null,
       "grid_template_areas": null,
       "grid_template_columns": null,
       "grid_template_rows": null,
       "height": null,
       "justify_content": null,
       "justify_items": null,
       "left": null,
       "margin": null,
       "max_height": null,
       "max_width": null,
       "min_height": null,
       "min_width": null,
       "object_fit": null,
       "object_position": null,
       "order": null,
       "overflow": null,
       "overflow_x": null,
       "overflow_y": null,
       "padding": null,
       "right": null,
       "top": null,
       "visibility": null,
       "width": null
      }
     },
     "7241500d172145f8b0af65ddea19d810": {
      "model_module": "@jupyter-widgets/controls",
      "model_module_version": "1.5.0",
      "model_name": "HTMLModel",
      "state": {
       "_dom_classes": [],
       "_model_module": "@jupyter-widgets/controls",
       "_model_module_version": "1.5.0",
       "_model_name": "HTMLModel",
       "_view_count": null,
       "_view_module": "@jupyter-widgets/controls",
       "_view_module_version": "1.5.0",
       "_view_name": "HTMLView",
       "description": "",
       "description_tooltip": null,
       "layout": "IPY_MODEL_1217101939794530aa1e6fc509e05261",
       "placeholder": "​",
       "style": "IPY_MODEL_088398ca59a047b1bb8af404c84bd7f9",
       "value": " 5.07M/5.07M [00:00&lt;00:00, 12.0MB/s]"
      }
     },
     "77e44e2fb3ec4c7ba8ecb9fe4b5b50f8": {
      "model_module": "@jupyter-widgets/controls",
      "model_module_version": "1.5.0",
      "model_name": "HBoxModel",
      "state": {
       "_dom_classes": [],
       "_model_module": "@jupyter-widgets/controls",
       "_model_module_version": "1.5.0",
       "_model_name": "HBoxModel",
       "_view_count": null,
       "_view_module": "@jupyter-widgets/controls",
       "_view_module_version": "1.5.0",
       "_view_name": "HBoxView",
       "box_style": "",
       "children": [
        "IPY_MODEL_c87c6789d0344c0ba2cb11e4acfa12e1",
        "IPY_MODEL_8d268bf82e964516b61787b324b04e72",
        "IPY_MODEL_0359f0525c194c84b2bda0bede097ab1"
       ],
       "layout": "IPY_MODEL_249f196d5ca64f95ab0d6283f7180ceb"
      }
     },
     "77f2565cf0da4536a4dfaf5a467416f1": {
      "model_module": "@jupyter-widgets/controls",
      "model_module_version": "1.5.0",
      "model_name": "HTMLModel",
      "state": {
       "_dom_classes": [],
       "_model_module": "@jupyter-widgets/controls",
       "_model_module_version": "1.5.0",
       "_model_name": "HTMLModel",
       "_view_count": null,
       "_view_module": "@jupyter-widgets/controls",
       "_view_module_version": "1.5.0",
       "_view_name": "HTMLView",
       "description": "",
       "description_tooltip": null,
       "layout": "IPY_MODEL_8eda87f435794421ae3ecf19c877394a",
       "placeholder": "​",
       "style": "IPY_MODEL_4b54b6de182840aca51dab6f479798b3",
       "value": " 1.08G/1.08G [00:31&lt;00:00, 33.3MB/s]"
      }
     },
     "7966eccfddc44560806b313bfba001cb": {
      "model_module": "@jupyter-widgets/base",
      "model_module_version": "1.2.0",
      "model_name": "LayoutModel",
      "state": {
       "_model_module": "@jupyter-widgets/base",
       "_model_module_version": "1.2.0",
       "_model_name": "LayoutModel",
       "_view_count": null,
       "_view_module": "@jupyter-widgets/base",
       "_view_module_version": "1.2.0",
       "_view_name": "LayoutView",
       "align_content": null,
       "align_items": null,
       "align_self": null,
       "border": null,
       "bottom": null,
       "display": null,
       "flex": null,
       "flex_flow": null,
       "grid_area": null,
       "grid_auto_columns": null,
       "grid_auto_flow": null,
       "grid_auto_rows": null,
       "grid_column": null,
       "grid_gap": null,
       "grid_row": null,
       "grid_template_areas": null,
       "grid_template_columns": null,
       "grid_template_rows": null,
       "height": null,
       "justify_content": null,
       "justify_items": null,
       "left": null,
       "margin": null,
       "max_height": null,
       "max_width": null,
       "min_height": null,
       "min_width": null,
       "object_fit": null,
       "object_position": null,
       "order": null,
       "overflow": null,
       "overflow_x": null,
       "overflow_y": null,
       "padding": null,
       "right": null,
       "top": null,
       "visibility": null,
       "width": null
      }
     },
     "7cbfc47ce3ee4c17a06b08e08b07d6e5": {
      "model_module": "@jupyter-widgets/controls",
      "model_module_version": "1.5.0",
      "model_name": "HTMLModel",
      "state": {
       "_dom_classes": [],
       "_model_module": "@jupyter-widgets/controls",
       "_model_module_version": "1.5.0",
       "_model_name": "HTMLModel",
       "_view_count": null,
       "_view_module": "@jupyter-widgets/controls",
       "_view_module_version": "1.5.0",
       "_view_name": "HTMLView",
       "description": "",
       "description_tooltip": null,
       "layout": "IPY_MODEL_d7ef3c39102e4441857e4114bbbfd004",
       "placeholder": "​",
       "style": "IPY_MODEL_3863e4b843e543a19fee38c33487716f",
       "value": "Downloading: 100%"
      }
     },
     "7e36b6a79f4c458a85d7265a9dcdd662": {
      "model_module": "@jupyter-widgets/base",
      "model_module_version": "1.2.0",
      "model_name": "LayoutModel",
      "state": {
       "_model_module": "@jupyter-widgets/base",
       "_model_module_version": "1.2.0",
       "_model_name": "LayoutModel",
       "_view_count": null,
       "_view_module": "@jupyter-widgets/base",
       "_view_module_version": "1.2.0",
       "_view_name": "LayoutView",
       "align_content": null,
       "align_items": null,
       "align_self": null,
       "border": null,
       "bottom": null,
       "display": null,
       "flex": null,
       "flex_flow": null,
       "grid_area": null,
       "grid_auto_columns": null,
       "grid_auto_flow": null,
       "grid_auto_rows": null,
       "grid_column": null,
       "grid_gap": null,
       "grid_row": null,
       "grid_template_areas": null,
       "grid_template_columns": null,
       "grid_template_rows": null,
       "height": null,
       "justify_content": null,
       "justify_items": null,
       "left": null,
       "margin": null,
       "max_height": null,
       "max_width": null,
       "min_height": null,
       "min_width": null,
       "object_fit": null,
       "object_position": null,
       "order": null,
       "overflow": null,
       "overflow_x": null,
       "overflow_y": null,
       "padding": null,
       "right": null,
       "top": null,
       "visibility": null,
       "width": null
      }
     },
     "81d7f84f26444fd3a9ca92b970be3f43": {
      "model_module": "@jupyter-widgets/controls",
      "model_module_version": "1.5.0",
      "model_name": "HBoxModel",
      "state": {
       "_dom_classes": [],
       "_model_module": "@jupyter-widgets/controls",
       "_model_module_version": "1.5.0",
       "_model_name": "HBoxModel",
       "_view_count": null,
       "_view_module": "@jupyter-widgets/controls",
       "_view_module_version": "1.5.0",
       "_view_name": "HBoxView",
       "box_style": "",
       "children": [
        "IPY_MODEL_7cbfc47ce3ee4c17a06b08e08b07d6e5",
        "IPY_MODEL_ef5a2caf1eec4b58bcc8732dc3a0d38d",
        "IPY_MODEL_7241500d172145f8b0af65ddea19d810"
       ],
       "layout": "IPY_MODEL_f9790c5be9154eec96c911b2533d281e"
      }
     },
     "8b049feafa3b415abdb5587e43ab889a": {
      "model_module": "@jupyter-widgets/base",
      "model_module_version": "1.2.0",
      "model_name": "LayoutModel",
      "state": {
       "_model_module": "@jupyter-widgets/base",
       "_model_module_version": "1.2.0",
       "_model_name": "LayoutModel",
       "_view_count": null,
       "_view_module": "@jupyter-widgets/base",
       "_view_module_version": "1.2.0",
       "_view_name": "LayoutView",
       "align_content": null,
       "align_items": null,
       "align_self": null,
       "border": null,
       "bottom": null,
       "display": null,
       "flex": null,
       "flex_flow": null,
       "grid_area": null,
       "grid_auto_columns": null,
       "grid_auto_flow": null,
       "grid_auto_rows": null,
       "grid_column": null,
       "grid_gap": null,
       "grid_row": null,
       "grid_template_areas": null,
       "grid_template_columns": null,
       "grid_template_rows": null,
       "height": null,
       "justify_content": null,
       "justify_items": null,
       "left": null,
       "margin": null,
       "max_height": null,
       "max_width": null,
       "min_height": null,
       "min_width": null,
       "object_fit": null,
       "object_position": null,
       "order": null,
       "overflow": null,
       "overflow_x": null,
       "overflow_y": null,
       "padding": null,
       "right": null,
       "top": null,
       "visibility": null,
       "width": null
      }
     },
     "8d268bf82e964516b61787b324b04e72": {
      "model_module": "@jupyter-widgets/controls",
      "model_module_version": "1.5.0",
      "model_name": "FloatProgressModel",
      "state": {
       "_dom_classes": [],
       "_model_module": "@jupyter-widgets/controls",
       "_model_module_version": "1.5.0",
       "_model_name": "FloatProgressModel",
       "_view_count": null,
       "_view_module": "@jupyter-widgets/controls",
       "_view_module_version": "1.5.0",
       "_view_name": "ProgressView",
       "bar_style": "success",
       "description": "",
       "description_tooltip": null,
       "layout": "IPY_MODEL_7232a6f5ad8c4ed7b111354e4e525216",
       "max": 513.0,
       "min": 0.0,
       "orientation": "horizontal",
       "style": "IPY_MODEL_fad702b2348b4b68a5de01e29a5314f7",
       "value": 513.0
      }
     },
     "8eda87f435794421ae3ecf19c877394a": {
      "model_module": "@jupyter-widgets/base",
      "model_module_version": "1.2.0",
      "model_name": "LayoutModel",
      "state": {
       "_model_module": "@jupyter-widgets/base",
       "_model_module_version": "1.2.0",
       "_model_name": "LayoutModel",
       "_view_count": null,
       "_view_module": "@jupyter-widgets/base",
       "_view_module_version": "1.2.0",
       "_view_name": "LayoutView",
       "align_content": null,
       "align_items": null,
       "align_self": null,
       "border": null,
       "bottom": null,
       "display": null,
       "flex": null,
       "flex_flow": null,
       "grid_area": null,
       "grid_auto_columns": null,
       "grid_auto_flow": null,
       "grid_auto_rows": null,
       "grid_column": null,
       "grid_gap": null,
       "grid_row": null,
       "grid_template_areas": null,
       "grid_template_columns": null,
       "grid_template_rows": null,
       "height": null,
       "justify_content": null,
       "justify_items": null,
       "left": null,
       "margin": null,
       "max_height": null,
       "max_width": null,
       "min_height": null,
       "min_width": null,
       "object_fit": null,
       "object_position": null,
       "order": null,
       "overflow": null,
       "overflow_x": null,
       "overflow_y": null,
       "padding": null,
       "right": null,
       "top": null,
       "visibility": null,
       "width": null
      }
     },
     "91b2b1b1f2d34cc39c04e9f241e51864": {
      "model_module": "@jupyter-widgets/controls",
      "model_module_version": "1.5.0",
      "model_name": "ProgressStyleModel",
      "state": {
       "_model_module": "@jupyter-widgets/controls",
       "_model_module_version": "1.5.0",
       "_model_name": "ProgressStyleModel",
       "_view_count": null,
       "_view_module": "@jupyter-widgets/base",
       "_view_module_version": "1.2.0",
       "_view_name": "StyleView",
       "bar_color": null,
       "description_width": ""
      }
     },
     "98a0e7ccbe6e4fc899babc958ce52a5b": {
      "model_module": "@jupyter-widgets/base",
      "model_module_version": "1.2.0",
      "model_name": "LayoutModel",
      "state": {
       "_model_module": "@jupyter-widgets/base",
       "_model_module_version": "1.2.0",
       "_model_name": "LayoutModel",
       "_view_count": null,
       "_view_module": "@jupyter-widgets/base",
       "_view_module_version": "1.2.0",
       "_view_name": "LayoutView",
       "align_content": null,
       "align_items": null,
       "align_self": null,
       "border": null,
       "bottom": null,
       "display": null,
       "flex": null,
       "flex_flow": null,
       "grid_area": null,
       "grid_auto_columns": null,
       "grid_auto_flow": null,
       "grid_auto_rows": null,
       "grid_column": null,
       "grid_gap": null,
       "grid_row": null,
       "grid_template_areas": null,
       "grid_template_columns": null,
       "grid_template_rows": null,
       "height": null,
       "justify_content": null,
       "justify_items": null,
       "left": null,
       "margin": null,
       "max_height": null,
       "max_width": null,
       "min_height": null,
       "min_width": null,
       "object_fit": null,
       "object_position": null,
       "order": null,
       "overflow": null,
       "overflow_x": null,
       "overflow_y": null,
       "padding": null,
       "right": null,
       "top": null,
       "visibility": null,
       "width": null
      }
     },
     "a376bd74015c4c68ac9d8bc4fdb96e0e": {
      "model_module": "@jupyter-widgets/controls",
      "model_module_version": "1.5.0",
      "model_name": "HTMLModel",
      "state": {
       "_dom_classes": [],
       "_model_module": "@jupyter-widgets/controls",
       "_model_module_version": "1.5.0",
       "_model_name": "HTMLModel",
       "_view_count": null,
       "_view_module": "@jupyter-widgets/controls",
       "_view_module_version": "1.5.0",
       "_view_name": "HTMLView",
       "description": "",
       "description_tooltip": null,
       "layout": "IPY_MODEL_98a0e7ccbe6e4fc899babc958ce52a5b",
       "placeholder": "​",
       "style": "IPY_MODEL_1d016fafcbbd48b58c17cbc02cde8d3a",
       "value": "Downloading: 100%"
      }
     },
     "a3fe2a907a17406e8fb2917cd6fedabd": {
      "model_module": "@jupyter-widgets/controls",
      "model_module_version": "1.5.0",
      "model_name": "DescriptionStyleModel",
      "state": {
       "_model_module": "@jupyter-widgets/controls",
       "_model_module_version": "1.5.0",
       "_model_name": "DescriptionStyleModel",
       "_view_count": null,
       "_view_module": "@jupyter-widgets/base",
       "_view_module_version": "1.2.0",
       "_view_name": "StyleView",
       "description_width": ""
      }
     },
     "a5030d08402741ea9c964f92d89ec3ba": {
      "model_module": "@jupyter-widgets/controls",
      "model_module_version": "1.5.0",
      "model_name": "HTMLModel",
      "state": {
       "_dom_classes": [],
       "_model_module": "@jupyter-widgets/controls",
       "_model_module_version": "1.5.0",
       "_model_name": "HTMLModel",
       "_view_count": null,
       "_view_module": "@jupyter-widgets/controls",
       "_view_module_version": "1.5.0",
       "_view_name": "HTMLView",
       "description": "",
       "description_tooltip": null,
       "layout": "IPY_MODEL_67736f5bff9d450888d062195d33885f",
       "placeholder": "​",
       "style": "IPY_MODEL_d70f6c75929b4ebd8d08aa9daf68f83f",
       "value": "Downloading: 100%"
      }
     },
     "aa880821ffb549a59ab4370c63ecee11": {
      "model_module": "@jupyter-widgets/controls",
      "model_module_version": "1.5.0",
      "model_name": "FloatProgressModel",
      "state": {
       "_dom_classes": [],
       "_model_module": "@jupyter-widgets/controls",
       "_model_module_version": "1.5.0",
       "_model_name": "FloatProgressModel",
       "_view_count": null,
       "_view_module": "@jupyter-widgets/controls",
       "_view_module_version": "1.5.0",
       "_view_name": "ProgressView",
       "bar_style": "success",
       "description": "",
       "description_tooltip": null,
       "layout": "IPY_MODEL_2b85ace11c534f5fb0f83b280d7915e1",
       "max": 625.0,
       "min": 0.0,
       "orientation": "horizontal",
       "style": "IPY_MODEL_91b2b1b1f2d34cc39c04e9f241e51864",
       "value": 625.0
      }
     },
     "aaff9e498fd743d1a7d1c8e17caa9f29": {
      "model_module": "@jupyter-widgets/base",
      "model_module_version": "1.2.0",
      "model_name": "LayoutModel",
      "state": {
       "_model_module": "@jupyter-widgets/base",
       "_model_module_version": "1.2.0",
       "_model_name": "LayoutModel",
       "_view_count": null,
       "_view_module": "@jupyter-widgets/base",
       "_view_module_version": "1.2.0",
       "_view_name": "LayoutView",
       "align_content": null,
       "align_items": null,
       "align_self": null,
       "border": null,
       "bottom": null,
       "display": null,
       "flex": null,
       "flex_flow": null,
       "grid_area": null,
       "grid_auto_columns": null,
       "grid_auto_flow": null,
       "grid_auto_rows": null,
       "grid_column": null,
       "grid_gap": null,
       "grid_row": null,
       "grid_template_areas": null,
       "grid_template_columns": null,
       "grid_template_rows": null,
       "height": null,
       "justify_content": null,
       "justify_items": null,
       "left": null,
       "margin": null,
       "max_height": null,
       "max_width": null,
       "min_height": null,
       "min_width": null,
       "object_fit": null,
       "object_position": null,
       "order": null,
       "overflow": null,
       "overflow_x": null,
       "overflow_y": null,
       "padding": null,
       "right": null,
       "top": null,
       "visibility": null,
       "width": null
      }
     },
     "b393f209a6174628b1a74e5693ec1eae": {
      "model_module": "@jupyter-widgets/base",
      "model_module_version": "1.2.0",
      "model_name": "LayoutModel",
      "state": {
       "_model_module": "@jupyter-widgets/base",
       "_model_module_version": "1.2.0",
       "_model_name": "LayoutModel",
       "_view_count": null,
       "_view_module": "@jupyter-widgets/base",
       "_view_module_version": "1.2.0",
       "_view_name": "LayoutView",
       "align_content": null,
       "align_items": null,
       "align_self": null,
       "border": null,
       "bottom": null,
       "display": null,
       "flex": null,
       "flex_flow": null,
       "grid_area": null,
       "grid_auto_columns": null,
       "grid_auto_flow": null,
       "grid_auto_rows": null,
       "grid_column": null,
       "grid_gap": null,
       "grid_row": null,
       "grid_template_areas": null,
       "grid_template_columns": null,
       "grid_template_rows": null,
       "height": null,
       "justify_content": null,
       "justify_items": null,
       "left": null,
       "margin": null,
       "max_height": null,
       "max_width": null,
       "min_height": null,
       "min_width": null,
       "object_fit": null,
       "object_position": null,
       "order": null,
       "overflow": null,
       "overflow_x": null,
       "overflow_y": null,
       "padding": null,
       "right": null,
       "top": null,
       "visibility": null,
       "width": null
      }
     },
     "b6370eaa040a4443a0f53a90eeee3d08": {
      "model_module": "@jupyter-widgets/controls",
      "model_module_version": "1.5.0",
      "model_name": "DescriptionStyleModel",
      "state": {
       "_model_module": "@jupyter-widgets/controls",
       "_model_module_version": "1.5.0",
       "_model_name": "DescriptionStyleModel",
       "_view_count": null,
       "_view_module": "@jupyter-widgets/base",
       "_view_module_version": "1.2.0",
       "_view_name": "StyleView",
       "description_width": ""
      }
     },
     "b7badb5bea77415780685f83d483f785": {
      "model_module": "@jupyter-widgets/controls",
      "model_module_version": "1.5.0",
      "model_name": "ProgressStyleModel",
      "state": {
       "_model_module": "@jupyter-widgets/controls",
       "_model_module_version": "1.5.0",
       "_model_name": "ProgressStyleModel",
       "_view_count": null,
       "_view_module": "@jupyter-widgets/base",
       "_view_module_version": "1.2.0",
       "_view_name": "StyleView",
       "bar_color": null,
       "description_width": ""
      }
     },
     "ba580a3f3b9f45ea876baca92851565e": {
      "model_module": "@jupyter-widgets/controls",
      "model_module_version": "1.5.0",
      "model_name": "FloatProgressModel",
      "state": {
       "_dom_classes": [],
       "_model_module": "@jupyter-widgets/controls",
       "_model_module_version": "1.5.0",
       "_model_name": "FloatProgressModel",
       "_view_count": null,
       "_view_module": "@jupyter-widgets/controls",
       "_view_module_version": "1.5.0",
       "_view_name": "ProgressView",
       "bar_style": "success",
       "description": "",
       "description_tooltip": null,
       "layout": "IPY_MODEL_b393f209a6174628b1a74e5693ec1eae",
       "max": 1083389348.0,
       "min": 0.0,
       "orientation": "horizontal",
       "style": "IPY_MODEL_0a79c0fd7007454f949fb449f3fb8a51",
       "value": 1083389348.0
      }
     },
     "c0988d76b1af4f45a77c2ea58306dc03": {
      "model_module": "@jupyter-widgets/controls",
      "model_module_version": "1.5.0",
      "model_name": "FloatProgressModel",
      "state": {
       "_dom_classes": [],
       "_model_module": "@jupyter-widgets/controls",
       "_model_module_version": "1.5.0",
       "_model_name": "FloatProgressModel",
       "_view_count": null,
       "_view_module": "@jupyter-widgets/controls",
       "_view_module_version": "1.5.0",
       "_view_name": "ProgressView",
       "bar_style": "success",
       "description": "",
       "description_tooltip": null,
       "layout": "IPY_MODEL_d208c5fb29664093af53967971d0e586",
       "max": 3271420488.0,
       "min": 0.0,
       "orientation": "horizontal",
       "style": "IPY_MODEL_39706cd52a1547b3a72eb2a01218452c",
       "value": 3271420488.0
      }
     },
     "c10438cfd52946618b9397f08412ece5": {
      "model_module": "@jupyter-widgets/controls",
      "model_module_version": "1.5.0",
      "model_name": "HTMLModel",
      "state": {
       "_dom_classes": [],
       "_model_module": "@jupyter-widgets/controls",
       "_model_module_version": "1.5.0",
       "_model_name": "HTMLModel",
       "_view_count": null,
       "_view_module": "@jupyter-widgets/controls",
       "_view_module_version": "1.5.0",
       "_view_name": "HTMLView",
       "description": "",
       "description_tooltip": null,
       "layout": "IPY_MODEL_7966eccfddc44560806b313bfba001cb",
       "placeholder": "​",
       "style": "IPY_MODEL_a3fe2a907a17406e8fb2917cd6fedabd",
       "value": "Downloading: 100%"
      }
     },
     "c87c6789d0344c0ba2cb11e4acfa12e1": {
      "model_module": "@jupyter-widgets/controls",
      "model_module_version": "1.5.0",
      "model_name": "HTMLModel",
      "state": {
       "_dom_classes": [],
       "_model_module": "@jupyter-widgets/controls",
       "_model_module_version": "1.5.0",
       "_model_name": "HTMLModel",
       "_view_count": null,
       "_view_module": "@jupyter-widgets/controls",
       "_view_module_version": "1.5.0",
       "_view_name": "HTMLView",
       "description": "",
       "description_tooltip": null,
       "layout": "IPY_MODEL_475aad16116d4fb1b69b13b124fbc60a",
       "placeholder": "​",
       "style": "IPY_MODEL_b6370eaa040a4443a0f53a90eeee3d08",
       "value": "Downloading: 100%"
      }
     },
     "c9c4c04c6b3e40b8bc3faedf2b68822b": {
      "model_module": "@jupyter-widgets/base",
      "model_module_version": "1.2.0",
      "model_name": "LayoutModel",
      "state": {
       "_model_module": "@jupyter-widgets/base",
       "_model_module_version": "1.2.0",
       "_model_name": "LayoutModel",
       "_view_count": null,
       "_view_module": "@jupyter-widgets/base",
       "_view_module_version": "1.2.0",
       "_view_name": "LayoutView",
       "align_content": null,
       "align_items": null,
       "align_self": null,
       "border": null,
       "bottom": null,
       "display": null,
       "flex": null,
       "flex_flow": null,
       "grid_area": null,
       "grid_auto_columns": null,
       "grid_auto_flow": null,
       "grid_auto_rows": null,
       "grid_column": null,
       "grid_gap": null,
       "grid_row": null,
       "grid_template_areas": null,
       "grid_template_columns": null,
       "grid_template_rows": null,
       "height": null,
       "justify_content": null,
       "justify_items": null,
       "left": null,
       "margin": null,
       "max_height": null,
       "max_width": null,
       "min_height": null,
       "min_width": null,
       "object_fit": null,
       "object_position": null,
       "order": null,
       "overflow": null,
       "overflow_x": null,
       "overflow_y": null,
       "padding": null,
       "right": null,
       "top": null,
       "visibility": null,
       "width": null
      }
     },
     "cc3b223010f04ceeba6a9895bdfbf829": {
      "model_module": "@jupyter-widgets/controls",
      "model_module_version": "1.5.0",
      "model_name": "HBoxModel",
      "state": {
       "_dom_classes": [],
       "_model_module": "@jupyter-widgets/controls",
       "_model_module_version": "1.5.0",
       "_model_name": "HBoxModel",
       "_view_count": null,
       "_view_module": "@jupyter-widgets/controls",
       "_view_module_version": "1.5.0",
       "_view_name": "HBoxView",
       "box_style": "",
       "children": [
        "IPY_MODEL_68d479c7b298435d8cebf65d77d6ebe3",
        "IPY_MODEL_aa880821ffb549a59ab4370c63ecee11",
        "IPY_MODEL_d71a52e854444ff5bf451d871a21415c"
       ],
       "layout": "IPY_MODEL_7e36b6a79f4c458a85d7265a9dcdd662"
      }
     },
     "cf4b3a95998a49299837cb3b45fac098": {
      "model_module": "@jupyter-widgets/controls",
      "model_module_version": "1.5.0",
      "model_name": "FloatProgressModel",
      "state": {
       "_dom_classes": [],
       "_model_module": "@jupyter-widgets/controls",
       "_model_module_version": "1.5.0",
       "_model_name": "FloatProgressModel",
       "_view_count": null,
       "_view_module": "@jupyter-widgets/controls",
       "_view_module_version": "1.5.0",
       "_view_name": "ProgressView",
       "bar_style": "success",
       "description": "",
       "description_tooltip": null,
       "layout": "IPY_MODEL_4ac68231b2934e47840871ee343c529f",
       "max": 995526.0,
       "min": 0.0,
       "orientation": "horizontal",
       "style": "IPY_MODEL_b7badb5bea77415780685f83d483f785",
       "value": 995526.0
      }
     },
     "d208c5fb29664093af53967971d0e586": {
      "model_module": "@jupyter-widgets/base",
      "model_module_version": "1.2.0",
      "model_name": "LayoutModel",
      "state": {
       "_model_module": "@jupyter-widgets/base",
       "_model_module_version": "1.2.0",
       "_model_name": "LayoutModel",
       "_view_count": null,
       "_view_module": "@jupyter-widgets/base",
       "_view_module_version": "1.2.0",
       "_view_name": "LayoutView",
       "align_content": null,
       "align_items": null,
       "align_self": null,
       "border": null,
       "bottom": null,
       "display": null,
       "flex": null,
       "flex_flow": null,
       "grid_area": null,
       "grid_auto_columns": null,
       "grid_auto_flow": null,
       "grid_auto_rows": null,
       "grid_column": null,
       "grid_gap": null,
       "grid_row": null,
       "grid_template_areas": null,
       "grid_template_columns": null,
       "grid_template_rows": null,
       "height": null,
       "justify_content": null,
       "justify_items": null,
       "left": null,
       "margin": null,
       "max_height": null,
       "max_width": null,
       "min_height": null,
       "min_width": null,
       "object_fit": null,
       "object_position": null,
       "order": null,
       "overflow": null,
       "overflow_x": null,
       "overflow_y": null,
       "padding": null,
       "right": null,
       "top": null,
       "visibility": null,
       "width": null
      }
     },
     "d70f6c75929b4ebd8d08aa9daf68f83f": {
      "model_module": "@jupyter-widgets/controls",
      "model_module_version": "1.5.0",
      "model_name": "DescriptionStyleModel",
      "state": {
       "_model_module": "@jupyter-widgets/controls",
       "_model_module_version": "1.5.0",
       "_model_name": "DescriptionStyleModel",
       "_view_count": null,
       "_view_module": "@jupyter-widgets/base",
       "_view_module_version": "1.2.0",
       "_view_name": "StyleView",
       "description_width": ""
      }
     },
     "d71a52e854444ff5bf451d871a21415c": {
      "model_module": "@jupyter-widgets/controls",
      "model_module_version": "1.5.0",
      "model_name": "HTMLModel",
      "state": {
       "_dom_classes": [],
       "_model_module": "@jupyter-widgets/controls",
       "_model_module_version": "1.5.0",
       "_model_name": "HTMLModel",
       "_view_count": null,
       "_view_module": "@jupyter-widgets/controls",
       "_view_module_version": "1.5.0",
       "_view_name": "HTMLView",
       "description": "",
       "description_tooltip": null,
       "layout": "IPY_MODEL_1e6803cbee2c473d9d7c37deae8ea428",
       "placeholder": "​",
       "style": "IPY_MODEL_1b75e9d19dcc41e4bdcda353d1e44180",
       "value": " 625/625 [00:00&lt;00:00, 14.6kB/s]"
      }
     },
     "d7ef3c39102e4441857e4114bbbfd004": {
      "model_module": "@jupyter-widgets/base",
      "model_module_version": "1.2.0",
      "model_name": "LayoutModel",
      "state": {
       "_model_module": "@jupyter-widgets/base",
       "_model_module_version": "1.2.0",
       "_model_name": "LayoutModel",
       "_view_count": null,
       "_view_module": "@jupyter-widgets/base",
       "_view_module_version": "1.2.0",
       "_view_name": "LayoutView",
       "align_content": null,
       "align_items": null,
       "align_self": null,
       "border": null,
       "bottom": null,
       "display": null,
       "flex": null,
       "flex_flow": null,
       "grid_area": null,
       "grid_auto_columns": null,
       "grid_auto_flow": null,
       "grid_auto_rows": null,
       "grid_column": null,
       "grid_gap": null,
       "grid_row": null,
       "grid_template_areas": null,
       "grid_template_columns": null,
       "grid_template_rows": null,
       "height": null,
       "justify_content": null,
       "justify_items": null,
       "left": null,
       "margin": null,
       "max_height": null,
       "max_width": null,
       "min_height": null,
       "min_width": null,
       "object_fit": null,
       "object_position": null,
       "order": null,
       "overflow": null,
       "overflow_x": null,
       "overflow_y": null,
       "padding": null,
       "right": null,
       "top": null,
       "visibility": null,
       "width": null
      }
     },
     "e29833cb23ec49dca537e6556c0f0ac9": {
      "model_module": "@jupyter-widgets/controls",
      "model_module_version": "1.5.0",
      "model_name": "HBoxModel",
      "state": {
       "_dom_classes": [],
       "_model_module": "@jupyter-widgets/controls",
       "_model_module_version": "1.5.0",
       "_model_name": "HBoxModel",
       "_view_count": null,
       "_view_module": "@jupyter-widgets/controls",
       "_view_module_version": "1.5.0",
       "_view_name": "HBoxView",
       "box_style": "",
       "children": [
        "IPY_MODEL_c10438cfd52946618b9397f08412ece5",
        "IPY_MODEL_cf4b3a95998a49299837cb3b45fac098",
        "IPY_MODEL_13d75eca2e764d00836a6ec7be92d97a"
       ],
       "layout": "IPY_MODEL_32d20d9ae2bb40ab8e1c9b444faaa269"
      }
     },
     "ef5a2caf1eec4b58bcc8732dc3a0d38d": {
      "model_module": "@jupyter-widgets/controls",
      "model_module_version": "1.5.0",
      "model_name": "FloatProgressModel",
      "state": {
       "_dom_classes": [],
       "_model_module": "@jupyter-widgets/controls",
       "_model_module_version": "1.5.0",
       "_model_name": "FloatProgressModel",
       "_view_count": null,
       "_view_module": "@jupyter-widgets/controls",
       "_view_module_version": "1.5.0",
       "_view_name": "ProgressView",
       "bar_style": "success",
       "description": "",
       "description_tooltip": null,
       "layout": "IPY_MODEL_5c30f6fe7d364a5e8b40707079fa441a",
       "max": 5069051.0,
       "min": 0.0,
       "orientation": "horizontal",
       "style": "IPY_MODEL_55747f6b6164436d9deb435df6996251",
       "value": 5069051.0
      }
     },
     "f9790c5be9154eec96c911b2533d281e": {
      "model_module": "@jupyter-widgets/base",
      "model_module_version": "1.2.0",
      "model_name": "LayoutModel",
      "state": {
       "_model_module": "@jupyter-widgets/base",
       "_model_module_version": "1.2.0",
       "_model_name": "LayoutModel",
       "_view_count": null,
       "_view_module": "@jupyter-widgets/base",
       "_view_module_version": "1.2.0",
       "_view_name": "LayoutView",
       "align_content": null,
       "align_items": null,
       "align_self": null,
       "border": null,
       "bottom": null,
       "display": null,
       "flex": null,
       "flex_flow": null,
       "grid_area": null,
       "grid_auto_columns": null,
       "grid_auto_flow": null,
       "grid_auto_rows": null,
       "grid_column": null,
       "grid_gap": null,
       "grid_row": null,
       "grid_template_areas": null,
       "grid_template_columns": null,
       "grid_template_rows": null,
       "height": null,
       "justify_content": null,
       "justify_items": null,
       "left": null,
       "margin": null,
       "max_height": null,
       "max_width": null,
       "min_height": null,
       "min_width": null,
       "object_fit": null,
       "object_position": null,
       "order": null,
       "overflow": null,
       "overflow_x": null,
       "overflow_y": null,
       "padding": null,
       "right": null,
       "top": null,
       "visibility": null,
       "width": null
      }
     },
     "fad702b2348b4b68a5de01e29a5314f7": {
      "model_module": "@jupyter-widgets/controls",
      "model_module_version": "1.5.0",
      "model_name": "ProgressStyleModel",
      "state": {
       "_model_module": "@jupyter-widgets/controls",
       "_model_module_version": "1.5.0",
       "_model_name": "ProgressStyleModel",
       "_view_count": null,
       "_view_module": "@jupyter-widgets/base",
       "_view_module_version": "1.2.0",
       "_view_name": "StyleView",
       "bar_color": null,
       "description_width": ""
      }
     }
    },
    "version_major": 2,
    "version_minor": 0
   }
  }
 },
 "nbformat": 4,
 "nbformat_minor": 5
}
