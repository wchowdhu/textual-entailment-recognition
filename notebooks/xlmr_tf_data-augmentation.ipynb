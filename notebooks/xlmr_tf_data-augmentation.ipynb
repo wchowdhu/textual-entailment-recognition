{
 "cells": [
  {
   "cell_type": "code",
   "execution_count": 1,
   "metadata": {
    "execution": {
     "iopub.execute_input": "2021-03-09T18:59:10.631094Z",
     "iopub.status.busy": "2021-03-09T18:59:10.630446Z",
     "iopub.status.idle": "2021-03-09T18:59:40.000705Z",
     "shell.execute_reply": "2021-03-09T18:59:39.999704Z"
    },
    "papermill": {
     "duration": 29.403304,
     "end_time": "2021-03-09T18:59:40.000967",
     "exception": false,
     "start_time": "2021-03-09T18:59:10.597663",
     "status": "completed"
    },
    "tags": []
   },
   "outputs": [
    {
     "name": "stdout",
     "output_type": "stream",
     "text": [
      "Requirement already satisfied: pip in /opt/conda/lib/python3.7/site-packages (21.0.1)\r\n",
      "Requirement already satisfied: allennlp in /opt/conda/lib/python3.7/site-packages (2.0.1)\r\n",
      "Collecting allennlp\r\n",
      "  Downloading allennlp-2.1.0-py3-none-any.whl (585 kB)\r\n",
      "\u001b[K     |████████████████████████████████| 585 kB 2.9 MB/s \r\n",
      "\u001b[?25hRequirement already satisfied: tensorboardX>=1.2 in /opt/conda/lib/python3.7/site-packages (from allennlp) (2.1)\r\n",
      "Requirement already satisfied: overrides==3.1.0 in /opt/conda/lib/python3.7/site-packages (from allennlp) (3.1.0)\r\n",
      "Requirement already satisfied: scikit-learn in /opt/conda/lib/python3.7/site-packages (from allennlp) (0.24.1)\r\n",
      "Requirement already satisfied: h5py in /opt/conda/lib/python3.7/site-packages (from allennlp) (2.10.0)\r\n",
      "Requirement already satisfied: pytest in /opt/conda/lib/python3.7/site-packages (from allennlp) (6.2.2)\r\n",
      "Requirement already satisfied: filelock<3.1,>=3.0 in /opt/conda/lib/python3.7/site-packages (from allennlp) (3.0.12)\r\n",
      "Requirement already satisfied: sentencepiece in /opt/conda/lib/python3.7/site-packages (from allennlp) (0.1.95)\r\n",
      "Requirement already satisfied: numpy in /opt/conda/lib/python3.7/site-packages (from allennlp) (1.19.5)\r\n",
      "Requirement already satisfied: nltk in /opt/conda/lib/python3.7/site-packages (from allennlp) (3.2.4)\r\n",
      "Requirement already satisfied: jsonnet>=0.10.0 in /opt/conda/lib/python3.7/site-packages (from allennlp) (0.17.0)\r\n",
      "Requirement already satisfied: more-itertools in /opt/conda/lib/python3.7/site-packages (from allennlp) (8.7.0)\r\n",
      "Requirement already satisfied: spacy<3.1,>=2.1.0 in /opt/conda/lib/python3.7/site-packages (from allennlp) (2.3.5)\r\n",
      "Requirement already satisfied: lmdb in /opt/conda/lib/python3.7/site-packages (from allennlp) (1.1.1)\r\n",
      "Requirement already satisfied: torchvision<0.9.0,>=0.8.1 in /opt/conda/lib/python3.7/site-packages (from allennlp) (0.8.1)\r\n",
      "Requirement already satisfied: scipy in /opt/conda/lib/python3.7/site-packages (from allennlp) (1.5.4)\r\n",
      "Requirement already satisfied: tqdm>=4.19 in /opt/conda/lib/python3.7/site-packages (from allennlp) (4.55.1)\r\n",
      "Requirement already satisfied: requests>=2.18 in /opt/conda/lib/python3.7/site-packages (from allennlp) (2.25.1)\r\n",
      "Requirement already satisfied: torch<1.8.0,>=1.6.0 in /opt/conda/lib/python3.7/site-packages (from allennlp) (1.7.0)\r\n",
      "Requirement already satisfied: boto3<2.0,>=1.14 in /opt/conda/lib/python3.7/site-packages (from allennlp) (1.17.11)\r\n",
      "Requirement already satisfied: jsonpickle in /opt/conda/lib/python3.7/site-packages (from allennlp) (2.0.0)\r\n",
      "Requirement already satisfied: transformers<4.4,>=4.1 in /opt/conda/lib/python3.7/site-packages (from allennlp) (4.2.2)\r\n",
      "Requirement already satisfied: jmespath<1.0.0,>=0.7.1 in /opt/conda/lib/python3.7/site-packages (from boto3<2.0,>=1.14->allennlp) (0.10.0)\r\n",
      "Requirement already satisfied: s3transfer<0.4.0,>=0.3.0 in /opt/conda/lib/python3.7/site-packages (from boto3<2.0,>=1.14->allennlp) (0.3.4)\r\n",
      "Requirement already satisfied: botocore<1.21.0,>=1.20.11 in /opt/conda/lib/python3.7/site-packages (from boto3<2.0,>=1.14->allennlp) (1.20.11)\r\n",
      "Requirement already satisfied: python-dateutil<3.0.0,>=2.1 in /opt/conda/lib/python3.7/site-packages (from botocore<1.21.0,>=1.20.11->boto3<2.0,>=1.14->allennlp) (2.8.1)\r\n",
      "Requirement already satisfied: urllib3<1.27,>=1.25.4 in /opt/conda/lib/python3.7/site-packages (from botocore<1.21.0,>=1.20.11->boto3<2.0,>=1.14->allennlp) (1.26.2)\r\n",
      "Requirement already satisfied: six>=1.5 in /opt/conda/lib/python3.7/site-packages (from python-dateutil<3.0.0,>=2.1->botocore<1.21.0,>=1.20.11->boto3<2.0,>=1.14->allennlp) (1.15.0)\r\n",
      "Requirement already satisfied: certifi>=2017.4.17 in /opt/conda/lib/python3.7/site-packages (from requests>=2.18->allennlp) (2020.12.5)\r\n",
      "Requirement already satisfied: idna<3,>=2.5 in /opt/conda/lib/python3.7/site-packages (from requests>=2.18->allennlp) (2.10)\r\n",
      "Requirement already satisfied: chardet<5,>=3.0.2 in /opt/conda/lib/python3.7/site-packages (from requests>=2.18->allennlp) (3.0.4)\r\n",
      "Requirement already satisfied: setuptools in /opt/conda/lib/python3.7/site-packages (from spacy<3.1,>=2.1.0->allennlp) (49.6.0.post20201009)\r\n",
      "Requirement already satisfied: blis<0.8.0,>=0.4.0 in /opt/conda/lib/python3.7/site-packages (from spacy<3.1,>=2.1.0->allennlp) (0.7.4)\r\n",
      "Requirement already satisfied: srsly<1.1.0,>=1.0.2 in /opt/conda/lib/python3.7/site-packages (from spacy<3.1,>=2.1.0->allennlp) (1.0.5)\r\n",
      "Requirement already satisfied: preshed<3.1.0,>=3.0.2 in /opt/conda/lib/python3.7/site-packages (from spacy<3.1,>=2.1.0->allennlp) (3.0.5)\r\n",
      "Requirement already satisfied: catalogue<1.1.0,>=0.0.7 in /opt/conda/lib/python3.7/site-packages (from spacy<3.1,>=2.1.0->allennlp) (1.0.0)\r\n",
      "Requirement already satisfied: wasabi<1.1.0,>=0.4.0 in /opt/conda/lib/python3.7/site-packages (from spacy<3.1,>=2.1.0->allennlp) (0.8.2)\r\n",
      "Requirement already satisfied: murmurhash<1.1.0,>=0.28.0 in /opt/conda/lib/python3.7/site-packages (from spacy<3.1,>=2.1.0->allennlp) (1.0.5)\r\n",
      "Requirement already satisfied: cymem<2.1.0,>=2.0.2 in /opt/conda/lib/python3.7/site-packages (from spacy<3.1,>=2.1.0->allennlp) (2.0.5)\r\n",
      "Requirement already satisfied: plac<1.2.0,>=0.9.6 in /opt/conda/lib/python3.7/site-packages (from spacy<3.1,>=2.1.0->allennlp) (1.1.3)\r\n",
      "Requirement already satisfied: thinc<7.5.0,>=7.4.1 in /opt/conda/lib/python3.7/site-packages (from spacy<3.1,>=2.1.0->allennlp) (7.4.5)\r\n",
      "Requirement already satisfied: importlib-metadata>=0.20 in /opt/conda/lib/python3.7/site-packages (from catalogue<1.1.0,>=0.0.7->spacy<3.1,>=2.1.0->allennlp) (3.3.0)\r\n",
      "Requirement already satisfied: typing-extensions>=3.6.4 in /opt/conda/lib/python3.7/site-packages (from importlib-metadata>=0.20->catalogue<1.1.0,>=0.0.7->spacy<3.1,>=2.1.0->allennlp) (3.7.4.3)\r\n",
      "Requirement already satisfied: zipp>=0.5 in /opt/conda/lib/python3.7/site-packages (from importlib-metadata>=0.20->catalogue<1.1.0,>=0.0.7->spacy<3.1,>=2.1.0->allennlp) (3.4.0)\r\n",
      "Requirement already satisfied: protobuf>=3.8.0 in /opt/conda/lib/python3.7/site-packages (from tensorboardX>=1.2->allennlp) (3.14.0)\r\n",
      "Requirement already satisfied: future in /opt/conda/lib/python3.7/site-packages (from torch<1.8.0,>=1.6.0->allennlp) (0.18.2)\r\n",
      "Requirement already satisfied: dataclasses in /opt/conda/lib/python3.7/site-packages (from torch<1.8.0,>=1.6.0->allennlp) (0.6)\r\n",
      "Requirement already satisfied: pillow>=4.1.1 in /opt/conda/lib/python3.7/site-packages (from torchvision<0.9.0,>=0.8.1->allennlp) (7.2.0)\r\n",
      "Requirement already satisfied: tokenizers==0.9.4 in /opt/conda/lib/python3.7/site-packages (from transformers<4.4,>=4.1->allennlp) (0.9.4)\r\n",
      "Requirement already satisfied: regex!=2019.12.17 in /opt/conda/lib/python3.7/site-packages (from transformers<4.4,>=4.1->allennlp) (2020.11.13)\r\n",
      "Requirement already satisfied: packaging in /opt/conda/lib/python3.7/site-packages (from transformers<4.4,>=4.1->allennlp) (20.8)\r\n",
      "Requirement already satisfied: sacremoses in /opt/conda/lib/python3.7/site-packages (from transformers<4.4,>=4.1->allennlp) (0.0.43)\r\n",
      "Requirement already satisfied: pyparsing>=2.0.2 in /opt/conda/lib/python3.7/site-packages (from packaging->transformers<4.4,>=4.1->allennlp) (2.4.7)\r\n",
      "Requirement already satisfied: toml in /opt/conda/lib/python3.7/site-packages (from pytest->allennlp) (0.10.2)\r\n",
      "Requirement already satisfied: py>=1.8.2 in /opt/conda/lib/python3.7/site-packages (from pytest->allennlp) (1.10.0)\r\n",
      "Requirement already satisfied: iniconfig in /opt/conda/lib/python3.7/site-packages (from pytest->allennlp) (1.1.1)\r\n",
      "Requirement already satisfied: pluggy<1.0.0a1,>=0.12 in /opt/conda/lib/python3.7/site-packages (from pytest->allennlp) (0.13.1)\r\n",
      "Requirement already satisfied: attrs>=19.2.0 in /opt/conda/lib/python3.7/site-packages (from pytest->allennlp) (20.3.0)\r\n",
      "Requirement already satisfied: click in /opt/conda/lib/python3.7/site-packages (from sacremoses->transformers<4.4,>=4.1->allennlp) (7.1.2)\r\n",
      "Requirement already satisfied: joblib in /opt/conda/lib/python3.7/site-packages (from sacremoses->transformers<4.4,>=4.1->allennlp) (1.0.0)\r\n",
      "Requirement already satisfied: threadpoolctl>=2.0.0 in /opt/conda/lib/python3.7/site-packages (from scikit-learn->allennlp) (2.1.0)\r\n",
      "Installing collected packages: allennlp\r\n",
      "  Attempting uninstall: allennlp\r\n",
      "    Found existing installation: allennlp 2.0.1\r\n",
      "    Uninstalling allennlp-2.0.1:\r\n",
      "      Successfully uninstalled allennlp-2.0.1\r\n",
      "Successfully installed allennlp-2.1.0\r\n",
      "Collecting transformers==4.3.0\r\n",
      "  Downloading transformers-4.3.0-py3-none-any.whl (1.8 MB)\r\n",
      "\u001b[K     |████████████████████████████████| 1.8 MB 2.9 MB/s \r\n",
      "\u001b[?25hRequirement already satisfied: numpy>=1.17 in /opt/conda/lib/python3.7/site-packages (from transformers==4.3.0) (1.19.5)\r\n",
      "Requirement already satisfied: importlib-metadata in /opt/conda/lib/python3.7/site-packages (from transformers==4.3.0) (3.3.0)\r\n",
      "Requirement already satisfied: regex!=2019.12.17 in /opt/conda/lib/python3.7/site-packages (from transformers==4.3.0) (2020.11.13)\r\n",
      "Requirement already satisfied: packaging in /opt/conda/lib/python3.7/site-packages (from transformers==4.3.0) (20.8)\r\n",
      "Collecting tokenizers<0.11,>=0.10.1\r\n",
      "  Downloading tokenizers-0.10.1-cp37-cp37m-manylinux2010_x86_64.whl (3.2 MB)\r\n",
      "\u001b[K     |████████████████████████████████| 3.2 MB 19.6 MB/s \r\n",
      "\u001b[?25hRequirement already satisfied: sacremoses in /opt/conda/lib/python3.7/site-packages (from transformers==4.3.0) (0.0.43)\r\n",
      "Requirement already satisfied: filelock in /opt/conda/lib/python3.7/site-packages (from transformers==4.3.0) (3.0.12)\r\n",
      "Requirement already satisfied: tqdm>=4.27 in /opt/conda/lib/python3.7/site-packages (from transformers==4.3.0) (4.55.1)\r\n",
      "Requirement already satisfied: requests in /opt/conda/lib/python3.7/site-packages (from transformers==4.3.0) (2.25.1)\r\n",
      "Requirement already satisfied: typing-extensions>=3.6.4 in /opt/conda/lib/python3.7/site-packages (from importlib-metadata->transformers==4.3.0) (3.7.4.3)\r\n",
      "Requirement already satisfied: zipp>=0.5 in /opt/conda/lib/python3.7/site-packages (from importlib-metadata->transformers==4.3.0) (3.4.0)\r\n",
      "Requirement already satisfied: pyparsing>=2.0.2 in /opt/conda/lib/python3.7/site-packages (from packaging->transformers==4.3.0) (2.4.7)\r\n",
      "Requirement already satisfied: idna<3,>=2.5 in /opt/conda/lib/python3.7/site-packages (from requests->transformers==4.3.0) (2.10)\r\n",
      "Requirement already satisfied: urllib3<1.27,>=1.21.1 in /opt/conda/lib/python3.7/site-packages (from requests->transformers==4.3.0) (1.26.2)\r\n",
      "Requirement already satisfied: chardet<5,>=3.0.2 in /opt/conda/lib/python3.7/site-packages (from requests->transformers==4.3.0) (3.0.4)\r\n",
      "Requirement already satisfied: certifi>=2017.4.17 in /opt/conda/lib/python3.7/site-packages (from requests->transformers==4.3.0) (2020.12.5)\r\n",
      "Requirement already satisfied: six in /opt/conda/lib/python3.7/site-packages (from sacremoses->transformers==4.3.0) (1.15.0)\r\n",
      "Requirement already satisfied: click in /opt/conda/lib/python3.7/site-packages (from sacremoses->transformers==4.3.0) (7.1.2)\r\n",
      "Requirement already satisfied: joblib in /opt/conda/lib/python3.7/site-packages (from sacremoses->transformers==4.3.0) (1.0.0)\r\n",
      "Installing collected packages: tokenizers, transformers\r\n",
      "  Attempting uninstall: tokenizers\r\n",
      "    Found existing installation: tokenizers 0.9.4\r\n",
      "    Uninstalling tokenizers-0.9.4:\r\n",
      "      Successfully uninstalled tokenizers-0.9.4\r\n",
      "  Attempting uninstall: transformers\r\n",
      "    Found existing installation: transformers 4.2.2\r\n",
      "    Uninstalling transformers-4.2.2:\r\n",
      "      Successfully uninstalled transformers-4.2.2\r\n",
      "Successfully installed tokenizers-0.10.1 transformers-4.3.0\r\n"
     ]
    }
   ],
   "source": [
    "!pip install --upgrade pip\n",
    "!pip install --upgrade allennlp\n",
    "!pip install transformers==4.3.0"
   ]
  },
  {
   "cell_type": "code",
   "execution_count": 2,
   "metadata": {
    "execution": {
     "iopub.execute_input": "2021-03-09T18:59:40.094873Z",
     "iopub.status.busy": "2021-03-09T18:59:40.090185Z",
     "iopub.status.idle": "2021-03-09T19:00:00.416460Z",
     "shell.execute_reply": "2021-03-09T19:00:00.415834Z"
    },
    "papermill": {
     "duration": 20.373481,
     "end_time": "2021-03-09T19:00:00.416634",
     "exception": false,
     "start_time": "2021-03-09T18:59:40.043153",
     "status": "completed"
    },
    "tags": []
   },
   "outputs": [
    {
     "name": "stdout",
     "output_type": "stream",
     "text": [
      "Collecting datasets\r\n",
      "  Downloading datasets-1.4.1-py3-none-any.whl (186 kB)\r\n",
      "\u001b[K     |████████████████████████████████| 186 kB 2.8 MB/s \r\n",
      "\u001b[?25hRequirement already satisfied: requests>=2.19.0 in /opt/conda/lib/python3.7/site-packages (from datasets) (2.25.1)\r\n",
      "Requirement already satisfied: multiprocess in /opt/conda/lib/python3.7/site-packages (from datasets) (0.70.11.1)\r\n",
      "Requirement already satisfied: dill in /opt/conda/lib/python3.7/site-packages (from datasets) (0.3.3)\r\n",
      "Requirement already satisfied: pyarrow>=0.17.1 in /opt/conda/lib/python3.7/site-packages (from datasets) (2.0.0)\r\n",
      "Requirement already satisfied: importlib-metadata in /opt/conda/lib/python3.7/site-packages (from datasets) (3.3.0)\r\n",
      "Requirement already satisfied: pandas in /opt/conda/lib/python3.7/site-packages (from datasets) (1.2.0)\r\n",
      "Requirement already satisfied: numpy>=1.17 in /opt/conda/lib/python3.7/site-packages (from datasets) (1.19.5)\r\n",
      "Requirement already satisfied: fsspec in /opt/conda/lib/python3.7/site-packages (from datasets) (0.8.5)\r\n",
      "Collecting xxhash\r\n",
      "  Downloading xxhash-2.0.0-cp37-cp37m-manylinux2010_x86_64.whl (243 kB)\r\n",
      "\u001b[K     |████████████████████████████████| 243 kB 23.4 MB/s \r\n",
      "\u001b[?25hCollecting huggingface-hub==0.0.2\r\n",
      "  Downloading huggingface_hub-0.0.2-py3-none-any.whl (24 kB)\r\n",
      "Collecting tqdm<4.50.0,>=4.27\r\n",
      "  Downloading tqdm-4.49.0-py2.py3-none-any.whl (69 kB)\r\n",
      "\u001b[K     |████████████████████████████████| 69 kB 4.6 MB/s \r\n",
      "\u001b[?25hRequirement already satisfied: filelock in /opt/conda/lib/python3.7/site-packages (from huggingface-hub==0.0.2->datasets) (3.0.12)\r\n",
      "Requirement already satisfied: idna<3,>=2.5 in /opt/conda/lib/python3.7/site-packages (from requests>=2.19.0->datasets) (2.10)\r\n",
      "Requirement already satisfied: urllib3<1.27,>=1.21.1 in /opt/conda/lib/python3.7/site-packages (from requests>=2.19.0->datasets) (1.26.2)\r\n",
      "Requirement already satisfied: chardet<5,>=3.0.2 in /opt/conda/lib/python3.7/site-packages (from requests>=2.19.0->datasets) (3.0.4)\r\n",
      "Requirement already satisfied: certifi>=2017.4.17 in /opt/conda/lib/python3.7/site-packages (from requests>=2.19.0->datasets) (2020.12.5)\r\n",
      "Requirement already satisfied: zipp>=0.5 in /opt/conda/lib/python3.7/site-packages (from importlib-metadata->datasets) (3.4.0)\r\n",
      "Requirement already satisfied: typing-extensions>=3.6.4 in /opt/conda/lib/python3.7/site-packages (from importlib-metadata->datasets) (3.7.4.3)\r\n",
      "Requirement already satisfied: python-dateutil>=2.7.3 in /opt/conda/lib/python3.7/site-packages (from pandas->datasets) (2.8.1)\r\n",
      "Requirement already satisfied: pytz>=2017.3 in /opt/conda/lib/python3.7/site-packages (from pandas->datasets) (2020.5)\r\n",
      "Requirement already satisfied: six>=1.5 in /opt/conda/lib/python3.7/site-packages (from python-dateutil>=2.7.3->pandas->datasets) (1.15.0)\r\n",
      "Installing collected packages: tqdm, xxhash, huggingface-hub, datasets\r\n",
      "  Attempting uninstall: tqdm\r\n",
      "    Found existing installation: tqdm 4.55.1\r\n",
      "    Uninstalling tqdm-4.55.1:\r\n",
      "      Successfully uninstalled tqdm-4.55.1\r\n",
      "Successfully installed datasets-1.4.1 huggingface-hub-0.0.2 tqdm-4.49.0 xxhash-2.0.0\r\n",
      "Collecting googletrans==3.1.0a0\r\n",
      "  Downloading googletrans-3.1.0a0.tar.gz (19 kB)\r\n",
      "Collecting httpx==0.13.3\r\n",
      "  Downloading httpx-0.13.3-py3-none-any.whl (55 kB)\r\n",
      "\u001b[K     |████████████████████████████████| 55 kB 1.1 MB/s \r\n",
      "\u001b[?25hCollecting sniffio\r\n",
      "  Downloading sniffio-1.2.0-py3-none-any.whl (10 kB)\r\n",
      "Collecting httpcore==0.9.*\r\n",
      "  Downloading httpcore-0.9.1-py3-none-any.whl (42 kB)\r\n",
      "\u001b[K     |████████████████████████████████| 42 kB 620 kB/s \r\n",
      "\u001b[?25hRequirement already satisfied: idna==2.* in /opt/conda/lib/python3.7/site-packages (from httpx==0.13.3->googletrans==3.1.0a0) (2.10)\r\n",
      "Collecting rfc3986<2,>=1.3\r\n",
      "  Downloading rfc3986-1.4.0-py2.py3-none-any.whl (31 kB)\r\n",
      "Requirement already satisfied: chardet==3.* in /opt/conda/lib/python3.7/site-packages (from httpx==0.13.3->googletrans==3.1.0a0) (3.0.4)\r\n",
      "Collecting hstspreload\r\n",
      "  Downloading hstspreload-2020.12.22-py3-none-any.whl (994 kB)\r\n",
      "\u001b[K     |████████████████████████████████| 994 kB 3.7 MB/s \r\n",
      "\u001b[?25hRequirement already satisfied: certifi in /opt/conda/lib/python3.7/site-packages (from httpx==0.13.3->googletrans==3.1.0a0) (2020.12.5)\r\n",
      "Collecting h2==3.*\r\n",
      "  Downloading h2-3.2.0-py2.py3-none-any.whl (65 kB)\r\n",
      "\u001b[K     |████████████████████████████████| 65 kB 1.8 MB/s \r\n",
      "\u001b[?25hCollecting h11<0.10,>=0.8\r\n",
      "  Downloading h11-0.9.0-py2.py3-none-any.whl (53 kB)\r\n",
      "\u001b[K     |████████████████████████████████| 53 kB 1.2 MB/s \r\n",
      "\u001b[?25hCollecting hyperframe<6,>=5.2.0\r\n",
      "  Downloading hyperframe-5.2.0-py2.py3-none-any.whl (12 kB)\r\n",
      "Collecting hpack<4,>=3.0\r\n",
      "  Downloading hpack-3.0.0-py2.py3-none-any.whl (38 kB)\r\n",
      "Building wheels for collected packages: googletrans\r\n",
      "  Building wheel for googletrans (setup.py) ... \u001b[?25l-\b \b\\\b \bdone\r\n",
      "\u001b[?25h  Created wheel for googletrans: filename=googletrans-3.1.0a0-py3-none-any.whl size=16368 sha256=1fe8e80490c0d89cbc6ceb2ec56801ed940177830e92010fe7d80c576bab6294\r\n",
      "  Stored in directory: /root/.cache/pip/wheels/0c/be/fe/93a6a40ffe386e16089e44dad9018ebab9dc4cb9eb7eab65ae\r\n",
      "Successfully built googletrans\r\n",
      "Installing collected packages: hyperframe, hpack, sniffio, h2, h11, rfc3986, httpcore, hstspreload, httpx, googletrans\r\n",
      "Successfully installed googletrans-3.1.0a0 h11-0.9.0 h2-3.2.0 hpack-3.0.0 hstspreload-2020.12.22 httpcore-0.9.1 httpx-0.13.3 hyperframe-5.2.0 rfc3986-1.4.0 sniffio-1.2.0\r\n"
     ]
    }
   ],
   "source": [
    "!pip install datasets #to load xnli and mnli datasets from huggingface library\n",
    "# !pip install google_trans_new\n",
    "!pip install googletrans==3.1.0a0"
   ]
  },
  {
   "cell_type": "code",
   "execution_count": 3,
   "metadata": {
    "_cell_guid": "b1076dfc-b9ad-4769-8c92-a6c4dae69d19",
    "_uuid": "8f2839f25d086af736a60e9eeb907d3b93b6e0e5",
    "execution": {
     "iopub.execute_input": "2021-03-09T19:00:00.549664Z",
     "iopub.status.busy": "2021-03-09T19:00:00.548270Z",
     "iopub.status.idle": "2021-03-09T19:00:00.580293Z",
     "shell.execute_reply": "2021-03-09T19:00:00.579688Z"
    },
    "papermill": {
     "duration": 0.104929,
     "end_time": "2021-03-09T19:00:00.580503",
     "exception": false,
     "start_time": "2021-03-09T19:00:00.475574",
     "status": "completed"
    },
    "tags": []
   },
   "outputs": [
    {
     "name": "stdout",
     "output_type": "stream",
     "text": [
      "/kaggle/input/train-val-split/train_df_sp.csv\n",
      "/kaggle/input/train-val-split/validation_df_sp.csv\n",
      "/kaggle/input/contradictory-my-dear-watson/sample_submission.csv\n",
      "/kaggle/input/contradictory-my-dear-watson/train.csv\n",
      "/kaggle/input/contradictory-my-dear-watson/test.csv\n",
      "/kaggle/input/back-translation-all/back_translations_tr.csv\n",
      "/kaggle/input/back-translation-all/back_translations_ur.csv\n",
      "/kaggle/input/back-translation-all/back_translations_bg.csv\n",
      "/kaggle/input/back-translation-all/back_translations_th.csv\n",
      "/kaggle/input/back-translation-all/back_translations_sw.csv\n",
      "/kaggle/input/back-translation-all/back_translations_vi.csv\n",
      "/kaggle/input/back-translation-all/back_translations_es2.csv\n",
      "/kaggle/input/back-translation-all/back_translations_de.csv\n",
      "/kaggle/input/back-translation-all/back_translations_fr.csv\n",
      "/kaggle/input/back-translation-all/back_translations_el.csv\n",
      "/kaggle/input/back-translation-all/back_translations_ru.csv\n",
      "/kaggle/input/back-translation-all/back_translations_zh-cn.csv\n",
      "/kaggle/input/back-translation-all/back_translations_ar.csv\n",
      "/kaggle/input/back-translation-all/back_translations_hi.csv\n",
      "/kaggle/input/back-translation-all/back_translations_en.csv\n",
      "/kaggle/input/back-translation-all/back_translations_es.csv\n"
     ]
    }
   ],
   "source": [
    "# This Python 3 environment comes with many helpful analytics libraries installed\n",
    "# It is defined by the kaggle/python Docker image: https://github.com/kaggle/docker-python\n",
    "# For example, here's several helpful packages to load\n",
    "\n",
    "import numpy as np # linear algebra\n",
    "import pandas as pd # data processing, CSV file I/O (e.g. pd.read_csv)\n",
    "\n",
    "# Input data files are available in the read-only \"../input/\" directory\n",
    "# For example, running this (by clicking run or pressing Shift+Enter) will list all files under the input directory\n",
    "\n",
    "\n",
    "import os\n",
    "import os.path\n",
    "from os import path\n",
    "for dirname, _, filenames in os.walk('/kaggle/input'):\n",
    "    for filename in filenames:\n",
    "        print(os.path.join(dirname, filename))\n",
    "\n",
    "# You can write up to 20GB to the current directory (/kaggle/working/) that gets preserved as output when you create a version using \"Save & Run All\" \n",
    "# You can also write temporary files to /kaggle/temp/, but they won't be saved outside of the current session"
   ]
  },
  {
   "cell_type": "code",
   "execution_count": 4,
   "metadata": {
    "execution": {
     "iopub.execute_input": "2021-03-09T19:00:00.712670Z",
     "iopub.status.busy": "2021-03-09T19:00:00.711691Z",
     "iopub.status.idle": "2021-03-09T19:00:00.716211Z",
     "shell.execute_reply": "2021-03-09T19:00:00.715501Z"
    },
    "papermill": {
     "duration": 0.075593,
     "end_time": "2021-03-09T19:00:00.716396",
     "exception": false,
     "start_time": "2021-03-09T19:00:00.640803",
     "status": "completed"
    },
    "tags": []
   },
   "outputs": [],
   "source": [
    "os.environ[\"WANDB_API_KEY\"] = \"0\" # to silence warning"
   ]
  },
  {
   "cell_type": "code",
   "execution_count": 5,
   "metadata": {
    "execution": {
     "iopub.execute_input": "2021-03-09T19:00:00.842038Z",
     "iopub.status.busy": "2021-03-09T19:00:00.841188Z",
     "iopub.status.idle": "2021-03-09T19:00:10.965296Z",
     "shell.execute_reply": "2021-03-09T19:00:10.965867Z"
    },
    "papermill": {
     "duration": 10.190368,
     "end_time": "2021-03-09T19:00:10.966050",
     "exception": false,
     "start_time": "2021-03-09T19:00:00.775682",
     "status": "completed"
    },
    "tags": []
   },
   "outputs": [],
   "source": [
    "from transformers import AutoTokenizer, AutoConfig, TFAutoModel    \n",
    "from transformers import (XLMRobertaConfig, XLMRobertaTokenizer, TFXLMRobertaModel)            \n",
    "\n",
    "import matplotlib.pyplot as plt\n",
    "import tensorflow as tf\n",
    "import tensorflow.keras.backend as K\n",
    "\n",
    "from tensorflow.keras.layers import Input, Dropout, Dense\n",
    "\n",
    "from sklearn.metrics import classification_report, f1_score, accuracy_score\n",
    "from sklearn.model_selection import train_test_split\n",
    "\n",
    "from datasets import load_dataset, list_datasets\n",
    "from tqdm import tqdm\n",
    "\n",
    "from googletrans import Translator\n",
    "# from google_trans_new import google_translator \n",
    "\n",
    "import time\n",
    "import glob\n",
    "\n",
    "# Resets all state generated by Keras\n",
    "K.clear_session()\n",
    "\n",
    "# For reproducibility\n",
    "np.random.seed(0)"
   ]
  },
  {
   "cell_type": "code",
   "execution_count": 6,
   "metadata": {
    "execution": {
     "iopub.execute_input": "2021-03-09T19:00:11.099969Z",
     "iopub.status.busy": "2021-03-09T19:00:11.085669Z",
     "iopub.status.idle": "2021-03-09T19:00:16.689610Z",
     "shell.execute_reply": "2021-03-09T19:00:16.689012Z"
    },
    "papermill": {
     "duration": 5.667103,
     "end_time": "2021-03-09T19:00:16.689758",
     "exception": false,
     "start_time": "2021-03-09T19:00:11.022655",
     "status": "completed"
    },
    "tags": []
   },
   "outputs": [
    {
     "name": "stdout",
     "output_type": "stream",
     "text": [
      "Found TPU:  grpc://10.0.0.2:8470\n",
      "Number of replicas: 8\n"
     ]
    }
   ],
   "source": [
    "try:\n",
    "    tpu = tf.distribute.cluster_resolver.TPUClusterResolver()\n",
    "    tf.config.experimental_connect_to_cluster(tpu)\n",
    "    tf.tpu.experimental.initialize_tpu_system(tpu)\n",
    "    strategy = tf.distribute.experimental.TPUStrategy(tpu)\n",
    "    print('Found TPU: ', tpu.master())\n",
    "except ValueError:\n",
    "    strategy = tf.distribute.get_strategy() # for CPU and single GPU\n",
    "print('Number of replicas:', strategy.num_replicas_in_sync)"
   ]
  },
  {
   "cell_type": "code",
   "execution_count": 7,
   "metadata": {
    "execution": {
     "iopub.execute_input": "2021-03-09T19:00:16.809239Z",
     "iopub.status.busy": "2021-03-09T19:00:16.808576Z",
     "iopub.status.idle": "2021-03-09T19:00:16.811600Z",
     "shell.execute_reply": "2021-03-09T19:00:16.810946Z"
    },
    "papermill": {
     "duration": 0.065598,
     "end_time": "2021-03-09T19:00:16.811741",
     "exception": false,
     "start_time": "2021-03-09T19:00:16.746143",
     "status": "completed"
    },
    "tags": []
   },
   "outputs": [],
   "source": [
    "# Configuration Settings\n",
    "EPOCHS = 5\n",
    "# BATCH_SIZE = 64\n",
    "BATCH_SIZE = 16 * strategy.num_replicas_in_sync\n",
    "MAX_LEN = 120\n",
    "PATIENCE = 1\n",
    "LEARNING_RATE = 1e-5\n",
    "LOAD_XNLI = False\n",
    "LOAD_MNLI = False\n",
    "BACK_TRANSLATE = True\n",
    "BT_DIR = '../input/back-translation-all' #directory containing the back translations of input training data\n",
    "train_df_sp_path = '../input/train-val-split/train_df_sp.csv'\n",
    "validation_df_sp_path = '../input/train-val-split/validation_df_sp.csv'"
   ]
  },
  {
   "cell_type": "code",
   "execution_count": 8,
   "metadata": {
    "execution": {
     "iopub.execute_input": "2021-03-09T19:00:16.931173Z",
     "iopub.status.busy": "2021-03-09T19:00:16.930536Z",
     "iopub.status.idle": "2021-03-09T19:00:17.195795Z",
     "shell.execute_reply": "2021-03-09T19:00:17.195133Z"
    },
    "papermill": {
     "duration": 0.327603,
     "end_time": "2021-03-09T19:00:17.195938",
     "exception": false,
     "start_time": "2021-03-09T19:00:16.868335",
     "status": "completed"
    },
    "tags": []
   },
   "outputs": [
    {
     "data": {
      "text/html": [
       "<div>\n",
       "<style scoped>\n",
       "    .dataframe tbody tr th:only-of-type {\n",
       "        vertical-align: middle;\n",
       "    }\n",
       "\n",
       "    .dataframe tbody tr th {\n",
       "        vertical-align: top;\n",
       "    }\n",
       "\n",
       "    .dataframe thead th {\n",
       "        text-align: right;\n",
       "    }\n",
       "</style>\n",
       "<table border=\"1\" class=\"dataframe\">\n",
       "  <thead>\n",
       "    <tr style=\"text-align: right;\">\n",
       "      <th></th>\n",
       "      <th>id</th>\n",
       "      <th>premise</th>\n",
       "      <th>hypothesis</th>\n",
       "      <th>lang_abv</th>\n",
       "      <th>language</th>\n",
       "      <th>label</th>\n",
       "    </tr>\n",
       "  </thead>\n",
       "  <tbody>\n",
       "    <tr>\n",
       "      <th>0</th>\n",
       "      <td>5130fd2cb5</td>\n",
       "      <td>and these comments were considered in formulat...</td>\n",
       "      <td>The rules developed in the interim were put to...</td>\n",
       "      <td>en</td>\n",
       "      <td>English</td>\n",
       "      <td>0</td>\n",
       "    </tr>\n",
       "    <tr>\n",
       "      <th>1</th>\n",
       "      <td>5b72532a0b</td>\n",
       "      <td>These are issues that we wrestle with in pract...</td>\n",
       "      <td>Practice groups are not permitted to work on t...</td>\n",
       "      <td>en</td>\n",
       "      <td>English</td>\n",
       "      <td>2</td>\n",
       "    </tr>\n",
       "    <tr>\n",
       "      <th>2</th>\n",
       "      <td>3931fbe82a</td>\n",
       "      <td>Des petites choses comme celles-là font une di...</td>\n",
       "      <td>J'essayais d'accomplir quelque chose.</td>\n",
       "      <td>fr</td>\n",
       "      <td>French</td>\n",
       "      <td>0</td>\n",
       "    </tr>\n",
       "    <tr>\n",
       "      <th>3</th>\n",
       "      <td>5622f0c60b</td>\n",
       "      <td>you know they can't really defend themselves l...</td>\n",
       "      <td>They can't defend themselves because of their ...</td>\n",
       "      <td>en</td>\n",
       "      <td>English</td>\n",
       "      <td>0</td>\n",
       "    </tr>\n",
       "    <tr>\n",
       "      <th>4</th>\n",
       "      <td>86aaa48b45</td>\n",
       "      <td>ในการเล่นบทบาทสมมุติก็เช่นกัน โอกาสที่จะได้แสด...</td>\n",
       "      <td>เด็กสามารถเห็นได้ว่าชาติพันธุ์แตกต่างกันอย่างไร</td>\n",
       "      <td>th</td>\n",
       "      <td>Thai</td>\n",
       "      <td>1</td>\n",
       "    </tr>\n",
       "  </tbody>\n",
       "</table>\n",
       "</div>"
      ],
      "text/plain": [
       "           id                                            premise  \\\n",
       "0  5130fd2cb5  and these comments were considered in formulat...   \n",
       "1  5b72532a0b  These are issues that we wrestle with in pract...   \n",
       "2  3931fbe82a  Des petites choses comme celles-là font une di...   \n",
       "3  5622f0c60b  you know they can't really defend themselves l...   \n",
       "4  86aaa48b45  ในการเล่นบทบาทสมมุติก็เช่นกัน โอกาสที่จะได้แสด...   \n",
       "\n",
       "                                          hypothesis lang_abv language  label  \n",
       "0  The rules developed in the interim were put to...       en  English      0  \n",
       "1  Practice groups are not permitted to work on t...       en  English      2  \n",
       "2              J'essayais d'accomplir quelque chose.       fr   French      0  \n",
       "3  They can't defend themselves because of their ...       en  English      0  \n",
       "4    เด็กสามารถเห็นได้ว่าชาติพันธุ์แตกต่างกันอย่างไร       th     Thai      1  "
      ]
     },
     "execution_count": 8,
     "metadata": {},
     "output_type": "execute_result"
    }
   ],
   "source": [
    "train_df = pd.read_csv(\"../input/contradictory-my-dear-watson/train.csv\")\n",
    "test_df = pd.read_csv(\"../input/contradictory-my-dear-watson/test.csv\")\n",
    "\n",
    "train_df.head()"
   ]
  },
  {
   "cell_type": "code",
   "execution_count": 9,
   "metadata": {
    "execution": {
     "iopub.execute_input": "2021-03-09T19:00:17.323531Z",
     "iopub.status.busy": "2021-03-09T19:00:17.322736Z",
     "iopub.status.idle": "2021-03-09T19:00:17.493826Z",
     "shell.execute_reply": "2021-03-09T19:00:17.492876Z"
    },
    "papermill": {
     "duration": 0.239465,
     "end_time": "2021-03-09T19:00:17.494028",
     "exception": false,
     "start_time": "2021-03-09T19:00:17.254563",
     "status": "completed"
    },
    "tags": []
   },
   "outputs": [
    {
     "name": "stdout",
     "output_type": "stream",
     "text": [
      "Loading training and validation split csv files...\n",
      "Training data shape after split: (9696, 6)\n",
      "Validation data shape after split: (2424, 6)\n"
     ]
    }
   ],
   "source": [
    "if train_df_sp_path and validation_df_sp_path:\n",
    "    # Use the same train-val split used to back translate input training data\n",
    "    print (\"Loading training and validation split csv files...\")\n",
    "    train_df = pd.read_csv(train_df_sp_path)\n",
    "    validation_df = pd.read_csv(validation_df_sp_path)\n",
    "else:\n",
    "    # Create train-val split data\n",
    "    print (\"Creating training and validation split csv files...\")\n",
    "    # Stratify ensures that each sub-set contains approximately the same percentage of samples of each target class as the original set.\n",
    "    train_df, validation_df = train_test_split(train_df, stratify=train_df.label.values, \n",
    "                                                      random_state=42, \n",
    "                                                      test_size=0.2, shuffle=True)\n",
    "\n",
    "\n",
    "    train_df.reset_index(drop=True, inplace=True)\n",
    "    validation_df.reset_index(drop=True, inplace=True)\n",
    "\n",
    "#     train_df.to_csv('train_df_sp.csv', index=False)\n",
    "#     validation_df.to_csv('validation_df_sp.csv', index=False)\n",
    "    \n",
    "    \n",
    "# check the number of rows and columns in the subsets after split\n",
    "print(\"Training data shape after split: {}\".format(train_df.shape))\n",
    "print(\"Validation data shape after split: {}\".format(validation_df.shape))"
   ]
  },
  {
   "cell_type": "code",
   "execution_count": 10,
   "metadata": {
    "execution": {
     "iopub.execute_input": "2021-03-09T19:00:17.628396Z",
     "iopub.status.busy": "2021-03-09T19:00:17.616900Z",
     "iopub.status.idle": "2021-03-09T19:00:17.632045Z",
     "shell.execute_reply": "2021-03-09T19:00:17.631364Z"
    },
    "papermill": {
     "duration": 0.079284,
     "end_time": "2021-03-09T19:00:17.632187",
     "exception": false,
     "start_time": "2021-03-09T19:00:17.552903",
     "status": "completed"
    },
    "tags": []
   },
   "outputs": [],
   "source": [
    "def process_xnli_data(test_df, all_keys=False):   \n",
    "    if all_keys:\n",
    "        split = 'train+validation+test'\n",
    "    else:\n",
    "        split = 'validation+test'\n",
    "    \n",
    "    print(\"Loading XNLI data...\")\n",
    "    \n",
    "    dataset = load_dataset('xnli', 'all_languages', split=split) #returns a Dataset object  \n",
    "    print(dataset)\n",
    "    \n",
    "    entries = []   \n",
    "    for entry in tqdm(dataset): \n",
    "        hypothesis_langs = entry['hypothesis']['language'] #list of 15 lang string values\n",
    "        hypothesis_values = entry['hypothesis']['translation'] #list of 15 hypothesis string values\n",
    "\n",
    "        premise_langs = list(entry['premise'].keys()) #list of 15 lang string values\n",
    "        premise_values = list(entry['premise'].values()) #list of 15 premise string values\n",
    "\n",
    "        labels = [entry['label']]*len(hypothesis_langs) #all 15 languages for the same example have same label \n",
    "\n",
    "        if premise_langs == hypothesis_langs: #the languages in premise and hypothesis are in same order\n",
    "#             values = list(zip(premise_values, hypothesis_values, hypothesis_langs, labels))\n",
    "            values = list(zip(premise_values, hypothesis_values, labels))\n",
    "            entries += values\n",
    "\n",
    "#     xnli_df = pd.DataFrame(entries, columns=['premise', 'hypothesis', 'lang_abv', 'label']) #create dataframe for each key\n",
    "    xnli_df = pd.DataFrame(entries, columns=['premise', 'hypothesis', 'label']) #create dataframe for each key\n",
    "    \n",
    "    # Get the number of missing data points per column\n",
    "    missing_values_xnli = xnli_df.isnull().sum() \n",
    "\n",
    "    print(\"Number of missing data points per column in XNLI corpus:\")\n",
    "    print (missing_values_xnli)\n",
    "\n",
    "    # Drop the missing value rows\n",
    "    xnli_df.dropna(axis=0, inplace=True)\n",
    "    print(\"Total number of data examples in XNLI corpus after dropping NA values: {}\".format(xnli_df.shape[0]))\n",
    "    \n",
    "    ################## Delete duplicate rows between test_df and xnli_df in xnli corpus #########################\n",
    "    xnli_df = xnli_df.drop_duplicates() #drop duplicate rows\n",
    "    print('Total number of data examples in XNLI corpus after dropping duplicate values: {}'.format(xnli_df.shape[0]))\n",
    "    \n",
    "    print('Test data shape: {}'.format(test_df.shape))\n",
    "    test_df = test_df.drop_duplicates() #drop duplicate rows\n",
    "    print('Test data shape after dropping duplicate rows: {}'.format(test_df.shape))\n",
    "\n",
    "    df_merge = pd.merge(xnli_df, test_df, on=['premise','hypothesis'], how='inner')\n",
    "    xnli_df = xnli_df.append(df_merge, ignore_index=True) \n",
    "\n",
    "    xnli_df['duplicated'] = xnli_df.duplicated(subset=['premise','hypothesis'], keep=False) # keep=False marks the duplicated row with a True\n",
    "    xnli_df = xnli_df[~xnli_df['duplicated']] # selects only rows which are not duplicated.\n",
    "    \n",
    "    xnli_df.drop(['duplicated', 'id', 'lang_abv', 'language'], axis = 1, inplace=True) # remove following columns\n",
    "    ################## Delete duplicate rows between test_df and xnli_df in xnli corpus #########################\n",
    "    \n",
    "    print(\"XNLI corpus shape: {}\".format(xnli_df.shape))\n",
    "    \n",
    "    del dataset #free up space\n",
    "    \n",
    "    return xnli_df"
   ]
  },
  {
   "cell_type": "code",
   "execution_count": 11,
   "metadata": {
    "execution": {
     "iopub.execute_input": "2021-03-09T19:00:17.760336Z",
     "iopub.status.busy": "2021-03-09T19:00:17.759384Z",
     "iopub.status.idle": "2021-03-09T19:00:17.762775Z",
     "shell.execute_reply": "2021-03-09T19:00:17.763268Z"
    },
    "papermill": {
     "duration": 0.07238,
     "end_time": "2021-03-09T19:00:17.763474",
     "exception": false,
     "start_time": "2021-03-09T19:00:17.691094",
     "status": "completed"
    },
    "tags": []
   },
   "outputs": [],
   "source": [
    "def process_mnli_data(validation=False):\n",
    "    if validation:\n",
    "        keys = ['train', 'validation_matched', 'validation_mismatched']\n",
    "    else:\n",
    "        keys = ['train']\n",
    "    \n",
    "    dataset = load_dataset('glue', name='mnli') #returns a DatasetDict object\n",
    "    print(dataset)\n",
    "    \n",
    "    df_dict = {}\n",
    "    \n",
    "    for key in tqdm(keys):\n",
    "        print(\"Processing MNLI {} data...\".format(key))\n",
    "        \n",
    "        hypothesis = dataset[key]['hypothesis']\n",
    "        premise = dataset[key]['premise']\n",
    "        labels = dataset[key]['label']\n",
    "        \n",
    "        entries = list(zip(premise, hypothesis, labels))\n",
    "        \n",
    "        df = pd.DataFrame(entries, columns=['premise', 'hypothesis', 'label']) #create dataframe for each key\n",
    "        df_dict[key] = df\n",
    "        \n",
    "    if validation:\n",
    "        mnli_df = pd.concat([df_dict['train'], df_dict['validation_matched'], df_dict['validation_mismatched']], ignore_index=True)\n",
    "    else:\n",
    "        mnli_df = df_dict['train']\n",
    "    \n",
    "    # Get the number of missing data points per column\n",
    "    missing_values_mnli = mnli_df.isnull().sum() \n",
    "\n",
    "    print(\"Number of missing data points per column in MNLI corpus:\")\n",
    "    print (missing_values_mnli)\n",
    "\n",
    "    # Drop the missing value rows from training set\n",
    "    mnli_df.dropna(axis=0, inplace=True)\n",
    "    print(\"Total number of data examples in MNLI corpus after dropping NA values: {}\\n\".format(mnli_df.shape[0]))\n",
    "    \n",
    "    del dataset #free up space\n",
    "    \n",
    "    return mnli_df"
   ]
  },
  {
   "cell_type": "code",
   "execution_count": 12,
   "metadata": {
    "execution": {
     "iopub.execute_input": "2021-03-09T19:00:17.892039Z",
     "iopub.status.busy": "2021-03-09T19:00:17.891224Z",
     "iopub.status.idle": "2021-03-09T19:00:17.894753Z",
     "shell.execute_reply": "2021-03-09T19:00:17.894191Z"
    },
    "papermill": {
     "duration": 0.075439,
     "end_time": "2021-03-09T19:00:17.894895",
     "exception": false,
     "start_time": "2021-03-09T19:00:17.819456",
     "status": "completed"
    },
    "tags": []
   },
   "outputs": [],
   "source": [
    "def back_translate(train_df, target_lang='fr', sample=True, num_samples_per_lang=1000):\n",
    "    if sample: #sample input training data to back translate\n",
    "        train_df = train_df.groupby('language', group_keys=False).apply(lambda x: x.sample(min(len(x), num_samples_per_lang))).reset_index(drop=True)  \n",
    "\n",
    "    df_list = []\n",
    "    limit_before_timeout = 100\n",
    "    timeout = 5\n",
    "    \n",
    "    translator = Translator() \n",
    "    \n",
    "    # Add functions to back translate input sentences\n",
    "    def target_translate(x, target_lang):\n",
    "        translation = translator.translate(x, dest=target_lang)\n",
    "        return translation.text\n",
    "    def source_translate(x, source_lang):\n",
    "        translation = translator.translate(x, dest=source_lang) \n",
    "        return translation.text \n",
    "    \n",
    "    for i in tqdm(range(len(train_df))):\n",
    "        entry = train_df.loc[[i]]\n",
    "        source_lang = entry.lang_abv.values.tolist()[0]\n",
    "        if source_lang == 'zh':\n",
    "            #print(googletrans.LANGUAGES) \n",
    "            source_lang = 'zh-cn' #'zh' not in googletrans.LANGUAGES        \n",
    "        if (i!=0) and (i%limit_before_timeout == 0): #apply timeout after every 100 iterations \n",
    "            print('Iteration {} of {}'.format(i, len(train_df)))\n",
    "            time.sleep(timeout)      \n",
    "        # Back translate premise sentence\n",
    "        entry['premise'] = entry['premise'].apply(lambda x: target_translate(x, target_lang))\n",
    "#         time.sleep(0.2)\n",
    "        entry['premise'] = entry['premise'].apply(lambda x: source_translate(x, source_lang))\n",
    "#         time.sleep(0.2)       \n",
    "        # Back translate hypothesis sentence\n",
    "        entry['hypothesis'] = entry['hypothesis'].apply(lambda x: target_translate(x, target_lang))\n",
    "#         time.sleep(0.2)\n",
    "        entry['hypothesis'] = entry['hypothesis'].apply(lambda x: source_translate(x, source_lang))\n",
    "#         time.sleep(0.2)\n",
    "        df_list.append(entry)\n",
    "    \n",
    "    train_bt = pd.concat(df_list, ignore_index=True)\n",
    "    print(\"Shape of back-translated training data: {}\".format(train_bt.shape))\n",
    "    return train_bt"
   ]
  },
  {
   "cell_type": "code",
   "execution_count": 13,
   "metadata": {
    "execution": {
     "iopub.execute_input": "2021-03-09T19:00:18.020812Z",
     "iopub.status.busy": "2021-03-09T19:00:18.019951Z",
     "iopub.status.idle": "2021-03-09T19:00:19.484888Z",
     "shell.execute_reply": "2021-03-09T19:00:19.484157Z"
    },
    "papermill": {
     "duration": 1.5339,
     "end_time": "2021-03-09T19:00:19.485080",
     "exception": false,
     "start_time": "2021-03-09T19:00:17.951180",
     "status": "completed"
    },
    "tags": []
   },
   "outputs": [
    {
     "name": "stdout",
     "output_type": "stream",
     "text": [
      "Shape of back-translated training data: (9661, 6)\n",
      "Augmented data shape before removing duplicate rows: (19357, 3)\n",
      "Augmented data shape after removing duplicate rows: (9901, 3)\n"
     ]
    },
    {
     "data": {
      "text/html": [
       "<div>\n",
       "<style scoped>\n",
       "    .dataframe tbody tr th:only-of-type {\n",
       "        vertical-align: middle;\n",
       "    }\n",
       "\n",
       "    .dataframe tbody tr th {\n",
       "        vertical-align: top;\n",
       "    }\n",
       "\n",
       "    .dataframe thead th {\n",
       "        text-align: right;\n",
       "    }\n",
       "</style>\n",
       "<table border=\"1\" class=\"dataframe\">\n",
       "  <thead>\n",
       "    <tr style=\"text-align: right;\">\n",
       "      <th></th>\n",
       "      <th>premise</th>\n",
       "      <th>hypothesis</th>\n",
       "      <th>label</th>\n",
       "    </tr>\n",
       "  </thead>\n",
       "  <tbody>\n",
       "    <tr>\n",
       "      <th>0</th>\n",
       "      <td>yeah well the jury that originally sentenced h...</td>\n",
       "      <td>The jury acquitted him on those charges.</td>\n",
       "      <td>2</td>\n",
       "    </tr>\n",
       "    <tr>\n",
       "      <th>1</th>\n",
       "      <td>Fotografía de Bill Clinton en la pizarra de la...</td>\n",
       "      <td>Fotografía de Bill Clinton en la tabla de cont...</td>\n",
       "      <td>2</td>\n",
       "    </tr>\n",
       "    <tr>\n",
       "      <th>2</th>\n",
       "      <td>啊！那可能是哪条路呢？</td>\n",
       "      <td>提问者很着急，需要马上知道要走的路线。</td>\n",
       "      <td>1</td>\n",
       "    </tr>\n",
       "    <tr>\n",
       "      <th>3</th>\n",
       "      <td>they ought to take all them little misdemeanor...</td>\n",
       "      <td>they should let go all non-violent offenders</td>\n",
       "      <td>1</td>\n",
       "    </tr>\n",
       "    <tr>\n",
       "      <th>4</th>\n",
       "      <td>With the gap still of landslide proportions in...</td>\n",
       "      <td>The pundits did not consider them to be a cont...</td>\n",
       "      <td>0</td>\n",
       "    </tr>\n",
       "    <tr>\n",
       "      <th>...</th>\n",
       "      <td>...</td>\n",
       "      <td>...</td>\n",
       "      <td>...</td>\n",
       "    </tr>\n",
       "    <tr>\n",
       "      <th>95</th>\n",
       "      <td>Leather Wares</td>\n",
       "      <td>The wares are made of cotton and coarse fabric.</td>\n",
       "      <td>2</td>\n",
       "    </tr>\n",
       "    <tr>\n",
       "      <th>96</th>\n",
       "      <td>He caught his breath.</td>\n",
       "      <td>His breath would not come.</td>\n",
       "      <td>2</td>\n",
       "    </tr>\n",
       "    <tr>\n",
       "      <th>97</th>\n",
       "      <td>During his disastrous campaign in Russia, he f...</td>\n",
       "      <td>Russia has been successfully invaded hundreds ...</td>\n",
       "      <td>2</td>\n",
       "    </tr>\n",
       "    <tr>\n",
       "      <th>98</th>\n",
       "      <td>not only that but they don't pay the money either</td>\n",
       "      <td>They've paid out their life savings.</td>\n",
       "      <td>2</td>\n",
       "    </tr>\n",
       "    <tr>\n",
       "      <th>99</th>\n",
       "      <td>Though he abstains from showbizzy campaigning,...</td>\n",
       "      <td>He is capable to market his virtue, exploiting...</td>\n",
       "      <td>1</td>\n",
       "    </tr>\n",
       "  </tbody>\n",
       "</table>\n",
       "<p>100 rows × 3 columns</p>\n",
       "</div>"
      ],
      "text/plain": [
       "                                              premise  \\\n",
       "0   yeah well the jury that originally sentenced h...   \n",
       "1   Fotografía de Bill Clinton en la pizarra de la...   \n",
       "2                                         啊！那可能是哪条路呢？   \n",
       "3   they ought to take all them little misdemeanor...   \n",
       "4   With the gap still of landslide proportions in...   \n",
       "..                                                ...   \n",
       "95                                      Leather Wares   \n",
       "96                              He caught his breath.   \n",
       "97  During his disastrous campaign in Russia, he f...   \n",
       "98  not only that but they don't pay the money either   \n",
       "99  Though he abstains from showbizzy campaigning,...   \n",
       "\n",
       "                                           hypothesis  label  \n",
       "0            The jury acquitted him on those charges.      2  \n",
       "1   Fotografía de Bill Clinton en la tabla de cont...      2  \n",
       "2                                 提问者很着急，需要马上知道要走的路线。      1  \n",
       "3        they should let go all non-violent offenders      1  \n",
       "4   The pundits did not consider them to be a cont...      0  \n",
       "..                                                ...    ...  \n",
       "95    The wares are made of cotton and coarse fabric.      2  \n",
       "96                         His breath would not come.      2  \n",
       "97  Russia has been successfully invaded hundreds ...      2  \n",
       "98               They've paid out their life savings.      2  \n",
       "99  He is capable to market his virtue, exploiting...      1  \n",
       "\n",
       "[100 rows x 3 columns]"
      ]
     },
     "execution_count": 13,
     "metadata": {},
     "output_type": "execute_result"
    }
   ],
   "source": [
    "def augment_data(df, use_xnli=True, use_mnli=True, use_bt=True, bt_dir=''):\n",
    "    df_list = []  \n",
    "    if use_bt:\n",
    "        if path.isdir(bt_dir):\n",
    "            files = glob.glob(bt_dir+'/*.csv')\n",
    "            bt_list = []\n",
    "            for filename in files:\n",
    "                bt_list.append(pd.read_csv(filename))\n",
    "            bt_df = pd.concat(bt_list, ignore_index=True)\n",
    "#             print(\"Shape of back-translated training data before: {}\".format(bt_df.shape))\n",
    "            bt_df.drop_duplicates(inplace=True) #drop duplicate rows        \n",
    "            print(\"Shape of back-translated training data: {}\".format(bt_df.shape))\n",
    "            bt_df.to_csv('back_translation_all.csv', index=False)\n",
    "        else:\n",
    "            bt_df = back_translate(df)\n",
    "        bt_df = bt_df.drop(['id', 'lang_abv', 'language'], axis=1)\n",
    "        df_list.append(bt_df)\n",
    "        del bt_df #free up space \n",
    "    if use_xnli:\n",
    "        xnli_df = process_xnli_data(test_df, all_keys=False)\n",
    "        df_list.append(xnli_df)\n",
    "        del xnli_df #free up space \n",
    "    if use_mnli:\n",
    "        mnli_df = process_mnli_data(validation=True)\n",
    "        df_list.append(mnli_df)\n",
    "        del mnli_df #free up space\n",
    "        \n",
    "    train_df = df.drop(['id', 'lang_abv', 'language'], axis=1)\n",
    "    \n",
    "    if len(df_list) > 0: #augment data\n",
    "        augmented_df = pd.concat(df_list, ignore_index=True)\n",
    "        train_df = train_df.append(augmented_df, ignore_index=True) \n",
    "        \n",
    "    train_df = train_df.sample(frac=1).reset_index(drop=True) #shuffle data\n",
    "    print(\"Augmented data shape before removing duplicate rows: {}\".format(train_df.shape))\n",
    "    train_df.drop_duplicates(inplace=True) #drop duplicate rows\n",
    "    print(\"Augmented data shape after removing duplicate rows: {}\".format(train_df.shape))\n",
    "    return train_df\n",
    "\n",
    "\n",
    "\n",
    "\n",
    "train_df = augment_data(train_df, LOAD_XNLI, LOAD_MNLI, BACK_TRANSLATE, BT_DIR) \n",
    "train_df.head(100)"
   ]
  },
  {
   "cell_type": "code",
   "execution_count": 14,
   "metadata": {
    "execution": {
     "iopub.execute_input": "2021-03-09T19:00:19.607286Z",
     "iopub.status.busy": "2021-03-09T19:00:19.606594Z",
     "iopub.status.idle": "2021-03-09T19:00:19.610493Z",
     "shell.execute_reply": "2021-03-09T19:00:19.609632Z"
    },
    "papermill": {
     "duration": 0.06538,
     "end_time": "2021-03-09T19:00:19.610701",
     "exception": false,
     "start_time": "2021-03-09T19:00:19.545321",
     "status": "completed"
    },
    "tags": []
   },
   "outputs": [
    {
     "name": "stdout",
     "output_type": "stream",
     "text": [
      "Augmented train data shape: (9901, 3)\n"
     ]
    }
   ],
   "source": [
    "# check the number of rows and columns in the augmented train data\n",
    "print(\"Augmented train data shape: {}\".format(train_df.shape))"
   ]
  },
  {
   "cell_type": "code",
   "execution_count": 15,
   "metadata": {
    "execution": {
     "iopub.execute_input": "2021-03-09T19:00:19.758159Z",
     "iopub.status.busy": "2021-03-09T19:00:19.757438Z",
     "iopub.status.idle": "2021-03-09T19:00:19.898230Z",
     "shell.execute_reply": "2021-03-09T19:00:19.898835Z"
    },
    "papermill": {
     "duration": 0.22935,
     "end_time": "2021-03-09T19:00:19.899048",
     "exception": false,
     "start_time": "2021-03-09T19:00:19.669698",
     "status": "completed"
    },
    "tags": []
   },
   "outputs": [
    {
     "data": {
      "image/png": "[encoded data removed]",
      "text/plain": [
       "<Figure size 720x720 with 1 Axes>"
      ]
     },
     "metadata": {},
     "output_type": "display_data"
    }
   ],
   "source": [
    "# check distribution of target classes in the augmented data\n",
    "counts = train_df['label'].value_counts()\n",
    "\n",
    "class_labels = ['Entailment', 'Neutral', 'Contradiction']\n",
    "\n",
    "counts_per_class = [counts[0], counts[1], counts[2]]\n",
    "\n",
    "plt.figure(figsize = (10,10))\n",
    "plt.pie(counts_per_class, labels = class_labels, autopct = '%1.1f%%')\n",
    "plt.title(\"Distribution of target classes in the augmented data\")\n",
    "plt.show()"
   ]
  },
  {
   "cell_type": "code",
   "execution_count": 16,
   "metadata": {
    "execution": {
     "iopub.execute_input": "2021-03-09T19:00:20.025607Z",
     "iopub.status.busy": "2021-03-09T19:00:20.024928Z",
     "iopub.status.idle": "2021-03-09T19:00:20.028040Z",
     "shell.execute_reply": "2021-03-09T19:00:20.027347Z"
    },
    "papermill": {
     "duration": 0.06872,
     "end_time": "2021-03-09T19:00:20.028180",
     "exception": false,
     "start_time": "2021-03-09T19:00:19.959460",
     "status": "completed"
    },
    "tags": []
   },
   "outputs": [],
   "source": [
    "PRETRAINED_MODEL_TYPES = {\n",
    "    'xlmroberta': (XLMRobertaConfig, TFXLMRobertaModel, XLMRobertaTokenizer, 'jplu/tf-xlm-roberta-large')\n",
    "}\n",
    "\n",
    "config_class, model_class, tokenizer_class, model_name = PRETRAINED_MODEL_TYPES['xlmroberta']"
   ]
  },
  {
   "cell_type": "code",
   "execution_count": 17,
   "metadata": {
    "execution": {
     "iopub.execute_input": "2021-03-09T19:00:20.151602Z",
     "iopub.status.busy": "2021-03-09T19:00:20.150903Z",
     "iopub.status.idle": "2021-03-09T19:00:24.443454Z",
     "shell.execute_reply": "2021-03-09T19:00:24.442663Z"
    },
    "papermill": {
     "duration": 4.356414,
     "end_time": "2021-03-09T19:00:24.443629",
     "exception": false,
     "start_time": "2021-03-09T19:00:20.087215",
     "status": "completed"
    },
    "tags": []
   },
   "outputs": [
    {
     "data": {
      "application/vnd.jupyter.widget-view+json": {
       "model_id": "9e3e62843b4746b8b7cf1c09104aee46",
       "version_major": 2,
       "version_minor": 0
      },
      "text/plain": [
       "HBox(children=(FloatProgress(value=0.0, description='Downloading', max=513.0, style=ProgressStyle(description_…"
      ]
     },
     "metadata": {},
     "output_type": "display_data"
    },
    {
     "name": "stdout",
     "output_type": "stream",
     "text": [
      "\n"
     ]
    },
    {
     "data": {
      "application/vnd.jupyter.widget-view+json": {
       "model_id": "788a0920ec0640fd9090919c3f8942a7",
       "version_major": 2,
       "version_minor": 0
      },
      "text/plain": [
       "HBox(children=(FloatProgress(value=0.0, description='Downloading', max=5069051.0, style=ProgressStyle(descript…"
      ]
     },
     "metadata": {},
     "output_type": "display_data"
    },
    {
     "name": "stdout",
     "output_type": "stream",
     "text": [
      "\n"
     ]
    },
    {
     "data": {
      "text/plain": [
       "PreTrainedTokenizerFast(name_or_path='jplu/tf-xlm-roberta-large', vocab_size=250002, model_max_len=1000000000000000019884624838656, is_fast=True, padding_side='right', special_tokens={'bos_token': '<s>', 'eos_token': '</s>', 'unk_token': '<unk>', 'sep_token': '</s>', 'pad_token': '<pad>', 'cls_token': '<s>', 'mask_token': AddedToken(\"<mask>\", rstrip=False, lstrip=True, single_word=False, normalized=True)})"
      ]
     },
     "execution_count": 17,
     "metadata": {},
     "output_type": "execute_result"
    }
   ],
   "source": [
    "# Download vocabulary from huggingface.co and cache.\n",
    "# tokenizer = tokenizer_class.from_pretrained(model_name) \n",
    "tokenizer = AutoTokenizer.from_pretrained(model_name) #fast tokenizer\n",
    "\n",
    "tokenizer"
   ]
  },
  {
   "cell_type": "code",
   "execution_count": 18,
   "metadata": {
    "execution": {
     "iopub.execute_input": "2021-03-09T19:00:24.578733Z",
     "iopub.status.busy": "2021-03-09T19:00:24.577985Z",
     "iopub.status.idle": "2021-03-09T19:00:24.583499Z",
     "shell.execute_reply": "2021-03-09T19:00:24.582876Z"
    },
    "papermill": {
     "duration": 0.074686,
     "end_time": "2021-03-09T19:00:24.583668",
     "exception": false,
     "start_time": "2021-03-09T19:00:24.508982",
     "status": "completed"
    },
    "tags": []
   },
   "outputs": [
    {
     "data": {
      "text/plain": [
       "250002"
      ]
     },
     "execution_count": 18,
     "metadata": {},
     "output_type": "execute_result"
    }
   ],
   "source": [
    "tokenizer.vocab_size"
   ]
  },
  {
   "cell_type": "code",
   "execution_count": 19,
   "metadata": {
    "execution": {
     "iopub.execute_input": "2021-03-09T19:00:24.728056Z",
     "iopub.status.busy": "2021-03-09T19:00:24.726657Z",
     "iopub.status.idle": "2021-03-09T19:00:24.729709Z",
     "shell.execute_reply": "2021-03-09T19:00:24.730233Z"
    },
    "papermill": {
     "duration": 0.076608,
     "end_time": "2021-03-09T19:00:24.730443",
     "exception": false,
     "start_time": "2021-03-09T19:00:24.653835",
     "status": "completed"
    },
    "tags": []
   },
   "outputs": [],
   "source": [
    "def encode(df, tokenizer, max_len=50):\n",
    "    \n",
    "    pairs = df[['premise','hypothesis']].values.tolist() #shape=[num_examples]\n",
    "    \n",
    "    print (\"Encoding...\")\n",
    "    encoded_dict = tokenizer.batch_encode_plus(pairs, max_length=max_len, padding=True, truncation=True, \n",
    "                                               add_special_tokens=True, return_attention_mask=True)\n",
    "    print (\"Complete\")\n",
    "    \n",
    "    input_word_ids = tf.convert_to_tensor(encoded_dict['input_ids'], dtype=tf.int32) #shape=[num_examples, max_len])\n",
    "    input_mask = tf.convert_to_tensor(encoded_dict['attention_mask'], dtype=tf.int32) #shape=[num_examples, max_len]\n",
    "    \n",
    "    inputs = {\n",
    "        'input_word_ids': input_word_ids,\n",
    "        'input_mask': input_mask}    \n",
    "    \n",
    "    return inputs"
   ]
  },
  {
   "cell_type": "code",
   "execution_count": 20,
   "metadata": {
    "execution": {
     "iopub.execute_input": "2021-03-09T19:00:24.861286Z",
     "iopub.status.busy": "2021-03-09T19:00:24.860584Z",
     "iopub.status.idle": "2021-03-09T19:00:27.436941Z",
     "shell.execute_reply": "2021-03-09T19:00:27.437658Z"
    },
    "papermill": {
     "duration": 2.643653,
     "end_time": "2021-03-09T19:00:27.437849",
     "exception": false,
     "start_time": "2021-03-09T19:00:24.794196",
     "status": "completed"
    },
    "tags": []
   },
   "outputs": [
    {
     "name": "stdout",
     "output_type": "stream",
     "text": [
      "Encoding...\n",
      "Complete\n"
     ]
    }
   ],
   "source": [
    "train_input = encode(train_df, tokenizer=tokenizer, max_len=MAX_LEN)"
   ]
  },
  {
   "cell_type": "code",
   "execution_count": 21,
   "metadata": {
    "execution": {
     "iopub.execute_input": "2021-03-09T19:00:27.568132Z",
     "iopub.status.busy": "2021-03-09T19:00:27.567479Z",
     "iopub.status.idle": "2021-03-09T19:00:27.573027Z",
     "shell.execute_reply": "2021-03-09T19:00:27.573640Z"
    },
    "papermill": {
     "duration": 0.07283,
     "end_time": "2021-03-09T19:00:27.573818",
     "exception": false,
     "start_time": "2021-03-09T19:00:27.500988",
     "status": "completed"
    },
    "tags": []
   },
   "outputs": [
    {
     "data": {
      "text/plain": [
       "TensorShape([9901, 120])"
      ]
     },
     "execution_count": 21,
     "metadata": {},
     "output_type": "execute_result"
    }
   ],
   "source": [
    "train_input['input_word_ids'].shape #[num_examples, max_len]\n",
    "train_input['input_mask'].shape #[num_examples, max_len]"
   ]
  },
  {
   "cell_type": "code",
   "execution_count": 22,
   "metadata": {
    "execution": {
     "iopub.execute_input": "2021-03-09T19:00:27.701647Z",
     "iopub.status.busy": "2021-03-09T19:00:27.700903Z",
     "iopub.status.idle": "2021-03-09T19:00:28.255158Z",
     "shell.execute_reply": "2021-03-09T19:00:28.254426Z"
    },
    "papermill": {
     "duration": 0.620442,
     "end_time": "2021-03-09T19:00:28.255315",
     "exception": false,
     "start_time": "2021-03-09T19:00:27.634873",
     "status": "completed"
    },
    "tags": []
   },
   "outputs": [
    {
     "name": "stdout",
     "output_type": "stream",
     "text": [
      "Encoding...\n",
      "Complete\n"
     ]
    }
   ],
   "source": [
    "validation_input = encode(validation_df, tokenizer=tokenizer, max_len=MAX_LEN)"
   ]
  },
  {
   "cell_type": "code",
   "execution_count": 23,
   "metadata": {
    "execution": {
     "iopub.execute_input": "2021-03-09T19:00:28.388215Z",
     "iopub.status.busy": "2021-03-09T19:00:28.387524Z",
     "iopub.status.idle": "2021-03-09T19:00:28.390948Z",
     "shell.execute_reply": "2021-03-09T19:00:28.391442Z"
    },
    "papermill": {
     "duration": 0.072719,
     "end_time": "2021-03-09T19:00:28.391641",
     "exception": false,
     "start_time": "2021-03-09T19:00:28.318922",
     "status": "completed"
    },
    "tags": []
   },
   "outputs": [
    {
     "data": {
      "text/plain": [
       "TensorShape([2424, 120])"
      ]
     },
     "execution_count": 23,
     "metadata": {},
     "output_type": "execute_result"
    }
   ],
   "source": [
    "validation_input['input_word_ids'].shape #[num_examples, max_len]\n",
    "validation_input['input_mask'].shape #[num_examples, max_len]"
   ]
  },
  {
   "cell_type": "code",
   "execution_count": 24,
   "metadata": {
    "execution": {
     "iopub.execute_input": "2021-03-09T19:00:28.520619Z",
     "iopub.status.busy": "2021-03-09T19:00:28.519897Z",
     "iopub.status.idle": "2021-03-09T19:00:28.530199Z",
     "shell.execute_reply": "2021-03-09T19:00:28.529471Z"
    },
    "papermill": {
     "duration": 0.075314,
     "end_time": "2021-03-09T19:00:28.530389",
     "exception": false,
     "start_time": "2021-03-09T19:00:28.455075",
     "status": "completed"
    },
    "tags": []
   },
   "outputs": [],
   "source": [
    "# from keras.layers.normalization import BatchNormalization\n",
    "\n",
    "def build_model(model_name, max_len=50):\n",
    "    \n",
    "    tf.random.set_seed(1234)\n",
    "    \n",
    "    input_word_ids = Input(shape=(max_len,), dtype=tf.int32, name=\"input_word_ids\")\n",
    "    input_mask = Input(shape=(max_len,), dtype=tf.int32, name=\"input_mask\")\n",
    "    \n",
    "    # The bare XLM-RoBERTa Model transformer outputting raw hidden-states without any specific head on top.\n",
    "    base_model = model_class.from_pretrained(model_name)\n",
    "#     base_model = TFAutoModel.from_pretrained(model_name)\n",
    "    \n",
    "#     # Extract pretrained embedding vectors\n",
    "#     embedding = base_model([input_word_ids, input_mask])[0] # shape=(batch_size, max_len, embed_size)\n",
    "#     # We pass the embedding vectors of only the 'cls' token (at index=0) to the dense layer\n",
    "#     sequence_output = embedding[:,0,:] #shape=(batch_size, embed_size)\n",
    "\n",
    "    \n",
    "    ### pooler_output contains the hidden representation of just the ‘[CLS]’ token after additionally being passed to a fully connected layer with tanh activation function.\n",
    "    ### output = base_model([input_word_ids, input_mask], training=False) # output from xlmroberta model\n",
    "    output = base_model([input_word_ids, input_mask]) # output from xlmroberta model\n",
    "    sequence_output = output.pooler_output #shape: [batch_size, embed_size]\n",
    "    ### sequence_output = Dropout(0.3)(sequence_output) #add dropout\n",
    "    \n",
    "#     # Add an LSTM layer to get sentence embeddings\n",
    "#     sequence_output = tf.keras.layers.Bidirectional(tf.keras.layers.LSTM(150, dropout=0.3, recurrent_dropout=0.3))(embedding) # shape=(batch_size, output_size) \n",
    "# #     sequence_output = tf.keras.layers.Bidirectional(tf.keras.layers.GRU(150, dropout=0.3, recurrent_dropout=0.3))(embedding) # shape=(batch_size, output_size) \n",
    "    \n",
    "#     # Add a fully-connected layer\n",
    "#     sequence_output = tf.keras.layers.Dense(300, activation=\"relu\")(sequence_output)\n",
    "#     sequence_output = BatchNormalization()(sequence_output)\n",
    "#     sequence_output = tf.keras.layers.Dropout(0.3)(sequence_output) \n",
    "    \n",
    "    # Add a classification layer\n",
    "    output = Dense(units=3, activation=\"softmax\", name='output')(sequence_output)\n",
    "    \n",
    "    model = tf.keras.Model(inputs=[input_word_ids, input_mask], outputs=output)\n",
    "    model.compile(tf.keras.optimizers.Adam(lr=LEARNING_RATE), loss='sparse_categorical_crossentropy', metrics=['accuracy'])\n",
    "    \n",
    "    return model"
   ]
  },
  {
   "cell_type": "code",
   "execution_count": 25,
   "metadata": {
    "execution": {
     "iopub.execute_input": "2021-03-09T19:00:28.664963Z",
     "iopub.status.busy": "2021-03-09T19:00:28.664190Z",
     "iopub.status.idle": "2021-03-09T19:03:23.341579Z",
     "shell.execute_reply": "2021-03-09T19:03:23.342949Z"
    },
    "papermill": {
     "duration": 174.747861,
     "end_time": "2021-03-09T19:03:23.343625",
     "exception": false,
     "start_time": "2021-03-09T19:00:28.595764",
     "status": "completed"
    },
    "tags": []
   },
   "outputs": [
    {
     "data": {
      "application/vnd.jupyter.widget-view+json": {
       "model_id": "3883675b361746318282de7c3b77ffba",
       "version_major": 2,
       "version_minor": 0
      },
      "text/plain": [
       "HBox(children=(FloatProgress(value=0.0, description='Downloading', max=3271420488.0, style=ProgressStyle(descr…"
      ]
     },
     "metadata": {},
     "output_type": "display_data"
    },
    {
     "name": "stdout",
     "output_type": "stream",
     "text": [
      "\n"
     ]
    },
    {
     "name": "stderr",
     "output_type": "stream",
     "text": [
      "Some layers from the model checkpoint at jplu/tf-xlm-roberta-large were not used when initializing TFXLMRobertaModel: ['lm_head']\n",
      "- This IS expected if you are initializing TFXLMRobertaModel from the checkpoint of a model trained on another task or with another architecture (e.g. initializing a BertForSequenceClassification model from a BertForPreTraining model).\n",
      "- This IS NOT expected if you are initializing TFXLMRobertaModel from the checkpoint of a model that you expect to be exactly identical (initializing a BertForSequenceClassification model from a BertForSequenceClassification model).\n",
      "All the layers of TFXLMRobertaModel were initialized from the model checkpoint at jplu/tf-xlm-roberta-large.\n",
      "If your task is similar to the task the model of the checkpoint was trained on, you can already use TFXLMRobertaModel for predictions without further training.\n"
     ]
    },
    {
     "name": "stdout",
     "output_type": "stream",
     "text": [
      "Model: \"model\"\n",
      "__________________________________________________________________________________________________\n",
      "Layer (type)                    Output Shape         Param #     Connected to                     \n",
      "==================================================================================================\n",
      "input_word_ids (InputLayer)     [(None, 120)]        0                                            \n",
      "__________________________________________________________________________________________________\n",
      "input_mask (InputLayer)         [(None, 120)]        0                                            \n",
      "__________________________________________________________________________________________________\n",
      "tfxlm_roberta_model (TFXLMRober TFBaseModelOutputWit 559890432   input_word_ids[0][0]             \n",
      "                                                                 input_mask[0][0]                 \n",
      "__________________________________________________________________________________________________\n",
      "output (Dense)                  (None, 3)            3075        tfxlm_roberta_model[0][1]        \n",
      "==================================================================================================\n",
      "Total params: 559,893,507\n",
      "Trainable params: 559,893,507\n",
      "Non-trainable params: 0\n",
      "__________________________________________________________________________________________________\n"
     ]
    }
   ],
   "source": [
    "# instantiating the model in the strategy scope creates the model on the TPU\n",
    "with strategy.scope():\n",
    "    model = build_model(model_name, MAX_LEN)\n",
    "    model.summary()"
   ]
  },
  {
   "cell_type": "code",
   "execution_count": 26,
   "metadata": {
    "execution": {
     "iopub.execute_input": "2021-03-09T19:03:23.492665Z",
     "iopub.status.busy": "2021-03-09T19:03:23.491886Z",
     "iopub.status.idle": "2021-03-09T19:09:29.830154Z",
     "shell.execute_reply": "2021-03-09T19:09:29.829450Z"
    },
    "papermill": {
     "duration": 366.415451,
     "end_time": "2021-03-09T19:09:29.830370",
     "exception": false,
     "start_time": "2021-03-09T19:03:23.414919",
     "status": "completed"
    },
    "tags": []
   },
   "outputs": [
    {
     "name": "stdout",
     "output_type": "stream",
     "text": [
      "Epoch 1/5\n"
     ]
    },
    {
     "name": "stderr",
     "output_type": "stream",
     "text": [
      "/opt/conda/lib/python3.7/site-packages/tensorflow/python/framework/indexed_slices.py:430: UserWarning: Converting sparse IndexedSlices to a dense Tensor with 256002048 elements. This may consume a large amount of memory.\n",
      "  num_elements)\n"
     ]
    },
    {
     "name": "stdout",
     "output_type": "stream",
     "text": [
      "78/78 [==============================] - 239s 1s/step - loss: 1.1123 - accuracy: 0.3448 - val_loss: 1.0993 - val_accuracy: 0.3354\n",
      "\n",
      "Epoch 00001: val_loss improved from inf to 1.09925, saving model to best_checkpoint.hdf5\n",
      "Epoch 2/5\n",
      "78/78 [==============================] - 20s 262ms/step - loss: 1.0949 - accuracy: 0.3601 - val_loss: 0.7702 - val_accuracy: 0.6691\n",
      "\n",
      "Epoch 00002: val_loss improved from 1.09925 to 0.77017, saving model to best_checkpoint.hdf5\n",
      "Epoch 3/5\n",
      "78/78 [==============================] - 20s 261ms/step - loss: 0.7023 - accuracy: 0.7104 - val_loss: 0.5232 - val_accuracy: 0.7958\n",
      "\n",
      "Epoch 00003: val_loss improved from 0.77017 to 0.52315, saving model to best_checkpoint.hdf5\n",
      "Epoch 4/5\n",
      "78/78 [==============================] - 20s 262ms/step - loss: 0.4296 - accuracy: 0.8388 - val_loss: 0.5128 - val_accuracy: 0.8082\n",
      "\n",
      "Epoch 00004: val_loss improved from 0.52315 to 0.51280, saving model to best_checkpoint.hdf5\n",
      "Epoch 5/5\n",
      "78/78 [==============================] - 20s 262ms/step - loss: 0.3307 - accuracy: 0.8857 - val_loss: 0.5429 - val_accuracy: 0.8106\n",
      "\n",
      "Epoch 00005: val_loss did not improve from 0.51280\n",
      "Epoch 00005: early stopping\n"
     ]
    }
   ],
   "source": [
    "from keras.callbacks import EarlyStopping, ModelCheckpoint\n",
    "\n",
    "checkpoint_filepath='best_checkpoint.hdf5'\n",
    "\n",
    "# Save the best model during validation and bail out of training early if we're not improving\n",
    "# callbacks = [EarlyStopping(monitor='val_loss', mode='min', verbose=1, patience=PATIENCE), ModelCheckpoint(filepath=checkpoint_filepath, save_best_only=True, save_weights_only=True, monitor='val_accuracy', mode='max', verbose=1)]\n",
    "callbacks = [EarlyStopping(monitor='val_loss', mode='min', verbose=1, patience=PATIENCE), ModelCheckpoint(filepath=checkpoint_filepath, save_best_only=True, save_weights_only=True, monitor='val_loss', mode='min', verbose=1)]\n",
    "# callbacks = [EarlyStopping(monitor='val_loss', mode='min', verbose=1, patience=PATIENCE)]\n",
    "\n",
    "\n",
    "train_history = model.fit(x=train_input, y=train_df.label.values, validation_data=(validation_input, validation_df.label.values), epochs=EPOCHS, verbose=1, batch_size=BATCH_SIZE, callbacks=callbacks)"
   ]
  },
  {
   "cell_type": "code",
   "execution_count": 27,
   "metadata": {
    "execution": {
     "iopub.execute_input": "2021-03-09T19:09:34.991748Z",
     "iopub.status.busy": "2021-03-09T19:09:34.990836Z",
     "iopub.status.idle": "2021-03-09T19:09:35.203961Z",
     "shell.execute_reply": "2021-03-09T19:09:35.203386Z"
    },
    "papermill": {
     "duration": 5.182563,
     "end_time": "2021-03-09T19:09:35.204098",
     "exception": false,
     "start_time": "2021-03-09T19:09:30.021535",
     "status": "completed"
    },
    "tags": []
   },
   "outputs": [
    {
     "data": {
      "image/png": "[encoded data removed]",
      "text/plain": [
       "<Figure size 432x288 with 1 Axes>"
      ]
     },
     "metadata": {
      "needs_background": "light"
     },
     "output_type": "display_data"
    }
   ],
   "source": [
    "# plot training history\n",
    "plt.plot(train_history.history['loss'], label='train loss')\n",
    "plt.plot(train_history.history['val_loss'], label='validation loss')\n",
    "plt.legend()\n",
    "plt.show()"
   ]
  },
  {
   "cell_type": "code",
   "execution_count": 28,
   "metadata": {
    "execution": {
     "iopub.execute_input": "2021-03-09T19:09:35.599743Z",
     "iopub.status.busy": "2021-03-09T19:09:35.591519Z",
     "iopub.status.idle": "2021-03-09T19:09:35.778175Z",
     "shell.execute_reply": "2021-03-09T19:09:35.777203Z"
    },
    "papermill": {
     "duration": 0.384938,
     "end_time": "2021-03-09T19:09:35.778330",
     "exception": false,
     "start_time": "2021-03-09T19:09:35.393392",
     "status": "completed"
    },
    "tags": []
   },
   "outputs": [
    {
     "data": {
      "image/png": "[encoded data removed]",
      "text/plain": [
       "<Figure size 432x288 with 1 Axes>"
      ]
     },
     "metadata": {
      "needs_background": "light"
     },
     "output_type": "display_data"
    }
   ],
   "source": [
    "# plot training history\n",
    "plt.plot(train_history.history['accuracy'], label='train accuracy')\n",
    "plt.plot(train_history.history['val_accuracy'], label='validation accuracy')\n",
    "plt.legend()\n",
    "plt.show()"
   ]
  },
  {
   "cell_type": "code",
   "execution_count": 29,
   "metadata": {
    "execution": {
     "iopub.execute_input": "2021-03-09T19:09:36.232670Z",
     "iopub.status.busy": "2021-03-09T19:09:36.202320Z",
     "iopub.status.idle": "2021-03-09T19:10:13.463571Z",
     "shell.execute_reply": "2021-03-09T19:10:13.462020Z"
    },
    "papermill": {
     "duration": 37.494647,
     "end_time": "2021-03-09T19:10:13.463843",
     "exception": false,
     "start_time": "2021-03-09T19:09:35.969196",
     "status": "completed"
    },
    "tags": []
   },
   "outputs": [],
   "source": [
    "## The model weights (that are considered the best) are loaded into the model.\n",
    "model.load_weights(checkpoint_filepath)"
   ]
  },
  {
   "cell_type": "code",
   "execution_count": 30,
   "metadata": {
    "execution": {
     "iopub.execute_input": "2021-03-09T19:10:13.988542Z",
     "iopub.status.busy": "2021-03-09T19:10:13.987831Z",
     "iopub.status.idle": "2021-03-09T19:10:14.018926Z",
     "shell.execute_reply": "2021-03-09T19:10:14.018217Z"
    },
    "papermill": {
     "duration": 0.29423,
     "end_time": "2021-03-09T19:10:14.019069",
     "exception": false,
     "start_time": "2021-03-09T19:10:13.724839",
     "status": "completed"
    },
    "tags": []
   },
   "outputs": [
    {
     "name": "stdout",
     "output_type": "stream",
     "text": [
      "Number of examples in Test data: 5195\n"
     ]
    },
    {
     "data": {
      "text/html": [
       "<div>\n",
       "<style scoped>\n",
       "    .dataframe tbody tr th:only-of-type {\n",
       "        vertical-align: middle;\n",
       "    }\n",
       "\n",
       "    .dataframe tbody tr th {\n",
       "        vertical-align: top;\n",
       "    }\n",
       "\n",
       "    .dataframe thead th {\n",
       "        text-align: right;\n",
       "    }\n",
       "</style>\n",
       "<table border=\"1\" class=\"dataframe\">\n",
       "  <thead>\n",
       "    <tr style=\"text-align: right;\">\n",
       "      <th></th>\n",
       "      <th>id</th>\n",
       "      <th>premise</th>\n",
       "      <th>hypothesis</th>\n",
       "      <th>lang_abv</th>\n",
       "      <th>language</th>\n",
       "    </tr>\n",
       "  </thead>\n",
       "  <tbody>\n",
       "    <tr>\n",
       "      <th>0</th>\n",
       "      <td>c6d58c3f69</td>\n",
       "      <td>بکس، کیسی، راہیل، یسعیاہ، کیلی، کیلی، اور کولم...</td>\n",
       "      <td>کیسی کے لئے کوئی یادگار نہیں ہوگا, کولمین ہائی...</td>\n",
       "      <td>ur</td>\n",
       "      <td>Urdu</td>\n",
       "    </tr>\n",
       "    <tr>\n",
       "      <th>1</th>\n",
       "      <td>cefcc82292</td>\n",
       "      <td>هذا هو ما تم نصحنا به.</td>\n",
       "      <td>عندما يتم إخبارهم بما يجب عليهم فعله ، فشلت ال...</td>\n",
       "      <td>ar</td>\n",
       "      <td>Arabic</td>\n",
       "    </tr>\n",
       "    <tr>\n",
       "      <th>2</th>\n",
       "      <td>e98005252c</td>\n",
       "      <td>et cela est en grande partie dû au fait que le...</td>\n",
       "      <td>Les mères se droguent.</td>\n",
       "      <td>fr</td>\n",
       "      <td>French</td>\n",
       "    </tr>\n",
       "    <tr>\n",
       "      <th>3</th>\n",
       "      <td>58518c10ba</td>\n",
       "      <td>与城市及其他公民及社区组织代表就IMA的艺术发展进行对话&amp;amp</td>\n",
       "      <td>IMA与其他组织合作，因为它们都依靠共享资金。</td>\n",
       "      <td>zh</td>\n",
       "      <td>Chinese</td>\n",
       "    </tr>\n",
       "    <tr>\n",
       "      <th>4</th>\n",
       "      <td>c32b0d16df</td>\n",
       "      <td>Она все еще была там.</td>\n",
       "      <td>Мы думали, что она ушла, однако, она осталась.</td>\n",
       "      <td>ru</td>\n",
       "      <td>Russian</td>\n",
       "    </tr>\n",
       "  </tbody>\n",
       "</table>\n",
       "</div>"
      ],
      "text/plain": [
       "           id                                            premise  \\\n",
       "0  c6d58c3f69  بکس، کیسی، راہیل، یسعیاہ، کیلی، کیلی، اور کولم...   \n",
       "1  cefcc82292                             هذا هو ما تم نصحنا به.   \n",
       "2  e98005252c  et cela est en grande partie dû au fait que le...   \n",
       "3  58518c10ba                   与城市及其他公民及社区组织代表就IMA的艺术发展进行对话&amp   \n",
       "4  c32b0d16df                              Она все еще была там.   \n",
       "\n",
       "                                          hypothesis lang_abv language  \n",
       "0  کیسی کے لئے کوئی یادگار نہیں ہوگا, کولمین ہائی...       ur     Urdu  \n",
       "1  عندما يتم إخبارهم بما يجب عليهم فعله ، فشلت ال...       ar   Arabic  \n",
       "2                             Les mères se droguent.       fr   French  \n",
       "3                            IMA与其他组织合作，因为它们都依靠共享资金。       zh  Chinese  \n",
       "4     Мы думали, что она ушла, однако, она осталась.       ru  Russian  "
      ]
     },
     "execution_count": 30,
     "metadata": {},
     "output_type": "execute_result"
    }
   ],
   "source": [
    "print(\"Number of examples in Test data: {}\".format(test_df.shape[0]))\n",
    "\n",
    "test_df.head()"
   ]
  },
  {
   "cell_type": "code",
   "execution_count": 31,
   "metadata": {
    "execution": {
     "iopub.execute_input": "2021-03-09T19:10:14.414728Z",
     "iopub.status.busy": "2021-03-09T19:10:14.413956Z",
     "iopub.status.idle": "2021-03-09T19:10:15.566109Z",
     "shell.execute_reply": "2021-03-09T19:10:15.565551Z"
    },
    "papermill": {
     "duration": 1.357107,
     "end_time": "2021-03-09T19:10:15.566444",
     "exception": false,
     "start_time": "2021-03-09T19:10:14.209337",
     "status": "completed"
    },
    "tags": []
   },
   "outputs": [
    {
     "name": "stdout",
     "output_type": "stream",
     "text": [
      "Encoding...\n",
      "Complete\n"
     ]
    }
   ],
   "source": [
    "test_input = encode(test_df, tokenizer=tokenizer, max_len=MAX_LEN)"
   ]
  },
  {
   "cell_type": "code",
   "execution_count": 32,
   "metadata": {
    "execution": {
     "iopub.execute_input": "2021-03-09T19:10:15.955767Z",
     "iopub.status.busy": "2021-03-09T19:10:15.954928Z",
     "iopub.status.idle": "2021-03-09T19:10:34.347358Z",
     "shell.execute_reply": "2021-03-09T19:10:34.346744Z"
    },
    "papermill": {
     "duration": 18.587547,
     "end_time": "2021-03-09T19:10:34.347525",
     "exception": false,
     "start_time": "2021-03-09T19:10:15.759978",
     "status": "completed"
    },
    "tags": []
   },
   "outputs": [],
   "source": [
    "predictions = [np.argmax(i) for i in model.predict(test_input)]\n",
    "# predictions = predictions[:test.shape[0]]"
   ]
  },
  {
   "cell_type": "code",
   "execution_count": 33,
   "metadata": {
    "execution": {
     "iopub.execute_input": "2021-03-09T19:10:34.791707Z",
     "iopub.status.busy": "2021-03-09T19:10:34.786140Z",
     "iopub.status.idle": "2021-03-09T19:10:34.796042Z",
     "shell.execute_reply": "2021-03-09T19:10:34.795565Z"
    },
    "papermill": {
     "duration": 0.258995,
     "end_time": "2021-03-09T19:10:34.796184",
     "exception": false,
     "start_time": "2021-03-09T19:10:34.537189",
     "status": "completed"
    },
    "tags": []
   },
   "outputs": [
    {
     "data": {
      "text/html": [
       "<div>\n",
       "<style scoped>\n",
       "    .dataframe tbody tr th:only-of-type {\n",
       "        vertical-align: middle;\n",
       "    }\n",
       "\n",
       "    .dataframe tbody tr th {\n",
       "        vertical-align: top;\n",
       "    }\n",
       "\n",
       "    .dataframe thead th {\n",
       "        text-align: right;\n",
       "    }\n",
       "</style>\n",
       "<table border=\"1\" class=\"dataframe\">\n",
       "  <thead>\n",
       "    <tr style=\"text-align: right;\">\n",
       "      <th></th>\n",
       "      <th>id</th>\n",
       "      <th>prediction</th>\n",
       "    </tr>\n",
       "  </thead>\n",
       "  <tbody>\n",
       "    <tr>\n",
       "      <th>0</th>\n",
       "      <td>c6d58c3f69</td>\n",
       "      <td>2</td>\n",
       "    </tr>\n",
       "    <tr>\n",
       "      <th>1</th>\n",
       "      <td>cefcc82292</td>\n",
       "      <td>1</td>\n",
       "    </tr>\n",
       "    <tr>\n",
       "      <th>2</th>\n",
       "      <td>e98005252c</td>\n",
       "      <td>0</td>\n",
       "    </tr>\n",
       "    <tr>\n",
       "      <th>3</th>\n",
       "      <td>58518c10ba</td>\n",
       "      <td>1</td>\n",
       "    </tr>\n",
       "    <tr>\n",
       "      <th>4</th>\n",
       "      <td>c32b0d16df</td>\n",
       "      <td>1</td>\n",
       "    </tr>\n",
       "  </tbody>\n",
       "</table>\n",
       "</div>"
      ],
      "text/plain": [
       "           id  prediction\n",
       "0  c6d58c3f69           2\n",
       "1  cefcc82292           1\n",
       "2  e98005252c           0\n",
       "3  58518c10ba           1\n",
       "4  c32b0d16df           1"
      ]
     },
     "execution_count": 33,
     "metadata": {},
     "output_type": "execute_result"
    }
   ],
   "source": [
    "submission = test_df.id.copy().to_frame()\n",
    "submission['prediction'] = predictions\n",
    "\n",
    "submission.head()"
   ]
  },
  {
   "cell_type": "code",
   "execution_count": 34,
   "metadata": {
    "execution": {
     "iopub.execute_input": "2021-03-09T19:10:35.198959Z",
     "iopub.status.busy": "2021-03-09T19:10:35.198044Z",
     "iopub.status.idle": "2021-03-09T19:10:35.212797Z",
     "shell.execute_reply": "2021-03-09T19:10:35.212185Z"
    },
    "papermill": {
     "duration": 0.219548,
     "end_time": "2021-03-09T19:10:35.212948",
     "exception": false,
     "start_time": "2021-03-09T19:10:34.993400",
     "status": "completed"
    },
    "tags": []
   },
   "outputs": [],
   "source": [
    "submission.to_csv(\"submission.csv\", index = False)"
   ]
  }
 ],
 "metadata": {
  "kernelspec": {
   "display_name": "Python 3",
   "language": "python",
   "name": "python3"
  },
  "language_info": {
   "codemirror_mode": {
    "name": "ipython",
    "version": 3
   },
   "file_extension": ".py",
   "mimetype": "text/x-python",
   "name": "python",
   "nbconvert_exporter": "python",
   "pygments_lexer": "ipython3",
   "version": "3.7.9"
  },
  "papermill": {
   "default_parameters": {},
   "duration": 697.191037,
   "end_time": "2021-03-09T19:10:41.581081",
   "environment_variables": {},
   "exception": null,
   "input_path": "__notebook__.ipynb",
   "output_path": "__notebook__.ipynb",
   "parameters": {},
   "start_time": "2021-03-09T18:59:04.390044",
   "version": "2.2.2"
  },
  "widgets": {
   "application/vnd.jupyter.widget-state+json": {
    "state": {
     "09b19a55fc864487a290051f772e47d3": {
      "model_module": "@jupyter-widgets/base",
      "model_module_version": "1.2.0",
      "model_name": "LayoutModel",
      "state": {
       "_model_module": "@jupyter-widgets/base",
       "_model_module_version": "1.2.0",
       "_model_name": "LayoutModel",
       "_view_count": null,
       "_view_module": "@jupyter-widgets/base",
       "_view_module_version": "1.2.0",
       "_view_name": "LayoutView",
       "align_content": null,
       "align_items": null,
       "align_self": null,
       "border": null,
       "bottom": null,
       "display": null,
       "flex": null,
       "flex_flow": null,
       "grid_area": null,
       "grid_auto_columns": null,
       "grid_auto_flow": null,
       "grid_auto_rows": null,
       "grid_column": null,
       "grid_gap": null,
       "grid_row": null,
       "grid_template_areas": null,
       "grid_template_columns": null,
       "grid_template_rows": null,
       "height": null,
       "justify_content": null,
       "justify_items": null,
       "left": null,
       "margin": null,
       "max_height": null,
       "max_width": null,
       "min_height": null,
       "min_width": null,
       "object_fit": null,
       "object_position": null,
       "order": null,
       "overflow": null,
       "overflow_x": null,
       "overflow_y": null,
       "padding": null,
       "right": null,
       "top": null,
       "visibility": null,
       "width": null
      }
     },
     "0a4d4e912d7f4bd5a8af2ccabafbc489": {
      "model_module": "@jupyter-widgets/controls",
      "model_module_version": "1.5.0",
      "model_name": "DescriptionStyleModel",
      "state": {
       "_model_module": "@jupyter-widgets/controls",
       "_model_module_version": "1.5.0",
       "_model_name": "DescriptionStyleModel",
       "_view_count": null,
       "_view_module": "@jupyter-widgets/base",
       "_view_module_version": "1.2.0",
       "_view_name": "StyleView",
       "description_width": ""
      }
     },
     "35cb7917ee2c482a967446364c2b895c": {
      "model_module": "@jupyter-widgets/controls",
      "model_module_version": "1.5.0",
      "model_name": "ProgressStyleModel",
      "state": {
       "_model_module": "@jupyter-widgets/controls",
       "_model_module_version": "1.5.0",
       "_model_name": "ProgressStyleModel",
       "_view_count": null,
       "_view_module": "@jupyter-widgets/base",
       "_view_module_version": "1.2.0",
       "_view_name": "StyleView",
       "bar_color": null,
       "description_width": "initial"
      }
     },
     "3883675b361746318282de7c3b77ffba": {
      "model_module": "@jupyter-widgets/controls",
      "model_module_version": "1.5.0",
      "model_name": "HBoxModel",
      "state": {
       "_dom_classes": [],
       "_model_module": "@jupyter-widgets/controls",
       "_model_module_version": "1.5.0",
       "_model_name": "HBoxModel",
       "_view_count": null,
       "_view_module": "@jupyter-widgets/controls",
       "_view_module_version": "1.5.0",
       "_view_name": "HBoxView",
       "box_style": "",
       "children": [
        "IPY_MODEL_55295e8592f244ba8206b8d491af0695",
        "IPY_MODEL_7377446be5174fc5819a8ca4f71cbd47"
       ],
       "layout": "IPY_MODEL_794d3fa6bae440539330180667ee5621"
      }
     },
     "45ddbd73090c4471bfd8cecd5219dad3": {
      "model_module": "@jupyter-widgets/controls",
      "model_module_version": "1.5.0",
      "model_name": "FloatProgressModel",
      "state": {
       "_dom_classes": [],
       "_model_module": "@jupyter-widgets/controls",
       "_model_module_version": "1.5.0",
       "_model_name": "FloatProgressModel",
       "_view_count": null,
       "_view_module": "@jupyter-widgets/controls",
       "_view_module_version": "1.5.0",
       "_view_name": "ProgressView",
       "bar_style": "success",
       "description": "Downloading: 100%",
       "description_tooltip": null,
       "layout": "IPY_MODEL_09b19a55fc864487a290051f772e47d3",
       "max": 5069051.0,
       "min": 0.0,
       "orientation": "horizontal",
       "style": "IPY_MODEL_35cb7917ee2c482a967446364c2b895c",
       "value": 5069051.0
      }
     },
     "511a360c90604960a161f7fbc3021360": {
      "model_module": "@jupyter-widgets/controls",
      "model_module_version": "1.5.0",
      "model_name": "ProgressStyleModel",
      "state": {
       "_model_module": "@jupyter-widgets/controls",
       "_model_module_version": "1.5.0",
       "_model_name": "ProgressStyleModel",
       "_view_count": null,
       "_view_module": "@jupyter-widgets/base",
       "_view_module_version": "1.2.0",
       "_view_name": "StyleView",
       "bar_color": null,
       "description_width": "initial"
      }
     },
     "55295e8592f244ba8206b8d491af0695": {
      "model_module": "@jupyter-widgets/controls",
      "model_module_version": "1.5.0",
      "model_name": "FloatProgressModel",
      "state": {
       "_dom_classes": [],
       "_model_module": "@jupyter-widgets/controls",
       "_model_module_version": "1.5.0",
       "_model_name": "FloatProgressModel",
       "_view_count": null,
       "_view_module": "@jupyter-widgets/controls",
       "_view_module_version": "1.5.0",
       "_view_name": "ProgressView",
       "bar_style": "success",
       "description": "Downloading: 100%",
       "description_tooltip": null,
       "layout": "IPY_MODEL_8bfd041e03224f7d8eaec44a0470ddf0",
       "max": 3271420488.0,
       "min": 0.0,
       "orientation": "horizontal",
       "style": "IPY_MODEL_8ad4121f50684c348c44c2abfa28d997",
       "value": 3271420488.0
      }
     },
     "55751ae287a74526b51c419fb237e420": {
      "model_module": "@jupyter-widgets/base",
      "model_module_version": "1.2.0",
      "model_name": "LayoutModel",
      "state": {
       "_model_module": "@jupyter-widgets/base",
       "_model_module_version": "1.2.0",
       "_model_name": "LayoutModel",
       "_view_count": null,
       "_view_module": "@jupyter-widgets/base",
       "_view_module_version": "1.2.0",
       "_view_name": "LayoutView",
       "align_content": null,
       "align_items": null,
       "align_self": null,
       "border": null,
       "bottom": null,
       "display": null,
       "flex": null,
       "flex_flow": null,
       "grid_area": null,
       "grid_auto_columns": null,
       "grid_auto_flow": null,
       "grid_auto_rows": null,
       "grid_column": null,
       "grid_gap": null,
       "grid_row": null,
       "grid_template_areas": null,
       "grid_template_columns": null,
       "grid_template_rows": null,
       "height": null,
       "justify_content": null,
       "justify_items": null,
       "left": null,
       "margin": null,
       "max_height": null,
       "max_width": null,
       "min_height": null,
       "min_width": null,
       "object_fit": null,
       "object_position": null,
       "order": null,
       "overflow": null,
       "overflow_x": null,
       "overflow_y": null,
       "padding": null,
       "right": null,
       "top": null,
       "visibility": null,
       "width": null
      }
     },
     "636b9c67de134e6a99a0e607ea544e80": {
      "model_module": "@jupyter-widgets/base",
      "model_module_version": "1.2.0",
      "model_name": "LayoutModel",
      "state": {
       "_model_module": "@jupyter-widgets/base",
       "_model_module_version": "1.2.0",
       "_model_name": "LayoutModel",
       "_view_count": null,
       "_view_module": "@jupyter-widgets/base",
       "_view_module_version": "1.2.0",
       "_view_name": "LayoutView",
       "align_content": null,
       "align_items": null,
       "align_self": null,
       "border": null,
       "bottom": null,
       "display": null,
       "flex": null,
       "flex_flow": null,
       "grid_area": null,
       "grid_auto_columns": null,
       "grid_auto_flow": null,
       "grid_auto_rows": null,
       "grid_column": null,
       "grid_gap": null,
       "grid_row": null,
       "grid_template_areas": null,
       "grid_template_columns": null,
       "grid_template_rows": null,
       "height": null,
       "justify_content": null,
       "justify_items": null,
       "left": null,
       "margin": null,
       "max_height": null,
       "max_width": null,
       "min_height": null,
       "min_width": null,
       "object_fit": null,
       "object_position": null,
       "order": null,
       "overflow": null,
       "overflow_x": null,
       "overflow_y": null,
       "padding": null,
       "right": null,
       "top": null,
       "visibility": null,
       "width": null
      }
     },
     "7377446be5174fc5819a8ca4f71cbd47": {
      "model_module": "@jupyter-widgets/controls",
      "model_module_version": "1.5.0",
      "model_name": "HTMLModel",
      "state": {
       "_dom_classes": [],
       "_model_module": "@jupyter-widgets/controls",
       "_model_module_version": "1.5.0",
       "_model_name": "HTMLModel",
       "_view_count": null,
       "_view_module": "@jupyter-widgets/controls",
       "_view_module_version": "1.5.0",
       "_view_name": "HTMLView",
       "description": "",
       "description_tooltip": null,
       "layout": "IPY_MODEL_55751ae287a74526b51c419fb237e420",
       "placeholder": "​",
       "style": "IPY_MODEL_0a4d4e912d7f4bd5a8af2ccabafbc489",
       "value": " 3.27G/3.27G [01:35&lt;00:00, 34.3MB/s]"
      }
     },
     "788a0920ec0640fd9090919c3f8942a7": {
      "model_module": "@jupyter-widgets/controls",
      "model_module_version": "1.5.0",
      "model_name": "HBoxModel",
      "state": {
       "_dom_classes": [],
       "_model_module": "@jupyter-widgets/controls",
       "_model_module_version": "1.5.0",
       "_model_name": "HBoxModel",
       "_view_count": null,
       "_view_module": "@jupyter-widgets/controls",
       "_view_module_version": "1.5.0",
       "_view_name": "HBoxView",
       "box_style": "",
       "children": [
        "IPY_MODEL_45ddbd73090c4471bfd8cecd5219dad3",
        "IPY_MODEL_98b9b67b2ccc4e1eb56bd0c8fdb8f5c8"
       ],
       "layout": "IPY_MODEL_7d60b74089154355a4aa31ebc96ea055"
      }
     },
     "794d3fa6bae440539330180667ee5621": {
      "model_module": "@jupyter-widgets/base",
      "model_module_version": "1.2.0",
      "model_name": "LayoutModel",
      "state": {
       "_model_module": "@jupyter-widgets/base",
       "_model_module_version": "1.2.0",
       "_model_name": "LayoutModel",
       "_view_count": null,
       "_view_module": "@jupyter-widgets/base",
       "_view_module_version": "1.2.0",
       "_view_name": "LayoutView",
       "align_content": null,
       "align_items": null,
       "align_self": null,
       "border": null,
       "bottom": null,
       "display": null,
       "flex": null,
       "flex_flow": null,
       "grid_area": null,
       "grid_auto_columns": null,
       "grid_auto_flow": null,
       "grid_auto_rows": null,
       "grid_column": null,
       "grid_gap": null,
       "grid_row": null,
       "grid_template_areas": null,
       "grid_template_columns": null,
       "grid_template_rows": null,
       "height": null,
       "justify_content": null,
       "justify_items": null,
       "left": null,
       "margin": null,
       "max_height": null,
       "max_width": null,
       "min_height": null,
       "min_width": null,
       "object_fit": null,
       "object_position": null,
       "order": null,
       "overflow": null,
       "overflow_x": null,
       "overflow_y": null,
       "padding": null,
       "right": null,
       "top": null,
       "visibility": null,
       "width": null
      }
     },
     "7d60b74089154355a4aa31ebc96ea055": {
      "model_module": "@jupyter-widgets/base",
      "model_module_version": "1.2.0",
      "model_name": "LayoutModel",
      "state": {
       "_model_module": "@jupyter-widgets/base",
       "_model_module_version": "1.2.0",
       "_model_name": "LayoutModel",
       "_view_count": null,
       "_view_module": "@jupyter-widgets/base",
       "_view_module_version": "1.2.0",
       "_view_name": "LayoutView",
       "align_content": null,
       "align_items": null,
       "align_self": null,
       "border": null,
       "bottom": null,
       "display": null,
       "flex": null,
       "flex_flow": null,
       "grid_area": null,
       "grid_auto_columns": null,
       "grid_auto_flow": null,
       "grid_auto_rows": null,
       "grid_column": null,
       "grid_gap": null,
       "grid_row": null,
       "grid_template_areas": null,
       "grid_template_columns": null,
       "grid_template_rows": null,
       "height": null,
       "justify_content": null,
       "justify_items": null,
       "left": null,
       "margin": null,
       "max_height": null,
       "max_width": null,
       "min_height": null,
       "min_width": null,
       "object_fit": null,
       "object_position": null,
       "order": null,
       "overflow": null,
       "overflow_x": null,
       "overflow_y": null,
       "padding": null,
       "right": null,
       "top": null,
       "visibility": null,
       "width": null
      }
     },
     "8ad4121f50684c348c44c2abfa28d997": {
      "model_module": "@jupyter-widgets/controls",
      "model_module_version": "1.5.0",
      "model_name": "ProgressStyleModel",
      "state": {
       "_model_module": "@jupyter-widgets/controls",
       "_model_module_version": "1.5.0",
       "_model_name": "ProgressStyleModel",
       "_view_count": null,
       "_view_module": "@jupyter-widgets/base",
       "_view_module_version": "1.2.0",
       "_view_name": "StyleView",
       "bar_color": null,
       "description_width": "initial"
      }
     },
     "8bfd041e03224f7d8eaec44a0470ddf0": {
      "model_module": "@jupyter-widgets/base",
      "model_module_version": "1.2.0",
      "model_name": "LayoutModel",
      "state": {
       "_model_module": "@jupyter-widgets/base",
       "_model_module_version": "1.2.0",
       "_model_name": "LayoutModel",
       "_view_count": null,
       "_view_module": "@jupyter-widgets/base",
       "_view_module_version": "1.2.0",
       "_view_name": "LayoutView",
       "align_content": null,
       "align_items": null,
       "align_self": null,
       "border": null,
       "bottom": null,
       "display": null,
       "flex": null,
       "flex_flow": null,
       "grid_area": null,
       "grid_auto_columns": null,
       "grid_auto_flow": null,
       "grid_auto_rows": null,
       "grid_column": null,
       "grid_gap": null,
       "grid_row": null,
       "grid_template_areas": null,
       "grid_template_columns": null,
       "grid_template_rows": null,
       "height": null,
       "justify_content": null,
       "justify_items": null,
       "left": null,
       "margin": null,
       "max_height": null,
       "max_width": null,
       "min_height": null,
       "min_width": null,
       "object_fit": null,
       "object_position": null,
       "order": null,
       "overflow": null,
       "overflow_x": null,
       "overflow_y": null,
       "padding": null,
       "right": null,
       "top": null,
       "visibility": null,
       "width": null
      }
     },
     "98b9b67b2ccc4e1eb56bd0c8fdb8f5c8": {
      "model_module": "@jupyter-widgets/controls",
      "model_module_version": "1.5.0",
      "model_name": "HTMLModel",
      "state": {
       "_dom_classes": [],
       "_model_module": "@jupyter-widgets/controls",
       "_model_module_version": "1.5.0",
       "_model_name": "HTMLModel",
       "_view_count": null,
       "_view_module": "@jupyter-widgets/controls",
       "_view_module_version": "1.5.0",
       "_view_name": "HTMLView",
       "description": "",
       "description_tooltip": null,
       "layout": "IPY_MODEL_9a3801a0fc434e509528c074e6162153",
       "placeholder": "​",
       "style": "IPY_MODEL_e3efde7f7ebd40479fcd31ef910086fd",
       "value": " 5.07M/5.07M [00:02&lt;00:00, 2.37MB/s]"
      }
     },
     "9a3801a0fc434e509528c074e6162153": {
      "model_module": "@jupyter-widgets/base",
      "model_module_version": "1.2.0",
      "model_name": "LayoutModel",
      "state": {
       "_model_module": "@jupyter-widgets/base",
       "_model_module_version": "1.2.0",
       "_model_name": "LayoutModel",
       "_view_count": null,
       "_view_module": "@jupyter-widgets/base",
       "_view_module_version": "1.2.0",
       "_view_name": "LayoutView",
       "align_content": null,
       "align_items": null,
       "align_self": null,
       "border": null,
       "bottom": null,
       "display": null,
       "flex": null,
       "flex_flow": null,
       "grid_area": null,
       "grid_auto_columns": null,
       "grid_auto_flow": null,
       "grid_auto_rows": null,
       "grid_column": null,
       "grid_gap": null,
       "grid_row": null,
       "grid_template_areas": null,
       "grid_template_columns": null,
       "grid_template_rows": null,
       "height": null,
       "justify_content": null,
       "justify_items": null,
       "left": null,
       "margin": null,
       "max_height": null,
       "max_width": null,
       "min_height": null,
       "min_width": null,
       "object_fit": null,
       "object_position": null,
       "order": null,
       "overflow": null,
       "overflow_x": null,
       "overflow_y": null,
       "padding": null,
       "right": null,
       "top": null,
       "visibility": null,
       "width": null
      }
     },
     "9e3e62843b4746b8b7cf1c09104aee46": {
      "model_module": "@jupyter-widgets/controls",
      "model_module_version": "1.5.0",
      "model_name": "HBoxModel",
      "state": {
       "_dom_classes": [],
       "_model_module": "@jupyter-widgets/controls",
       "_model_module_version": "1.5.0",
       "_model_name": "HBoxModel",
       "_view_count": null,
       "_view_module": "@jupyter-widgets/controls",
       "_view_module_version": "1.5.0",
       "_view_name": "HBoxView",
       "box_style": "",
       "children": [
        "IPY_MODEL_a74b809857c343e388f3c14c47e5afbe",
        "IPY_MODEL_e088070632734acd8a3b8a67fbe5137c"
       ],
       "layout": "IPY_MODEL_d31e0a18f7924b4cbec2c9c0aa467fae"
      }
     },
     "a477bca1572b4ef9aec75403f88f334e": {
      "model_module": "@jupyter-widgets/base",
      "model_module_version": "1.2.0",
      "model_name": "LayoutModel",
      "state": {
       "_model_module": "@jupyter-widgets/base",
       "_model_module_version": "1.2.0",
       "_model_name": "LayoutModel",
       "_view_count": null,
       "_view_module": "@jupyter-widgets/base",
       "_view_module_version": "1.2.0",
       "_view_name": "LayoutView",
       "align_content": null,
       "align_items": null,
       "align_self": null,
       "border": null,
       "bottom": null,
       "display": null,
       "flex": null,
       "flex_flow": null,
       "grid_area": null,
       "grid_auto_columns": null,
       "grid_auto_flow": null,
       "grid_auto_rows": null,
       "grid_column": null,
       "grid_gap": null,
       "grid_row": null,
       "grid_template_areas": null,
       "grid_template_columns": null,
       "grid_template_rows": null,
       "height": null,
       "justify_content": null,
       "justify_items": null,
       "left": null,
       "margin": null,
       "max_height": null,
       "max_width": null,
       "min_height": null,
       "min_width": null,
       "object_fit": null,
       "object_position": null,
       "order": null,
       "overflow": null,
       "overflow_x": null,
       "overflow_y": null,
       "padding": null,
       "right": null,
       "top": null,
       "visibility": null,
       "width": null
      }
     },
     "a74b809857c343e388f3c14c47e5afbe": {
      "model_module": "@jupyter-widgets/controls",
      "model_module_version": "1.5.0",
      "model_name": "FloatProgressModel",
      "state": {
       "_dom_classes": [],
       "_model_module": "@jupyter-widgets/controls",
       "_model_module_version": "1.5.0",
       "_model_name": "FloatProgressModel",
       "_view_count": null,
       "_view_module": "@jupyter-widgets/controls",
       "_view_module_version": "1.5.0",
       "_view_name": "ProgressView",
       "bar_style": "success",
       "description": "Downloading: 100%",
       "description_tooltip": null,
       "layout": "IPY_MODEL_636b9c67de134e6a99a0e607ea544e80",
       "max": 513.0,
       "min": 0.0,
       "orientation": "horizontal",
       "style": "IPY_MODEL_511a360c90604960a161f7fbc3021360",
       "value": 513.0
      }
     },
     "d31e0a18f7924b4cbec2c9c0aa467fae": {
      "model_module": "@jupyter-widgets/base",
      "model_module_version": "1.2.0",
      "model_name": "LayoutModel",
      "state": {
       "_model_module": "@jupyter-widgets/base",
       "_model_module_version": "1.2.0",
       "_model_name": "LayoutModel",
       "_view_count": null,
       "_view_module": "@jupyter-widgets/base",
       "_view_module_version": "1.2.0",
       "_view_name": "LayoutView",
       "align_content": null,
       "align_items": null,
       "align_self": null,
       "border": null,
       "bottom": null,
       "display": null,
       "flex": null,
       "flex_flow": null,
       "grid_area": null,
       "grid_auto_columns": null,
       "grid_auto_flow": null,
       "grid_auto_rows": null,
       "grid_column": null,
       "grid_gap": null,
       "grid_row": null,
       "grid_template_areas": null,
       "grid_template_columns": null,
       "grid_template_rows": null,
       "height": null,
       "justify_content": null,
       "justify_items": null,
       "left": null,
       "margin": null,
       "max_height": null,
       "max_width": null,
       "min_height": null,
       "min_width": null,
       "object_fit": null,
       "object_position": null,
       "order": null,
       "overflow": null,
       "overflow_x": null,
       "overflow_y": null,
       "padding": null,
       "right": null,
       "top": null,
       "visibility": null,
       "width": null
      }
     },
     "e088070632734acd8a3b8a67fbe5137c": {
      "model_module": "@jupyter-widgets/controls",
      "model_module_version": "1.5.0",
      "model_name": "HTMLModel",
      "state": {
       "_dom_classes": [],
       "_model_module": "@jupyter-widgets/controls",
       "_model_module_version": "1.5.0",
       "_model_name": "HTMLModel",
       "_view_count": null,
       "_view_module": "@jupyter-widgets/controls",
       "_view_module_version": "1.5.0",
       "_view_name": "HTMLView",
       "description": "",
       "description_tooltip": null,
       "layout": "IPY_MODEL_a477bca1572b4ef9aec75403f88f334e",
       "placeholder": "​",
       "style": "IPY_MODEL_f9f3c159056043299025f01f08b6b77f",
       "value": " 513/513 [00:00&lt;00:00, 1.20kB/s]"
      }
     },
     "e3efde7f7ebd40479fcd31ef910086fd": {
      "model_module": "@jupyter-widgets/controls",
      "model_module_version": "1.5.0",
      "model_name": "DescriptionStyleModel",
      "state": {
       "_model_module": "@jupyter-widgets/controls",
       "_model_module_version": "1.5.0",
       "_model_name": "DescriptionStyleModel",
       "_view_count": null,
       "_view_module": "@jupyter-widgets/base",
       "_view_module_version": "1.2.0",
       "_view_name": "StyleView",
       "description_width": ""
      }
     },
     "f9f3c159056043299025f01f08b6b77f": {
      "model_module": "@jupyter-widgets/controls",
      "model_module_version": "1.5.0",
      "model_name": "DescriptionStyleModel",
      "state": {
       "_model_module": "@jupyter-widgets/controls",
       "_model_module_version": "1.5.0",
       "_model_name": "DescriptionStyleModel",
       "_view_count": null,
       "_view_module": "@jupyter-widgets/base",
       "_view_module_version": "1.2.0",
       "_view_name": "StyleView",
       "description_width": ""
      }
     }
    },
    "version_major": 2,
    "version_minor": 0
   }
  }
 },
 "nbformat": 4,
 "nbformat_minor": 4
}
